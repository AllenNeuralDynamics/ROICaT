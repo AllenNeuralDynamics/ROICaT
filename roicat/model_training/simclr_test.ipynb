{
 "cells": [
  {
   "cell_type": "code",
   "execution_count": 1,
   "metadata": {},
   "outputs": [],
   "source": [
    "%load_ext autoreload\n",
    "%autoreload 2"
   ]
  },
  {
   "cell_type": "code",
   "execution_count": 2,
   "metadata": {},
   "outputs": [],
   "source": [
    "# Imports\n",
    "import argparse\n",
    "import sys\n",
    "import os\n",
    "import numpy as np\n",
    "import torch\n",
    "import torchvision\n",
    "from PIL import Image\n",
    "import matplotlib.pyplot as plt\n",
    "import time\n",
    "import copy\n",
    "import json\n",
    "import random\n",
    "import pandas as pd\n",
    "import math\n",
    "import argparse\n",
    "import pickle\n",
    "import roicat\n",
    "import scipy.sparse\n",
    "from roicat.model_training import simclr_training_helpers as sth\n",
    "\n",
    "path_script = sys.argv[0]\n",
    "directory_data = '/Users/josh/analysis/data/ROICaT/simclr_training'\n",
    "filepath_params = '/Users/josh/analysis/github_repos/ROICaT/roicat/model_training/simclr_params_base.json'\n",
    "directory_save = '/Users/josh/analysis/outputs/ROICaT/simclr_training'"
   ]
  },
  {
   "cell_type": "code",
   "execution_count": 6,
   "metadata": {},
   "outputs": [],
   "source": [
    "### Global preferences\n",
    "# device_train = torch_helpers.set_device(use_GPU=params['useGPU_dataloader'])\n",
    "\n",
    "# # Load parameters from JSON\n",
    "# with open(filepath_params) as f:\n",
    "#     dict_params = json.load(f)\n",
    "\n",
    "dict_params = {\n",
    "    'data': {\n",
    "        'um_per_pixel': 1.0,\n",
    "    'nan_to_num': True,\n",
    "    'nan_to_num_val': 0.0,\n",
    "    'verbose': True},\n",
    "    'dataloader': {\n",
    "        'batchSize_dataloader': 1024,\n",
    "    'pinMemory_dataloader': False,\n",
    "    'numWorkers_dataloader': 0,\n",
    "    'persistentWorkers_dataloader': False,\n",
    "    'prefetchFactor_dataloader': 0,\n",
    "    'img_size_out': [224, 224],\n",
    "    'jit_script_transforms': False,\n",
    "    'shuffle_dataloader': True,\n",
    "    'drop_last_dataloader': True,\n",
    "    'verbose': True,\n",
    "    'transforms_invariant': {'Random_occlusion': {'prob': 0.5,\n",
    "        'size': [0.4, 0.45]},\n",
    "    'Scale_image_sum': {'sum_val': 1, 'epsilon': 1e-09, 'min_sub': True},\n",
    "    'AddPoissonNoise': {'scaler_bounds': [1778.27941004, 5623.4132519],\n",
    "        'prob': 0.4,\n",
    "        'base': 1000,\n",
    "        'scaling': 'log'},\n",
    "    'Horizontal_stripe_scale': {'alpha_min_max': [0.5, 1],\n",
    "        'im_size': [36, 36],\n",
    "        'prob': 0.3},\n",
    "    'Horizontal_stripe_shift': {'alpha_min_max': [1, 2],\n",
    "        'im_size': [36, 36],\n",
    "        'prob': 0.3},\n",
    "    'RandomHorizontalFlip': {'p': 0.0},\n",
    "    'RandomAffine': {'degrees': [-15, 15],\n",
    "        'translate': [0.02, 0.02],\n",
    "        'scale': [0.9, 1.1],\n",
    "        'shear': [-2, 2, -2, 2],\n",
    "        'interpolation': 'bilinear',\n",
    "        'fill': 0,\n",
    "        # 'fillcolor': None,\n",
    "        # 'resample': None\n",
    "        },\n",
    "    'AddGaussianNoise': {'mean': 0, 'std': 0.0003, 'prob': 0.4},\n",
    "    'ScaleDynamicRange': {'scaler_bounds': [0, 1], 'epsilon': 1e-09},\n",
    "    'WarpPoints': {'r': [0.1, 0.2],\n",
    "        'cx': [-0.3, 0.3],\n",
    "        'cy': [-0.3, 0.3],\n",
    "        'dx': [-0.1, 0.1],\n",
    "        'dy': [-0.1, 0.1],\n",
    "        'n_warps': 2,\n",
    "        'prob': 0.5,\n",
    "        'img_size_in': [36, 36],\n",
    "        'img_size_out': [224, 224]},\n",
    "    'TileChannels': {'dim': 0, 'n_channels': 3}}},\n",
    "    'model': {'torchvision_model': 'convnext_tiny',\n",
    "    'filepath_model': '/Users/josh/analysis/outputs/ROICaT/simclr_training/models/ConvNext_tiny__1_0_best__simCLR.onnx',\n",
    "    'head_pool_method': 'AdaptiveAvgPool2d',\n",
    "    'head_pool_method_kwargs': {'output_size': 1},\n",
    "    'pre_head_fc_sizes': [256],\n",
    "    'post_head_fc_sizes': [128],\n",
    "    'block_to_unfreeze': '5.6',\n",
    "    'n_block_toInclude': 7,\n",
    "    'head_nonlinearity': 'GELU',\n",
    "    'head_nonlinearity_kwargs': {}},\n",
    "    'trainer': {'n_epochs': 9999999,\n",
    "    'device_train': 'cpu',\n",
    "    'inner_batch_size': 256,\n",
    "    'learning_rate': 0.01,\n",
    "    'penalty_orthogonality': 1.0,\n",
    "    'weight_decay': 0.1,\n",
    "    'gamma': 1.0,\n",
    "    'temperature': 0.03,\n",
    "    'l2_alpha': 0.0\n",
    "  }\n",
    "}"
   ]
  },
  {
   "cell_type": "code",
   "execution_count": 4,
   "metadata": {},
   "outputs": [
    {
     "name": "stdout",
     "output_type": "stream",
     "text": [
      "Starting: Importing ROI images\n",
      "Completed: Imported 1 sessions. Each session has [3000] ROIs. Total number of ROIs is 3000. The um_per_pixel is 1.0 um per pixel.\n",
      "Starting: resizing ROIs\n"
     ]
    },
    {
     "name": "stderr",
     "output_type": "stream",
     "text": [
      "/Users/josh/analysis/github_repos/ROICaT/roicat/ROInet.py:84: UserWarning: ROICaT WARNING: Image(s) with all zeros detected. These can pass through the network, but may give weird results.\n",
      "  warnings.warn('ROICaT WARNING: Image(s) with all zeros detected. These can pass through the network, but may give weird results.')\n"
     ]
    },
    {
     "name": "stdout",
     "output_type": "stream",
     "text": [
      "Completed: resizing ROIs\n",
      "Defined image transformations: Sequential(\n",
      "  (0): Random_occlusion(\n",
      "    (rotator): RandomRotation(degrees=[-180.0, 180.0], interpolation=nearest, expand=False, fill=0)\n",
      "  )\n",
      "  (1): Scale_image_sum()\n",
      "  (2): AddPoissonNoise(level_bounds=[1778.27941004, 5623.4132519], prob=0.4)\n",
      "  (3): Horizontal_stripe_scale()\n",
      "  (4): Horizontal_stripe_shift()\n",
      "  (5): RandomHorizontalFlip(p=0.0)\n",
      "  (6): RandomAffine(degrees=[-15.0, 15.0], translate=[0.02, 0.02], scale=[0.9, 1.1], shear=[-2.0, 2.0, -2.0, 2.0], interpolation=bilinear)\n",
      "  (7): AddGaussianNoise(mean=0, std=0.0003, level_bounds=(0.0, 1.0), prob=0.4)\n",
      "  (8): ScaleDynamicRange(scaler_bounds=[0, 1])\n",
      "  (9): WarpPoints(r=[0.1, 0.2], cx=[-0.3, 0.3], cy=[-0.3, 0.3], dx=[-0.1, 0.1], dy=[-0.1, 0.1], n_warps=2, prob=0.5, img_size_in=[36, 36], img_size_out=[224, 224])\n",
      "  (10): TileChannels(dim=0)\n",
      ")\n",
      "Defined dataset\n",
      "Defined dataloader\n"
     ]
    },
    {
     "name": "stderr",
     "output_type": "stream",
     "text": [
      "/Users/josh/analysis/github_repos/ROICaT/roicat/ROInet.py:251: UserWarning: prefetchFactor_dataloader is ignored when numWorkers_dataloader == 0. Setting numWorkers_dataloader > 0 will allow prefetchFactor_dataloader to be used.\n",
      "  warnings.warn(f'prefetchFactor_dataloader is ignored when numWorkers_dataloader == 0. Setting numWorkers_dataloader > 0 will allow prefetchFactor_dataloader to be used.')\n"
     ]
    }
   ],
   "source": [
    "list_filepaths_data = [os.path.join(directory_data, filename) for filename in os.listdir(directory_data)]\n",
    "\n",
    "# Load data from dir_data into Data object... or load from saved Data object\n",
    "ROI_sparse_all = [scipy.sparse.load_npz(filepath_ROI_images) for filepath_ROI_images in list_filepaths_data]\n",
    "ROI_images = [sf_sparse.toarray().reshape(sf_sparse.shape[0], 36,36).astype(np.float32) for sf_sparse in ROI_sparse_all]\n",
    "\n",
    "data = roicat.data_importing.Data_roicat();\n",
    "data.set_ROI_images(\n",
    "    ROI_images=[ROI_images[0][:3000]],\n",
    "    um_per_pixel=dict_params['data']['um_per_pixel'],\n",
    ")\n",
    "### Data import preferences\n",
    "# params['paths']['path_data_training']\n",
    "\n",
    "\n",
    "# Create dataset / dataloader\n",
    "ROI_images_rs = roicat.ROInet.Resizer_ROI_images(\n",
    "    ROI_images=np.concatenate(data.ROI_images, axis=0),\n",
    "    um_per_pixel=dict_params['data']['um_per_pixel'],\n",
    "    nan_to_num=dict_params['data']['nan_to_num'],\n",
    "    nan_to_num_val=dict_params['data']['nan_to_num_val'],\n",
    "    verbose=dict_params['data']['verbose']\n",
    ").ROI_images_rs\n",
    "### Resizing preferences\n",
    "\n",
    "dataloader_generator = roicat.ROInet.Dataloader_ROInet(\n",
    "    ROI_images_rs,\n",
    "    batchSize_dataloader=dict_params['dataloader']['batchSize_dataloader'],\n",
    "    pinMemory_dataloader=dict_params['dataloader']['pinMemory_dataloader'],\n",
    "    numWorkers_dataloader=dict_params['dataloader']['numWorkers_dataloader'],\n",
    "    persistentWorkers_dataloader=dict_params['dataloader']['persistentWorkers_dataloader'],\n",
    "    prefetchFactor_dataloader=dict_params['dataloader']['prefetchFactor_dataloader'],\n",
    "    transforms=torch.nn.Sequential(\n",
    "        *[roicat.model_training.augmentation.__dict__[key](**params) for key,params in dict_params['dataloader']['transforms_invariant'].items()]\n",
    "    ), # Converting dictionary of transforms to torch.nn.Sequential object\n",
    "    n_transforms=2,\n",
    "    img_size_out=tuple(dict_params['dataloader']['img_size_out']),\n",
    "    jit_script_transforms=dict_params['dataloader']['jit_script_transforms'],\n",
    "    shuffle_dataloader=dict_params['dataloader']['shuffle_dataloader'],\n",
    "    drop_last_dataloader=dict_params['dataloader']['drop_last_dataloader'],\n",
    "    verbose=dict_params['dataloader']['verbose'],\n",
    ")\n",
    "\n",
    "dataloader = dataloader_generator.dataloader\n",
    "image_out_size = list(dataloader_generator.dataset[0][0][0].shape)\n"
   ]
  },
  {
   "cell_type": "code",
   "execution_count": 7,
   "metadata": {},
   "outputs": [
    {
     "ename": "AttributeError",
     "evalue": "'GraphModule' object has no attribute 'SerializeToString'",
     "output_type": "error",
     "traceback": [
      "\u001b[0;31m---------------------------------------------------------------------------\u001b[0m",
      "\u001b[0;31mAttributeError\u001b[0m                            Traceback (most recent call last)",
      "Cell \u001b[0;32mIn[7], line 2\u001b[0m\n\u001b[1;32m      1\u001b[0m \u001b[39m# Create Model\u001b[39;00m\n\u001b[0;32m----> 2\u001b[0m model_container \u001b[39m=\u001b[39m sth\u001b[39m.\u001b[39;49mSimclr_Model(\n\u001b[1;32m      3\u001b[0m     filepath_model\u001b[39m=\u001b[39;49mdict_params[\u001b[39m'\u001b[39;49m\u001b[39mmodel\u001b[39;49m\u001b[39m'\u001b[39;49m][\u001b[39m'\u001b[39;49m\u001b[39mfilepath_model\u001b[39;49m\u001b[39m'\u001b[39;49m], \u001b[39m# Set filepath to/from which to save/load model\u001b[39;49;00m\n\u001b[1;32m      4\u001b[0m     load_model\u001b[39m=\u001b[39;49m\u001b[39mTrue\u001b[39;49;00m,\n\u001b[1;32m      5\u001b[0m )\n",
      "File \u001b[0;32m~/analysis/github_repos/ROICaT/roicat/model_training/simclr_training_helpers.py:238\u001b[0m, in \u001b[0;36mSimclr_Model.__init__\u001b[0;34m(self, filepath_model, base_model, head_pool_method, head_pool_method_kwargs, pre_head_fc_sizes, post_head_fc_sizes, head_nonlinearity, head_nonlinearity_kwargs, block_to_unfreeze, n_block_toInclude, image_out_size, load_model)\u001b[0m\n\u001b[1;32m    216\u001b[0m \u001b[39mdef\u001b[39;00m \u001b[39m__init__\u001b[39m(\n\u001b[1;32m    217\u001b[0m         \u001b[39mself\u001b[39m,\n\u001b[1;32m    218\u001b[0m         filepath_model, \u001b[39m# Set filepath to save model\u001b[39;00m\n\u001b[0;32m   (...)\u001b[0m\n\u001b[1;32m    235\u001b[0m         ):\n\u001b[1;32m    236\u001b[0m     \u001b[39m# If loading model, load it from onnx, otherwise create one from scratch using the other parameters\u001b[39;00m\n\u001b[1;32m    237\u001b[0m     \u001b[39mif\u001b[39;00m load_model:\n\u001b[0;32m--> 238\u001b[0m         \u001b[39mself\u001b[39;49m\u001b[39m.\u001b[39;49mload_onnx(filepath_model)\n\u001b[1;32m    239\u001b[0m     \u001b[39melse\u001b[39;00m:\n\u001b[1;32m    240\u001b[0m         \u001b[39mself\u001b[39m\u001b[39m.\u001b[39mcreate_model(\n\u001b[1;32m    241\u001b[0m             base_model\u001b[39m=\u001b[39mbase_model,\n\u001b[1;32m    242\u001b[0m             \u001b[39m# slice_point=slice_point,\u001b[39;00m\n\u001b[0;32m   (...)\u001b[0m\n\u001b[1;32m    255\u001b[0m             image_out_size\u001b[39m=\u001b[39mimage_out_size,\n\u001b[1;32m    256\u001b[0m             )\n",
      "File \u001b[0;32m~/analysis/github_repos/ROICaT/roicat/model_training/simclr_training_helpers.py:389\u001b[0m, in \u001b[0;36mSimclr_Model.load_onnx\u001b[0;34m(self, filepath_model)\u001b[0m\n\u001b[1;32m    386\u001b[0m     \u001b[39mraise\u001b[39;00m \u001b[39mValueError\u001b[39;00m(\u001b[39mf\u001b[39m\u001b[39m'\u001b[39m\u001b[39mpath_or_bytes must be either a string or bytes. This error should never be raised.\u001b[39m\u001b[39m'\u001b[39m)\n\u001b[1;32m    388\u001b[0m \u001b[39m## check if model is valid\u001b[39;00m\n\u001b[0;32m--> 389\u001b[0m onnx\u001b[39m.\u001b[39;49mchecker\u001b[39m.\u001b[39;49mcheck_model(\u001b[39mself\u001b[39;49m\u001b[39m.\u001b[39;49mmodel)\n",
      "File \u001b[0;32m~/opt/anaconda3/envs/rct/lib/python3.11/site-packages/onnx/checker.py:128\u001b[0m, in \u001b[0;36mcheck_model\u001b[0;34m(model, full_check)\u001b[0m\n\u001b[1;32m    125\u001b[0m     C\u001b[39m.\u001b[39mcheck_model_path(model, full_check)\n\u001b[1;32m    126\u001b[0m \u001b[39melse\u001b[39;00m:\n\u001b[1;32m    127\u001b[0m     protobuf_string \u001b[39m=\u001b[39m (\n\u001b[0;32m--> 128\u001b[0m         model \u001b[39mif\u001b[39;00m \u001b[39misinstance\u001b[39m(model, \u001b[39mbytes\u001b[39m) \u001b[39melse\u001b[39;00m model\u001b[39m.\u001b[39;49mSerializeToString()\n\u001b[1;32m    129\u001b[0m     )\n\u001b[1;32m    130\u001b[0m     \u001b[39m# If the protobuf is larger than 2GB,\u001b[39;00m\n\u001b[1;32m    131\u001b[0m     \u001b[39m# remind users should use the model path to check\u001b[39;00m\n\u001b[1;32m    132\u001b[0m     \u001b[39mif\u001b[39;00m sys\u001b[39m.\u001b[39mgetsizeof(protobuf_string) \u001b[39m>\u001b[39m MAXIMUM_PROTOBUF:\n",
      "File \u001b[0;32m~/.local/lib/python3.11/site-packages/torch/nn/modules/module.py:1614\u001b[0m, in \u001b[0;36mModule.__getattr__\u001b[0;34m(self, name)\u001b[0m\n\u001b[1;32m   1612\u001b[0m     \u001b[39mif\u001b[39;00m name \u001b[39min\u001b[39;00m modules:\n\u001b[1;32m   1613\u001b[0m         \u001b[39mreturn\u001b[39;00m modules[name]\n\u001b[0;32m-> 1614\u001b[0m \u001b[39mraise\u001b[39;00m \u001b[39mAttributeError\u001b[39;00m(\u001b[39m\"\u001b[39m\u001b[39m'\u001b[39m\u001b[39m{}\u001b[39;00m\u001b[39m'\u001b[39m\u001b[39m object has no attribute \u001b[39m\u001b[39m'\u001b[39m\u001b[39m{}\u001b[39;00m\u001b[39m'\u001b[39m\u001b[39m\"\u001b[39m\u001b[39m.\u001b[39mformat(\n\u001b[1;32m   1615\u001b[0m     \u001b[39mtype\u001b[39m(\u001b[39mself\u001b[39m)\u001b[39m.\u001b[39m\u001b[39m__name__\u001b[39m, name))\n",
      "\u001b[0;31mAttributeError\u001b[0m: 'GraphModule' object has no attribute 'SerializeToString'"
     ]
    }
   ],
   "source": [
    "\n",
    "# Create Model\n",
    "model_container = sth.Simclr_Model(\n",
    "    filepath_model=dict_params['model']['filepath_model'], # Set filepath to/from which to save/load model\n",
    "    load_model=True,\n",
    ")"
   ]
  },
  {
   "cell_type": "code",
   "execution_count": null,
   "metadata": {},
   "outputs": [],
   "source": []
  }
 ],
 "metadata": {
  "kernelspec": {
   "display_name": "rct",
   "language": "python",
   "name": "python3"
  },
  "language_info": {
   "codemirror_mode": {
    "name": "ipython",
    "version": 3
   },
   "file_extension": ".py",
   "mimetype": "text/x-python",
   "name": "python",
   "nbconvert_exporter": "python",
   "pygments_lexer": "ipython3",
   "version": "3.11.4"
  },
  "orig_nbformat": 4
 },
 "nbformat": 4,
 "nbformat_minor": 2
}
