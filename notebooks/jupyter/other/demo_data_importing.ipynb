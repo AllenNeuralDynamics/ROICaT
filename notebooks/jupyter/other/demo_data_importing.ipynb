{
 "cells": [
  {
   "cell_type": "code",
   "execution_count": 1,
   "id": "7864836b",
   "metadata": {},
   "outputs": [
    {
     "data": {
      "text/html": [
       "<style>.container {width:95% !important; }</style>"
      ],
      "text/plain": [
       "<IPython.core.display.HTML object>"
      ]
     },
     "metadata": {},
     "output_type": "display_data"
    }
   ],
   "source": [
    "# widen jupyter notebook window\n",
    "from IPython.display import display, HTML\n",
    "display(HTML(\"<style>.container {width:95% !important; }</style>\"))"
   ]
  },
  {
   "attachments": {},
   "cell_type": "markdown",
   "id": "82e7486e",
   "metadata": {},
   "source": [
    "# Intro\n",
    "\n",
    "#### Welcome to a demo notebook on different methods for ingesting diverse data into ROICaT. There are 3 sections:\n",
    "\n",
    "- [Section 1](#Section-1): Ingesting data from **different segmentation packages** (Suite2p, CaImAn, CNMF, NWB, etc.).\n",
    "- [Section 2](#Section-2): **Understanding** the `Data_roicat` class.\n",
    "- [Section 3](#Section-3): Ingesting **custom data**.\n",
    "\n"
   ]
  },
  {
   "attachments": {},
   "cell_type": "markdown",
   "id": "1e739fc0",
   "metadata": {},
   "source": [
    "Import libraries"
   ]
  },
  {
   "cell_type": "code",
   "execution_count": 2,
   "id": "b4b1f992",
   "metadata": {},
   "outputs": [],
   "source": [
    "import inspect\n",
    "import tempfile\n",
    "from pathlib import Path\n",
    "\n",
    "from IPython.display import display\n",
    "import numpy as np"
   ]
  },
  {
   "cell_type": "code",
   "execution_count": 3,
   "id": "77c4421b",
   "metadata": {},
   "outputs": [],
   "source": [
    "%load_ext autoreload\n",
    "%autoreload 2\n",
    "import roicat"
   ]
  },
  {
   "attachments": {},
   "cell_type": "markdown",
   "id": "57ce6ec6",
   "metadata": {},
   "source": [
    "___"
   ]
  },
  {
   "attachments": {},
   "cell_type": "markdown",
   "id": "4cbfa33a",
   "metadata": {},
   "source": [
    "# Section 1\n",
    "## Ingesting different data sources"
   ]
  },
  {
   "attachments": {},
   "cell_type": "markdown",
   "id": "6b33df0e",
   "metadata": {},
   "source": [
    "We've made a few subclasses that make ingesting this data from various sources easy. These sources include:\n",
    "```\n",
    "- Raw data ----- via Data_roicat\n",
    "- Suite2p ------ via Data_suite2p or Data_roiextractors\n",
    "- CaImAn ------- via Data_caiman or Data_roiextractors\n",
    "- CNMF --------- via Data_roiextractors\n",
    "- NWB ---------- via Data_roiextractors\n",
    "- Sima --------- via Data_roiextractors\n",
    "- EXTRACT ------ via Data_roiextractors\n",
    "```"
   ]
  },
  {
   "attachments": {},
   "cell_type": "markdown",
   "id": "03fd5791",
   "metadata": {},
   "source": [
    "##### Download data\n",
    "\n",
    "Let's first download a single dataset that has been processed by each segmentation method above. This data was curated by the good folks at [CatalystNeuro](https://www.catalystneuro.com/), which makes [roiextractors](https://github.com/catalystneuro/roiextractors)."
   ]
  },
  {
   "cell_type": "code",
   "execution_count": null,
   "id": "6c71a306",
   "metadata": {},
   "outputs": [],
   "source": [
    "dir_download_temp = tempfile.gettempdir()\n",
    "path_download_temp = str(Path(dir_download_temp) / 'datasets_roiextractors.zip')\n",
    "\n",
    "roicat.helpers.download_file(\n",
    "    url='https://osf.io/db5h8/download',\n",
    "    path_save=path_download_temp,\n",
    ")\n",
    "paths_extracted = roicat.helpers.extract_zip(\n",
    "    path_zip=path_download_temp,\n",
    "    path_extract=None,\n",
    "    verbose=True,\n",
    ");"
   ]
  },
  {
   "attachments": {},
   "cell_type": "markdown",
   "id": "bd83a2be",
   "metadata": {},
   "source": [
    "### Make `Data_roiextractors` objects\n",
    "Let's make first `roiextractors` objects out of each of these datasets."
   ]
  },
  {
   "cell_type": "code",
   "execution_count": null,
   "id": "14479151",
   "metadata": {},
   "outputs": [],
   "source": [
    "import roiextractors\n",
    "\n",
    "dir_segData = paths_extracted[0]\n",
    "\n",
    "re_caiman = roiextractors.CaimanSegmentationExtractor(file_path=str(Path(dir_segData) / 'caiman' / 'caiman_analysis.hdf5'))\n",
    "re_cnmfe = roiextractors.CnmfeSegmentationExtractor(file_path=str(Path(dir_segData) / 'cnmfe' / '2014_04_01_p203_m19_check01_cnmfeAnalysis.mat'))\n",
    "re_EXTRACT = roiextractors.ExtractSegmentationExtractor(file_path=str(Path(dir_segData) / 'extract' / 'extract_public_output.mat'), sampling_frequency=30)\n",
    "re_NWB = roiextractors.NwbSegmentationExtractor(file_path=str(Path(dir_segData) / 'nwb' / 'nwb_test.nwb'))\n",
    "re_s2p = roiextractors.Suite2pSegmentationExtractor(folder_path=str(Path(dir_segData) / 'suite2p'), plane_no=0)\n"
   ]
  },
  {
   "attachments": {},
   "cell_type": "markdown",
   "id": "17f8c942",
   "metadata": {},
   "source": [
    "Next, let's convert the `roiextractors` object to `Data_roicat` objects by using the `Data_roiextractors` class:"
   ]
  },
  {
   "cell_type": "code",
   "execution_count": null,
   "id": "2a2b8a0b",
   "metadata": {},
   "outputs": [],
   "source": [
    "data_re_caiman = roicat.data_importing.Data_roiextractors(re_caiman)\n",
    "display(data_re_caiman)\n",
    "data_re_cnmfe = roicat.data_importing.Data_roiextractors(re_cnmfe)\n",
    "display(data_re_cnmfe)\n",
    "data_re_EXTRACT = roicat.data_importing.Data_roiextractors(re_EXTRACT)\n",
    "display(data_re_EXTRACT)\n",
    "data_re_NWB = roicat.data_importing.Data_roiextractors(re_NWB)\n",
    "display(data_re_NWB)\n",
    "data_re_s2p = roicat.data_importing.Data_roiextractors(re_s2p)\n",
    "display(data_re_s2p)\n"
   ]
  },
  {
   "attachments": {},
   "cell_type": "markdown",
   "id": "05e41ec7",
   "metadata": {},
   "source": [
    "### Make `Data_suite2p` and `Data_caiman` objects\n",
    "\n",
    "For suite2p and CaImAn, we recommend using our built in data ingestion classes. These collect a little more information and can be faster:"
   ]
  },
  {
   "cell_type": "code",
   "execution_count": null,
   "id": "b5257f6a",
   "metadata": {},
   "outputs": [],
   "source": [
    "data_roicat_s2p = roicat.data_importing.Data_suite2p(\n",
    "    paths_statFiles=str(Path(dir_segData) / 'suite2p' / 'plane0' / 'stat.npy'),\n",
    "    paths_opsFiles=str(Path(dir_segData) / 'suite2p' / 'plane0' / 'ops.npy'),\n",
    ")\n",
    "display(data_roicat_s2p)\n",
    "\n",
    "data_roicat_caiman = roicat.data_importing.Data_caiman(\n",
    "    paths_resultsFiles=str(Path(dir_segData) / 'caiman' / 'caiman_analysis.hdf5')\n",
    ")\n",
    "display(data_roicat_caiman)"
   ]
  },
  {
   "attachments": {},
   "cell_type": "markdown",
   "id": "b89f871c",
   "metadata": {},
   "source": [
    "## Make multisession objects\n",
    "\n",
    "Normally we are using ROICaT with multiple sessions of data. To do this, just pass in a list of paths or roiextractors objects where each element is from one session."
   ]
  },
  {
   "attachments": {},
   "cell_type": "markdown",
   "id": "1674d55f",
   "metadata": {},
   "source": [
    "#### Multisession `Data_roiextractors`\n",
    "\n",
    "We will simulate having multiple sessions of a dataset from the EXTRACT pipeline:"
   ]
  },
  {
   "cell_type": "code",
   "execution_count": null,
   "id": "c505fe15",
   "metadata": {},
   "outputs": [],
   "source": [
    "re_multi_EXTRACT = [roiextractors.ExtractSegmentationExtractor(file_path=path, sampling_frequency=30) for path in [str(Path(dir_segData) / 'extract' / 'extract_public_output.mat')]*10]\n",
    "\n",
    "print(f'Number of sessions: {len(re_multi_EXTRACT)}')"
   ]
  },
  {
   "attachments": {},
   "cell_type": "markdown",
   "id": "c1001189",
   "metadata": {},
   "source": [
    "Now let's make a single `Data_roiextractors` object containing all these sessions:"
   ]
  },
  {
   "cell_type": "code",
   "execution_count": null,
   "id": "a92e1fa7",
   "metadata": {},
   "outputs": [],
   "source": [
    "data_roicat_multi_EXTRACT = roicat.data_importing.Data_roiextractors(segmentation_extractor_objects=re_multi_EXTRACT)\n",
    "display(data_roicat_multi_EXTRACT)"
   ]
  },
  {
   "attachments": {},
   "cell_type": "markdown",
   "id": "025f0504",
   "metadata": {},
   "source": [
    "You'll see that this object now stores data from all 10 of these sessions."
   ]
  },
  {
   "attachments": {},
   "cell_type": "markdown",
   "id": "f76db37c",
   "metadata": {},
   "source": [
    "#### Multisession `Data_suite2p`\n",
    "\n",
    "Now let's do it with the `Data_suite2p` class (recommended for suite2p data). This data was collected and provided by Valerio Francioni while in Mark Harnett's lab at MIT:"
   ]
  },
  {
   "attachments": {},
   "cell_type": "markdown",
   "id": "2f1575df",
   "metadata": {},
   "source": [
    "*Download*"
   ]
  },
  {
   "cell_type": "code",
   "execution_count": null,
   "id": "9eba1f9b",
   "metadata": {},
   "outputs": [],
   "source": [
    "## Define temporary directory to save files to\n",
    "dir_temp = tempfile.gettempdir()\n",
    "path_test_temp = str(Path(dir_temp) / 'data_valerio.zip')\n",
    "\n",
    "## Download zip file\n",
    "roicat.helpers.download_file(\n",
    "    url='https://osf.io/ru4x5/download',\n",
    "    path_save=path_test_temp,\n",
    ")\n",
    "## Extract zip file\n",
    "paths_extracted = roicat.helpers.extract_zip(\n",
    "    path_zip=path_test_temp,\n",
    "    path_extract=None,\n",
    ")\n",
    "dir_test_data = paths_extracted[0]\n",
    "display(f'Downloaded and extracted folder containing test data to: {dir_test_data}')"
   ]
  },
  {
   "attachments": {},
   "cell_type": "markdown",
   "id": "370ff912",
   "metadata": {},
   "source": [
    "*Initialize class*"
   ]
  },
  {
   "cell_type": "code",
   "execution_count": null,
   "id": "f4602c12",
   "metadata": {},
   "outputs": [],
   "source": [
    "## Make paired lists of all the stat.npy and ops.npy files\n",
    "paths_stat = roicat.helpers.find_paths(\n",
    "    dir_outer=dir_test_data,\n",
    "    reMatch='stat.npy',\n",
    "    depth=4,\n",
    ")\n",
    "paths_ops = [str(Path(p).parent / 'ops.npy') for p in paths_stat]\n",
    "\n",
    "## Initialize the class\n",
    "data_roicat_multi_suite2p = roicat.data_importing.Data_suite2p(\n",
    "    paths_statFiles=paths_stat,\n",
    "    paths_opsFiles=paths_ops,\n",
    ")\n",
    "\n",
    "display(data_roicat_multi_suite2p)"
   ]
  },
  {
   "attachments": {},
   "cell_type": "markdown",
   "id": "db33e81e",
   "metadata": {},
   "source": [
    "And that's it, you now know how to use data from almost any segmentation pipeline to make a data object that can be used for any of the 3 pipelines in ROICaT. Let's finish by looking at some of the properties of these objects."
   ]
  },
  {
   "attachments": {},
   "cell_type": "markdown",
   "id": "62f25d31",
   "metadata": {},
   "source": [
    "# Section 2\n",
    "## Understanding the `Data_roicat` class"
   ]
  },
  {
   "attachments": {},
   "cell_type": "markdown",
   "id": "8583c058",
   "metadata": {},
   "source": [
    "All raw data is ingested and stored through a custom python superclass called `Data_roicat` which standardizes data that comes from different sources. The main types of data it ingests are:\n",
    "1. `spatialFootprints`: The images of individual ROIs within the field of view\n",
    "2. `FOV_images`: The image of the field of view itself (e.g. the mean fluorescence image of the raw movie)\n",
    "3. `ROI_images`: Small images of individual ROIs\n",
    "4. `class_labels`: The labels associated with each ROI\n",
    "5. `um_per_pixel`: The resolution of the imaging field of view\n",
    "\n",
    "Let's demonstrate on **Suite2p** multisession test data from Valerio."
   ]
  },
  {
   "attachments": {},
   "cell_type": "markdown",
   "id": "e1807813",
   "metadata": {},
   "source": [
    "#### `ROI_images`"
   ]
  },
  {
   "cell_type": "code",
   "execution_count": null,
   "id": "dc06ec89",
   "metadata": {},
   "outputs": [],
   "source": [
    "roicat.visualization.display_toggle_image_stack(data_roicat_multi_suite2p.ROI_images[0], image_size=(200,200))"
   ]
  },
  {
   "attachments": {},
   "cell_type": "markdown",
   "id": "373b7963",
   "metadata": {},
   "source": [
    "#### `FOV_images`"
   ]
  },
  {
   "cell_type": "code",
   "execution_count": null,
   "id": "fb1ad92c",
   "metadata": {},
   "outputs": [],
   "source": [
    "roicat.visualization.display_toggle_image_stack(data_roicat_multi_suite2p.FOV_images, image_size=(400,400))"
   ]
  },
  {
   "attachments": {},
   "cell_type": "markdown",
   "id": "1cd543aa",
   "metadata": {},
   "source": [
    "#### `spatialFootprints`\n",
    "ROIs from each session are stored as a scipy sparse array. Each sparse array is of shape: (`n_ROIs`, `height * width`). Notice that height and width dimension have been flattened into one dimension. We can reconstruct what a max intensity projection of ROIs looks like with the following code."
   ]
  },
  {
   "cell_type": "code",
   "execution_count": null,
   "id": "37e709c5",
   "metadata": {},
   "outputs": [],
   "source": [
    "display(data_roicat_multi_suite2p.spatialFootprints)\n",
    "\n",
    "height_width = (data_roicat_multi_suite2p.FOV_height, data_roicat_multi_suite2p.FOV_width)\n",
    "\n",
    "FOVs_MIP_ROIs = [sf.max(0).toarray().reshape(height_width[0], height_width[1]) for sf in data_roicat_multi_suite2p.spatialFootprints]\n",
    "\n",
    "roicat.visualization.display_toggle_image_stack(FOVs_MIP_ROIs)"
   ]
  },
  {
   "attachments": {},
   "cell_type": "markdown",
   "id": "f8100f8e",
   "metadata": {},
   "source": [
    "##### Check completeness of object\n",
    "\n",
    "Lastyl, there are 3 things a data object can be used for in ROICaT: **tracking**, **classification training**, and **classification inference**. Let's check to see what we can do with the data object we just made:"
   ]
  },
  {
   "cell_type": "code",
   "execution_count": null,
   "id": "7835ce6a",
   "metadata": {},
   "outputs": [],
   "source": [
    "data_roicat_multi_suite2p.check_completeness()"
   ]
  },
  {
   "attachments": {},
   "cell_type": "markdown",
   "id": "781e0a44",
   "metadata": {},
   "source": [
    "Looks like we can do **tracking** and **classification-inference**, but not **classification-training** because we don't have class labels for each ROI. This makes sense because this is a raw dataset and labeling wasn't performed."
   ]
  },
  {
   "attachments": {},
   "cell_type": "markdown",
   "id": "7c1aa44f",
   "metadata": {},
   "source": [
    "# Section 3\n",
    "## Custom data class\n",
    "\n",
    "We can also make a `Data_roicat` object from scratch by populating the required data for what we want to do. Let's start with an empty object and call the `.check_completeness()` to see what it can do:"
   ]
  },
  {
   "cell_type": "code",
   "execution_count": 7,
   "id": "f59c8914",
   "metadata": {},
   "outputs": [
    {
     "name": "stdout",
     "output_type": "stream",
     "text": [
      "RH WARNING: Classification-Inference incomplete because following attributes are missing: ['ROI_images', 'um_per_pixel']\n",
      "RH WARNING: Classification-Training incomplete because the following attributes are missing: ['ROI_images', 'um_per_pixel', 'class_labels']\n",
      "RH WARNING: Tracking incomplete because the following attributes are missing: ['ROI_images', 'um_per_pixel', 'spatialFootprints', 'FOV_images']\n",
      "Cannot check validity of class_labels and ROI_images because one or both do not exist as attributes.\n",
      "Cannot check validity of spatialFootprints and FOV_images because one or both do not exist as attributes.\n",
      "Data_roicat object completeness: {'classification_inference': False, 'classification_training': False, 'tracking': False}\n"
     ]
    },
    {
     "data": {
      "text/plain": [
       "{'classification_inference': False,\n",
       " 'classification_training': False,\n",
       " 'tracking': False}"
      ]
     },
     "metadata": {},
     "output_type": "display_data"
    }
   ],
   "source": [
    "data_custom = roicat.data_importing.Data_roicat()\n",
    "\n",
    "display(data_custom.check_completeness())"
   ]
  },
  {
   "attachments": {},
   "cell_type": "markdown",
   "id": "cebaad71",
   "metadata": {},
   "source": [
    "As mentioned before, there are 5 key types of data that can be stored in a `Data_roicat` object:\n",
    "1. `spatialFootprints`: The images of individual ROIs within the field of view\n",
    "2. `FOV_images`: The image of the field of view itself (e.g. the mean fluorescence image of the raw movie)\n",
    "3. `ROI_images`: Small images of individual ROIs\n",
    "4. `class_labels`: The labels associated with each ROI\n",
    "5. `um_per_pixel`: The resolution of the imaging field of view\n",
    "\n",
    "Different combinations are needed for each of the 3 pipelines, which can be viewed in the above print statement from `.check_completeness()`"
   ]
  },
  {
   "attachments": {},
   "cell_type": "markdown",
   "id": "1ed85f4b",
   "metadata": {},
   "source": [
    "### Prepare data for *Classification-inference*\n",
    "\n",
    "Let's add the necessary data to do **'Classification-Inference'**: `'ROI_images'`, `'um_per_pixel'`. \n",
    "\n",
    "Let's just make up some fake data with the correct properties:"
   ]
  },
  {
   "cell_type": "code",
   "execution_count": 4,
   "id": "fa5836fd",
   "metadata": {},
   "outputs": [],
   "source": [
    "## Helper function for making fake ROI_images data\n",
    "def make_ROIs(\n",
    "    n_sessions=10,\n",
    "    max_rois_per_session=100,\n",
    "    size_im=(36,36)\n",
    "):\n",
    "    import numpy as np\n",
    "    import torch\n",
    "    import torchvision\n",
    "\n",
    "    roi_prototype = torch.zeros(size_im, dtype=torch.uint8)\n",
    "    roi_prototype[*torch.meshgrid(torch.arange(size_im[0]//2-8, size_im[0]//2+8), torch.arange(size_im[1]//2-8, size_im[1]//2+8), indexing='xy')] = 255\n",
    "    transforms = torch.nn.Sequential(*[\n",
    "        torchvision.transforms.RandomPerspective(distortion_scale=0.9, p=1.0),\n",
    "        torchvision.transforms.RandomAffine(0, scale=(2.0, 2.0))\n",
    "    ])\n",
    "    ROIs = [[transforms(torch.as_tensor(roi_prototype[None,:,:]))[0].numpy() for i_roi in range(max_rois_per_session)] for i_sesh in range(n_sessions)]\n",
    "    ROIs = [np.stack([roi for roi in ROIs_sesh if roi.sum() > 0], axis=0) for ROIs_sesh in ROIs]\n",
    "\n",
    "    return ROIs"
   ]
  },
  {
   "cell_type": "code",
   "execution_count": 5,
   "id": "e9086648",
   "metadata": {},
   "outputs": [
    {
     "name": "stdout",
     "output_type": "stream",
     "text": [
      "Number of sessions: 10\n",
      "Number of ROIs per session: [100, 100, 100, 100, 100, 99, 100, 99, 99, 100]\n",
      "Shape of each ROI image: (36, 36)\n"
     ]
    },
    {
     "data": {
      "text/html": [
       "\n",
       "    <div>\n",
       "        <input type=\"range\" id=\"imageSlider_5350c66dcda2fd645b23a7e939d0e5a8665f1e39d894cd3efc67d7931771f1c5\" min=\"0\" max=\"99\" value=\"0\">\n",
       "        <img id=\"displayedImage_5350c66dcda2fd645b23a7e939d0e5a8665f1e39d894cd3efc67d7931771f1c5\" src=\"data:image/png;base64,iVBORw0KGgoAAAANSUhEUgAAAMgAAADICAAAAACIM/FCAAAAtklEQVR4nO3YsQ0CMRBFQYOogDaoAF3zVEEF9AHhhshnB1+rmWiD08pPTqwbAwAAAAAAAAAAAAAAAAAAoIPLhh3f5Q2PGt8nV1yXDxFCSBohaYSkEZKmTcjpJ8r6u2THKUqbGxGSRkgaIWmEpGkTcpv5eOuzZHy2bmtzI0LSCEkjJI2QNG1Cpp4oUz877jUeNT5rfM1s+6vNjQhJIySNkDRC0rQJAQAAAAAAAAAAAAAAAAAA6OEHNOoGhTTmDeQAAAAASUVORK5CYII=\" style=\"width: 200px; height: 200px;\">\n",
       "        <span id=\"imageNumber_5350c66dcda2fd645b23a7e939d0e5a8665f1e39d894cd3efc67d7931771f1c5\">Image 0/99</span>\n",
       "    </div>\n",
       "\n",
       "    <script>\n",
       "        (function() {\n",
       "            let base64_images = ['iVBORw0KGgoAAAANSUhEUgAAAMgAAADICAAAAACIM/FCAAAAtklEQVR4nO3YsQ0CMRBFQYOogDaoAF3zVEEF9AHhhshnB1+rmWiD08pPTqwbAwAAAAAAAAAAAAAAAAAAoIPLhh3f5Q2PGt8nV1yXDxFCSBohaYSkEZKmTcjpJ8r6u2THKUqbGxGSRkgaIWmEpGkTcpv5eOuzZHy2bmtzI0LSCEkjJI2QNG1Cpp4oUz877jUeNT5rfM1s+6vNjQhJIySNkDRC0rQJAQAAAAAAAAAAAAAAAAAA6OEHNOoGhTTmDeQAAAAASUVORK5CYII=', 'iVBORw0KGgoAAAANSUhEUgAAAMgAAADICAAAAACIM/FCAAABPElEQVR4nO3asU3DQBTH4RiZIWgYAGULBAXrsAdLhE0YgDIDIBiAjgrKuwLJwlycv56+r3qFdfZPrzlF2e0AAAAAWDZ180Mbv9r43saP7uHPU33RShfn/oBRhKQRkkZIGiFpyoT0V5TvbV/91MbH/59WZiNC0ghJIySNkDRlQubzvfp56GllNiIkjZA0QtIISSMkzTzgl5iVXoeeVmYjQtIISSMkjZA0ZUKm7o8yVxu879jGm6EHl9mIkDRC0ghJIyRNmZB5i3tJ53Cqg8tsREgaIWmEpBGSpkzItPGffa/b+Db04DIbEZJGSBohaYSkKROy9RVlWn5knTIbEZJGSBohaYSkKRMy/35nuGzjfRvvuidu27hfesnLX79qhTIbEZJGSBohaYSkKRMCAAAAAAAAAAAAAAAAAABQww9k1hAxa3wbFgAAAABJRU5ErkJggg==', 'iVBORw0KGgoAAAANSUhEUgAAAMgAAADICAAAAACIM/FCAAABBklEQVR4nO3aIU6DQRCG4dLU4bhCz9YDVPYGnAfPCbgDipAeoBVVIAexhmRoPibPoya/mO2bNSu62QAAAAAAAAAAAAAAAAAAAAAA8Cceetc91Xit8dZ7yNL2DmfchZA0QtIISSMkzZiQXe+6Q43PvZvLe437GsfciJA0QtIISSMkzZiQ5ifKuXfd0nH5dcyNCEkjJI2QNELSjAlpfqJ89q5bell+HXMjQtIISSMkjZA0Y0Kanygfvet+YcyNCEkjJI2QNELSjAlp/rvsY42X3s1l/ZPH3IiQNELSCEkjJI2QNM1vrR++anyr8VTja+txY25ESBohaYSkEZJmTAgAAAAAAAD/1Df3bgxlwNgVgwAAAABJRU5ErkJggg==', 'iVBORw0KGgoAAAANSUhEUgAAAMgAAADICAAAAACIM/FCAAABBElEQVR4nO3awU7CUBBAUVF3/v/34tK3qCHVtlzHc1aEkMLNbCYTbi8XuH+9vJ31Ha9nPfhqQmqE1AipEVIzJuS0leGSvWQxZiJCaoTUCKkRUjMm5ODt4eK9ZDFmIkJqhNQIqRFSMybk/YBn3B9/5HxjJiKkRkiNkBohNWNCfnzr2N5LLj6dLMZMREiNkBohNUJqhNTsOge9bb/9ccQP+a0xExFSI6RGSI2QmjEhu+436wnoeYefbWMmIqRGSI2QGiE1Y0IebxrP+yvvLmMmIqRGSI2QGiE1Y0K+2Tr+yF6yGDMRITVCaoTUCKkZEwIAAAAAAAAAAAAAAAAAAAAAAADA//EJniEI03X/U+MAAAAASUVORK5CYII=', 'iVBORw0KGgoAAAANSUhEUgAAAMgAAADICAAAAACIM/FCAAABjUlEQVR4nO3au0pDQRRGYaP2PoedtaWXQnwL3zFgIbaiCOIFC8F30CJaarmnGBmyHcJis77qR07kLKYZSBZba9hp9nHM7+78irla469Z2///FwyG0BhCYwiNITRlQhbZD/7MfIs/HMa8GT1b5kQMoTGExhAaQ2jKhKCvKJcxz0bPljkRQ2gMoTGExhCaMiHpK8przP0ZLzIwfM8yJ2IIjSE0htAYQlMmZDf7weabl01cUYbKnIghNIbQGEJjCI0hNOm71m3MixkvMnAU87r7QJkTMYTGEBpDaAyhKROS/sbqIObDhPcYuYp52n2gzIkYQmMIjSE0htCUCUlfURqb+Alwo//KZU7EEBpDaAyhMYTGEBpDaAyhMYTGEBpDaNK/RWl8xtyb8O9GzmMuY5Y5EUNoDKExhMYQmjIhM64odzH7vxOZ4CPmSUyvKGCG0BhCYwiNITQzrij3MZsrylvMl5jPMZ9iPsZ8T75EmRMxhMYQGkNoDKEpEyJJkiRJkiRJkiRJkiRJkiRJkiRJCb9cmR408ItkuwAAAABJRU5ErkJggg==', 'iVBORw0KGgoAAAANSUhEUgAAAMgAAADICAAAAACIM/FCAAAAzElEQVR4nO3WwQkCMRRFUUctRrAIxWZ0aTd2I4g12I/LuBgYIgSfn3NWf5Fk5pJNptUolzbeOrY9PuZjx751x9poQtIISSMkjZA0ZUK2aScfvvxcmRsRkkZIGiFphKQpEzLuibIZdvKsMjciJI2QNELSCElTJmTcE+XZxlcb9z1HnNp4X1pb5kaEpBGSRkgaIWnKhEy/+/Sujdc2nucXL/5nmRsRkkZIGiFphKQRAgAAAAAAAAAAAAAAAAAAAAAAAAAAAAAAAAAAAPDv3nH3Bn6w0avNAAAAAElFTkSuQmCC', 'iVBORw0KGgoAAAANSUhEUgAAAMgAAADICAAAAACIM/FCAAABBElEQVR4nO3asU0DQRBAUYzoBlqgDoqgBVKKcQk0gURFEG54Aq3tr+G9aIPTrL4mOdl3utvq++iBt3V833rz/dZpNySkRkiNkBohNWNCHq583+elBo/ZiJAaITVCaoTUjAm59ivK16UGj9mIkBohNUJqhNSMCTntHXf4R8/m+5YxGxFSI6RGSI2QGiE1QmqE1AipEVIjpEZIjZAaITVCaoTUCKnZ8VHN89EDrxsuOTJmI0JqhNQIqRFSMyZkx0cu53V8XMenDZN/YcxGhNQIqRFSI6RmTMiOX1E+1vFlw7i/GbMRITVCaoTUCKkZEwIAAAAAAAAAAAAAAAAAAAAAAADA//EDbQsIJSeweLkAAAAASUVORK5CYII=', 'iVBORw0KGgoAAAANSUhEUgAAAMgAAADICAAAAACIM/FCAAABOElEQVR4nO3bIU4DURSG0ZaQYFAINsCCEHj2gMIgMRg2wQ4grIFdINgAAokAeUeUTDrTaX9uzlE3Tea9+fLMZNquVgAAAAAAAPxL68VWvt/46d1S2x0ttfC+CUkjJI2QNELStAk5nnrheY0fNZ6MXfZW4+vUrTdqcyJC0ghJIySNkDRC0oy/Dnqs8WanW5/V+Dl/tTYnIiSNkDRC0ghJ0yZkfVrz1363fq/xYv5qbU5ESBohaYSkEZKmTcjwLcrPwe7iqcbriUu0OREhaYSkEZJGSJo2IX980XO4p5XLwfy8xXVtTkRIGiFphKQRkqZNyPhvUaY+rXzXeFXjy8TVRrU5ESFphKQRkkZImjYhW/17+nYwP+z4RuZqcyJC0ghJIySNkDRtQgAAAAAAAAAAAAAAAAAAAHr4BbkeEClIcW5HAAAAAElFTkSuQmCC', 'iVBORw0KGgoAAAANSUhEUgAAAMgAAADICAAAAACIM/FCAAABKklEQVR4nO3csU0DQRCG0cMiBZdA6k7ohLKogzIgQKSkzugAwnFwkoW9e/oZ3otGDnbv0yarDbwsAAAAAAAAAAAAAAAAAAAAAAAAAPwXNxvvd6zxbXV8XVbn93ML7y7+pDBC0ghJIySNkDRtQja5orzU+DhrjzYnIiSNkDRC0ghJ0yZk3hXlUOPHtE1KmxMRkkZIGiFphKRpEzLvivJV437aJqXNiQhJIySNkDRC0rQJuR273FONW9xLTrQ5ESFphKQRkkZIGiFpBj8HfY9d7hfanIiQNELSCEkjJE2bkBHPQc8D1rhamxMRkkZIGiFphKRpE3LxK8pDjZ8DvuNqbU5ESBohaYSkEZKmTcjWf/ByV+P9ufF03q/+ulsd/zYhaYSkEZJGSJo2IT+8Dgw4upgjqAAAAABJRU5ErkJggg==', 'iVBORw0KGgoAAAANSUhEUgAAAMgAAADICAAAAACIM/FCAAABSklEQVR4nO3bMUoDURRA0Si2tiIuQXGXbsFC3EXW4SrssgotLCZFZJDE4fI4p/rFZ/5cXvMJmd0OAAAAAAAAAAAAAKi72vi822X5eHL5dLT5+eTy4eSDr897rw4hNUJqhNQIqRkTcrPFIYdlefdfZ4yZiJAaITVCaoTUjAnZ5IpygXvJfm3DmIkIqRFSI6RGSM2YkE2uKBfwtrZhzESE1AipEVIjpGZMyCb/Rfk6/xGr7zlmIkJqhNQIqRFSI6RGSI2QGiE1QmqE1AipEVIjpEZIjZAaITVCaoTUCKkRUiOkRkiNkBohNUJqhNQIqUl/mvT6h71jJiKkRkiNkBohNWNC0p8m3S/Lw++7foyZiJAaITVCaoTUjAnJ/YrycbRevZccGTMRITVCaoTUCKkZE7LJFeVzWb4sy/eLnjFmIkJqhNQIqRFSMybkG14sC9WOtXakAAAAAElFTkSuQmCC', 'iVBORw0KGgoAAAANSUhEUgAAAMgAAADICAAAAACIM/FCAAAAzklEQVR4nO3ZsY3CQBBAUUDXBYVcj/RJHVyGE2BFAP43ei/awFjzNcnKHA4AAAAAAAAAAAAAAAAAAAAAAAAAAAAAAAAAQNpx7wHed92O5+14+v4gnyGkRkiNkBohNWNC/ssV5bYdH488ZiNCaoTUCKkRUiOk5mfvAV65rR+5G7MRITVCaoTUCKkZE5K7ojy5lvyufjdmI0JqhNQIqRFSMyak8Y/V+nPJcs4xGxFSI6RGSI2QmjEhO35FWd9LLm+8bcxGhNQIqRFSI6RmTMgfnN4HSEbkSQ0AAAAASUVORK5CYII=', 'iVBORw0KGgoAAAANSUhEUgAAAMgAAADICAAAAACIM/FCAAABMklEQVR4nO3ZsU0DQRCGUUNLDmmACkhIHVIOKTGiAjqgCOogN+FsgHTcec/+NXovmuDkvU+bjM6HAwAAAAAAAAAAAAAAAAAAQAd3ax4+D/NPjccavy98ne3ub3byZELSCEkjJI2QNG1CVq0oo/OKB55rfN963pI2NyIkjZA0QtIISdMmZPOK8lnj4zXOW9LmRoSkEZJGSBohadqEzFgZFj+oDN5qPE04urS5ESFphKQRkkZImjYhk79qrNlW5h7d5kaEpBGSRkgaIWnahOz2x8vytvJQ49flx7W5ESFphKQRkkZImjYh+60og6caP/Z6izY3IiSNkDRC0ghJIyTNVXatvw3fi+xaRUgaIWmEpBGSpk3IDVeUwUuNrxt/os2NCEkjJI2QNELStAkBAAAA4D9+AeBvD8CzKk2tAAAAAElFTkSuQmCC', 'iVBORw0KGgoAAAANSUhEUgAAAMgAAADICAAAAACIM/FCAAAA5klEQVR4nO3YMQ6CQBRFUTAuwMRF2LseW+NmXKqNpTbaCQUJGSDx5eec6hfDwM00E/puoc/SB38Ow/hcvVm3W79FBiFphKQRkkZImjIh+5bFp01ffR3G+/rdypyIkDRC0ghJIyRNmZCmK8pt01dfhtEVZSAkjZA0QtIISVMmpG9Z/BjNx799xbQyJyIkjZA0QtIISVMmpOkvytJryWtu3ECZExGSRkgaIWmEpBGSpumudR7N05em99yC6bUbKHMiQtIISSMkjZA0ZUIAAAAAAAAAAAAAAAAAAAAAAAAAAAAAAAAAgHBfoZMP9SAQ1MkAAAAASUVORK5CYII=', 'iVBORw0KGgoAAAANSUhEUgAAAMgAAADICAAAAACIM/FCAAAAw0lEQVR4nO3WMQrCQBRF0eha3P+K3IuWWgiBONHL55wqRRjmMs3bNgAAAAAAAAAAAAAAAAAAAAAATnHZ/eP++rydeJFvXf99gVWE1AipEVIjpGZMyP5EefNYcMZZxryIkBohNUJqhNSMCTk8Lz7Plf+tlTEvIqRGSI2QGiE1Y0IWT5QVJx8z5kWE1AipEVIjpGZMyOIh8TZcTJRjhNQIqRFSI6RmTMh5Q+LHa2XMiwipEVIjpEZIjRAAAAAAAAAAAJjqCSv4BoFrhaq0AAAAAElFTkSuQmCC', 'iVBORw0KGgoAAAANSUhEUgAAAMgAAADICAAAAACIM/FCAAABYElEQVR4nO3asU0DQRCGUYPcBmUgUQWJU0QDtAMVELoDOkBI0AwJEYTj4NBiobX/G70XTbC+88ckK2CzAQAAAAAAAAAAAAAAADjaxbQnf9V4V+N+1usuZz341ISkEZJGSBohadqEzLuifI8OPNd4///XtdmIkDRC0ghJIyRNm5AzXlGWfR7MuxpfRp9rsxEhaYSkEZJGSJo2IXFXlF+81nizeKDNRoSkEZJGSBohadqEbM/9Bf7oY3SgzUaEpBGSRkgaIWnahLiipBGSRkgaIWmEpGkTspYryvvoQJuNCEkjJI2QNELStAlZy/+iHPzAlx/cZiNC0ghJIySNkDRC0qzl10HDm1ubjQhJIySNkDRC0rQJmXdFeavxetpLSpuNCEkjJI2QNELStAmZ9xerZVc1PtZ4O/zc8Hu22YiQNELSCEkjJE2bkFNfUY7yVOPD6GybjQhJIySNkDRC0rQJ+QE1kRJ5vYCyhgAAAABJRU5ErkJggg==', 'iVBORw0KGgoAAAANSUhEUgAAAMgAAADICAAAAACIM/FCAAABVklEQVR4nO3cMUoDURRA0SguwUoFO/fjvl2MuoFYzhSRMOMgN49zqkfIwL/85pGEnE4AAAAAAADcpLu9Dz4u48cyfl8cv/a9up4vj5/LeP/bQW+NkBohNUJqhNSMCXnY++DLMr4ecZC/GnMjQmqE1AipEVIjpGb3rvV85CkOMOZGhNQIqRFSI6RmTIgVpUZIjZAaITVCasaEWFFqhNQIqRFSI6RmTMjuFeXpyFMcYMyNCKkRUiOkRkjNmBArSo2QGiE1QmqE1IwJsaLUCKkRUiOkRkjNmBArSo2QGiE1QmqE1IwJ2f0fdOcjT3GAMTcipEZIjZAaITVjQjZ9irL7I5d/MOZGhNQIqRFSI6RGSM2m9an2LdXamBsRUiOkRkiNkJoxIVaUGiE1QmqE1AipGROy6Uc1b6v5fRkv/77mfG28+t5Nz425ESE1QmqE1AipGRMCABD0A0YoGCNdmwFkAAAAAElFTkSuQmCC', 'iVBORw0KGgoAAAANSUhEUgAAAMgAAADICAAAAACIM/FCAAABWElEQVR4nO3aIU5EMRSG0YFgEGyChKUhWRQWQwI7QCHRIFgBBoUDRysmebSU4c/NOepm8t5Mv9Q0zex2AAAAAGw7+u8F/NBFG1/2PnB8oIX8OSFphKQRkkZImjIhGUeUsza+739ic51ldkRIGiFphKQRkqZMyMmBf+9z5OG7gWfL7IiQNELSCEkjJI2QNIuvg4aOUptGFldmR4SkEZJGSBohacqErLgOulrwHd8eJt8rsyNC0ghJIySNkDRlQlbcoiy9Ojnt5o+B98rsiJA0QtIISSMkTZmQ6VuUpeeSpzaOHEt6ZXZESBohaYSkEZKmTMjQLcraf5p0ztv4OvkVZXZESBohaYSkEZKmTMj2Lcrl73/kuY33bbxt4+y5pFNmR4SkEZJGSBohacqEbN+ivLXxuvv4po2P65Yzr8yOCEkjJI2QNELSlAkBAAAAAAAAAAAAAAAAmPAFLX8UCGiVuM0AAAAASUVORK5CYII=', 'iVBORw0KGgoAAAANSUhEUgAAAMgAAADICAAAAACIM/FCAAABDElEQVR4nO3awQ0BURSGUcRaCBJNaM1WC6IAdShCIdMJy1nKzJvhz805q1ld98vdvIXFAgAAAIDvlv/76Xv/+eg/u5HTVi2rJBGSRkgaIWmEpCkTsp5gxq3/vI6b8Ow/u5FLlLmIkDRC0ghJIyRNmZDRT5T3lFuc2keUuYiQNELSCEkjJI2QNIPeWpu5tji2jyhzESFphKQRkkZImjIhg54or7m2OLSPKHMRIWmEpBGSRkiaMiGDnijnubbYt48ocxEhaYSkEZJGSJoyIVP877fdrn1EmYsISSMkjZA0QtKUCfn+RLn8YItt+4gyFxGSRkgaIWmEpCkTAgAAAAAAAAAAAAAAAAAAAADATD629QgwMjjIpQAAAABJRU5ErkJggg==', 'iVBORw0KGgoAAAANSUhEUgAAAMgAAADICAAAAACIM/FCAAABX0lEQVR4nO3bsU3DQBiGYYNQRmAYhJQR2AWJDWhAoqCnyApMQMESrEBNRQXluUhkne2Qj1/PU/2F8fnVNacDhgEAAAAAAAAAAAAASHc29wfv2/jQxq8l37LI+clWXpmQNELSCEkjJE2ZkK4jymY0f089/NLGpzZ+9KzXo8yOCEkjJI2QNELSlAnpOqJcj+b3xUu/tvG5jW8z31ZmR4SkEZJGSBohacqEXPQ8fLXq0jd7x7m/eSqzI0LSCEkjJI2QNGVCuo4o22N9xe3yV5TZESFphKQRkkZImjIhXZcW478/2Rx86thfsV+ZHRGSRkgaIWmEpCkT0nWLsuqxZNit+rYyOyIkjZA0QtIISVMmpOv+4ud0S08qsyNC0ghJIySNkDRlQrpuUQ4cKj7beDn1Cv90PEVIGiFphKQRkkZImnXvZMbu2vj4B+uV2REhaYSkEZJGSJoyIQAAAAAAAPxTv2SGD+lg3cKMAAAAAElFTkSuQmCC', 'iVBORw0KGgoAAAANSUhEUgAAAMgAAADICAAAAACIM/FCAAABHElEQVR4nO3asU0DQRCGUYOoiQYQJdAOgdtxCdABdSBDCyQQzgWWrFsG8Wv0XjSBvbefNlmdfTgAAAAAAAAAAECPm4Y1Hmt8aVhuze2/PbmZkDRC0ghJIySNkDR3DWu81/i942sd17wy5kSEpBGSRkgaIWnGhPTeE3ZdUXp3MeZEhKQRkkZIGiFpxoR0vEX5vecaj4tLjDkRIWmEpBGSRkiaMSHNb1EeanxdW2F1Q2NOREgaIWmEpBGSZkxI8xVlY/E3n609mxtzIkLSCEkjJI2QNGNCoq8obzXeX/vsmBMRkkZIGiFphKQZE/J3/0V5qvFU41eNnxfHj80S5x2PG3MiQtIISSMkjZA0Y0IAAAAAAAAAAAAAAAAAFvwAznsPNPHyrQYAAAAASUVORK5CYII=', 'iVBORw0KGgoAAAANSUhEUgAAAMgAAADICAAAAACIM/FCAAABZElEQVR4nO3bMU7DQBCG0QQipabkLLRwHQpKKtJwAI7BQTgLFbRUhHJdYDnOOsmv0XvVFCtnP01jWcpqBQAAAAAAAAAAAACkW7+1+fFy1+h3dekLLEVIGiFphKQRkqZMyGbb5n0bP9p4d77L9CizESFphKQRkkZImjIh65s2f00d/h3M1ye4TI8yGxGSRkgaIWmEpCkTsh7M+9FTB7tt42f/0+YosxEhaYSkEZJGSJoyIQu/oow8+QzKbERIGiFphKQRkqZMyGYwv7bx+ewX6VVmI0LSCEkjJI2QNGVCRr51LPBBxVeU4whJIySNkDRC0pQJOd0ryq6NL/1Pm1RmI0LSCEkjJI2QNGVCRl5Rftq4/f/EAj+yqDIbEZJGSBohaYSkEZJm1mvQ4J/Wq/c23i/6I0cqsxEhaYSkEZJGSJoyIZvpI833YH6YOvw0+y5dymxESBohaYSkEZKmTAgAAAAAh/gDSfEQoCltL4gAAAAASUVORK5CYII=', 'iVBORw0KGgoAAAANSUhEUgAAAMgAAADICAAAAACIM/FCAAABOElEQVR4nO3bMUpDQRRAUSOxcQmCaQRbe1ejK3CDLkBwFzYuQ8v5oCD5yZfLcE71ivAml2mGQHYXKz2O8XmMV2N8Wrt5ncv/PW47QmqE1AipEVIzTch+8b54GePDynVvJ32ZU0xzI0JqhNQIqRFSM03I7uus6z7HeHPWxX+a5kaE1AipEVIjpGaakDM/UZabt1r8u2luREiNkBohNUJqhNQIqRFSI6RGSI2QGiE1QmqE1AipEVIjpEZIjZAaITVCaoTUTBOy32zzYYwfmx0yTHMjQmqE1AipEVIzTYgnSo2QGiE1QmqE1EwTsn8d8/0YDz8/eazb01ccY5obEVIjpEZIjZCaaUJW/8f5eoyLp83dGBc/nbyvPeQI09yIkBohNUJqhNRMEwIAAAAAAAAAAAAAAAAAADCHb6ecC92t957AAAAAAElFTkSuQmCC', 'iVBORw0KGgoAAAANSUhEUgAAAMgAAADICAAAAACIM/FCAAABz0lEQVR4nO3dMUoDQRSA4UQWvISVV7AXUlskh7DVwrNY2tlZCvYeQCXiAaziCQTRRss3xYawk5315/F/1SuWmfy8ZkkEZzNJkiRJkiTtNh/y8KqYL2NcVB43qoN/u3lkhtAYQmMIjSE0aUK6Yl7GeBXj6ZDjTmJ8rvxEldJsxBAaQ2gMoTGEJk3I/HfU4+5jXG5/qoU0GzGExhAaQ2gMoTGEZuR3rfLkVgf3S7MRQ2gMoTGExhCaNCHd7kcqncd40+ySkGYjhtAYQmMIjSE0aULafYvyHuNxqzsKaTZiCI0hNIbQGEKTJqTdK0rhKMZNqzvSbMQQGkNoDKExhCZNyCSvKNcxXrS6I81GDKExhMYQGkNo0oRM8opS3tfq4DQbMYTGEBpDaAyhSRPS7s9l+53F+DDqwWk2YgiNITSG0BhCkyZk6m9RHmNcbH2oRpqNGEJjCI0hNIbQpAmZ+hWlcBjjz/6npdmIITSG0BhCYwiNITRT/2L1EeMqxrv9D06zEUNoDKExhMYQmjQhg15Rvou5+KdI697xNca3GL+G3DdEmo0YQmMIjSE0htCkCeluY36K8SXGdYyfzT9OvTQbMYTGEBpDaAyhSRMiSZIE9AepZyAzvzezGgAAAABJRU5ErkJggg==', 'iVBORw0KGgoAAAANSUhEUgAAAMgAAADICAAAAACIM/FCAAABQ0lEQVR4nO3bsU3DUBRA0YAyAHOwEw07IHZgDjZgGHoWCWVSEFmJTXL1dE71i8T5V6+x7J/dDgAg52GDaxy2vdx1Hu/2yxsTUiOkRkiNkJoxIftrv3hY/shNjZmIkBohNUJqhNSMCbnoFuXMbcnPFhtZa8xEhNQIqRFSI6RmTMjyLcrr4ifettjIWmMmIqRGSI2QGiE1QmqWT8Esv5q630maE2MmIqRGSI2QGiE1QmqE1AipEVIjpEZIzZk3VsuPTr423shaYyYipEZIjZAaITVjQi469/txsn7feCNrjZmIkBohNUJqhNSMCTk9R/L3o5OX4/Lzf/eyypiJCKkRUiOkRkjNmJAzT1Gej8vv22xkrTETEVIjpEZIjZCaMSH7p+M68c+ca42ZiJAaITVCaoTUjAkBAAAAAAAAAAAAAAAAuMIvVd4MfNnJyFYAAAAASUVORK5CYII=', 'iVBORw0KGgoAAAANSUhEUgAAAMgAAADICAAAAACIM/FCAAABNElEQVR4nO3asUoDQRSG0UTS2QQtRJ/JwlK0tvD5xNJOfBYr7Wy1vNOIZLMOP5dzqktYZvZjmmHJZgMAAAAAAAAAAOvYTt7vtsb7Gq9rPB0e/jpg4ZOlb5RGSBohaYSkEZJGSJrdn09c1fg4/PxQ48XRb/Fc4yH3q1GbExGSRkgaIWmEpGkT8svnoO+5b3FW4+fCJdqciJA0QtIISSMkTZuQ8SvK+dytX2pcei8ZtDkRIWmEpBGSRkiaNiHjV5ThorCfsPVlje/Hr9bmRISkEZJGSBohadqEjF9R9hP2e6txhXvJoM2JCEkjJI2QNELStAnZPc3d7+6/Fm5zIkLSCEkjJI2QNG1Ctuv+MXZY7aPG1xpvVt1u0OZEhKQRkkZIGiFp2oQAAAAAAAAAAAAAAAAALPAD8CgR6+rx7GsAAAAASUVORK5CYII=', 'iVBORw0KGgoAAAANSUhEUgAAAMgAAADICAAAAACIM/FCAAABEElEQVR4nO3bwU3DUBBAwYQu0gKlUDClkA5oIxztgxEKOPhlNXP6sqLET3tZyc7pBAAAAAAAAAAAAAAAAHC388dyfj3uNv7u5egb2IuQGiE1QmqE1IwJOa/Ot+3Lz2HMRITUCKkRUiOkZkzIN7vI53K8/PjhhDETEVIjpEZIjZCaMSF3bR237cuJzWXMRITUCKkRUiOkZkzIr9eL7XXluG1lzESE1AipEVIjpGZMyM47xXGvs4yZiJAaITVCaoTUjAl53CKx2lZWfxW6PurnxkxESI2QGiE1QmrGhPz3k5n35fi26xePmYiQGiE1QmqE1AipOfCd3X2fbo2ZiJAaITVCaoTUjAkBAAAAAADgSX0Bs+IKwFNrtjYAAAAASUVORK5CYII=', 'iVBORw0KGgoAAAANSUhEUgAAAMgAAADICAAAAACIM/FCAAABmklEQVR4nO3bMUosQRRG4VHMBROXILgIQXALpiKoGBi5ESMRFBTMXYJM4gIEwcQ9GLgCDW8HDXeqrRmPl/NFf9DOq0MllbzZTJIkSZIkSbm1lo9vB/u880F+a/2vD9CLITSG0BhCYwhNmZCmJ8p3y8enMe9b/m6iMjdiCI0hNIbQGEJTJiR/omzF/Oz6T7/FPI75OvHXytyIITSG0BhCYwiNITT5W2s35vsSD5J4iHky+kGZGzGExhAaQ2gMoSkTkj9R9mPOl3iQxY0fucyNGEJjCI0hNIbQlAnZSL/YXsEpOihzI4bQGEJjCI0hNGVC/uETZTPmV8wyN2IIjSE0htAYQlMmpOm/Jj0O9lHngyxuJ+ZHzDI3YgiNITSG0BhCUyak6YmSu4t51veXw17Ml5hlbsQQGkNoDKExhKZMSOcnSuo65sXEnziM+RSzzI0YQmMIjSE0htCUCVn1EyV1NdiXo18MnjY3McvciCE0htAYQmMITZkQ3BMldxDzOWaZGzGExhAaQ2gMoTFEkiRJkiRJkiRJkiRJquoHnjAUNYsStd8AAAAASUVORK5CYII=', 'iVBORw0KGgoAAAANSUhEUgAAAMgAAADICAAAAACIM/FCAAAA7UlEQVR4nO3ZMQrCQBCGUSOe2cJGsBFsBC/k0bRMCkWyjvgzvFdtYXb9mCZsps2vPMYemwaP2w4+F0dIGiFphKQRkqZNyK52u3vtdiu0mYiQNELSCEkjJE2bkNFLizcGr04W3KL8+w9UEZJGSBohaYSkKb5FGXT9fos2ExGSRkgaIWmEpGkTUvGKclvx2/O8PBQcPWszESFphKQRkkZIGiFpKr5Yvf5MdZyXp4JDPmkzESFphKQRkkZImjYhFa8o+3l5KdhuTJuJCEkjJI2QNELStAkBAAAAAAAAAAAAAAAAAAAAAAAAAAAAAACWnqfPCIA2dI6pAAAAAElFTkSuQmCC', 'iVBORw0KGgoAAAANSUhEUgAAAMgAAADICAAAAACIM/FCAAABBElEQVR4nO3YsU0DQRCG0VsEJoUe6IIAGkD04WIIoRwSCoKMBEE4h2TJxj50v0bvRaPTam8/bbbTBAAAAAAAAAAAyxj3NW9qvNz3dbrYuWKzc8Fs/Krx6bATHuhs0d1WJCSNkDRC0ghJIyTN+etqv/6s8fn03drciJA0QtIISSMkTZuQ8b3ar99rvD59tzY3IiSNkDRC0ghJ0yZkvNV8u9optjW+HLlFmxsRkkZIGiFphKRpEzJm83oPKh81Xh25RZsbEZJGSBohaYSkaRMy9q64q/Fx9vmhxpvljvPrQeVPLyptbkRIGiFphKQRkqZNCAAAAAAAAAAAAAAAAAAAAAAA/+QHXWUM0V+dn2sAAAAASUVORK5CYII=', 'iVBORw0KGgoAAAANSUhEUgAAAMgAAADICAAAAACIM/FCAAAA+UlEQVR4nO3YsY0CMRCGUUAUQAXUQEQDpBcTUQzUQRWUQi+X34WTbLRaW79G70UjBLY+TYK82wEAAAAAAAAAAAAA6faT7zvX+K7xWuNp5cGHlb+LIySNkDRC0ghJ0yZk9l+Uv1EHt9mIkDRC0ghJIyRNm5DjjEtuE+5osxEhaYSkEZJGSJo2IVNeUYY9nXxrbLMRIWmEpBGSRkiaNiHjXlF+hp1cLjW22YiQNELSCEkjJE2bkHGvKBs8nXxqfNT4u/jdNhsRkkZIGiFphKRpE7LxK8p98dNnja9t7yttNiIkjZA0QtIISdMmBAAAAAAAAAAAAAAAAGCFfylkCYH/1r9JAAAAAElFTkSuQmCC', 'iVBORw0KGgoAAAANSUhEUgAAAMgAAADICAAAAACIM/FCAAABA0lEQVR4nO3bsWlDMRSGUSU4GSJFvErWSeVVspF7g6dIYa+QKikl0hgJm/dzOae6PJD8PtQIG7cGAAAAAAAAAAAAAAAAMO1p6xdorbW27+N1ePwzscXzvd5la0LSCEkjJI2QNGVC7nxFOfbxY22Ht2G+TKwrcyJC0ghJIySNkDRlQh73Lcrv2rL3Yf6eWFfmRISkEZJGSBohacqE7LZ+gf9eFteVOREhaYSkEZJGSJoyIa4oaYSkEZJGSBohacqEPO6KMvyEdOjj161lr4sfV+ZEhKQRkkZIGiFpyoRk/KPns4+n4fF5YosyJyIkjZA0QtIISVMmBAAAAAAAAAAAAADI9wfTUAmtLtQFQwAAAABJRU5ErkJggg==', 'iVBORw0KGgoAAAANSUhEUgAAAMgAAADICAAAAACIM/FCAAABfklEQVR4nO3bPU7DQBRFYUJQ2EQUWohYIFtgNywk2QQlBT0UJOVQeGQlfrGPrs5XjSJr7JPXjPKzuhtzGr3iSu9t+TZ9t/vpWzAYQmMIjSE0htDEhDwsd+un0t1iJmIIjSE0htAYQhMTsuARZVe6W8xEDKExhMYQGkNoYkIWPKJsS3eLmYghNIbQGEJjCE1MyGr0ipv9FuWvLdfTd4uZiCE0htAYQmMIjSE0nY+DXme4de17GDMRQ2gMoTGExhCamJAFjyi1YiZiCI0hNIbQGEITE9I5ouznfYoCMRMxhMYQGkNoDKGJCekcUV7mfYoCMRMxhMYQGkNoDKGJCekcUZ7nfYoCMRMxhMYQGkNoDKGJCen8NemnLTe3uvVvWz5O3y1mIobQGEJjCI0hNDEhnSPKRX+Z/m7Lw+DyOPjq5yX3GBUzEUNoDKExhMYQmpiQzhc9H215HFz+X39VPtC1YiZiCI0hNIbQGEITEyJJkiRJkiRJkiRJkiRJkiSJ7wxNzxJekA1hdQAAAABJRU5ErkJggg==', 'iVBORw0KGgoAAAANSUhEUgAAAMgAAADICAAAAACIM/FCAAABMUlEQVR4nO3aMUpDQRSGUZ880riFZAsiZCEW7tQ2WU4KN6CFjZaT4kFAc4efyznVrWbycZshvOXnod7rGN+r7nisOng2IWmEpBGSRkiaNiHLjCfK0xi/qu5osxEhaYSkEZJGSJo2IVOeKMuEO9psREgaIWmEpBGSpk3IWnbyR9nJm9psREgaIWmEpBGSpk1I3RPlVHbypjYbEZJGSBohaYSkEZKm7q11Ljt5U5uNCEkjJI2QNELStAmp+6jmMMZL1R1X2mxESBohaYSkEZKmTUjdE2XGx75X2mxESBohaYSkEZKmTcj6NubjGF/G+DzG/c3jPv//i/6ozUaEpBGSRkgaIWnahNz5v47dGL/ve/ItbTYiJI2QNELSCEnTJgQAAAAAAAAAAAAAAAAAAAAAgCK/RjIONdte8qkAAAAASUVORK5CYII=', 'iVBORw0KGgoAAAANSUhEUgAAAMgAAADICAAAAACIM/FCAAABlElEQVR4nO3aMUpDQRRGYSNiKdbuQbBQEPeilRYBW7di5X4EQVyFK7C0MOWdIjA8Mm88/JyvukWY9w63GZJsjg53VeNXjdc1fg54SM/xhGdMYQiNITSG0BhCExOyGXvcX+8DpzX+Dn1yzEYMoTGExhAaQ2hiQgZfUZprx8nct4jZiCE0htAYQmMITUzI4CvKtsbXw09b8nIxGzGExhAaQ2gMoYkJGXxFaXR/8+k7q/Gn99mYjRhCYwiNITSG0BhCg75rNbrvGbMRQ2gMoTGExhCamJAlf31Z5q3Gx9UeUmI2YgiNITSG0BhCExOy3rcoFzV+Dz14/yvHbMQQGkNoDKExhCYmZL0rSmPGbz4xGzGExhAaQ2gMoYkJmXJFea/xduhpdzXGbMQQGkNoDKExhCYmZMoV5abGj6EHN28fsxFDaAyhMYTGEJqYkClXlP0ua7yv8an5xHnviJcaYzZiCI0hNIbQGEITE/KPV5RFHmp8rrH5eiZmI4bQGEJjCI0hNDEhkiRJkiRJkiRJkiRJkiRJkvh2KugSigY4waoAAAAASUVORK5CYII=', 'iVBORw0KGgoAAAANSUhEUgAAAMgAAADICAAAAACIM/FCAAABN0lEQVR4nO3bq00EQBRAUSAoGsDSAV2gaAlDA7RADzgqwFIMFpBjMEtml8vLOeqpmdw8M9nP2RkAAAAAAAAAAAAAAAAAAMAE53939cUaP7ee9r8JqRFSI6RGSM2YkFM/Ue7W+Lr14DEbEVIjpEZIjZCaMSEneaI8rPHxWFeP2YiQGiE1QmqE1IwJuTzayS9rvD/aJcuYjQipEVIjpEZIzZiQHU+UmzW+rfF6w8kHGLMRITVCaoTUCKkZE7Lj25avv7t6GbMRITVCaoTUCKkZE7LjU5T3Nd5uOO53xmxESI2QGiE1QmqE1Ox4az2v8WnDcb8zZiNCaoTUCKkRUjMmZMfXRldr/Djx1cuYjQipEVIjpEZIzZiQzf+ePuT3NZ4oPxJSI6RGSI2QGiE1QmqE1AipEVIjpOYbKTcLJA/xmUMAAAAASUVORK5CYII=', 'iVBORw0KGgoAAAANSUhEUgAAAMgAAADICAAAAACIM/FCAAABE0lEQVR4nO3bMWoCQRiGYSMeJL1nUfAIXtAiJ8gxbFMlhxC0nC12kRk38vHzPNXPsoy+TDMMutkAAAAAAAAAAAAAAAAAdPvoeXk/mc9tPLbxOvv0Hbbv/bj/IySNkDRC0ghJUyZkN//4Prjc9+j3eFmZHRGSRkgaIWmEpCkTsnBEGfW37nIdyuyIkDRC0ghJIyRNmZCVjyi/6y7XocyOCEkjJI2QNELSlAlxi5JGSBohaYSkEZKmTMjCEWXyK9pLG09Pl3OL8jIhaYSkEZJGSJoyIV3/6Jn6auOhjZ9t/BldeUyZHRGSRkgaIWmEpCkTMnxEmTe5lLmtu/IzZXZESBohaYSkEZJGCAAAAAAAAAAAVPUAj1wMF7vyl5wAAAAASUVORK5CYII=', 'iVBORw0KGgoAAAANSUhEUgAAAMgAAADICAAAAACIM/FCAAABf0lEQVR4nO3cPUoEQRSF0VFcgbm5uALBBWimgWDmPlyRf5EbMRMFEyOjAZegYVUyNF2MzZ3HOdEL7J76qOTBDK5WAAAAAAAA7KS9hT/vtI33bXxo493gi/cHn4sjJI2QNELSCElTJmQbK8pZG7u142jGG97beDJ4iDI3IiSNkDRC0ghJIyTNrF3r979O0Rld/srciJA0QtIISSMkTZmQg8m/uFjgFFtQ5kaEpBGSRkgaIWnKhEyvKLcLnKJz3M0fM54rcyNC0ghJIySNkDRlQqZXlJsFTtE572Yryi4TkkZIGiFphKSZ/unHEj9A6bx089WM58rciJA0QtIISSMkTZmQuBXlp5sPZzxX5kaEpBGSRkgaIWnKhGz4oud6gY9+a2P3D16eB99W5kaEpBGSRkgaIWnKhGxYUS4HX/faxsc2PrXxa/DFk8rciJA0QtIISSMkTZmQDV/0rNv42cZu6+jXju+tnmhQmRsRkkZIGiFphKQRAgAAAAAAAAAAVf0BE9EW48LMb1gAAAAASUVORK5CYII=', 'iVBORw0KGgoAAAANSUhEUgAAAMgAAADICAAAAACIM/FCAAABlElEQVR4nO3cMUokURSG0VYG9zCuQV2C4BJcguAWBBPBQAM3IebuQTCebDA1mGRWYGSikdwKpimrLHt+LudEN6h+/T5e8ui2Xa0AAAAAAAAAAAAAgHRbC6yxU+PrAsvNs/3f3nlhQtIISSMkjZA0bUKWuKI81nhY43mNNwu8yZg2JyIkjZA0QtIISdMmZPYV5ajGhwkv+1XjaY2/5+6itDkRIWmEpBGSRkiaNiGzryh/a/y5xEY+XA3miwmva3MiQtIISSMkjZA0bUImXVFOBvPtwhsZ8afGvRpfamxzIkLSCEkjJI2QNG1Cfkx5eMPXkqH7Gl/++UCbExGSRkgaIWmEpGkTMn5FuRp94ts813g29mybExGSRkgaIWmEpGkTMv5Fz9sGdrHGlG+h2pyIkDRC0ghJIyRNm5A1n6LcbXQTQ3P/frfNiQhJIySNkDRC0ghJM/unSQc1XtZ4PG+x/Rqf5q3Q50SEpBGSRkgaIWnahCzxP+imGPy6abfG668v3OZEhKQRkkZIGiFp2oQAAAAA8BnvhNwUpw29MuIAAAAASUVORK5CYII=', 'iVBORw0KGgoAAAANSUhEUgAAAMgAAADICAAAAACIM/FCAAABdUlEQVR4nO3cMU4bURRAUYyyh7RpaBBtalbAAtKSVaRNwyaQsoesID11RJEiPXtApPwubI0yhuHq65zqyRrPn6vXTGPvzg66HuOvMf7Yu+L28Bffzfl7P8BrEVIjpEZIjZCaaUJ2hz/+NMa/i/e4HOPjaU9zgmk2IqRGSI2QGiE104QceUXZ63v+n9s9jfHjmsdZb5qNCKkRUiOkRkjNNCFHXlH2vGxxyOmm2YiQGiE1QmqE1AipEVIjpEZIjZAaITVCaoTUCKkRUiOkRkiNkBohNUJqhNQIqRFSI6RGSI2QGiE1Qmo+bHHIxRj/vNUZ02xESI2QGiE1QmqmCVl+Rfk2xruVh3wZ4/eVt1g0zUaE1AipEVIjpGaakNU/bP46xvula3+P8WrteUum2YiQGiE1QmqE1EwT8sr/vXIzxp9bnDdMsxEhNUJqhNQIqZkmZIu/hzv7PMaHtzpjmo0IqRFSI6RGSM00IQAAAAAAAAAAAABA3z8NVg75NubRgwAAAABJRU5ErkJggg==', 'iVBORw0KGgoAAAANSUhEUgAAAMgAAADICAAAAACIM/FCAAABZklEQVR4nO3bsUrEQBSG0VUEn8BKLSwt7RV8Yx/DQp/IQi2TYiAkXIY/l3OqIezO5mOaS9hcLgAAAAAAAAAAAAAAAAC7XRXs8bIsP5flbcHOW1Z3fz3h56YQkkZIGiFphKRpE3JTsMf7spwxl/wOr7Y5ESFphKQRkkZImjYhFSPKa8EeO3wPr7Y5ESFphKQRkkZImjYhFSPKW8EeO3wNr7Y5ESFphKQRkkZImjYhFSPKXcEeO3iKcg5C0ghJIySNkDQVI8pkRpRzEJJGSBohaYSkqXij569gjx3Gt9zmRISkEZJGSBohadqEHH6K8lx5FwXanIiQNELSCEkjJI2QNIdnrcl/9v3Z+kCbExGSRkgaIWmEpGkTcnhEmfzK9Ph9pJU2JyIkjZA0QtIISdMm5CxPUcZ/9l1pcyJC0ghJIySNkDRtQg6PKE/Hvva4tXxYffh+WX5sbdzmRISkEZJGSBohadqE/AOSswzt8zKVkAAAAABJRU5ErkJggg==', 'iVBORw0KGgoAAAANSUhEUgAAAMgAAADICAAAAACIM/FCAAABn0lEQVR4nO3bIU4EMRxG8YVgOAKGYMByH4IjCE7BPRA4DoQFgcBwAgwCZEeUNO2U2ceX91PNZjLbl79pZmd3O0mSJEmSJLUd7HsD/S7L8rksD7ffyN8whMYQGkNoDKGJCUEfUb6rn9a3HDMRQ2gMoTGExhCamJCj/X31bVk+rL9bzEQMoTGExhAaQ2gModnkrPVWlmeDt/hoXRAzEUNoDKExhMYQmpiQGUeU47L8nHC7quYDo5iJGEJjCI0hNIbQxITMeKnmpSzPJ9yu6rQs36sXxEzEEBpDaAyhMYQmJmTGEaX+eu5czX3GTMQQGkNoDKExhCYmZPiHnquZu/jFXce1MRMxhMYQGkNoDKGJCRl+ivJVluvfZ7koy9fBW8RMxBAaQ2gMoTGEJiZk+IjS8+vO4u84J6Pf1xIzEUNoDKExhMYQmpiQricg980rnsryunsvq8RMxBAaQ2gMoTGEJiak6ynK8snJTVk+TtrLKjETMYTGEBpDaAyhMYSmfdZaXLHFf5BGxUzEEBpDaAyhMYQmJkSSJEmSJEmSJEn/1A/PTRPnH3jQ2gAAAABJRU5ErkJggg==', 'iVBORw0KGgoAAAANSUhEUgAAAMgAAADICAAAAACIM/FCAAAAVklEQVR4nO3PgQ0AIBACsdf9d9YpJMS0A0BuBgAAAAAAAAAAAABotxInJ/C3Xw2nCWkjpI2QNkLafBMCAAAAAAAAAAAAAAAAAAAAAAAAAAAAAAAAAJS7PxUBFigBaacAAAAASUVORK5CYII=', 'iVBORw0KGgoAAAANSUhEUgAAAMgAAADICAAAAACIM/FCAAAAmElEQVR4nO3ZMQ6AIBBFQTSe3ktrS2Hpws9mprSAvGxjljEAAAAAAAAAAAAAAAAAAAAAAAAAAABgm2PFJc+Cq89fT9tISBohaYSkEZKmTchVdvL9+bXsl6jNRISkEZJGSBohadqE1G1RVqxOJm0mIiSNkDRC0ghJ0yakbosyWfGa1GYiQtIISSMkjZA0QgAAAAAAAAAAoKsXdcUC6Xd0D3MAAAAASUVORK5CYII=', 'iVBORw0KGgoAAAANSUhEUgAAAMgAAADICAAAAACIM/FCAAABgklEQVR4nO3aPy5FQRjGYURF9HZAJRGdxiIk1qDW6m3CCiSWoFBZg6iUdqCkkpniynX+3OPNl+epvkjMnV+mmZzM1hYAAAAAAAAAAAAAkG57hjUO23iycjxt41kbj2bdxc70JTIISSMkjZA0QtKUCdld/eeLNj4vso/JypyIkDRC0ghJIyRNmZD13y++FthF90HlbeQSZU5ESBohaYSkEZKmTMgvX1EWdt3Gm5FLlDkRIWmEpBGSRkiaMiHrv6I8tvFyU7v4bOPeyCXKnIiQNELSCEkjJE2ZkPVXlKs2PmxwIz/GvpwtcyJC0ghJIySNkDRlQgbdCJZ4luKK8t8bmIuQNELSCEkjJE3GW5TOcTe/Dvi/MiciJI2QNELSCElTJmTQFeWlm88n//RTG2/bOORa0itzIkLSCEkjJI2QNELSDLpr9Y9qVt+13tt418b7IT8yUpkTEZJGSBohaYSkKRMy6A3LQTfvt/Fjpr1MUuZEhKQRkkZIGiFpyoQAAAAA8BffXWkRxUZwZSAAAAAASUVORK5CYII=', 'iVBORw0KGgoAAAANSUhEUgAAAMgAAADICAAAAACIM/FCAAABi0lEQVR4nO3aIU7EUBSG0YGgSRBsAsMCCIZVEBwJBsUOSNgAggVg2QgKOQIES4Ag2ADIV1EytNPO/Lk5R91Mymu/PPPSslgAAAAAAAAAAAAAAOl2+n++buN5G186Vyzb+NrG9zZ+r/Vcg+1u9nbzEZJGSBohaYSkKRPyxxGl42euWz+08Wb91crsiJA0QtIISSMkTZmQve3d+mzS1crsiJA0QtIISSMkTZmQ1W9RDtr4tb2nWKnMjghJIySNkDRC0pQJGXQ4mO2bz1Eb30YuUWZHhKQRkkZIGiFpyoQM+tDz0ZkPp3yK0zY6omz7AaYiJI2QNELSCEkz+hPLpG9Untp4MXKJMjsiJI2QNELSCElTJmSC/wJZPLfxZNwKn20c+3amzI4ISSMkjZA0QtKUCZniiNLvsY2XA/5s7AOV2REhaYSkEZJGSBohaeY7a/W7beNd7wXHnXnZe0W/MjsiJI2QNELSCElTJmTTR5R+V23c7/x8P2CJMjsiJI2QNELSCElTJgQAAACA//gFGPgVRq3lSr8AAAAASUVORK5CYII=', 'iVBORw0KGgoAAAANSUhEUgAAAMgAAADICAAAAACIM/FCAAAA7UlEQVR4nO3asQ3CMBCG0YAQWzAWo9DQ0NGwBiMwB1OwB5SmobBwrF+n96ororM+uYmULAsAAAAAAAAAAIyx6Xn43fPws42PNl56VvTYrrV4NiFphKQRkkZIGiFp1nvXGnBejzI3IiSNkDRC0ghJIySNkDRC0ghJIySNkDS7yeed2ngburjMjQhJIySNkDRC0pQJmf2h59XGw//bvpS5ESFphKQRkkZImjIhI/4NObbx3sb9jKObMjciJI2QNELSCElTJmS131d/uLbxPHRxmRsRkkZIGiFphKQpEwIAAAAAAAAAAAAAAAAAAFDDB/+RCZqAaYgbAAAAAElFTkSuQmCC', 'iVBORw0KGgoAAAANSUhEUgAAAMgAAADICAAAAACIM/FCAAABCUlEQVR4nO3YsW0CQRCGUY4WiCx3QC00Q0zq2HIzrsUNIJHRAoR7Aci63RP8Gr0XjQiW/TTJaTcbAAAAAAAAAAAAAAAAgMWmjzZf3neNcdt3X2AtQtIISSMkjZA0ZUKmc5s/O8/Yt/Fv6DIjymxESBohaYSkEZKmTMg0m2+dZ1zbuBu5y5AyGxGSRkgaIWmEpCkTMj3+ufdr5clxL1BmI0LSCEkjJI2QNGVCnnxTfLfxuOS43zYeeq7Tr8xGhKQRkkZIGiFpyoQsevZY9Lby4geVMhsRkkZIGiFphKQpE7LGh8RXG09tnL2+/KzwJ/8psxEhaYSkEZJGSJoyIQAAAAAAAAAAAABAvjuL2AuUv2PvlwAAAABJRU5ErkJggg==', 'iVBORw0KGgoAAAANSUhEUgAAAMgAAADICAAAAACIM/FCAAABgUlEQVR4nO3cu40UQRRA0QVh8xExIJEBUWBhEgL5EAIJEAU+AodMMMCsNhqNdmCLO0/nWE+r3q65KucZO3t3BwAAAAAAAAAA/8ajHYe8XePnhzrj8UO9eDchNUJqhNQIqRFSs2XX+nX60/dr/PT3Z4y5ESE1QmqE1AipGRPyH1eUcx8O88d7/N6YGxFSI6RGSI2QmjEhW1aU72t8feUrLn7OMTcipEZIjZAaITVjQp7sOOTrGq9dUS4acyNCaoTUCKkRUjMmZMuK8m3DGWNuREiNkBohNUJqxoTcyoryZo1fTh8YcyNCaoTUCKkRUjMm5FZWlHdrtKLcBiE1QmqE1Aip2fLnsoc96OeVr/ixxlenD4y5ESE1QmqE1AipGROyZUU5uM/3j//g/COPuREhNUJqhNQIqRFSI6RGSI2QGiE1QmqE1AipEVIjpEZIjZAaITVCaoTUCKkRUjMmZMtXkw4O/4Pu6RqfrfH54eEXa3x56cVjbkRIjZAaITVCasaE/AZZnBBQRjDDJQAAAABJRU5ErkJggg==', 'iVBORw0KGgoAAAANSUhEUgAAAMgAAADICAAAAACIM/FCAAABHklEQVR4nO3ZMU7DMBiG4VAxcysO0YuwdeIyrGwI9l6gd+AaZXQ2E+OET7+eZ/pVVXZeebGSZQEAAAAAAAAAAAAAAAAAAKjgofuPexs/Vj+/tvE673HGnf77AWYRkkZIGiFphKQpE7LpitL33sZLG29blhhU5kSEpBGSRkgaIWnKhEy+onS9tfE8deEyJyIkjZA0QtIISVMm5PHg/b73WrjMiQhJIySNkDRC0pQJOfotSn+/QWVOREgaIWmEpBGSRkgaIWmEpBGSRkgaIWkO+dDzdMAeZU5ESBohaYSkEZJGSJr+F6TnNn7utsnflTkRIWmEpBGSRkiaMiH910FfbexfNVbLvYw8zrgyJyIkjZA0QtIISVMmBAAAAIDf+AE3yQz0HeACsQAAAABJRU5ErkJggg==', 'iVBORw0KGgoAAAANSUhEUgAAAMgAAADICAAAAACIM/FCAAABTklEQVR4nO3bsUkEQRTHYVe2BDNtQBR7sAML0MTEUDCwFCsQU4uxBQ2tQcPZ4OBYdmf48/i+6HFwM/x4ycLeTScH/R3+eFcPbXzfftrp9iMyCEkjJI2QNELSlAmZFvNdGz8HX71dmY0ISSMkjZA0QtKUCVk+J3y38Xzw1duV2YiQNELSCEkjJE2ZkHkxj3gu+eh1cJmNCEkjJI2QNELSlAmZb8fe99br4DIbEZJGSBohaYSkEZJm+mrz9Yj7eh1cZiNC0ghJIySNkDRlQqYRf0L6beNZrzvKbERIGiFphKQRkqZMyHzT5tc23u96SbfXVAtlNiIkjZA0QtIISVMm5PiLl6s2viw+flxxyUUbf1Z8bZUyGxGSRkgaIWmEpCkTssdvQy7b+NzGp30vOabMRoSkEZJGSBohacqEAAAAAAAAAAAAAAAAAAAAAADQyT/fxA4Ml+ccOAAAAABJRU5ErkJggg==', 'iVBORw0KGgoAAAANSUhEUgAAAMgAAADICAAAAACIM/FCAAABu0lEQVR4nO3doUpEURCA4VVEwWS2W3wHs0EwiII+oUUwCIJVfAWDsknwEQwmTXJOuCIz96z7M/xfGmTv7vk5ZWBFFwtJkiRJkiRJkiRJkiRpjI3sgw9tPB5xkLk2132AUQyhMYTGEBpDaAyhSe9aX5M/vW/jSfadc8rciCE0htAYQmMITZmQ0Iqy280fgefu2nga+byIMjdiCI0hNIbQGEJTJiS0oux38/vsj75t49nsN6tzI4bQGEJjCI0hNGVCQivKYTc/Dz7Ij5tuvgg8V+ZGDKExhMYQGkNoyoRsRV68t6JD9M6Tz5W5EUNoDKExhMYQmjIhuBUl+wVSmRsxhMYQGkNoDKEpE4JbUV6Tz5W5EUNoDKExhMYQmjIhoRXlbVWn6LiirPsAoxhCYwiNITSG0IRWlKdu7n7P9rON2zOP44piCI4hNIbQGEJjCE1o1/rFThuP2viYe7OX5CHK3IghNIbQGEJjCE2ZkPSfyY24buPlX6896OZl4DPK3IghNIbQGEJjCE2ZkH9ZUaZN/y+A7IHK3IghNIbQGEJjCE2ZkBFf9CR1y8jV/HcrcyOG0BhCYwiNITRlQr4BYpMWFj7/IAgAAAAASUVORK5CYII=', 'iVBORw0KGgoAAAANSUhEUgAAAMgAAADICAAAAACIM/FCAAAB60lEQVR4nO3cPy5EURiG8TE0OpsQrUpEo5FokKAUyexBNGzBCjR2YAGi0FiAHqtQSii/Ixk57smZm8eX51e9xWTmPjnNiT8zmUiSJOEsdXiPl5gnMd86vPMA03E/bnEMoTGExhAaQ2jShDRfUXZiPtdeexPzsvXzatKciCE0htAYQmMITZqQ5ivKXcxZ2zt8xDyO+dj2ZnlOxBAaQ2gMoTGEJk1I8xXlq+dT/OI+5mnttWlOxBAaQ2gMoTGExhCaQXet3WI/9X2ONocx05yIITSG0BhCYwhNmpCVIS+eLeghmh3ETHMihtAYQmMIjSE0aUIG/RTls9jLnR+kyUXMNCdiCI0hNIbQGEKTJqT+U5S9mIhrSan4D+00J2IIjSE0htAYQpMmpH5FORvhKVp5RQEzhMYQGkNoDKGpX1G2R3iKVu8x05yIITSG0BhCYwhNmpBBf4uyVuyrmAv7Xrmq4unTnIghNIbQGEJjCE2akB7f5F/Yinkd86jrZxRfLTOdO/83Q2gMoTGExhCaNCGdryhV5zGLO8zGkLd4jbkeM82JGEJjCI0hNIbQGEIz9l1rvtWYxQ3sxw4PMfdjpjkRQ2gMoTGExhCaNCGMK0rdZszit2K3MdOciCE0htAYQmMITZoQSZIkSZIk/cU3qeoZKPhu8OwAAAAASUVORK5CYII=', 'iVBORw0KGgoAAAANSUhEUgAAAMgAAADICAAAAACIM/FCAAABOklEQVR4nO3cu00EMRiF0QUhaiBEFEJHlEVAHXRCShEQegIQsteDrq7OiRzsPD79ieXV7uUCABDn5rQ7v47l01g+juXDj5e9H9bPE4+7nfhsNCFphKQRkkZImpqQ87YoX2uXrb5QzUSEpBGSRkgaIWlqQu723m5xX/Jx/ZNrJiIkjZA0QtIISVMTsvkU5Z+PTg5qJiIkjZA0QtIISSMkzY7joMUN1l41ExGSRkgaIWmEpKkJ2fyN1Yy9J1E1ExGSRkgaIWmEpKkJWd6iRBydHNRMREgaIWmEpBGSpiZkaouyofq0n0LVTERIGiFphKQRkqYmZGrL8MvJydtYvozl58rrrKuZiJA0QtIISSMkTU3I36co92N53r/BXK9mIkLSCEkjJI2QNDUhAAAAAAAAAAAAAAAAAAAAHb4Bkx8L0U/kI1wAAAAASUVORK5CYII=', 'iVBORw0KGgoAAAANSUhEUgAAAMgAAADICAAAAACIM/FCAAABd0lEQVR4nO3aMUoDQRiG4SgeQG/gLbyDB1AQPIFHsLeztLC1UNTaQ1gJ4gEsgp0XUAvL2WJCmCUbvh2ep/oJQzIv0wzZXSwAAOLstCy+G8znZXwt43UZn0fuaKTd7f7cdISkEZJGSBohaboJ2WtZ/FH/+KiMT+u+4quMN2W8LeN3y4YGujkRIWmEpBGSRkiabkKa/kU5HswvG95IzVUZL9et7eZEhKQRkkZIGiFpuglp+hflfapdrPDXsLabExGSRkgaIWmEpBGSpumutZxqFyv8Nqzt5kSEpBGSRkgaIWm6CWm6omybK8qcCUkjJI2QNELSuKKkEZJGSBohaYSk6SZk9BXlrIz3m9hIjZdq5kxIGiFphKQRkmb0FeWhOg48lvFk5G/8NKzt5kSEpBGSRkgaIWm6CZnuQc9pdTws41sZ9+tf4UHPnAlJIySNkDRC0mz7XZTPMh5UF1wMZleUOROSRkgaIWmEAAAAAAAAAAAAAAAAAHTgHw0UGqAvCKugAAAAAElFTkSuQmCC', 'iVBORw0KGgoAAAANSUhEUgAAAMgAAADICAAAAACIM/FCAAABJUlEQVR4nO3asU0DQRCG0TvkRkjogq6cUgwNUAA5VUAVYInQhEuwEgbfHL9G70UT7d6nSU5nLwsAQJz1c8zvP40fy3Sej6fp+DzGl4sf8hI3m572j4SkEZJGSBohadqErOed76s6uM1GhKQRkkZIGiFp2oQc9rjkaYc72mxESBohaYSkEZKmTcguX1HuxvhadUebjQhJIySNkDRC0ghJU/c56G2MZS9Y37TZiJA0QtIISSMkTZuQuleUY9nJU202IiSNkDRC0ghJ0yak7hersn/4zrXZiJA0QtIISSMkTZuQjb+iPGx73C+02YiQNELSCEkjJE2bkPVxzPdjvP3rcVc9zDXabERIGiFphKQRkqZNCAAAAAAAAAAAAAAAAAAAAAAARb4A4swUIsAKyHUAAAAASUVORK5CYII=', 'iVBORw0KGgoAAAANSUhEUgAAAMgAAADICAAAAACIM/FCAAABiUlEQVR4nO3aIU4kQRTH4Vk8yR4AiUVjxq/jKoSLIPYmKCDB7gXWriQgQMEFQG1ei4HOzFSHPy/fp56oVPcvZSo9s1oBAAAAAAAAAMAYP2ZXvC316HWNf/bf7WD/LTIISSMkjZA0QtIISTN/17qo8fLr3mJWmxMRkkZIGiFphKRpE7LV5WCxL0OTz0Hrj1d9qs2JCEkjJI2QNELStAnZ6opyNpmvBr/If7t+UGlzIkLSCEkjJI2QNG1Cdv6JZbEvKhPbvFybExGSRkgaIWmEpGkTsvMV5aTGvyNeZJPzGn/PrW1zIkLSCEkjJI2QNG1CBvxRdfWvxuMB2200+55tTkRIGiFphKQRkqZNyIgrymGNrwO22+ilxp8bF7Q5ESFphKQRkkZImjYhI64oEzc1/hq7czmq8aHGNiciJI2QNELSCEnTJmTwFWVi9v+0TzXe1Xg7WXFd4/Pcbm1OREgaIWmEpBGSRkia5e5apzU+1ni/1OPanIiQNELSCEkjJE2bEAAAAAAAAL6pdwy3Fex1XRS2AAAAAElFTkSuQmCC', 'iVBORw0KGgoAAAANSUhEUgAAAMgAAADICAAAAACIM/FCAAAA/klEQVR4nO3asU0DQRBAUYOohAIogIyIgJA2CSmAiAYcU4plwiWw5GTv/Fm9F01wuvH3JivLhwMAAAAAAAAAAAAAAAAAAAAAAAAAAADczN0eS57H+L3VjvutXrw3ITVCaoTUCKlZJmS7K8rHGN/H+DTG49R1y5yIkBohNUJqhNQsE/Iw4R1vY/y89uzrGF1RLhJSI6RGSI2QmmVCZvyK8jPGx2vPfo3xZcLqYZkTEVIjpEZIjZAaITUz7lp/vozTzqsvfoj/TUiNkBohNUJqlgmZ/Kea881WL3MiQmqE1AipEVIjpEZIjZAaITVCaoTUCKkRUiOkRkiNkJplQn4Bd8UJydlimtEAAAAASUVORK5CYII=', 'iVBORw0KGgoAAAANSUhEUgAAAMgAAADICAAAAACIM/FCAAABgElEQVR4nO3ZsU0DMRxG8YBoKNmAjoYhGAVlAeoskDoLpGAsaNjgViClU8Q6+c6+PH16v8pCl/M9/RvL7HaSJEk4D7NP/Lc8fD+P9/6AXgyhMYTGEBpDaGJCmo4obT/cVsxEDKExhMYQGkNoYkIWH1Ga3rGBmIkYQmMIjSE0htDEhPQ4olx5K8vf5m9ZJWYihtAYQmMIjSE0htA83f7z+8LX/ZTlZ1l+L3xbi5iJGEJjCI0hNIbQxIRUroO+yvI0bJOuYiZiCI0hNIbQGEITE1K5RfnY9CN6iJmIITSG0BhCYwhNTEjlgmMqy5dhm3QVMxFDaAyhMYTGEJqYkMotyvO2X9FBzEQMoTGExhAaQ2hiQuYvOI5leRi2yXoxEzGExhAaQ2gMoYkJaTo9XP/PZ6o+tXKThWImYgiNITSG0BhCExPS4/RwLsv9sE3mxEzEEBpDaAyhMYQmJqTz6eG1LP+GbXJTzEQMoTGExhAaQ2gMkSRJkiRJkiRJkiRJklJdALj+Dm4sl7E5AAAAAElFTkSuQmCC', 'iVBORw0KGgoAAAANSUhEUgAAAMgAAADICAAAAACIM/FCAAABLUlEQVR4nO3bsU0EMRCGUYMoAARCEEAh5BRyMfUQQwW0QQIZVRDQAoSzgSWOlY/9Zb0XjSzdyp+cTHKtAQAAAAAAAAAAAAAAAAAAAAAAAAAAwGaOtr5Aa6210xpvF8c33fGlxs8aj0ffaStC0ghJIySNkDTThJys/eFXjWcjLrK/jxqtKMGEpBGSRkgaIWlWryj3Nb6NuMj+zrun07yIkDRC0ghJIyTNNCGrV5T3kbf4k4vu6TQvIiSNkDRC0ghJIyTN6l1rYVfj04DP/eayezrNiwhJIySNkDRC0kwTMmJFea7xP1aUq+7pNC8iJI2QNELSCEkzTciIFWXhscaHsV8u193TaV5ESBohaYSkEZJmmpDD/Xv6+1Affq3xrsZpXkRIGiFphKQRkmaakB+8xQ0FZccXbAAAAABJRU5ErkJggg==', 'iVBORw0KGgoAAAANSUhEUgAAAMgAAADICAAAAACIM/FCAAABOUlEQVR4nO3ZMUoDQRTH4URyFUvxKlYBvYoH8QSCkEKwEI8RsPMyWs4WC0vWp/7z/L7qFbuT+THNkN1uVvpc++KCp8l8e8J7F9Ub+StC0ghJIySNkDRtQrZrX3we403BPmadsrk2JyIkjZA0QtIISdMmZPUV5XqMx4J9zHJFOWdC0ghJIySNkDSrrygTP/XNZ3MY437p2TYnIiSNkDRC0ghJ0yak4oryMcbLguVmLe6zzYkISSMkjZA0QtIISVNx17ob42PBcrPctc6OkDRC0ghJIyRNxRVlovbj1esY78d4nH22zYkISSMkjZA0QtK0Cdn98u+9jfFhjC/fX7jNiQhJIySNkDRC0rQJKf4X5WqM77UrL2lzIkLSCEkjJI2QNG1CAAAAAAAAAAAAAAAAAAAAAAAAAPg/vgDaTg7E9X1HuAAAAABJRU5ErkJggg==', 'iVBORw0KGgoAAAANSUhEUgAAAMgAAADICAAAAACIM/FCAAAA1ElEQVR4nO3YwQ2CQBCGUbAMO7YRC7IH68DjciGYsC4/43unORjky1wmTBMAAAAAAAAAAAAAAAAAAAAAAAAA/2Je2vxq46ONz3Evc8Tt7BfoRUgaIWmEpBGSpkzIvJqXzV99/4zTlNmIkDRC0ghJIyRNmZCN8+J610qZjQhJIySNkDRC0pQJ2b8p3m28931yV2U2IiSNkDRC0ghJUyakxyGx+8llxLVSZiNC0ghJIySNkDRC0gz5aLM6xn72f2U2IiSNkDRC0ghJUyYEAAAAAACAi/oAnOkIgeQjbHEAAAAASUVORK5CYII=', 'iVBORw0KGgoAAAANSUhEUgAAAMgAAADICAAAAACIM/FCAAAA+0lEQVR4nO3ZTUrDUBSA0SpZjjgT3P8WupJO1A78GSYUNSQU8vE4Z3QJffR+ZPJoTycAAAAAAAAAAAAAAACAzR62fPhpMb/+Or7M4/O+hZbHzhvOPe77uh4hNUJqhNQIqRkmZPo+eoMbXzvPDfNGhNQIqRFSI6RmmJDp6AVufe48N8wbEVIjpEZIjZCaYUJcUWqE1AipEVIjpGaYkNwVxR89Ry9wL0JqhNQIqRFSk7ui+BXl6AXuRUiNkBohNUJqXFFqhNQIqRFSI6RmmJDpOs9v8/i+Ni7nj7Wni/G69vTy56r/G+aNCKkRUiOkRkiNEAAAAAAAAAAAGNUPJqYXNM7WlygAAAAASUVORK5CYII=', 'iVBORw0KGgoAAAANSUhEUgAAAMgAAADICAAAAACIM/FCAAABNklEQVR4nO3cMUoDQRiG4SjBQ2jlDexSKngLT2Dnmaw8j6fIIVJoOUEGFuLM+PnzPNUQNrv78jfDbshuBwAAAAAAwL909dc38NPd2frQlo9t+db93vWc21lPSBohaYSkEZKmTMh+xUW+fn+K960DykxESBohaYSkEZJGSJolj4MG7LVu2/LYPaDMRISkEZJGSBohacqEzHsc9DT0bP19yZkyExGSRkgaIWmEpCkTMm+L8jrtzF1lJiIkjZA0QtIISVMmZN6LngFvdz7b8mHr2DITEZJGSBohaYSkKROy5He/m17a8uPCU5SZiJA0QtIISSMkTZmQwVuU5+6np7a8GXu9psxEhKQRkkZIGiFpyoQM3qLct+Xiv44pMxEhaYSkEZJGSJoyIQAAAAAAAAAAAAAAAAAX+AafwQto/m19DAAAAABJRU5ErkJggg==', 'iVBORw0KGgoAAAANSUhEUgAAAMgAAADICAAAAACIM/FCAAABRUlEQVR4nO3csUkEYRCAURVjCxBMLEDUxFKMLcTGLMECrMJAbEDD/4KDAzn2Pof3ogn2dvmYZKI7OwMAyDnf+Hs/a3xf48saP/744os//i5HSI2QGiE1QmrGhJzwRDnsbY3Pa/za++yYjQipEVIjpEZIzZiQ9Ily0Osax2xESI2QGiE1QmrGhPzvE2XHmI0IqRFSI6RGSI2QGiE1QmqE1AipEVIjpEZIjZAaITVCaoTUCKkRUiOkRkiNkBohNUJqhNQIqRFSI6TmcuPvfa/x6qgvHrMRITVCaoTUCKkZE7L1ifK5RifKXkJqhNQIqRFSMybkhCfK7VFfPGYjQmqE1AipEVIzJmTrP3i5XuPTGu/W+LDz8OMabw69eMxGhNQIqRFSI6RmTMjWJ8px3a9xzEaE1AipEVIjpEYIAAAAAAAAAABM9QvDiA3VzjDVXwAAAABJRU5ErkJggg==', 'iVBORw0KGgoAAAANSUhEUgAAAMgAAADICAAAAACIM/FCAAABJklEQVR4nO3YMUoEQRCG0Z6l0QNsLN5CUExF9hreSEzExFt5AI9homFvIgvjaP+U70UVuNXzUZlLS3A2xo+VK3abfEgAIWmEpBGSRkiaMiHL0fw57Stex/iwckWZiwhJIySNkDRC0pQJ6bM/oLXW2vPPV5S5iJA0QtIISSMkTZmQjP+iLKf/5JQyFxGSRkgaIWmEpCkT0i+mPf2y6bYyFxGSRkgaIWmEpBGSpt9Ne/px021lLiIkjZA0QtIISVMmpN9Pe/pt021lLiIkjZA0QtIISVMmpB/+9r2n31pc5iJC0ghJIySNkDRlQpb9mG/HeDPG6zFeHf3wfN17l2N8X7fhG2UuIiSNkDRC0ghJUyYEAAAAAAAAAAAAAAAAAAAAAAAAgP/jCz2yCu1hJ/NeAAAAAElFTkSuQmCC', 'iVBORw0KGgoAAAANSUhEUgAAAMgAAADICAAAAACIM/FCAAABE0lEQVR4nO3aoW0DQRCGUTs6kzSQEsIsVxPiqlJGeggwCzB1L4YO3AUXEO3q/Gv0HhoZ7PrTkNPpdjsAAAAAAAAAAAAAIN1+/edHxL/4j5fxIzIISSMkjZA0QtKUCVm6+Wvbq69TTyuzESFphKQRkkZImjIh/SPKx7ZXf089rcxGhKQRkkZIGiFpyoQsn0+7+jL1tDIbEZJGSBohaYSkKROy3/irk85rG+/jp5XZiJA0QtIISSMkTZmQJz6iTPhGtlNmI0LSCEkjJI2QNGVClnObT6vjsY1v4/f9jB+xrsxGhKQRkkZIGiFpyoTMfZXxh/c2Htp4m3pHmY0ISSMkjZA0QtKUCQEAAAAAAAAAAAAA8v0CWhoLU5GpH3EAAAAASUVORK5CYII=', 'iVBORw0KGgoAAAANSUhEUgAAAMgAAADICAAAAACIM/FCAAABvklEQVR4nO3cMUoEMRSA4ayK4EGs7AXFzjtYWdt7A72AYOklvINYKNhb2ewlbNdKssVASDYz++fxf9UrZof8pnks6iqBbfJ4mcePyWcPZj7LYgyhMYTGEBpDaMKEHO37ACmllJ7yeD/9RPEHHuZGDKExhMYQGkNowoTscUXZlB/JDksPhLkRQ2gMoTGExhCaMCGLrCh3eXxpfIXfogzHEBpDaAyhMYRmvhWl6kuSIleU4RhCYwiNITSG0IQJ6bFrXeXxvcPrJrlrDccQGkNoDKExhKbHijLbXrLFFWU4htAYQmMIjSE0zSvKdc9TlLmiDMcQGkNoDKExhKZ5RbnteYqydemBMDdiCI0hNIbQGEITJmTV+sHfPJ70OMi/7635rOJzYW7EEBpDaAyhMYQmTEjzitL1L48u8vjZ+IowN2IIjSE0htAYQhMmZOn/QfeQx8euLw5zI4bQGEJjCI0hNGFCqlaU45qHv/J4XvO5RmFuxBAaQ2gMoTGEJkxI1YpyU3ziNI8/1WfZSZgbMYTGEBpDaAyhMYSm6pdqXrfmtzw+dzrLTsLciCE0htAYQmMITZgQSZIkSZIkSZIkDeoP9iMUDSLi4LsAAAAASUVORK5CYII=', 'iVBORw0KGgoAAAANSUhEUgAAAMgAAADICAAAAACIM/FCAAAByUlEQVR4nO3dO0oEQRRG4fGxA3NBM8HHEtyCgWswdjEK5sZuQ0UwEYTJDN2Er/DvYKCprp7xcDlfdJGhrUMll1ZxsZAkSZIkSdK4rf/71jsZ9zN+THzadtdZQAyhMYTGEBpDaMqEzLGiHGY8XjmeZDzLeJTxIePlxEOUuRFDaAyhMYTGEJoyIbujn7jOeDH48mAD2es+xXf3E+rciCE0htAYQmMIjSE047vWQcbzdZ3ip/8RZW7EEBpDaAyhMYSmTMj4ivK6gVP4OigMoTGExhAaQ2jKhDBWFN+ihCE0htAYQmMITZmQ8RXlfQOn8C1KGEJjCI0hNIbQlAkZX1E2wRUlDKExhMYQGkNoyoQwVhR/0BOG0BhCYwiNITRlQhgrim9RwhAaQ2gMoTGEpkxI04ryNphP5zyFK0oYQmMIjSE0htCUCWlaUZ4H86wrylf/I8rciCE0htAYQmMIjSE0TbvW02C+mvMUvg4KQ2gMoTGExhCaMiFNK8rjuk7x2f+IMjdiCI0hNIbQGEJTJmTyP3b8bfjsfcabjC9Tv/VKZW7EEBpDaAyhMYSmTMjkP01aZrzLeJtxhl+UaVHmRgyhMYTGEBpDaMqE/AEp0x38h/NwFQAAAABJRU5ErkJggg==', 'iVBORw0KGgoAAAANSUhEUgAAAMgAAADICAAAAACIM/FCAAAAu0lEQVR4nO3ZMQ7CMBBFwUDFrWg4NkhE4iDcghLKTUETx8XXaqbaInby5MZSlgUAAAAAAAAAAAAAAAAAAKCD09ztvmPLHjXeBt98HlwXR0gaIWmEpBGSpk3I5CvKp8bL2A6jH9TmRISkEZJGSBohadqETL6iXGt8Ht9tz8e1OREhaYSkEZJGSJo2IZOvKBubfz7vGl81rjXe/z67S5sTEZJGSBohaYSkaRMCAAAAAAAAAAAAAAAAAADQww97QQlVvfQfzgAAAABJRU5ErkJggg==', 'iVBORw0KGgoAAAANSUhEUgAAAMgAAADICAAAAACIM/FCAAABTElEQVR4nO3bPUoDURiGUUeyBQXByjW4Al2BG/S3dwkuQEgrdoqgiIULsNHymy5kYpjXz3OqlyA383CbAcnwvTOXo5pPm5+2u/kRGYSkEZJGSBohadqEDPO9oixrHm9+WpsbEZJGSBohaYSkaRMyvNU+mO0pDmu+TjyizY0ISSMkjZA0QtK0CRlua5/N9hR3NU8nHtHmRoSkEZJGSBohadqELO5rz/eKclJzf/TxxxpHtLkRIWmEpBGSRkgaIWkWy9V/s303NfdGH3vX+suEpBGSRkgaIWmG0SvBOm8Eq33WvKh5XvPhV7+uzY0ISSMkjZA0QtK0CRlGe61fKT3WvKx5VfN92gNN1eZGhKQRkkZIGiFp2oQsRvul5nPN65qj/8fsfG3pgaZqcyNC0ghJIySNkDRtQgAAAAAAAAAAAAAAAAAAAAAAAAD4P34AitQZlnHCsyYAAAAASUVORK5CYII=', 'iVBORw0KGgoAAAANSUhEUgAAAMgAAADICAAAAACIM/FCAAABcklEQVR4nO3bsUkEURSGUVfUyNReDCzC0BZswFAwtgHbsAgrsAsNBZMVNLwLCjozb52fyznRDZY3+3GTxyy7OZjptsa7eSds5j76R4dDT1uRkDRC0ghJIyRNm5BJ94Sznfll8aMva3xcfFifjQhJIySNkDRC0rQJOZry4Y+hj76q0RWlCEkjJI2QNELStAmZ9BbldGd+W/zobY0niw/rsxEhaYSkEZJGSJo2ISu+RTkeelqbjQhJIySNkDRC0ghJs+Jda6w2GxGSRkgaIWmEpGkTMvv/QZ8R36K02YiQNELSCEkjJE2bkElvUcZ6rXHnx6vt9w/+SZuNCEkjJI2QNELStAn57yvKfY03Qw9usxEhaYSkEZJGSJo2Ifu7orzXeF7j874e12YjQtIISSMkjZA0bUIGX1Eearwee/Jv2mxESBohaYSkEZKmTciIK8pFjU8DjpunzUaEpBGSRkgaIWnahAAAAAAAAAAAAAAAAADM8AWe2xIIx+9leAAAAABJRU5ErkJggg==', 'iVBORw0KGgoAAAANSUhEUgAAAMgAAADICAAAAACIM/FCAAABR0lEQVR4nO3bvUkEURiG0VW2AANBxQbEFowEOxAtQrAHexBLUKtQMDE2swRNrUDDb4MZ9kcdXj7OiV6Wwb0PNxmEnc0AAAAAAAAAAAAAAAAA1rY1xZcc17yoeTn4wIil59xe60TBhKQRkkZIGiFp2oTMF/ZuzZua5zX3//s0465r3g4+0OZGhKQRkkZIGiFp2oSM/Hfie9pTLPdVc2fwgTY3IiSNkDRC0ghJ0yZk5BXluebpNAdZ3VnNp5ptbkRIGiFphKQRkqZNyMgrylXNu2kOsrrXmic129yIkDRC0ghJIyRNm5CRV5S9mp/THGQjBzXb3IiQNELSCEkjJE2bkOW/6HmvefT77/uoeT843zb8w21uREgaIWmEpBGSpk3IfOkTDzUPFz5+rPnyd8fZXJsbEZJGSBohaYSkEQIAAAAAAAAAAF39APJLEPGMROvzAAAAAElFTkSuQmCC', 'iVBORw0KGgoAAAANSUhEUgAAAMgAAADICAAAAACIM/FCAAABrElEQVR4nO3dsU3DQBxG8QNlFFpESU0BE1AxAwuwQTZhARokBqBmBzagoIPyrjCyfGfHj0/vV52ixL6nf2NdIqUUSZIkSZIkSZIk/Utne2+glFLKfV1+Ny+/LLjE+Vp72ZshNIbQGEJjCE1MyI6PKD+Tr/ZuKGYihtAYQmMIjSE0htAcTnGTu7p8nXzDzfg9YiZiCI0hNIbQGEITE7LdcdD0ac9mu4iZiCE0htAYQmMITUzIGqco13X53vexFcRMxBAaQ2gMoTGEJiak+/xiySHJyreeFDMRQ2gMoTGExhCamJCT/BalcbnVhWMmYgiNITSG0BhCExOy6Chj/ORku9++xEzEEBpDaAyhMYQmJmT+FOVz/CYX45eYFTMRQ2gMoTGExhCamJD5U43eo5OruvzovMQSMRMxhMYQGkNoDKGJCfnjEWXRc8lDXT6P7GVIzEQMoTGExhAaQ2gMoWm/sXqce/OxWT+tv5chMRMxhMYQGkNoDKGJCWmPg5ozoLe6vD3ZXobETMQQGkNoDKExhCYm5PBV14w/eewUMxFDaAyhMYTGEJqYEEmSJKBfzFYTS8yfRPEAAAAASUVORK5CYII=', 'iVBORw0KGgoAAAANSUhEUgAAAMgAAADICAAAAACIM/FCAAABDElEQVR4nO3cMU7DQBBA0QTRJ5ySY8CR0nCXnIQWym1oSJbwNXqvmsZjf21jyZIPBwAAAAAAAAAAAAAAAIBfO27Y8b7G0xrPa3z5cbyu8fX+h3i6f0WDkBohNUJqhNSMCXnesOPttssuG269jDkRITVCaoTUCKkZE7LjFeVGH1u3jTkRITVCaoTUCKkZE7LjQ8/X/916GXMiQmqE1AipEVIjpEZIjZAaITVCaoTUCKkRUiOkRkiNkBohNUJqhNQIqRFSI6RGSI2QGiE1QmqE1AipEVIjpEZIjZAaITVCaoTUCKkRUiOkRkiNkBohNUJqhNQIqRkT8uh/0H3+1eIxJyKkRkiNkBohNWNCvgGBGgbpFLeNeQAAAABJRU5ErkJggg==', 'iVBORw0KGgoAAAANSUhEUgAAAMgAAADICAAAAACIM/FCAAABF0lEQVR4nO3asREBURSGUYxEoiUdKEUFMiXoRAdaEkgJn2xnn2fnn+uc6AV2r29usrOsVgAAAAAAAAAAAAAAAAAAAAAAAAD8i/WAe1za8fyzIVM2C8xYhJA0QtIISSMkTZmQbe+FrxmfPbbjrXfelDIbEZJGSBohaYSkKRPS/YJjziPKiHlTymxESBohaYSkEZKmTEj3W5R7Ox5GfJFvldmIkDRC0ghJIyRNmZDutxq7dnwuMW9KmY0ISSMkjZA0QtIISTPi2WfOj1endrwOGN2U2YiQNELSCEkjJE2ZkKUfUQaPbspsREgaIWmEpBGSRkgaIWmEpBGSRkgaIWm6//f74dGO+wG361NmI0LSCEkjJI2QNGVC3lEpCsmxEemWAAAAAElFTkSuQmCC', 'iVBORw0KGgoAAAANSUhEUgAAAMgAAADICAAAAACIM/FCAAABIklEQVR4nO3aMUoDURSG0cRYCxYR1Fo35z7cknvJAizSuALR8g4yEt4ULz+Xc6pLmEnex22GIfvdBD8D1+43/sbNxvviCEkjJI2QNELStAm5vfYB/npdzKeB+9psREgaIWmEpBGSpk3I1pcWQ841HkfuGzlcm40ISSMkjZA0QtK0CZnyiPJS48iLkd1zjZ+Xrm2zESFphKQRkkZImjYhUx5RFkb+lrJ08ZxtNiIkjZA0QtIISSMkTdyfav5xX+PX6gVtNiIkjZA0QtIISdMmZPbroLca32u8G/mK9SO32YiQNELSCEkjJE2bkNmPKOsONT4sPn6s8anGjxq/a2yzESFphKQRkkZImjYhAAAAAAAAAAAAAAAAAAAAAAAAAAAAcEW/qu8KsTFFk7kAAAAASUVORK5CYII=', 'iVBORw0KGgoAAAANSUhEUgAAAMgAAADICAAAAACIM/FCAAAA+0lEQVR4nO3ZwQ1BQRSGUcRKaMdaBZrQl3LsdKIHlvMWBGPw5+ac1Y3I9b7MZuLNZgAAAAAAAAAAMMZ8wI59G09tvAzY/IbFb3/ue4SkEZJGSBohaYSkeXDXunauO7Tx2LmiU5kTEZJGSBohaYSkKROyHLtu10ZXlD5C0ghJIySNkDRlQqZXlNPDb71s+/mKTmVOREgaIWmEpBGSpkzI9EVP79ud55t/oMyJCEkjJI2QNELSlAlZ7v79BIOUOREhaYSkEZJGSJoyIc//65i8CtpMPl7fHVdtPPc/VI8yJyIkjZA0QtIISVMmBAAAAAAAAAAAAAAAAAAAoIYbcM0IuYZWIpcAAAAASUVORK5CYII=', 'iVBORw0KGgoAAAANSUhEUgAAAMgAAADICAAAAACIM/FCAAAA00lEQVR4nO3WsQ3CMBCG0YCyBavQMis7MA97hNIuLEUKFvw5vVdZUZzo0zW3LAAAcS5HL77a8THhc1+7/u3PkwlJIySNkDRC0pQJ2d8ptgnf+IEyExGSRkgaIWmEpCkTso4fv3cvRuwlnTITEZJGSBohaYSkKRPSryj3drwNX05bS3plJiIkjZA0QtIISSMkTb8+bePH51BmIkLSCEkjJI2QNGVC1mc7n28v6ZSZiJA0QtIISSMkTZkQAAAAAAAAAAAAAAAAAAAAAAAAAAAAAACg9wG8SgVvLldQwQAAAABJRU5ErkJggg==', 'iVBORw0KGgoAAAANSUhEUgAAAMgAAADICAAAAACIM/FCAAABT0lEQVR4nO3aMUoDQRTHYVe8izfS2vSCraew8ADWileIt7DwCHYiiFhpOVsIy0yyy5/H91WPsJvHj2kGkulk0O/SAw9t3I0u6XC6wY5NCEkjJI2QNELSlAk5W+2br9r43sbbtdaVOREhaYSkEZJGSJoyIV1XlJvBJR+D7/UocyJC0ghJIySNkDRlQrquKHeDSz4H3+tR5kSEpBGSRkgaIWnKhKz3Q8/M1wY7ypyIkDRC0ghJIySNkDTLd63rw5e4a3UQkkZIGiFphKQpE7J8Rblv4+vs433Hku+OZ0eVOREhaYSkEZJGSJoyIV2/WL3M5qmNj228+Pc9V5QOQtIISSMkjZA0ZUKO8aeayzY+tfG5jT9HWLKkzIkISSMkjZA0QtKUCZmWHznceRvf1tpR5kSEpBGSRkgaIWnKhAAAAAAAAAAAAAAAAAAAAAAAsJI/H0QTXw8FCtAAAAAASUVORK5CYII=', 'iVBORw0KGgoAAAANSUhEUgAAAMgAAADICAAAAACIM/FCAAABWUlEQVR4nO3csU0DMRiAUWACJAoqFkFIDMUcjMIQCLEDA7AHlE4RFAjO5ZP1XuXmYn/6G+uk3MUFAAAAAAAAAADMcXnsg49j+TrjIP91de4DzCKkRkiNkBohNUJqjr5r7fia+3PHWWYiQmqE1AipEVKzTMjkK8qOu7H8nLDJIctMREiNkBohNUJqlgmZcUV5GMu3Lfbba5mJCKkRUiOkRkjNMiGTrwz7X6icbr9hmYkIqRFSI6RGSM0yIVtfUU629TITEVIjpEZIjZCaZUImX1Hux/J9262XmYiQGiE1QmqE1CwTcrq/4Gz8QmWZiQipEVIjpEZIjZAaITVCaoTUCKkRUnO6tyjXY/kxlreHHjv2QMtMREiNkBohNUJqhNRs/dG4m7F8Gcudjwe7a537ALMIqRFSI6RGSM35vmv7g+ed9dMfnltmIkJqhNQIqRFSs0wIAAAAAL/xDUgoDQKTtTegAAAAAElFTkSuQmCC', 'iVBORw0KGgoAAAANSUhEUgAAAMgAAADICAAAAACIM/FCAAABjUlEQVR4nO3ZPS4GURiG4Y+gUNmJTmEFFmAhKqWolZZiFyorUfhJkAjKc5ovY8yPJ2+uq3qLyZlz5zQnM5sNAAAAAAAAAADMY2fMwwfd/NnGr5n2Msnuf29gLkLSCEkjJI2QNELSjLpr3Xfzyd/e99HG1za+tPG5e/h4xMJlTkRIGiFphKQRkqZMyKgryvdSu+iM2lCnzIkISSMkjZA0QtKUCdkbfOJ8hV3MoMyJCEkjJI2QNELSlAkZvqJcLL+Jzf70JcqciJA0QtIISSMkTZmQ4f8qyX93OmVOREgaIWmEpBGSpkzIlq8oZyu8+nDW1cqciJA0QtIISSMkTZmQLVeUyxVe/TbramVOREgaIWmEpBGSpkzIll8si/3dOWrj06wLlzkRIWmEpBGSRkiaMiH9V5TTFd43772kU+ZEhKQRkkZIGiFphKTp71pX05d7aON1G++mLzyozIkISSMkjZA0QtKUCen/WHW/qd7beNvGm+7hx6V29EdlTkRIGiFphKQRkqZMCAAAAAC/8QNlCRZFpuhtFQAAAABJRU5ErkJggg==', 'iVBORw0KGgoAAAANSUhEUgAAAMgAAADICAAAAACIM/FCAAABU0lEQVR4nO3bvU3EQBSFUUNOQAFUQEADm1ALBdEBpVADEQWQsSSIgB8JCSI0DoyMrfHq8nRO9GR5vfNpkpG1OwwAAAAAAAD8S0ezd1y3cT+6/DR5+XHu6uvfl7bM8VYPPjQhaYSkEZJGSJoyIfNHlMs23h74q5cosyNC0ghJIySNkDRC0iw68HxFrGJamR0RkkZIGiFphKQpE7LocHAxmu96ruKqjTcrH1FmR4SkEZJGSBohacqErH5/sdUblbULKrMjQtIISSMkjZA0ZUJWH1HO2vjQYyE/nkfz6YLPldkRIWmEpBGSRkiaMiE9fny72U9Uztt4P3dvmR0RkkZIGiFphKQpE9LjiHLSxpcOj5s0u84yOyIkjZA0QtIISVMmpO9fmIddGz/b+N7Gjza+Td4wGn+7PKnMjghJIySNkDRC0pQJAQAAAAAAAAAAAAAAAFjhG6BlGcBNuz8vAAAAAElFTkSuQmCC', 'iVBORw0KGgoAAAANSUhEUgAAAMgAAADICAAAAACIM/FCAAABg0lEQVR4nO3ZMS5EURTH4SEKid4eBEuwBosUO6EgohAb0FApJWgo7y3eczOGl/+cfF91Ijcz95fT3IzVCgAAAAAAAAAAAAAAAGBtOwt/32Ebj9t4Mjn2J07beNTG5zbubny1EELSCEkjJI2QNGVCZp4oB208a2P/fOjm6bfG/kb3+sH0lctsREgaIWmEpBGSpkzI3vSfz9t4ucxFBl5HB8psREgaIWmEpBGSpkzIzBPlc9lbjN2PDpTZiJA0QtIISSMkTZmQmSfKx7K3GLsbHSizESFphKQRkkZImjIh2/Iryu3oQJmNCEkjJI2QNELSlAnZll9RbkYHymxESBohaYSkEZKmTMi2PFFeRgfKbERIGiFphKQRkkZImui31tcaZ8tsREgaIWmEpBGSpkxI9BNl+G+qTpmNCEkjJI2QNELSlAmZeaK8/9f3PbXxenK86g4/rPHBZTYiJI2QNELSCElTJmTmifLWxos2di+Jfn780xv9UpmNCEkjJI2QNELSlAn5BqU3G5rMDJDuAAAAAElFTkSuQmCC', 'iVBORw0KGgoAAAANSUhEUgAAAMgAAADICAAAAACIM/FCAAAA2UlEQVR4nO3ZOwrCUBCG0UTchI/CBbgIF2Trel2KlmkuhJBRfoZzqku4TPicRnSeSt2W47t28prDf1/3O0LSCEkjJI2QNG1CjrXjXrXjNmizESFphKQRkkZImjYhc+24T+24DdpsREgaIWmEpBGSpk1Ixa8oj4IZu7XZiJA0QtIISSMkTZuQiq8oz4IZu7XZiJA0QtIISSMkjZA0Ff9Y3ZfjaXg8D59ehheu0/DG6gfeZiNC0ghJIySNkDRtQgAAAAAAAAAAAAAAAAAAAAAAAAAAAAAAAACAcF8OPASoW8cBvAAAAABJRU5ErkJggg==', 'iVBORw0KGgoAAAANSUhEUgAAAMgAAADICAAAAACIM/FCAAABK0lEQVR4nO3cMUoDURRA0STWbsMt2Ni5DZdm5x6sXJZYquVMIcTojFwf51SPEP7k8ppPCDkcAAAAAAAAAAAAAAAAAAAAJjg+LPPVBePhdG58XMa3H3+87zudf8v/IKRGSI2QGiE1Y0KOH3udfL2Mr3s9Y2XMRoTUCKkRUiOkZkzIfleU1Vcu73s9Y2XMRoTUCKkRUiOkZkzIfleU414Hf23MRoTUCKkRUiOkRkiNkBohNUJqhNQIqRFSI6RGSI2QGiE1QmqE1AipEVIjpEZIjZAaITVCaoTUCKkRUrP+de7LMt5ve/IfGLMRITVCaoTUCKkZE3L+IrH6o5bn1ct3vz95U2M2IqRGSI2QGiE1Y0K2uEjcLOPTMt5ucPIFxmxESI2QGiE1QmrGhHwC8jYK7stIjpgAAAAASUVORK5CYII=', 'iVBORw0KGgoAAAANSUhEUgAAAMgAAADICAAAAACIM/FCAAAA7UlEQVR4nO3YsQ3CMBCGUUDpaFkAVoDR2ILRYBVaWihNFxLF0a/jveqKyNYnN6dsNgAAAAAAAAAAAAAAAAAAAAAAAAD8i+170eNebdwvevCo3brX9SMkjZA0QtIISVMmZOEV5cuhjc9ed3wp8yJC0ghJIySNkDRlQoZuJ5/aaEWZQEgaIWmEpBGSpkxIvxXl2MZ7t0uaMi8iJI2QNELSCElTJmSVvyhrKPMiQtIISSMkjZA0QtIM27EvHm08TznZrjWPkDRC0ghJIyRNmZDx30GX0S9ubby20Yoyj5A0QtIISSMkTZkQAAAAAH7xAc+9CTmIdaITAAAAAElFTkSuQmCC', 'iVBORw0KGgoAAAANSUhEUgAAAMgAAADICAAAAACIM/FCAAABYklEQVR4nO3aIU4EQRCG0YaA5gIgkHBWJArFoRBcAUVwBATI3pBOJkDPzj+V91SJ2WG+lClBawAAAAAAAAAAAABAupOtP+Cn84P5o4+L33m6wrdsQkgaIWmEpBGSpkzI2dYf0Fpr7ev/ryizESFphKQRkkZImjIhxz5RJhwjY2U2IiSNkDRC0ghJUyZkvRNltWNkrMxGhKQRkkZIGiFpyoRMPlGOfJccKLMRIWmEpBGSRkiaMiEZ/4uy7KKPb8MHymxESBohaYSkEZKmTMheTpSrPjpR9kFIGiFphKQRkmYvJ8plH5+GD5TZiJA0QtIISSMkTZmQHZ4oY2U2IiSNkDRC0ghJIyTNjFvresI7lnwuPVBmI0LSCEkjJI2QNGVCZpwot3/72XMfH/r4ePDE6y/eVmYjQtIISSMkjZA0ZUJmnCg3fXzv410f7/v4MuHvDZXZiJA0QtIISSMkTZkQAIBA34Z4EKd3iEzCAAAAAElFTkSuQmCC', 'iVBORw0KGgoAAAANSUhEUgAAAMgAAADICAAAAACIM/FCAAABXklEQVR4nO3cMUpDURCG0SjiBtyB63AnNlZ27sBVWJpKcDkiiuuwtFFRy0nxIBruM/8bzqmGR3LNx22GBFytAADiHOz7A/zScY0XNd7WePhvH2VmQtIISSMkjZA0bUL2uKKc1XhX4+nW961rvKyxzY0ISSMkjZA0QtK0CTma7eTzGu+HHvwx+bTNjQhJIySNkDRC0rQJmW9FGbuXbHiffNrmRoSkEZJGSBohaYSkmW/Xmo2vg5ZBSBohaYSkEZJm8IpyNfa4SZ+TT9vciJA0QtIISSMkTZuQwSvKzdjjJllRlkFIGiFphKQRkmaBP/RYUZZBSBohaYSkEZJmxIpyPeCMP7CiLIOQNELSCEkjJM2If/Dyve0FXzU+1PhY41ONzxvve6nxbdvfaHMjQtIISSMkjZA0bUJGrCgnNb4OOG43bW5ESBohaYSkEZKmTQgAAAAAAAAAAAAAAADADn4AhfEV/Vv7hwYAAAAASUVORK5CYII=', 'iVBORw0KGgoAAAANSUhEUgAAAMgAAADICAAAAACIM/FCAAAA20lEQVR4nO3asQ3CMBRF0YAYgkmYg/lYgoGYgCmgdLooODGPzzmVC2Rz9RsryTQBAAAAAAAAAAAAAAAAAAAAAAAA8C8O3zv61b/F7N8f+3fLICSNkDRC0ghJUyZk9BVl23vJTJmJCEkjJI2QNELSlAk5jTjk3r/F4lWqzESEpBGSRkgaIWnKhOx3Rbm05fXDLW4rfltmIkLSCEkjJI2QNGVC9nvRs/hK59mW5/7jykxESBohaYSkEZJGSJqNHwc92nLw5zplJiIkjZA0QtIISVMmBAAAAAAAgB/1BhefBzaFhnRmAAAAAElFTkSuQmCC', 'iVBORw0KGgoAAAANSUhEUgAAAMgAAADICAAAAACIM/FCAAAA1klEQVR4nO3YsQnCQBiGYSO4h0O5jb1bWFo5hKO4iKDlXaEEk0M/fp6n+gnkLi/XHNlsAAAAAAAAAAAAAAAAAAAAKpi6+d7G/eyLlzae23hb/UFLbf+282BC0ghJIySNkDRlQqb3j59DN9m18TF04U6ZExGSRkgaIWmEpCkT8uGK0hl7W5nfb6EyJyIkjZA0QtIISVMm5Ksrw4DbyrGNp/WrdcqciJA0QtIISSMkTZmQwX81rm08/HbrMiciJI2QNELSCElTJgQAAAAAAAAAAAAAAABggRdIgQlqdn8vUQAAAABJRU5ErkJggg==', 'iVBORw0KGgoAAAANSUhEUgAAAMgAAADICAAAAACIM/FCAAABK0lEQVR4nO3bMUoEQRBAUVc8gPcx8j4ew3N5EhEVNDYWRMNOhGVmbPk070UVDD37qaRh2NPFLA9jvN15xGnDs5c735EjpEZIjZAaITXLhFxNO/lxjHuvKFsssxEhNUJqhNQIqVkmZN4V5Wnayb9aZiNCaoTUCKkRUrNMyLwryvO0k3+1zEaE1AipEVIjpGaZkHlXlJfjR1yP8ePcs8tsREiNkBohNUJqhNTMu2u9Hj/ifox3555dZiNCaoTUCKkRUrNMyJZ//+z2ffyIs79zmY0IqRFSI6RGSI2QGiE1QmqE1AipEVIz70PPH/ja8OwyGxFSI6RGSI2QmmVC/uVDz80Y38f4NsbP4+9YZiNCaoTUCKkRUrNMCAAAAAAAAAAAAAAAAAAAAAAAk/wAstYNc0kIWfkAAAAASUVORK5CYII=', 'iVBORw0KGgoAAAANSUhEUgAAAMgAAADICAAAAACIM/FCAAABLklEQVR4nO3aMUrEUBSG0ShTuBkLcRuux0awtBHcwYBi61IEt2BhaSlYavlSJEheMPm5nFNdhvDyPm6TYoYBAAAAAAAAAAAAAAAAYLGT6Z9f23g5/cR7G49tfGzjR++V+pxu+7r/IySNkDRC0ghJUyZk5hPlZ4NXf7XxuY23oyc+F5xWZiNC0ghJIySNkDRlQnb8RJk2c6E/ldmIkDRC0ghJIyRNmZDDaD7b7RYv648osxEhaYSkEZJGSJoyIeNPlKvdbnG3/ogyGxGSRkgaIWmEpCkTcpiZt/W2/ogyGxGSRkgaIWmEpCkT0vvXj+GijU9tPF9wwn0br3tv0ZTZiJA0QtIISSMkTZmQ7k+UTjdtfGjj9/qDy2xESBohaYSkEZJGCAAAAAAAAAAAVPULNWsQDeIqd8cAAAAASUVORK5CYII=', 'iVBORw0KGgoAAAANSUhEUgAAAMgAAADICAAAAACIM/FCAAAAr0lEQVR4nO3WMQoCMRBA0VWsPY+3sN6rejkt02wjhPAJ71VTzfBJk+MAAAAAAAAAAAAAAOpuc9e9xvgc42fukUv3BTeWEFIjpEZIjZCabUImf1G+K45c2uZFhNQIqRFSI6RGSI2QGiE1QmqE1AipEVIjpEZIjZAaITVCaoTUCKkRUiOkRkjNY+6Oc4zvCZv/sM2LCKkRUiOkRkjNNiEAAAAAAAAAAAAAAAAAAAB7+AEOiQMxqLWKJQAAAABJRU5ErkJggg==', 'iVBORw0KGgoAAAANSUhEUgAAAMgAAADICAAAAACIM/FCAAABb0lEQVR4nO3cMS5EURiGYYRdKCyClg0oRWxTo5cwERtQay2AgkIl/ymmuccN3/x5nuprZtw3pzm5ktnbAwAAAAAAAAAAAAAAAFhsf/aDzzXPaj7VfKj5WHNT8232T291sOq3/SMhaYSkEZJGSJo2IdNXlPua52s8yI/PYW+2zuEaNNx92pyIkDRC0ghJIyRNm5DD2Q9+rPkUg6NhX2ydg5eabU5ESBohaYSkEZKmTcj0FeV9zaeYNbxyaXMiQtIISSMkjZA0bULi3qIs4ooSTEgaIWmEpBGSZrevKF8125yIkDRC0ghJIyRNmxD/6EkjJI2QNELSCEnTJmS336K4ogQTkkZIGiFphKRpE+J1UBohaYSkEZJGSJo2IdNXlLualzVPf/Msy7miBBOSRkgaIWmEpJn+Dboljmve1LyuOfzQ7iK3NduciJA0QtIISSMkTZuQP7mizDqpOdxnrmq+1mxzIkLSCEkjJI2QNG1CvgGPKR6xKzXX5QAAAABJRU5ErkJggg==', 'iVBORw0KGgoAAAANSUhEUgAAAMgAAADICAAAAACIM/FCAAAA8UlEQVR4nO3YIW4CQRiGYWiacAZuU4vqMTgTF6mvqqpAYDhBTT0OFJkRJWTYbfjy53nUn83OsG/GTFgsAAAAAAAAAAAAAAAAAAAAAAD4F8uRl89/Pz628auN323ct/HQxt+Rn77rZdbdnkhIGiFphKQRkqZMyNAVpXfjujLZupt/BtaVOREhaYSkEZJGSJoyIa+PLty2cTfHh1y9d/PIxmVOREgaIWmEpBGSpkzIw/+idFZtPE3e7LOb3wbWlTkRIWmEpBGSRkiaMiFzXFGm+2jjpns88nFlTkRIGiFphKQRkqZMCAAAAAAAAAAAAACQ7wLH+w1VSLrGmwAAAABJRU5ErkJggg==', 'iVBORw0KGgoAAAANSUhEUgAAAMgAAADICAAAAACIM/FCAAAB0UlEQVR4nO3bsS4EURSA4SUaUXsAFZXaK9AoJBIVT6G2HS+ikUgU4hG2Uau35w1EKM8tNpnMnbP8Tv6vOsXuzPw5zc0as5kkSZIkSZIkSZL+pY2EaxzEuB/jU8KVR9j83dutjyE0htAYQmMITZmQrYRrnMZ4G+NrjJcxviXcb6UyGzGExhAaQ2gMoTGEJuPnoEWMR0OfvY/xKsbP6Q9RZiOG0BhCYwiNITRlQjKOKN+TrzCP8abzEmU2YgiNITSG0BhCUyaEcURpfDXzmD+nldmIITSG0BhCYwhNmZCMl2pSPXR+r8xGDKExhMYQGkNoyoTgfkXZa+bliO+V2YghNIbQGEJjCE2ZkO5fUQ4zn6Kx7PxemY0YQmMIjSE0htCUCek+opxnPkWCMhsxhMYQGkNoDKEpE9J9RLnIfIr58EeGlNmIITSG0BhCYwhNmZDud1FSX0BJeCOmzEYMoTGExhAaQ2gMoek+5VzHePd3TxHKbMQQGkNoDKExhKZMSMa/JjWeYzwZ+uxHjLvT71xmI4bQGEJjCI0hNGVCko8oje0Y32PcifEsxsfptyuzEUNoDKExhMYQmjIh6zuirHYc40vqhctsxBAaQ2gMoTGEpkzID17jGBBUouv9AAAAAElFTkSuQmCC', 'iVBORw0KGgoAAAANSUhEUgAAAMgAAADICAAAAACIM/FCAAABIUlEQVR4nO3bO27CUBBAUSeizOqSnaRnDVkyKe3CEfkAvhmdU1kIS+9qmtFDLAsAAAAAAAAAAAAAAAAAAAAAAHfxdPQB/uRlfXw+7hS3JaRGSI2QGiE1Y0L+4YpyWR83px8zESE1QmqE1AipGRNyOvoA37TZS153vzBmIkJqhNQIqRFSMyYkfYty2f10/8hjJiKkRkiNkBohNWNCcrco+2vJcr723piJCKkRUiOkRkjNmJDGLcoXe8nG1XOOmYiQGiE1QmqE1AipyV0HfWye33/w3piJCKkRUiOkRkjNmJADr4P2/2L0W2MmIqRGSI2QGiE1Y0IevaLcdi/ZGDMRITVCaoTUCKkZE/KQH3re1se7rURjJiKkRkiNkBohNWNCPgE7qQoPkt5FFgAAAABJRU5ErkJggg==', 'iVBORw0KGgoAAAANSUhEUgAAAMgAAADICAAAAACIM/FCAAABjUlEQVR4nO3cu03EQBRG4TVyD1ADSBQAAT3wKISclJg+kOgCiQrIIObRxBJeB0jWzsyKw6/zRTewruZoEgfrnTbltcaTzX9z8NcHGMUQGkNoDKExhCYmZD6t+bjGbY1PNV7v/zzNYm7EEBpDaAyhMYQmJmS+WHviqsbFi8vmvsa7gedpFnMjhtAYQmMIjSE0MSHTY803A9b1r2gUcyOG0BhCYwiNITQxIdNHzUcD1vWvaBRzI4bQGEJjCI0hNIbQTNv1Z9Z813jYv61RzI0YQmMIjSE0htDEhMwDdrwN2NEt5kYMoTGExhAaQ2hiQnxFoTGExhAaQ2gMoYkJGfGK8j5gR7eYGzGExhAaQ2gMoYkJmR9qvm3c4SvKSIbQGEJjCI0hNDEhy2+JFr91/dxlx1mNL53HaRdzI4bQGEJjCI0hNDEh6587L/4m9/L3JxZfXX91HqddzI0YQmMIjSE0htDEhOz0jyzni/m5cce+xNyIITSG0BhCYwhNTIgkSZIkSZIkSZIkSZIkSZIkvh8hPhSC7h1PfQAAAABJRU5ErkJggg==', 'iVBORw0KGgoAAAANSUhEUgAAAMgAAADICAAAAACIM/FCAAAAzUlEQVR4nO3ZsY3CQBBAUTgREV+Bl9EBPdABVdHJhcQQbkLG2vpavRdNYO34azP7cAAAAAAAAAAAAAAAAAAAAAAAAAAAAAAAAAAA0o4777uN8Tr1LX6+P6JBSI2QGiE1QmqWCTltdvJljPePDzymrlvmRoTUCKkRUiOkRkjNdp+DXvuuXuZGhNQIqRFSI6RGSI2QGiE1QmqE1AipmfzH6m/nfcMyNyKkRkiNkBohNcuETP7R8xzjeYy/Y/yfu29Y5kaE1AipEVIjpGaZkDemKAa5ob3qqgAAAABJRU5ErkJggg==', 'iVBORw0KGgoAAAANSUhEUgAAAMgAAADICAAAAACIM/FCAAABX0lEQVR4nO3au00DQRSGURu5DQgogUZIQaIRGqATAiQiqiCBgISIiDZ4hTPBrizvw/y6Oie6smBnP91kgt1sAAAAAAAAAAAAAAAAAAAAAABYxfauzbdtvGzj0/FeZo6T/36BpQhJIySNkDRC0pQJ2Xbz774/fujmq+XfZZYyGxGSRkgaIWmEpCkTctAVZcRXG6/b+DjxaROV2YiQNELSCEkjJE2ZkP6K8tHG80UPuW/jzaIP7pTZiJA0QtIISSMkTZmQ/orSRX0f47xFldmIkDRC0ghJIyRNmZBdN/+sdcj7Wg/ulNmIkDRC0ghJIySNkDS74Z8/23g6/5C3+Y/Yq8xGhKQRkkZIGiFpyoSMXFHOBn+d+mHw68T/O0SZjQhJIySNkDRC0pQJGbmiDBv5ImbvzeX5kEMmKrMRIWmEpBGSRkiaMiELf4d70caX1Q4ZVGYjQtIISSMkjZA0ZUL+AFB0EzviO4E1AAAAAElFTkSuQmCC'];\n",
       "            let current_image = 0;\n",
       "    \n",
       "            function updateImage() {\n",
       "                let slider = document.getElementById(\"imageSlider_5350c66dcda2fd645b23a7e939d0e5a8665f1e39d894cd3efc67d7931771f1c5\");\n",
       "                current_image = parseInt(slider.value);\n",
       "                let displayedImage = document.getElementById(\"displayedImage_5350c66dcda2fd645b23a7e939d0e5a8665f1e39d894cd3efc67d7931771f1c5\");\n",
       "                displayedImage.src = \"data:image/png;base64,\" + base64_images[current_image];\n",
       "                let imageNumber = document.getElementById(\"imageNumber_5350c66dcda2fd645b23a7e939d0e5a8665f1e39d894cd3efc67d7931771f1c5\");\n",
       "                imageNumber.innerHTML = \"Image \" + current_image + \"/99\";\n",
       "            }\n",
       "            \n",
       "            document.getElementById(\"imageSlider_5350c66dcda2fd645b23a7e939d0e5a8665f1e39d894cd3efc67d7931771f1c5\").addEventListener(\"input\", updateImage);\n",
       "        })();\n",
       "    </script>\n",
       "    "
      ],
      "text/plain": [
       "<IPython.core.display.HTML object>"
      ]
     },
     "metadata": {},
     "output_type": "display_data"
    }
   ],
   "source": [
    "ROI_images = make_ROIs(\n",
    "    n_sessions=10,\n",
    "    max_rois_per_session=100,\n",
    "    size_im=(36,36),\n",
    ")\n",
    "\n",
    "print(f'Number of sessions: {len(ROI_images)}')\n",
    "print(f'Number of ROIs per session: {[rois.shape[0] for rois in ROI_images]}')\n",
    "print(f'Shape of each ROI image: {ROI_images[0][0].shape}')\n",
    "\n",
    "roicat.visualization.display_toggle_image_stack(ROI_images[0], image_size=(200,200))"
   ]
  },
  {
   "attachments": {},
   "cell_type": "markdown",
   "id": "a2dd7377",
   "metadata": {},
   "source": [
    "We've made `ROI_images`, which is a list of lists of 3D numpy arrays:\n",
    "\n",
    "Now let's add the ROIs_images to the data object. We will also add a `um_per_pixel` value, which is necessary for classification-inference:"
   ]
  },
  {
   "cell_type": "code",
   "execution_count": 8,
   "id": "7046dc8c",
   "metadata": {},
   "outputs": [
    {
     "name": "stdout",
     "output_type": "stream",
     "text": [
      "Starting: Importing ROI images\n",
      "Completed: Imported 10 sessions. Each session has [100, 100, 100, 100, 100, 99, 100, 99, 99, 100] ROIs. Total number of ROIs is 997. The um_per_pixel is 1.5 um per pixel.\n",
      "RH WARNING: Classification-Training incomplete because the following attributes are missing: ['class_labels']\n",
      "RH WARNING: Tracking incomplete because the following attributes are missing: ['spatialFootprints', 'FOV_images']\n",
      "Cannot check validity of class_labels and ROI_images because one or both do not exist as attributes.\n",
      "Cannot check validity of spatialFootprints and FOV_images because one or both do not exist as attributes.\n",
      "Data_roicat object completeness: {'classification_inference': True, 'classification_training': False, 'tracking': False}\n"
     ]
    },
    {
     "data": {
      "text/plain": [
       "{'classification_inference': True,\n",
       " 'classification_training': False,\n",
       " 'tracking': False}"
      ]
     },
     "execution_count": 8,
     "metadata": {},
     "output_type": "execute_result"
    }
   ],
   "source": [
    "data_custom.set_ROI_images(ROI_images, um_per_pixel=1.5)\n",
    "\n",
    "data_custom.check_completeness()"
   ]
  },
  {
   "attachments": {},
   "cell_type": "markdown",
   "id": "a90fcd5d",
   "metadata": {},
   "source": [
    "Notice that `'classification_inference': True'`, so we can use this data object for the **classification_inference** and **classification_by_Drawing** notebooks/pipelines."
   ]
  },
  {
   "attachments": {},
   "cell_type": "markdown",
   "id": "01845c51",
   "metadata": {},
   "source": [
    "### Prepare data for *Tracking*\n",
    "\n",
    "For tracking we need: `spatialFootprints`, `FOV_images`, `ROI_images`, and `um_per_pixel`.\n",
    "\n",
    "What is `spatialFootprints`? It is an array containing the spatial mask of each ROI within the full field of view (FOV). We use a compressed datatype called a ***sparse matrix*** which dramatically speeds up handling this kind of data. The `Data_roicat` object can ingest two kinds of input for spatial footprints:\n",
    "1. A list of normal numpy arrays of shape **(n_roi, FOV_height, FOV_width)**\n",
    "2. A list of our natively used datatype: `scipy.sparse.csr_matrix` arrays of shape **(n_roi, FOV_height * FOV_width)**\n",
    "\n",
    "Again, let's just make up some fake data with the correct properties:"
   ]
  },
  {
   "cell_type": "code",
   "execution_count": 9,
   "id": "b1bcac44",
   "metadata": {},
   "outputs": [
    {
     "name": "stdout",
     "output_type": "stream",
     "text": [
      "Number of sessions: 5\n",
      "Number of ROIs per session: [50, 48, 49, 50, 50]\n",
      "Shape of each spatialFootprints image: (300, 400)\n"
     ]
    },
    {
     "data": {
      "text/html": [
       "\n",
       "    <div>\n",
       "        <input type=\"range\" id=\"imageSlider_8df67ec682a526d7b93dab45457eff4ce4afbd9ce7f343ecca9cc9409e543c80\" min=\"0\" max=\"49\" value=\"0\">\n",
       "        <img id=\"displayedImage_8df67ec682a526d7b93dab45457eff4ce4afbd9ce7f343ecca9cc9409e543c80\" src=\"data:image/png;base64,iVBORw0KGgoAAAANSUhEUgAAASwAAAGQCAAAAAAxHgKnAAABM0lEQVR4nO3YIVJDQRAE0AGPxXAVTsR9qMLkNDkAMi4+Hj+IfEWRn4ya2ar3zNqurt4VGwEAAAAAAAAAAAAAAAAAAAAAAAAAAAAAAAAAAAAAAAAAAAAAAAAAAAAAAAAAAAAAAAAAAAAAAAAAAAAAAAAAQMS5O8CDnrsDrERZq8nMU3eGR1hWgbJW85aZmd/dMe6yrOXk5qM7yD7LKlBWwVN3gIiI+IztAs6Ic4tlFSirYMru83pMifM/yyoYVlZmd4I9w8qaTVkFU8qa/bJvppS1BGUVjCnrcLieX70xdo0pawWTHtZjvMesRH9YVoGyCoaN/hKvL/HTneIWyypQ1tIGfzxYFgAAAAAAAAAAAAAAAAAAAAAAAAAAAAAAAAAAAAAAAAAAAAAAAAAAAAAAAAAAAL9gnx37b+SnFwAAAABJRU5ErkJggg==\" style=\"width: 400px; height: 300px;\">\n",
       "        <span id=\"imageNumber_8df67ec682a526d7b93dab45457eff4ce4afbd9ce7f343ecca9cc9409e543c80\">Image 0/49</span>\n",
       "    </div>\n",
       "\n",
       "    <script>\n",
       "        (function() {\n",
       "            let base64_images = ['iVBORw0KGgoAAAANSUhEUgAAASwAAAGQCAAAAAAxHgKnAAABM0lEQVR4nO3YIVJDQRAE0AGPxXAVTsR9qMLkNDkAMi4+Hj+IfEWRn4ya2ar3zNqurt4VGwEAAAAAAAAAAAAAAAAAAAAAAAAAAAAAAAAAAAAAAAAAAAAAAAAAAAAAAAAAAAAAAAAAAAAAAAAAAAAAAAAAQMS5O8CDnrsDrERZq8nMU3eGR1hWgbJW85aZmd/dMe6yrOXk5qM7yD7LKlBWwVN3gIiI+IztAs6Ic4tlFSirYMru83pMifM/yyoYVlZmd4I9w8qaTVkFU8qa/bJvppS1BGUVjCnrcLieX70xdo0pawWTHtZjvMesRH9YVoGyCoaN/hKvL/HTneIWyypQ1tIGfzxYFgAAAAAAAAAAAAAAAAAAAAAAAAAAAAAAAAAAAAAAAAAAAAAAAAAAAAAAAAAAAL9gnx37b+SnFwAAAABJRU5ErkJggg==', 'iVBORw0KGgoAAAANSUhEUgAAASwAAAGQCAAAAAAxHgKnAAAA20lEQVR4nO3UsQ3DMAxFQSZ7ZDOPnCU8hUumUHqBFUXgrmH78SAoAgAAAAAAAAAAAAAAAAAAAAAAAAAAAAAAAAAAAAAAAAAAAAAAAAAAAAAAAAAAAAAAgJ3MzMyne0ZEvLsHTCJWwat7wF6uc8BSL6tArIIBsT7r3HfvjBgR6xwHfJtb/x++f6uXVSBWwYRY17Xut3fGjFjHEAsAAAAAAAAAAAAAAAAAAAAAAAAAAAAAAAAAAAAAAAAAAAAAAAAAAAAAAAAAAAAAAAAAAAAAAAAAAAAAAAAAAAAAfld+DG34Qs6iAAAAAElFTkSuQmCC', 'iVBORw0KGgoAAAANSUhEUgAAASwAAAGQCAAAAAAxHgKnAAABMUlEQVR4nO3YsQ3CQBAEwAMBboCUWmiHMmiIcsiISCgCiScwFHACnfX2TEK49mptXo4AAAAAAAAAAAAAAAAAAAAAAAAAAAAAAAAAAAAAAAAAAAAAAAAAAAAAAAAAAAAAAAAAAAAAAAAAAAAAAAAAAAAAAAAAAAAAAAAAAAAAAAAAAAAAgKW5tVaQsi7ImI3N1BfwB/dDxLEiyLISlLUkj9ZaK3m9W1aKspZkfAqvJVmWlbCa+gJ+832x19yGZSUoK0FZCcpKUFZC318dzuPPvijOshL6Pmd9jllVN2FZCcpKmENZl6qgOZRVRlkJPf8b1n5yCMtK6fsEHxGvbV2WZSUoK6Hjx/AUEbt4FiZaVoKylqENQ3GiZQEAAAAAAAAAAAAAAAAAAAAAAAAAAAAAAPAGRh8ZxJwum0YAAAAASUVORK5CYII=', 'iVBORw0KGgoAAAANSUhEUgAAASwAAAGQCAAAAAAxHgKnAAAA4UlEQVR4nO3TwQ3CQAwEQCeiCxpNOymFbujieCQN+AjnHJr5W1qt1hEAAAAAAAAAAAAAAAAAAAAAAAAAAAAAAAAAAAAAAAAAAAAAAAAAAAAAAAAAAAAAAAAAAAAAAAAAAAAAAAAAAAAAAAAAAAAAAADcxV4doMpaHWAmykp4dNy8WkRELNcmmYBlJXTNo31zPDHLSlBWQldZy/l/23ZllPuzrARl/d6zHapzjGVZ47yrAwxlWQnKAgAAAAAAAAAAAAAAAAAAAAAAAAAAAAAAAAAAAAAAAAAAAAAAAAAAgD/1AZ+UDGy7ZmKZAAAAAElFTkSuQmCC', 'iVBORw0KGgoAAAANSUhEUgAAASwAAAGQCAAAAAAxHgKnAAABN0lEQVR4nO3XsU0DQRAF0LGFBJIbcOgqTAoVXEyDRK6CEJogsywXYRJkLcIGTzRz0nvRbvY1+qO9iwAAAAAAAAAAAAAAAAAAAAAAAG62qA4wWMd+H7tdvFUHuWZZHWBODCuh0xq+xOv5/B6PhUmu0KwEw0q4qw4weBrO26oQf9GshE7Neq4O8B/NSjCshE7fWacft07JvmlWgmEldHoNR8fqAJdoVkLXZn1UB7hEsxIMK6HRGj6MF2s4d4aV0GgNN5+xOV+s4dy1+129n2KaYrWOQ3WS3zQrwbAAAAAAAAAAAAAAAAAAAAAAAAAAAAAAAAAAAAAAAAAAAAAAAAAAAAAAAAAAAAAAAAAAAAAAAAAAAAAAAAAAAAAAAAAAAAAAAAAAAAAAAAAAAAAAAAAAAAAAAAAAEr4Ax2QOanBJBpAAAAAASUVORK5CYII=', 'iVBORw0KGgoAAAANSUhEUgAAASwAAAGQCAAAAAAxHgKnAAABOUlEQVR4nO3YoU1EURAF0GGDIrRACShqWBJK2BpoB4umBQyb4FAUQQUY9EcgeH/3m1EzLznHjbu5/z7zIwAAAAAAAAAAAAAAAAAAAAAAAAAAAAAAAABgHhfVAbY9PkVEHI/x9lEdZbCrDjATZSW0fIY38TWebTJaVkKbrzZaVlefiJaVoKyEPhv/t3qFnQJaVoKyEi6rA5z5WV0PRSk2WVZCu2W9XA3Hc7yWBdlgWQnKmtfhsAy+q+OcsKwEZU3relmpjnPKsqb13nlXlpWirIROv4v+7GJ/H/vbuPusTnLGshKUBQAAAAAAAAAAAAAAAAAAAAAAAAAAAAAAAAAAAAAAAAAAAAAAAAAAAAAAAAAAAAAAAAAAAAAAAAAAAAAAAAAAAAAAAAAAAAAAAAAAAAAAAAAAAAAwk1+JrTS9P3jCyQAAAABJRU5ErkJggg==', 'iVBORw0KGgoAAAANSUhEUgAAASwAAAGQCAAAAAAxHgKnAAABE0lEQVR4nO3WvwnCQBwF4PNP7waWqe3dIAM4hqWrBDKFbaZwBjvBzlqIhSCSVAe/EMh9X3nF43i8g0sJAAAAAAAAAAAAAAAAAAAAAAAAAAAAAAAAAAAAAAAAAAAAAAAAAAAAAAAAAAAAAAAAAAAAAAAAACjdau4LBNvf06NJzXOS8PUkqQulrILd+j9tewgNt6xi1XU/co6Lt6wMysqwrH/WO20GJ6+0i4u3rAzKyrCd+wKRLsNHmNIxMt+ySjX+ZF1D8y0rg7LKduq63zOMTbasDMriq6pi8ywLAAAAAAAAAAAAAAAAAAAAAAAAAAAAAAAAAAAAAAAAAAAAAAAAAAAAAAAAAAAAAAAAAAAAAAAApvEBY2lFlX+i5D4AAAAASUVORK5CYII=', 'iVBORw0KGgoAAAANSUhEUgAAASwAAAGQCAAAAAAxHgKnAAABKklEQVR4nO3XsQkCQRAF0NM67ECwA8HUBgwN7MsGLMAaTMVOtIAxEE1lYJdZ8b3oguMzfH6y0wQAAAAAAAAAAAAAAAAAAAAAAAAAAAAAAAAAAAAAAAAAAAAAAAAAAAAAAAAAAAAAAAAAAAAAAAAAAAAAAAAAAAAAAAAAAAAAAAAAAAAAAAAAAAB/aV99QHfz6gN+ibJqRMRjva6+oifLqhEv1+ui+pJeLCtBWQmzdlHRI3QolpWgrISGZZ3bRQ3Ksmrs4m2zqb6lD8tKUFZCw7JOn6/ttl3qSCwrQVkJLV8mn/fObVo1jB2HZSW0XNZxOvSIHYdlJSir0iUiIr7/94ssK0FZxZb3e/UJfVgWAAAAAAAAAAAAAAAAAAAAAAAAAAAAAAAAAAD08QS7qyU8tqKdMQAAAABJRU5ErkJggg==', 'iVBORw0KGgoAAAANSUhEUgAAASwAAAGQCAAAAAAxHgKnAAABLklEQVR4nO3WMU4DMRAF0A9tBKJmKxoKLgOcIxIlNfdMLoGgJrROOVJGCPu9aiv/1ejbmgQAAAAAAAAAAAAAAAAAAAAAAAAAAAAAAAAAAAAAAAAAAAAAAAAAAAAAAAAAAAAAAAAAAAAAAP6Pq7/+gQt4esjhmJ/+oOv+iHkYVsEM1zCn4fuQx7YczVrPafDalqJZBYa1nv14D9tSNKvAsAqm2LNyvmp956YnRLOWND7xLz0RmlVgWEt671+1NKvAsApm2bNyvmp95bYhQbNWNT7xzw3na1aBYa3qo3nV0qwCwyqYaM9K8pb7LduWbZd85u7Sx2sWAAAAAAAAAAAAAAAAAAAAAAAAAAAAAAAAAAAAAAAAAAAAAAAAAAAAAAAAAAAAAAAAAAAAAAAA9PgF+ZhVM4ofIOUAAAAASUVORK5CYII=', 'iVBORw0KGgoAAAANSUhEUgAAASwAAAGQCAAAAAAxHgKnAAABM0lEQVR4nO3WLW5CYRAF0KGSYOu7DnZA0JAuoIqabgXHFppUswgElpVUf3VN7QRmHg3nqKfe/XJz308EAAAAAAAAAAAAAAAAAAAAAAAAAAAAAAAAAAAAAAAAAAAAAAAAAAAAAADw6GbF9z9cYl8c0edp6gP8J8q6I+sxxhjjdHqd+iQ3YFkJ1S/4GJ1hxSwrQVkJrWUtl51pt2dZCcpKaP0afsWmOq6UZSWUL+sztp1xpSwrQVkJ5c/FKo6dcaUsK0FZ92X88Tz1Ya5iWQkNZb2dz7/XH/VxhSwrQVkJbT8+8/fYvcT3oiuvgmUlKAsAAAAAAAAAAAAAAAAAAAAAAAAAAAAAAAAAAAAAAAAAAAAAAAAAAAAAAAAAAAAAAAAAAAAAAAAAAAAAAAAAAAAAAACo8QPn6iBLKDT5bQAAAABJRU5ErkJggg==', 'iVBORw0KGgoAAAANSUhEUgAAASwAAAGQCAAAAAAxHgKnAAABFklEQVR4nO3WMQ6CQBAF0NF4DxvPY7iIpZ0noDfBaxDPYusZrC3WygTdxgUJCbzXscVkmPwdiAAAAAAAAAAAAAAAAAAAAAAAAAAAAAAAAAAAAAAAAAAAAAAAAAAAAAAAAAAAAAAAAAAAAAAAAAAAAABgDKupGxjfMepHNHG5D660/kM3i2FYBRZwDVP34dZE8+xbSbLoOKdvdd2zlGQVMKwC81/wKTvp/c6SVcCwCmymbmBk1/zo1LuYZPG2zX6yUr7wfyZZBQyrwMwX/K6N/efJYUA1ySpgWGSqqh36LZQsAAAAAAAAAAAAAAAAAAAAAAAAAAAAAAAAAAAAAAAAAAAAAAAAAAAAAAAAAAAAAAAAAAAAACJenS8413WKC6cAAAAASUVORK5CYII=', 'iVBORw0KGgoAAAANSUhEUgAAASwAAAGQCAAAAAAxHgKnAAABCElEQVR4nO3Tuw3CQBAFwAOTEVIDBdAD7SB6oQfoyI1Y5EuC/JFFsNiSbWkm27tk9fS2FAAAAAAAAAAAAAAAAAAAAAAAAAAAAAAAAAAAAAAAAAAAAAAAAAAAAAAAAAAAAAAAAAAAAAAAAAAAAAAAAAAAAAAAAIBZVNUr4tyO+wVX2RxhMYNbfJ3aJ81KEBaTXOo6ero+aVbCbukFVuh9HIxdRJqVIKwEZzgWw9EZ/kVYCcJKEFaCsBKElSCshMPSC6zao9z7o2YlCItJIiKa5jr+0Cwmef760KwEYQEAAAAAAAAAAAAAAAAAAAAAAAAAAAAAAAAAAAAAAAAAAAAAAAAAAAAAACR8ANsoIw//BoOWAAAAAElFTkSuQmCC', 'iVBORw0KGgoAAAANSUhEUgAAASwAAAGQCAAAAAAxHgKnAAABL0lEQVR4nO3ZsQ2CUBQFUDTSWLiAcRh20M4FHMLGaWwcwcLEzj0cwuZbmfz2xfAM/nM6qgs3FwKh6wAAAAAAAAAAAAAAAAAAAAAAAAAAAAAAAAAAAAAAAAAAAAAAAAAAgP+3399Xq+TMeXLepCmrBYtFKaXcbsvETMsKUFYbyse173MSLasNpfJMSbSsAGW14VHfhymJlhWgrIAJl3VOT5xwWQSs6wf8MCQkWlaAsgJmvz6BL9QvV5duO36gZQUoK2DKt+GxO1VHCVdiWS05JH5KW1aAslqz271KSfiBaFkBymrSZvwIywIAAAAAAAAAAAAAAAAAAAAAAAAAAAAAAAAAAAAAAAAAAAAAAAAAAAAAAAAAAAAAAAAAAAAAAAAAAAAAAAAAAAAAAAAAgHG8AZA+Rw/IXBvrAAAAAElFTkSuQmCC', 'iVBORw0KGgoAAAANSUhEUgAAASwAAAGQCAAAAAAxHgKnAAABMklEQVR4nO3XsQ2CQBQG4FNbJrBwAHZxFguHsNUdGMm4gIWliQN4FkZjIeo7jBr5vgaad4E/P3CkBAAAAAAAAAAAAAAAAAAAAAAAAAAAAAAAAAAAAAAAAAAAAAAAAAAAAAAAAAAAAAAAAAAAAAAAAAAAAAAAAPygw6HquMLwLdfRE8LinrrOOS+6rKBZAYNvX8An5fNhnHZl85oVICzum+aLsnnNChBWQK++hun6+B3TqGBcswL61axZWl5OS25cswKERavrTmtfMKxZAcKi1arLH49mBfRrn5VuNvHbNInOalaAsHhkXvyK16wAYfFM0+Sc19EpzeIFVbWJjmhWgLAAAAAAAAAAAAAAAAAAAAAAAAAAAAAAAAAAAAAAAAAAAAAAAAAAAAAAAAAAAAAA4E+dAO9KOBn2qPj/AAAAAElFTkSuQmCC', 'iVBORw0KGgoAAAANSUhEUgAAASwAAAGQCAAAAAAxHgKnAAAAvUlEQVR4nO3TwQmAQAwEwGipNmY71mMD+vL+AXNRmPkHlmUTAQAAAAAAAAAAAAAAAAAAAAAAAAAAAAAAAAAAAAAAAAAAAAAAAAAAAAAAAAAAAAAAAAAAAADUuR5nd5L51u4Af6KsSsf4w+4k81lWgrISlvTFeL89tlejfJ9lAQAAAAAAAAAAAAAAAAAAAAAAAAAAAAAAAAAAAAAAAAAAAAAAAAAAAAAAAAAAAAAAAAAAAAAAAAAAAAAAAECNG1bxFbT+Cqo9AAAAAElFTkSuQmCC', 'iVBORw0KGgoAAAANSUhEUgAAASwAAAGQCAAAAAAxHgKnAAAAp0lEQVR4nO3WwQkAIAwEwWD/PcePDUTEEJipYLnXRQAAAAAAAAAAAAAAAAAAAAAAAAAAAAAAAAAAAAAAAAAAAAAAAAAAAAAAAADAO5ndBTdWd8AkxgKA32YerMN1KDAWAAAAAAAAAAAAAAAAAAAAAAAAAAAAAAAAAAAAAAAAAAAAAAAAAAAAAAAAAAAAAAAAAAAAAAAAAAAAAAAAAAAAAAAAAAAAQMEGdAIEBWQbJb8AAAAASUVORK5CYII=', 'iVBORw0KGgoAAAANSUhEUgAAASwAAAGQCAAAAAAxHgKnAAABHUlEQVR4nO3XsQnCUBQF0K9YO4ClW9i6hE5gnMMp7GwcRAs3yA7OkEorEbR68D8vyjldmsvjchNIKQAAAAAAAAAAAAAAAAAAAAAAAAAAAAAAAAAAAAAAAAAAAAAAAAAAAAAAAAAAAAAAAAAAAAAAAAAAAPylSYvQTdldy6FFcq5p9gG/RFkBFV/D5b5089fDvSzqJY+FZQUoK8H68Sn7ogYsK8PXsrbZF9VnWQHKytD3H6/hJfui+iwrQFkB1X53unJsFT0alpXj/W0fhuNqlX1OA5YVoKyAWb2o4VxOt3pxI2RZAcoCAAAAAAAAAAAAAAAAAAAAAAAAAAAAAAAAAAAAAAAAAAAAAAAAAAAAAAAAAAAAAAAAAAAAANp4Av/oSOicqYBtAAAAAElFTkSuQmCC', 'iVBORw0KGgoAAAANSUhEUgAAASwAAAGQCAAAAAAxHgKnAAABCUlEQVR4nO3UsQ3CQAwFUIciEuMgUWQaxmG5jMAETAFtQhpccJbRe12uOefr+yIAAAAAAAAAAAAAAAAAAAAAAAAAAAAAAAAAAAAAAAAAAAAAAAAAAAAAAAAAAAAAAAAAAAAAAAAAAAAAAAAAAAAAAAAAAAAAAAAAAAAAAAAAAIA/N88l155Kbm1KWAlT9QDfui2xXDbfFYNrVoKwEtqsYbw+D8aPrlkJfZp17Nbw2TUrQVgJndaw/I3XrARhJbQKa5qe+4PDXv5Wq7CqtXrgI2KN6/5g5A9oVoKwErqtYcT9HOsaj4qrNStBWAAAAAAAAAAAAAAAAAAAAAAAAAAAAAAAAAAAAAAA8AYLVgobzw7/2QAAAABJRU5ErkJggg==', 'iVBORw0KGgoAAAANSUhEUgAAASwAAAGQCAAAAAAxHgKnAAAA5klEQVR4nO3TsQ3DMAxFQTrIAGaT/YfJXk4Zt78wbQF3lToSD1QVAAAAAAAAAAAAAAAAAAAAAAAAAAAAAAAAAAAAAAAAAAAAAAAAAAAAAAAAAAAAAAAAAAAAAAAAAAAAAAAAAAAAQOr4+85Ofs2OW9vasT6z49aONUyswNqxfMPnEiuw3b1A7ji9Z9d3WQGxAmIFxAqIFRArIFZArIBYAbECYgXECrzvXiC3V3d1197Vs5NdVkAsAAAAAAAAAAAAAAAAAAAAAAAAAAAAAAAAAAAAAAAAAAAAAAAAAAAAAAAAAAAA4Bo/wBkNm7CoxOIAAAAASUVORK5CYII=', 'iVBORw0KGgoAAAANSUhEUgAAASwAAAGQCAAAAAAxHgKnAAABLUlEQVR4nO3WwY3CUAwEUMMWQQ80QAm0sXcKoAmaoBmEhOgIyXtYGnBI/IP03iXHsSYTRAQAAAAAAAAAAAAAAAAAAAAAAAAAAAAAAAAAAAAAAAAAAAAAAAAAAAAAAAAAAAAAAAAAAAAAAAAAAAAAAAAAAAAAAAAAAAAAAAAAAAAAAAAAAAAAAAAATJbn8+gT5rAdfcA3Udbq3DLzdBp9xccsq0BZBZuemIyIiN+49sQtxLLWJ9/2ow/5iGUVKKug6Qf+HofWvGVYVoGyCto+i2zOW4JlFSirQFkFyipoK+vx/3g+uwIXYFkFyiro+9/zip/mxNlZVkHre872xHlZVoGy1muXeRl9w3SWVaCsVTuOPmA6ywIAAAAAAAAAAAAAAAAAAAAAAAAAAAC+yR/DRRonh469wgAAAABJRU5ErkJggg==', 'iVBORw0KGgoAAAANSUhEUgAAASwAAAGQCAAAAAAxHgKnAAABL0lEQVR4nO3YIQ7CQBAF0IVAkNwCHLfhCFwNgUITuAYJt0AhMOBa7NCy05L31Lo/mfxt2pYCAAAAAAAAAAAAAAAAAAAAAAAAAAAAAAAAAAAAAAAAAAAAAAAAAAAAAAAAAAAAAAAAAAAAAAAAAAAAwC9MEjLXZbstm4zkjqbZA4yJZQ3X8dXIHuULmjVcbbFO2aN8QbMCLCsgbVn7rOAONCvAsgKqfnQsy705L541k/uhWQGzmmG7j/MIi6VZEZYVUPUBfyurnOCeaFaAZQVUvQ2f/7Bcwz9X9T2rdciJ7UizAiwroP41vJ7P5fKoHtsHzQqwrIGaZw/QlWYBAAAAAAAAAAAAAAAAAAAAAAAAAAAAAAAAAAAAAAAAAAAAAAAAAAAAAAAAAAAAAAAAAGPyBj6SIUJ6Z8mnAAAAAElFTkSuQmCC', 'iVBORw0KGgoAAAANSUhEUgAAASwAAAGQCAAAAAAxHgKnAAABQ0lEQVR4nO3UMWpCURAF0J90lqndg52duIEEUruVgKRyLYKdqQPZhLiBrCNMKiHJL2SQMeCcs4B3P/ff94YBAAAAAAAAAAAAAAAAAAAAAAAAAAAAAAAAAAAAAAAAAAAAAAAAAAAAAAAAAAAAAAAAAAAAAAAAAAAAAM54KD7/vvj8m6Kslp4iojjCsvp5jYiIWK1KUywrQVnN7OPkcCgNsqwEZfUxm33GL5PKNMtqI0Y2lXGWlaCsNt7H97AyzrISlNXGYnwN5/O6OMtKuPvvD7jM1+hvvw3PZWmWlaCsPtbrP+/7rjLNshKU1cnPO/hSnGVZnXycZvVYn2VZCcrqZBkRx+P0KlmWlaCsVrbbq0VZFgAAAAAAAAAAAAAAAAAAAAAAAAAAAAAAAAAAAAAAAAAAAAAAAAAAAAAAAAAAAAAA1PgGF/WLRVTq+zIAAAAASUVORK5CYII=', 'iVBORw0KGgoAAAANSUhEUgAAASwAAAGQCAAAAAAxHgKnAAABSklEQVR4nO3XMUoEQRAF0NINPIAD4kkWNhDWS+w59hLexL3HZp5EQU0FszWeiSzBamp4L+tJ/vSnGrojAAAAAAAAAAAAAAAAAAAAAAAAAAAAAAAAAAAAAAAAAAAAAAAAAAAAAAAAAAAAgF+7Gv0Df7WJaYrpXJp5XZrWnLLW6+kyt9tVppusBGUlNCvrtFgfDpXpzcoaq9s96zJfvsddYbjJSlBWQrdj+Bm38w+VGzBZCcpK6FbWaXnTui8M71YWCdvt4il9LAw3WQnKWrXFMXwpjDZZCcpK6Pbcifi+ma8Ld2CyEvqV9Twuul9ZAylr1R7n96yP/b4s2mQlKCuh3z0rHuL1Lb5GJJssAAAAAAAAAAAAAAAAAAAAAAAAAAAAAAAAAAAAAAAAAAAAAAAAAAAAAAAAAAAAAAAAAAAAAAAAAAAAAAAAAPgfP1XZSqcrzlPNAAAAAElFTkSuQmCC', 'iVBORw0KGgoAAAANSUhEUgAAASwAAAGQCAAAAAAxHgKnAAAA9ElEQVR4nO3VsQ3CQBAEwMOiAkqBNp1Cky7iSZBFYIKN7oGZClarPV0VAAAAAAAAAAAAAAAAAAAAAAAAAAAAAAAAAAAAAAAAAAAAAAAAAAAAAAAAAAAAAAAAAAAA/2pZuhO8zJLjKyjrV1zWdYwxumPsLCtw7g7w0TyD2llWQFkBZQWUFVBWYNZveOoOcMSyArMu69Yd4IhlBZQVcIYBywooK+AMA5YVmHVZ16qt7o/auoO8s6yAsgAAAAAAAAAAAAAAAAAAAAAAAAAAAAAAAAAAAAAAAAAAAAAAAAAAAAAAAAAAAAAAAAAAAAAAAAAAAABo9wS95AovEUwTeQAAAABJRU5ErkJggg==', 'iVBORw0KGgoAAAANSUhEUgAAASwAAAGQCAAAAAAxHgKnAAABP0lEQVR4nO3XsW3CUBQF0BeC0jEAs1iegUHSMgw9JQ1DpMwEqbMBokj1U4FTEONXPVs6p3rl1dVFfEcAAAAAAAAAAAAAAAAAAAAAAAAAAAAAAAAAAAAAAAAAAAAAAAAAAAAAAAAAAAAAAAAAAAAAAAAAAAAAAAAAAAAAAAAAAAAAANx13eF6fa9OMWJVHWBJXqoDRETEOXa3cx6BHrOsBGUtzb4NqrOMsawEZSXM4s9n+O318VGY4xnLSpjZsmYR51+WlaCshHV1gIjjcH7VpZjCshKUtSx/vnU21VnGWVZC/cPm7We469OMsqwEZSXUv7M+79epMMUklpWgrEVprbXL5dD31UGes6yE6pfNNl6/iyNMZ1kJygIAAAAAAAAAAAAAAAAAAAAAAAAAAAAAAAAAAAAAAAAAAAAAAACg3C/+cynoAhifjgAAAABJRU5ErkJggg==', 'iVBORw0KGgoAAAANSUhEUgAAASwAAAGQCAAAAAAxHgKnAAABMklEQVR4nO3YMWrDQBAF0J+QJiGdwWVukV5HyFVT6jghtRvrAHZru0nG4F0G3usWBH/5ml2EEgAAAAAAAAAAAAAAAPi3p9kbuMcpyZZ1zfo7NPd5aFpzLSdre79anka9cZNVoKyClmUdr5fDrpKWZc2irIKWZR3/fuQhWpY1S8uytkm5LcuaRVkFLctywTegrIKWZd0ew91uTG7LsmZ5mb2Be9x+Z33kMCTXZBUoq6Dlb+Uk+cyyZHlLknzle0imySpQVkHbY3jhdZ+fIUEmCwAAAAAAAAAAAAAAAAAAAAAAAAAAAAAAAAAAAAAAAAAAAAAAAAAAAAAAAAAAAAAAAAAAAAAAAAAAAAAAAAAAAAAAAAAAAAAAAAAAAAAAAAAAAAAAAAAAAAAAAAAAAAAAAB7jDFqkERMlivoZAAAAAElFTkSuQmCC', 'iVBORw0KGgoAAAANSUhEUgAAASwAAAGQCAAAAAAxHgKnAAAA/klEQVR4nO3WOwoCQRAE0PaTGe/gFTyD1zHwyJ7EdDdaEfxAR93Ke9GERVEDHQEAAAAAAAAAAAAAAAAAAAAAAAAAAAAAAAAAAAAAAAAAAAAAAAAAAAAAAAAAAAAAAAAAAAAAAABQbFMd4KtdXKcYI6YRp+osEbGtDvBLlJXQ+xvO66NHTMtKUFZC67Ka/cLeZXWzrw7w2W19XCpTPLOsBGX9hfO8qk7yYFkJykpocsG80e3ICstK6XpnHeNwr87wwrISlAUAAAAAAAAAAAAAAAAAAAAAAAAAAAAAAAAAAAAAAAAAAAAAAAAAAAAAAAAAAAAAAAAAAAAAAAAAkLAARbIPrXt4WYEAAAAASUVORK5CYII=', 'iVBORw0KGgoAAAANSUhEUgAAASwAAAGQCAAAAAAxHgKnAAAA8klEQVR4nO3WsQ3CMBQE0A/zUDEcOzBJxqHKPKagx7kisaO818bF6XSxXAUAAAAAAAAAAAAAAAAAAAAAAAAAAAAAAAAAAAAAAAAAAAAAAAAAAAAAAAAAAAAAAAAAAAAAAAAAAAAAAAAAAAAAAAAAAAAAAMDR2ugAs7mPDnAmygrc/n1sVZ96HhVlfpYV6C2rf+hCLCugrEDnD2ubTl2FZQWUFVBWQFmB3tX9u+HXeuwfZX6WFVBWYMML6lVvL62qsqyIsnawjA4wA8sCAAAAAAAAAAAAAAAAAAAAAAAAAAAAAAAAAAAAAAAAAAAAAAAAAOAL6DoIyFrP4ocAAAAASUVORK5CYII=', 'iVBORw0KGgoAAAANSUhEUgAAASwAAAGQCAAAAAAxHgKnAAABdklEQVR4nO3YMUpDQRAG4PFhoWdYSeEhbD2BHtFD6CX0CjaC1bO1EsHEJsK6YGCq2cj3VclWP8M/L28TAQAAAAAAAAAAAAAAAAAAAAAAAAAAAAAAAAAAAAAAAAAAAAAAAAAAAABQ7KQ6wCGbs1jfq0N0luoAx8SwEqZew6er/YfPNd7WWO/isTSPZiUYVsLUa7gbvl/GS0mOH5qVcFTNqg6rWQmGlXBaHeBv1+NB+c1HsxIMK2HiNbwZD+4rUvQ0K2HiZt2OBw8VKXqalWBYCdU3iAPGy06cf1TE6GhWgmElzLuGy9d4Up5VsxLmfc8aX+CfS1L8olkJhpUw7xqOt53ya7RmpRhWwrxrOP4alv/noFn/xOt2u+tV5wnNSjGshHkf8JuIiFhatBYXLVpxnAjNSjEsAAAAAAAAAAAAAAAAAAAAAAAAAAAAAAAAAAAAAAAAAAAAAAAAAAAAAAAAAAAAAAAAAAAAAAAAAAAAAAAAAAAAAPgGFTYmPyJyODEAAAAASUVORK5CYII=', 'iVBORw0KGgoAAAANSUhEUgAAASwAAAGQCAAAAAAxHgKnAAABHklEQVR4nO3WwQnCQBAF0FVsxLtHwQ4sIiDYgB3YmEXYRUBShKwHL8lxSHY3gfdOyWVn+PwNSQkAAAAAAAAAAAAAAAAAAAAAAAAAAAAAAAAAAAAAAAAAAAAAAAAAAAAAAAAAAAAAAAAAAAAAAAAAAAAAAAAAAAAAAAAAAAAAAACAme6tF5hr33qBLakR1vP5zTnnfKkwqyjNChBWwK7o6a90rTarAs0KEFZA2auRR8/vdC46qwLNWotHHmm9zAI0K0BYAUU/8JOrt/m/LM0KEVbAodzRx8nbqdygajRrHfr+/4P16brWqyxEswKEtQ7DcGu9wsI0K0BYAAAAAAAAAAAAAAAAAAAAAAAAAAAAAAAAAAAAAAAAAAAAAAAA8AOqciPp66kF7gAAAABJRU5ErkJggg==', 'iVBORw0KGgoAAAANSUhEUgAAASwAAAGQCAAAAAAxHgKnAAABD0lEQVR4nO3XIQ7CQBBA0YEguQWGE3CAUs1hEZUcAMkBOAAeXVzZ0JIyCFqS99wmIzY/s2IjAAAAAAAAAAAAAAAAAAAAAAAAAAAAAAAAgI8tpr7AfLQR9yaaJm7vJpa/vM6/EyvBM+y05WGwi81KECtBrM5ldEKsBLE6x9EJsRLE4hu7tlBVAxM2K0GshNXUF5iPc3k4xKk/YbMSfKSfyp/0NTb9AZuVIFaCZ/hiXce+ju1gGZuVIBYAAAAAAAAAAAAAAAAAAAAAAAAAAAAAAAAAAAAAAAAAAAAAAAAAAAAAAAAAAAAAAAAAAAAAAAAAAAAAAAAAAAAAAAAAAAAAAAAAAAAAAAAAAAAAAAAAPADwMxkxrlkk7QAAAABJRU5ErkJggg==', 'iVBORw0KGgoAAAANSUhEUgAAASwAAAGQCAAAAAAxHgKnAAABQElEQVR4nO3YIW7DQBAF0E1UUKkwqGdxYW+UKxQY5Aq+QUnPUFJSmtyiKHyLYpmOZiOv2/fQkoxGX3+AUwoAAAAAAAAAAAAAAAAAAAAAAAAAAAAAAAAAAAAAAAAAAAAAAAAAAAAAAAAAAAAAAAAA8He8rr3A3e3XXuDfeZ6mWmvd7dZe5M40K0BYAQ/J3x/L2+Pt/VI+k9M6p1kBwgrInuFp8R6cIbNss5aGhrO6pFkBwgrIfqHUxfunHJLTOqdZAcIKyJ7htTw1nNY5zQrIhnU+N1ljGzQrQFgB2bAulyZrbINmBQgrIPuvw3yF72X8Ts7qnmYFNGjWVxk/muzSPc0KEBYAAAAAAAAAAAAAAAAAAAAAAAAAAAAAAAAAAAAAAAAAAAAAAAAAAAAAAAAAAAAAAAAAAAAAAAAAAAAAq/sFzbEVoaogbCAAAAAASUVORK5CYII=', 'iVBORw0KGgoAAAANSUhEUgAAASwAAAGQCAAAAAAxHgKnAAABUElEQVR4nO3YMU7DQBAF0CFCyDkCDX3OgcItKCOl4m5p6DgHNSUNlSsokobCTjdSJpYm78nNNjvrr1lrvREAAAAAAAAAAAAAAAAAAAAAAAAAAAAAAAAAAAAAAAAAAAAAAAAAAAAAAAAAAAAAAAAAAAAAAAAAAAAAAAAAAAAAAAAAAAAAAAAAAAAAAAAAAAAAAAAAAAAAAAAAAAAAAAAAC7tbegGX8TrEeohh/f+8fZdUWZXM2pSwbs9xbldTRWclCCuhSVjv8+G2pkqTsEjYzz/wPzVVdFaCsG7P49lBq6aKzkoQVkKTW4c423g1r6WzEpqGtdlUzNo0rBrCSrhfegEX8hHP0+FLfBYU0VkJwkroEtbhMBtuS260uoR1FV1O8E/xNR3+xUNBEZ2VIKyELtvwKr/SOitBWAldfncmfscYx5KZdRYAAAAAAAAAAAAAJ55DPQ9T4+E8AAAAAElFTkSuQmCC', 'iVBORw0KGgoAAAANSUhEUgAAASwAAAGQCAAAAAAxHgKnAAAA8UlEQVR4nO3WsQ3DMAwEQDrjZIuM5C2M7JBF09CF+wCUC1rO3QIiHi/gIwAAAAAAAAAAAAAAAAAAAAAAAAAAAAAAAAAAAAAAAAAAAAAAAAAAAAAAAAAAAAAAAAAAAAAAAAAAAAAAAAAAAAAAAAAAAAAAAAAAAAAAAAAAAAAAAIC/83l2XzDs0X0Av7wyMzO7zxihWQXCurbjG367zxigWQXCKlga3sy2l0/SrIKOsLYtImLCqaVZBcK6vGNqrd1nVGlWgbAKmtbOnFNLsybxnm1qaVaBsAAAAAAAAAAAAAAAAAAAAAAAAAAAAAAAAADgpnbDAhwWYXBvWAAAAABJRU5ErkJggg==', 'iVBORw0KGgoAAAANSUhEUgAAASwAAAGQCAAAAAAxHgKnAAABLElEQVR4nO3WMWoCURQF0FHs7FILNtlBSlcgBEQsbNxuOneQQqxnAyLCswlkLJ/F+/A5p/vVu1zuwAwDAAAAAAAAAAAAAAAAAAAAAAAAAAAAAAAAAAAAAMDbjsfHdlt5cF55jBY2m2tERETtWctKUFbH1uuf+Pdde9yyEpTVr3O8KL5uWQmL1gFyvqaPffV1y0pQVsKsdYCM3+Fz+izPblkJyurU8vUn61AewLI6NU53dbnUB7CsBGV1abX6+wDHcdcogmUlKKtL93vcbqemESyrRx+tAwyWlaIsAAAAAAAAAAAAAAAAAAAAAAAAAAAAAAAAAAAAAAAAAAAAAAAAAAAAAAAAAAAAAAAAAAAAAAAAAAAAAAAAAAAAAAAAAAAAAAAAAAAAAAAAAJp7AqZ6UdHUGkXyAAAAAElFTkSuQmCC', 'iVBORw0KGgoAAAANSUhEUgAAASwAAAGQCAAAAAAxHgKnAAAA4UlEQVR4nO3WUQ1CQQxFwYIKVOCODxSALjCBA2QUDTcv2wdhxkCbk2azVQAAAAAAAAAAAAAAAADAvzvMjHnXqaqudZ8Zt8hx7wV+iVhf59bd3b33Glu5rMDMA9+Tw9ZxWQGxAmIFxAqIFRArIFZg4utzqfOjnq+BSYu5rIBYAAAAAAAAAAAAAAAAAAAAAAAAAAAAAAAAAAAAAAAAAAAAAAAAAAAAAAAAAAAAAAAAAAAAAAAAAAAAAAAAAAAAAAAAAAAAAAAAAAAAAAAAAAAAAAAAAAAAAAAAAAAAAAAAAACBD+3eDJ1ulX9aAAAAAElFTkSuQmCC', 'iVBORw0KGgoAAAANSUhEUgAAASwAAAGQCAAAAAAxHgKnAAABEElEQVR4nO3Wuw3CQBAFwIOuHFKDmyAhdUwNSA5cKtGSQAEr3Q9rJrrIu3p+wZYCAAAAAAAAAAAAAAAAAAAAAAAAAAAAAAAAAAAAAAAAAAAAAAAAAAAAAAAAAAAAAAAAAAAAAAAAAAAAAAAAAAAAAAAAAAAAAAAAAAAAAAAAAADMYN9Hb1DbdfQC/0RYc4iIiPe6jt6jHs1KEFbCpd2nH+XVYUpPmpXQ9J9Hlyn9aFaCsBL6hPXsMqU5zUoQ1ixu8TN6kzo0K6HtBXSyQ0uzEoSV0Das4/g+tq3pnE40K0FYc7mf5tLSrPksy+gNatCsBGEBAAAAAAAAAAAAAAAAAAAAAAAAAAAAAAAAAAAAJHwArBkcmZgbZMIAAAAASUVORK5CYII=', 'iVBORw0KGgoAAAANSUhEUgAAASwAAAGQCAAAAAAxHgKnAAABIklEQVR4nO3XsQ3CUAwEUBPR0DIIi9BnBxZiFCR2YRUUCqhIUlgC2ZHem+B0OvxDBAAAAAAAAAAAAAAAAAAAAAAAAAAAAAAAAADwA+N4r47wZagOsCXKSthVB1hxiWu/cJaVsK8OsGyKiEd1iBnLSlBWQrcbGhHvH2HHaJaVoKyEvmU9qwPM9S2roX5XtO99t6wMZSX0+7tzqA6wzrISlJXQ781p+xZaVkq7A3+MiHPcqmMssqwEZW3ZdDpVR1hlWQnKSmj2Gg49P7A+LAsAAAAAAAAAAAAAAAAAAAAAAAAAAAAAAAAAAAAAAAAAAAAAAAAAAAAAAAAAAAAAAAAAAAAAAAAAAAAAAAAAAAAAAAAAAAAAAAAAAAAAAAAAAAAA/uMFMs8K8k9IBBgAAAAASUVORK5CYII=', 'iVBORw0KGgoAAAANSUhEUgAAASwAAAGQCAAAAAAxHgKnAAABTElEQVR4nO3YIVIDQRAF0A6VM0RiY7LYnArPhXIFbCQIDpBjIOIXA4shG1p1T9V7akTEr5+f7NRGAAAAAAAAAAAAAAAAAAAAAAAAAAAAAAAAAAAAAAAAAAAAAAAAAAAAAAAAAAAAAAAAAAAAAAAAAAAAAAAAAAAAAAAAAAAAAJTb76sT/NdDdYCRKCthWx0g4ikuEfEZ72/x+lEdZpVlJWyqA0REzMupRZybLCtBWQk9dv/7O2wS6G+WlaCshB5lnU7L8aUwxj09yhpEl//TIa5alpWgrIQuZT0up3le+VitLmUNQVkjul7nH1N1llssK6HRrab/VcuyEpSV0Kis5+V0PhfGWNGorP6UldDpwdP+5bJlJfT6Co+HOEwx7brl+mZZCcoCAAAAAAAAAAAAAAAAAAAAAAAAAAAAAAAAAAAAAAAAAAAAAAAAoNwX3eocY0yz+LcAAAAASUVORK5CYII=', 'iVBORw0KGgoAAAANSUhEUgAAASwAAAGQCAAAAAAxHgKnAAABHklEQVR4nO3YwQ0CMQwEQIP4UwfVUAA1UDZ/OggP+F/8QLalmQpWq80plwgAAAAAAAAAAAAAAAAAAAAAAAAAAAAAAAAAAAAAAAAAAAAAAAAAAAAAAAAAAAD+6XarTnDsXB2AvFUdYIdlJSgr4VIdICKGHELLSlFWQouyVsSjOsOOFmVNcaoO8Pu6N8hxzLISlJVQX9aQO1ZEh7IGUVZCj9+dZ3WAPZaVUH2/uca7QYpNlpWgrITqA7BapNhkWQnKSmhQ1us15BR2KItN97VGvJF+WVaCsuYY9JgVlpWiLAAAAAAAAAAAAAAAAAAAAAAAAAAAAAAAAAAAAAAAAAAAAAAAAAAAAAAAAAAAAAAAAAAAAAAAAAAAAAAAAACAST5FSQ3CG62+DgAAAABJRU5ErkJggg==', 'iVBORw0KGgoAAAANSUhEUgAAASwAAAGQCAAAAAAxHgKnAAABGklEQVR4nO3WsQ0CMRAEwIPQSAiJCghojAqogBaIiWjlK6KFJ+NDuOj+0EzkzKvVWnIEAAAAAAAAAAAAAAAAAAAAAAAAAPxsUx3gm3PsR4xdjBG7e3GWbfH9rax+WddY9lQd1rISlJVQvewfzJ/TJZ6FOSwrRVkJrZ7hK46FOSwrpdWyquNaVoKyEhqU9agO8NGgrPVQ1n85zYtbaRLLSmjwz1rPR8uyEpSVoKwEZSUoK6FDWdO0nA+HqhTRoywAAAAAAAAAAAAAAAAAAAAAAAAAAAAAAAAAAAAAAAAAAAAAAAAAAAAAAAAAAAAAAAAAAAAAAAAAAAAAAAAAAAAAAAAAAAAAAAAAAAAAAAAAAAAAAAAAAAAAAOjoDTe2Ffo3KkTYAAAAAElFTkSuQmCC', 'iVBORw0KGgoAAAANSUhEUgAAASwAAAGQCAAAAAAxHgKnAAABTElEQVR4nO3WsW0DMQxAUUWZIbU9RqbJFs5KHsaFGw9j5Iqk8bWxWJE03qvUHfFB6DQGAAAAAAAAAAAAAAAAAAAAAAAAAAAAAAAAAAAAAAAAAAAAAAAAAAAAAAAAAAAAAAAAAAAAAAAAAAAAAAAAAAAAAAAAAAAAAAAAwEt6y/38PIw5x3wf85Y7yJKZPUAnyZs1fvdD9iArbFaAWAHZsc7nx+F0Sp1jSXasVsQKyP8JNfof2qwAsQLEChArID/W5364ZE6xJD9WI2IFFHjc9Hlo2ayAArGu18fheMwcY0GBWH2IFVDiUu1yxdusALECxAoQK6BErK/98J05xXMlYnUhVkCNl02Th5bNChAroEas+z17giU1YjVR5Ub92Mb2M7bsMf5nswLEAgAAAAAAAAAAAAAAAAAAAAAAAAAAAAAAAAAAAAAAAACAF/UHTPsSIXwPQocAAAAASUVORK5CYII=', 'iVBORw0KGgoAAAANSUhEUgAAASwAAAGQCAAAAAAxHgKnAAABEElEQVR4nO3Yuw3CMBQF0AeiRZmAhqUQOzAIPUMwBwukQmIAOjomgDqheoqdjzintBTr6unashIBAAAAAAAAAAAAAAAAAAAAAAAAAAAAAAAAAAAAAAAAAAAAAAAAQA2r4VvsY3cbvssSrKcOsCSGVVXTtJ+eqSONRbMSNukvnrHtLpwLRZk/zUowrJoO/dv9b653zUoxrJp+TuFx6kTj0ayE5Dvr0l94x7VUlPnTrATDSkj+z+o+qh5xP8WrYJqZ06wEwwIAAAAAAAAAAAAAAAAAAAAAAAAAAAAAAAAAAAAAAAAAAAAAAAAAAAAAAAAAAAAAAAAAAAAAAAAAAAAAAAAAAAAAAAAAAAAAAAAA6vgC5Jk8ML64r14AAAAASUVORK5CYII=', 'iVBORw0KGgoAAAANSUhEUgAAASwAAAGQCAAAAAAxHgKnAAABU0lEQVR4nO3XsUkFQRQF0KexYA8GZjagPzG3BiswtA0jcyuwBmEFwR5ks1+C+Rp9/owLwovmrZyTTXa5e2FmIwAAAAAAAAAAAAAAAAAAAAAAAAAAAAAAAAAAAAAAAAAAAAAAAAAAAAAAAAAAAAAAAAAAAAAAAAAAAAAAAAAAAAAAAAAAAAAAAAAAAAAAAAAAAAAAAAD4l05GB/jt/iWmKd6nWEYnWTsdHWBLlLVpS2Oer0fHaVlWgrISyt2G8RwP7bFSQMtKqPThDroX1mV8jcqxYlkJytq4z/aptd+PjnNkWQnK2rizpTM6zpFlJVQs67tf0+uoHCsVyypLWQkVf3fiNt7aY5mMlpWgrIQyE+911+FjPI3K0bOshKLLOr+L3U1cHY5FUlpWgrISigz8Lxe7+JhHh4gIy0pRFgAAAAAAAAAAAAAAAAAAAAAAAAAAAAD8ALipPDjqX00RAAAAAElFTkSuQmCC', 'iVBORw0KGgoAAAANSUhEUgAAASwAAAGQCAAAAAAxHgKnAAABPklEQVR4nO3YsU0DQRAF0IMKCEkQXdACskVMSuDAtdCFq3AJTpwT0IIjKhgytA5H1iwa3XvZJvfvvn5w2mUBAAAAAAAAAAAAAAAAAAAAAAAAAAAAAAAAAAAAAAAAAAAAAAAAAAAAAAAAAAAAAAAAAAAAAAAAAAAAAAAAAAAAAAAAAADgNm8Ts+4nZrWnrDWJiDgeX6ZkWVaCstYk/hwOz8VZlpVw998vcKsYDw/LT2WWZSUoK6F9WefxsN2WZrUvayZlJbQv6zQeNpvSrPZlkfAeg8ulNMuyEpS1Jk9xpTTLshKUldD+1uH62qH2eywroX9Z+/33rKj+ZU2krBXa7b4iIuK1MsSyEpSV0P8/a/SxPH4WPt6yAAAAAAAAAAAAAAAAAAAAAAAAAAAAAAAAAAAAAAAAAAAAAAAAAAD4BQlFPN38OY2IAAAAAElFTkSuQmCC', 'iVBORw0KGgoAAAANSUhEUgAAASwAAAGQCAAAAAAxHgKnAAABN0lEQVR4nO3YwW3CQBQE0B9IATRAFzRAA2kh7URphH6Q6IB70sHnQAUjsQbW7xXgsUejle0qAAAAAAAAAAAAAAAAAAAAAAAAAAAAAAAAAAAAAAAAAAAAAAAAAAAAAAAAAAAAAAAAAAAAAAAAAAAAAAAAAAAAAAAAAAAAAAAAAAAAAAAAAAAAAAAAAHhtx+NpcMJm8PWnoqz1+bpcursHp1hWQFnr093dfR6cYlnrc1/WYXCKZQWUFfh49g08xv0Na/TDWFZAWQFlBZQVUFZAWQFlBT6ffQOP8L1QjmUFlBWY4nPnr3ZVda394BzLCkxxwO+qaolj3rICygpMccAv8zfLsiLKCigroKzAFO9ZVf+/9TM+xbICylqZ7VJBlhVQFgAAAAAAAAAAAAAAAAAAAAAAAADAO7kB20YbMMMzFrkAAAAASUVORK5CYII=', 'iVBORw0KGgoAAAANSUhEUgAAASwAAAGQCAAAAAAxHgKnAAABKklEQVR4nO3XsQkCQRAF0PEwtwebsQAj4SL7MLMNU+uwE8EKxMjsDAQxdGAWcX0v2uhz9/nHsREAAAAAAAAAAAAAAAAAAAAAAAAAAAAAAAAAAAAAAAAAAAAAAAAAAAAAAAAAAAAAAAAAAAAAAAAAAADwU4ahPrI8sWPK+nvr+32apvJYy0pQVsL82w9Q7Rib5+FSn21ZCX0taxuH1/lUH29ZCcpK6OszXL2dT/XxlpWgrITZtx+g1DUWr/MyztXxlpXQ17Le784N3syyEpSVoKwEZSUoK6HPsm7j2OI332dZjXR1kR4iYhf7pvl8SFn/qvXdzbISlAUAAAAAAAAAAAAAAAAAAAAAAAAAAAAAAAAAAAAAAAAAAAAAAAAAAAAAAAAAAAAAAAAAAA9UQg/XbXXBcwAAAABJRU5ErkJggg==', 'iVBORw0KGgoAAAANSUhEUgAAASwAAAGQCAAAAAAxHgKnAAAA6ElEQVR4nO3U0Q0CMQxEwQVRCKIJeqI5OrzQAcQfJydopoLVk+UEAAAAAAAAAAAAAAAAAAAAAAAAAAAAAAAAAAAAAAAAAAAAAAAAAAAAAAAAAM717B7w07V7wE7EKrh0D0iSjCSrbPnCZRWIVbBErHeS5N47YsISsXaxxFPd5L+7rAqxCsQqEKtArIJb94Dk0T1gmsvayxjjOF7dK2a4rAKxAAAAAAAAAAAAAAAAAAAAAAAAAAAAAAAAAAAAAAAAAAAAAAAAAAAAAAAAAAAAAAAAAAAAAAAAAAAAAAAAAAAAAAAAAOBPfQCutAiuCFF5KwAAAABJRU5ErkJggg==', 'iVBORw0KGgoAAAANSUhEUgAAASwAAAGQCAAAAAAxHgKnAAABF0lEQVR4nO3XsRHCMAwFUIeKmhHYgZ75mYMNqKhEwwIKsWxz7y0g3b+fnNwaAAAAAAAAAAAAAAAAAAAAAAAAAAAAAAAAAAAAAAAAAAAAAAAAAAAAAAAAAAAAAAAAAAAAAAAAAAAAAAAAAAAAAAAAAAAAAAAAADCZ6+gFjnEavcBKhDWfiNEbHEGzEoSVUBbWP3yHmjWjiLiP3uFXmpUgrIStalC01t7tXDWuC81KENaMnhGx+qNHsxLKfvDfE75uXgealSCsBGElCCtBWAl1YW3bq2xWJ5qVUHr33Npj6UtLsxKENbGl39KalSCsqV1GL7CfZgEAAAAAAAAAAAAAAAAAAAAAAAAAAAAAAAAAAAAAAAAAAEAfH5wVE3KVQckHAAAAAElFTkSuQmCC', 'iVBORw0KGgoAAAANSUhEUgAAASwAAAGQCAAAAAAxHgKnAAABBklEQVR4nO3XQQoCMQwF0Chib6KeVRA9qZ5AdCFM15lFaof3Vtm1E34TJgIAAAAAAAAAAAAAAAAAAAAAAAAAAAAAAAAAAAAAAAAAAAAAAAAAAAAAAAAAAAAAAAAAAAAAAAAAAAAAAAAAAAAYbDf6AuudLtGO0Vq0R9GJ+6JzNmHiZH2WquojJCtBsxIOoy+w1rWXZaNEshI0K2Habdh3oWf4l2Yd8LelKnwbkpWgWQmzDvj6f52QrBTNSphzG957WTlHJCthzgH/G+/veD3jXHisZCVoFgAAAAAAAAAAAAAAAAAAAAAAAAAAAAAAAAAAAAAAAAAAAAAAAAAAAAAAAAAAAABs1BfLVgnV/dD7GwAAAABJRU5ErkJggg=='];\n",
       "            let current_image = 0;\n",
       "    \n",
       "            function updateImage() {\n",
       "                let slider = document.getElementById(\"imageSlider_8df67ec682a526d7b93dab45457eff4ce4afbd9ce7f343ecca9cc9409e543c80\");\n",
       "                current_image = parseInt(slider.value);\n",
       "                let displayedImage = document.getElementById(\"displayedImage_8df67ec682a526d7b93dab45457eff4ce4afbd9ce7f343ecca9cc9409e543c80\");\n",
       "                displayedImage.src = \"data:image/png;base64,\" + base64_images[current_image];\n",
       "                let imageNumber = document.getElementById(\"imageNumber_8df67ec682a526d7b93dab45457eff4ce4afbd9ce7f343ecca9cc9409e543c80\");\n",
       "                imageNumber.innerHTML = \"Image \" + current_image + \"/49\";\n",
       "            }\n",
       "            \n",
       "            document.getElementById(\"imageSlider_8df67ec682a526d7b93dab45457eff4ce4afbd9ce7f343ecca9cc9409e543c80\").addEventListener(\"input\", updateImage);\n",
       "        })();\n",
       "    </script>\n",
       "    "
      ],
      "text/plain": [
       "<IPython.core.display.HTML object>"
      ]
     },
     "metadata": {},
     "output_type": "display_data"
    }
   ],
   "source": [
    "n_sessions = 5\n",
    "size_im = (300,400)\n",
    "max_rois_per_session = 50\n",
    "\n",
    "spatialFootprints = make_ROIs(\n",
    "    n_sessions=n_sessions,\n",
    "    max_rois_per_session=max_rois_per_session,\n",
    "    size_im=size_im,\n",
    ")\n",
    "\n",
    "print(f'Number of sessions: {len(spatialFootprints)}')\n",
    "print(f'Number of ROIs per session: {[sf.shape[0] for sf in spatialFootprints]}')\n",
    "print(f'Shape of each spatialFootprints image: {spatialFootprints[0][0].shape}')\n",
    "\n",
    "roicat.visualization.display_toggle_image_stack(spatialFootprints[0], image_size=size_im)"
   ]
  },
  {
   "attachments": {},
   "cell_type": "markdown",
   "id": "5c4a470a",
   "metadata": {},
   "source": [
    "Now let's make a new `Data_roicat` and populate it with `spatialFootprints`. Again we need to specify a `um_per_pixel` value."
   ]
  },
  {
   "cell_type": "code",
   "execution_count": null,
   "id": "8e500836",
   "metadata": {},
   "outputs": [],
   "source": [
    "data_custom = roicat.data_importing.Data_roicat()\n",
    "\n",
    "data_custom.set_spatialFootprints(\n",
    "    spatialFootprints=spatialFootprints,\n",
    "    um_per_pixel=2.0,\n",
    ")"
   ]
  },
  {
   "attachments": {},
   "cell_type": "markdown",
   "id": "317d8308",
   "metadata": {},
   "source": [
    "We could have also converted our input `spatialFootprints` into sparse arrays:"
   ]
  },
  {
   "cell_type": "code",
   "execution_count": null,
   "id": "30afd3fa",
   "metadata": {},
   "outputs": [],
   "source": [
    "import scipy.sparse\n",
    "\n",
    "spatialFootprints_sparse = [scipy.sparse.csr_matrix(sf.reshape(sf.shape[0], -1)) for sf in spatialFootprints]\n",
    "\n",
    "data_custom.set_spatialFootprints(\n",
    "    spatialFootprints=spatialFootprints_sparse,\n",
    "    um_per_pixel=2.0,\n",
    ")"
   ]
  },
  {
   "attachments": {},
   "cell_type": "markdown",
   "id": "635a4e21",
   "metadata": {},
   "source": [
    "We also need `FOV_images` for tracking, so lets make some fake mean FOV images **with the same shape and number of sessions as spatial footprints**:"
   ]
  },
  {
   "cell_type": "code",
   "execution_count": null,
   "id": "dd56fafb",
   "metadata": {},
   "outputs": [],
   "source": [
    "data_custom.set_FOV_images([np.random.rand(*size_im) for ii in range(n_sessions)])"
   ]
  },
  {
   "attachments": {},
   "cell_type": "markdown",
   "id": "42707317",
   "metadata": {},
   "source": [
    "Finally, we can convert the `spatialFootprints` into ROI_images:"
   ]
  },
  {
   "cell_type": "code",
   "execution_count": null,
   "id": "4ce6c84a",
   "metadata": {},
   "outputs": [],
   "source": [
    "data_custom._transform_spatialFootprints_to_ROIImages(out_height_width=(36, 36));"
   ]
  },
  {
   "attachments": {},
   "cell_type": "markdown",
   "id": "0b83ba28",
   "metadata": {},
   "source": [
    "Let's look at `.check_completeness()` again to see what we can do with this data object now:"
   ]
  },
  {
   "cell_type": "code",
   "execution_count": null,
   "id": "d5913f6f",
   "metadata": {},
   "outputs": [],
   "source": [
    "data_custom.check_completeness()"
   ]
  },
  {
   "attachments": {},
   "cell_type": "markdown",
   "id": "e23e52ee",
   "metadata": {},
   "source": [
    "We can do **tracking** and **classification-inference** now!\n",
    "\n",
    "Let's finish the exercise by adding `class_labels` so that we can use this data object for **classification-training** as well.\n",
    "\n",
    "`class_labels` should be a list of lists of integers. The outer list of should be of length `n_sessions` and the inner lists should be of length `n_rois` for that session. Each element should be an integer, and the set of integers should be consecutive and non-negative (ie: 0,1,2,3)."
   ]
  },
  {
   "cell_type": "code",
   "execution_count": null,
   "id": "cc22eea4",
   "metadata": {},
   "outputs": [],
   "source": [
    "possible_labels = np.array(['n', 'd', 'j'])  ## 'neuron', 'dendrite', 'junk'\n",
    "class_labels = [possible_labels[np.random.randint(0,3, size=n)] for n in data_custom.n_roi]  ## List of arrays of str\n",
    "\n",
    "data_custom.set_class_labels(labels=class_labels, n_classes=len(possible_labels))"
   ]
  },
  {
   "attachments": {},
   "cell_type": "markdown",
   "id": "24773706",
   "metadata": {},
   "source": [
    "You can also import `class_labels` from a file. Each file should correspond to one session. The files can either all be .npy files containing a 1D numpy array of length `n_roi` for that session, or a .npy / .pkl file containing dictionaries with the field `'labels'` that has the value of a 1D numpy array of length `n_roi`."
   ]
  },
  {
   "cell_type": "code",
   "execution_count": null,
   "id": "dfd25534",
   "metadata": {},
   "outputs": [],
   "source": [
    "## From .npy files containing 1D arrays\n",
    "paths_temp_classLabels = [str(Path(tempfile.gettempdir()) / f'test_classLabels_{ii}.npy') for ii in range(n_sessions)]\n",
    "[np.save(p, l) for p, l in zip(paths_temp_classLabels, class_labels)]\n",
    "\n",
    "data_custom.set_class_labels(path_labels=paths_temp_classLabels, n_classes=len(possible_labels))\n",
    "\n",
    "## From .pkl files containing dictionaries with 'labels' field with values of 1D arrays\n",
    "paths_temp_classLabels = [str(Path(tempfile.gettempdir()) / f'test_classLabels_{ii}.pkl') for ii in range(n_sessions)]\n",
    "[roicat.helpers.pickle_save({'labels': l}, p) for p, l in zip(paths_temp_classLabels, class_labels)]\n",
    "\n",
    "data_custom.set_class_labels(path_labels=paths_temp_classLabels, n_classes=len(possible_labels))"
   ]
  },
  {
   "attachments": {},
   "cell_type": "markdown",
   "id": "6e9eda11",
   "metadata": {},
   "source": [
    "Let's look at `.check_completeness()` again to see what we can do with this data object now:"
   ]
  },
  {
   "cell_type": "code",
   "execution_count": null,
   "id": "c4c2934d",
   "metadata": {},
   "outputs": [],
   "source": [
    "data_custom.check_completeness()"
   ]
  },
  {
   "attachments": {},
   "cell_type": "markdown",
   "id": "12875c3a",
   "metadata": {},
   "source": [
    "We can do everything now!\n",
    "\n",
    "To review we used all the following methods:\n",
    "```\n",
    "data_custom = roicat.data_importing.Data_roicat()\n",
    "data_custom.set_spatialFootprints(list of spatialFootprints, um_per_pixel)\n",
    "data_custom.set_FOV_images(list of images)\n",
    "data_custom._transform_spatialFootprints_to_ROIImages(height_width)\n",
    "data_custom.set_class_labels(class_labels, n_classes)\n",
    "data_custom.check_completeness()\n",
    "```"
   ]
  },
  {
   "attachments": {},
   "cell_type": "markdown",
   "id": "3abc80a1",
   "metadata": {},
   "source": [
    "### Thank you!\n",
    "\n",
    "Please let us know if you had any issues with this notebook in the github issues tab."
   ]
  }
 ],
 "metadata": {
  "kernelspec": {
   "display_name": "Python 3 (ipykernel)",
   "language": "python",
   "name": "python3"
  },
  "language_info": {
   "codemirror_mode": {
    "name": "ipython",
    "version": 3
   },
   "file_extension": ".py",
   "mimetype": "text/x-python",
   "name": "python",
   "nbconvert_exporter": "python",
   "pygments_lexer": "ipython3",
   "version": "3.11.3"
  },
  "varInspector": {
   "cols": {
    "lenName": 16,
    "lenType": 16,
    "lenVar": 40
   },
   "kernels_config": {
    "python": {
     "delete_cmd_postfix": "",
     "delete_cmd_prefix": "del ",
     "library": "var_list.py",
     "varRefreshCmd": "print(var_dic_list())"
    },
    "r": {
     "delete_cmd_postfix": ") ",
     "delete_cmd_prefix": "rm(",
     "library": "var_list.r",
     "varRefreshCmd": "cat(var_dic_list()) "
    }
   },
   "types_to_exclude": [
    "module",
    "function",
    "builtin_function_or_method",
    "instance",
    "_Feature"
   ],
   "window_display": false
  }
 },
 "nbformat": 4,
 "nbformat_minor": 5
}
