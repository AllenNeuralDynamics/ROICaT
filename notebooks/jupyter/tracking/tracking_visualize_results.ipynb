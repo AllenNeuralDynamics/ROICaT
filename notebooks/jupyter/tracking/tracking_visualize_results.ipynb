{
 "cells": [
  {
   "cell_type": "code",
   "execution_count": 1,
   "id": "3a98ebf6",
   "metadata": {},
   "outputs": [
    {
     "data": {
      "text/html": [
       "<style>.container {width:95% !important; }</style>"
      ],
      "text/plain": [
       "<IPython.core.display.HTML object>"
      ]
     },
     "metadata": {},
     "output_type": "display_data"
    },
    {
     "data": {
      "text/html": [
       "<style>:root { --jp-notebook-max-width: 100% !important; }</style>"
      ],
      "text/plain": [
       "<IPython.core.display.HTML object>"
      ]
     },
     "metadata": {},
     "output_type": "display_data"
    }
   ],
   "source": [
    "# widen jupyter notebook window\n",
    "from IPython.display import display, HTML\n",
    "display(HTML(\"<style>.container {width:95% !important; }</style>\"))\n",
    "display(HTML(\"<style>:root { --jp-notebook-max-width: 100% !important; }</style>\"))"
   ]
  },
  {
   "cell_type": "code",
   "execution_count": 2,
   "id": "0d2888aa",
   "metadata": {},
   "outputs": [],
   "source": [
    "import numpy as np\n",
    "import scipy.sparse\n",
    "import matplotlib.pyplot as plt"
   ]
  },
  {
   "cell_type": "code",
   "execution_count": 3,
   "id": "72f88745",
   "metadata": {},
   "outputs": [],
   "source": [
    "import roicat"
   ]
  },
  {
   "cell_type": "markdown",
   "id": "01370ba6",
   "metadata": {},
   "source": [
    "This notebook is for visualization of the results of an ROICaT run. You can play with different inclusion criteria here, and also combine classification and tracking results to view the intersection of the two."
   ]
  },
  {
   "cell_type": "code",
   "execution_count": 42,
   "id": "aee90e23",
   "metadata": {},
   "outputs": [],
   "source": [
    "use_classificationResults = True\n",
    "\n",
    "results = roicat.helpers.pickle_load(r'/media/rich/bigSSD/analysis_data/face_rhythm/mouse_0403L/stat_and_ops.ROICaT.tracking.results.pkl')\n",
    "\n",
    "if use_classificationResults:\n",
    "    results_classification = roicat.helpers.pickle_load(r'/media/rich/bigSSD/analysis_data/face_rhythm/mouse_0403L/mouse_0403L.ROICaT.classification_drawn.results.pkl')\n",
    "else:\n",
    "    results_classification = None"
   ]
  },
  {
   "cell_type": "code",
   "execution_count": null,
   "id": "fb6af754-1eeb-49b7-9e6a-26d51f414b66",
   "metadata": {},
   "outputs": [],
   "source": [
    "## List all available quality metrics\n",
    "print('Available quality metrics:')\n",
    "display(results['quality_metrics'])"
   ]
  },
  {
   "cell_type": "code",
   "execution_count": null,
   "id": "0afd0a96-7589-473a-9e5b-229fac8039de",
   "metadata": {},
   "outputs": [],
   "source": []
  },
  {
   "cell_type": "code",
   "execution_count": null,
   "id": "94b1e076-0fbe-4e9d-9eec-6f5e093a5d2f",
   "metadata": {},
   "outputs": [],
   "source": [
    "## Plot the distribution of the quality metrics\n",
    "confidence = (((results['quality_metrics']['cluster_silhouette'] + 1) / 2) * results['quality_metrics']['cluster_intra_means'])\n",
    "\n",
    "fig, axs = plt.subplots(nrows=2, ncols=2, figsize=(15,7))\n",
    "\n",
    "axs[0,0].hist(results['quality_metrics']['cluster_silhouette'], 50);\n",
    "axs[0,0].set_xlabel('cluster_silhouette');\n",
    "axs[0,0].set_ylabel('cluster counts');\n",
    "\n",
    "axs[0,1].hist(results['quality_metrics']['cluster_intra_means'], 50);\n",
    "axs[0,1].set_xlabel('cluster_intra_means');\n",
    "axs[0,1].set_ylabel('cluster counts');\n",
    "\n",
    "axs[1,0].hist(confidence, 50);\n",
    "axs[1,0].set_xlabel('confidence');\n",
    "axs[1,0].set_ylabel('cluster counts');\n",
    "\n",
    "axs[1,1].hist(results['quality_metrics']['sample_silhouette'], 50);\n",
    "axs[1,1].set_xlabel('sample_silhouette score');\n",
    "axs[1,1].set_ylabel('roi sample counts');"
   ]
  },
  {
   "cell_type": "code",
   "execution_count": null,
   "id": "33c6c8c1-6fcd-42cd-917c-9595ea639eed",
   "metadata": {},
   "outputs": [],
   "source": []
  },
  {
   "cell_type": "code",
   "execution_count": null,
   "id": "dc0798bc-dbd6-4591-8a9e-c3ae397223ff",
   "metadata": {},
   "outputs": [],
   "source": [
    "labels = [c*t - (np.logical_not(c)) for c,t in zip(results_classification['preds'], results['clusters']['labels_bySession'])] if use_classificationResults else results['clusters']['labels_bySession']\n",
    "\n",
    "FOVs_colored = roicat.visualization.compute_colored_FOV(\n",
    "    labels=results['clusters']['labels'],\n",
    "    spatialFootprints=results['ROIs']['ROIs_aligned'], \n",
    "    FOV_height=results['ROIs']['frame_height'], \n",
    "    FOV_width=results['ROIs']['frame_width'], \n",
    "    alphas_sf=results['quality_metrics']['sample_silhouette'] > 0.0,  ## SET INCLUSION CRITERIA FOR CLUSTERS/LABELS\n",
    "    alphas_labels=results['quality_metrics']['cluster_silhouette'] > 0.0,  ## SET INCLUSION CRITERIA FOR ROI SAMPLES\n",
    ")\n",
    "\n",
    "roicat.visualization.display_toggle_image_stack(FOVs_colored, image_size=2)"
   ]
  },
  {
   "cell_type": "code",
   "execution_count": null,
   "id": "8f6698e4-bca3-4cbd-9c4c-837f6412b878",
   "metadata": {},
   "outputs": [],
   "source": []
  },
  {
   "cell_type": "code",
   "execution_count": null,
   "id": "00a1ee6a-a250-4c43-a7a7-e3cb95a5b447",
   "metadata": {
    "scrolled": true
   },
   "outputs": [],
   "source": [
    "ucids = np.array(results['clusters']['labels'])\n",
    "ucids_unique = np.unique(ucids[ucids>=0])\n",
    "\n",
    "ROI_ims_sparse = scipy.sparse.vstack(results['ROIs']['ROIs_aligned'])\n",
    "ROI_ims_sparse = ROI_ims_sparse.multiply( ROI_ims_sparse.max(1).power(-1) ).tocsr()\n",
    "\n",
    "\n",
    "ucid_sfCat = []\n",
    "for ucid in ucids_unique:\n",
    "    idx = np.where(ucids == ucid)[0]\n",
    "    ucid_sfCat.append( np.concatenate(list(roicat.visualization.crop_cluster_ims(ROI_ims_sparse[idx].toarray().reshape(len(idx), results['ROIs']['frame_height'], results['ROIs']['frame_width']))), axis=1) )\n",
    "\n",
    "for ii in range(min(len(ucid_sfCat), 50)):\n",
    "    plt.figure(figsize=(40,1))\n",
    "    plt.imshow(ucid_sfCat[ii], cmap='gray')\n",
    "    plt.axis('off')"
   ]
  },
  {
   "cell_type": "code",
   "execution_count": null,
   "id": "36f6d79c-caec-40f6-805d-6a5d2926cf14",
   "metadata": {},
   "outputs": [],
   "source": [
    "# %matplotlib widget\n",
    "\n",
    "ucids = np.array(results['clusters']['labels'])\n",
    "_, counts = np.unique(ucids, return_counts=True)\n",
    "\n",
    "n_sessions = len(results['clusters']['labels_bySession'])\n",
    "plt.figure()\n",
    "plt.hist(counts, bins=n_sessions*2 + 1, range=(0, n_sessions+1));\n"
   ]
  },
  {
   "cell_type": "code",
   "execution_count": null,
   "id": "ae3ca9d3-6713-45dc-a8d0-fd63ab56af16",
   "metadata": {},
   "outputs": [],
   "source": []
  },
  {
   "cell_type": "code",
   "execution_count": null,
   "id": "94bc93ea",
   "metadata": {},
   "outputs": [],
   "source": []
  }
 ],
 "metadata": {
  "kernelspec": {
   "display_name": "Python 3 (ipykernel)",
   "language": "python",
   "name": "python3"
  },
  "language_info": {
   "codemirror_mode": {
    "name": "ipython",
    "version": 3
   },
   "file_extension": ".py",
   "mimetype": "text/x-python",
   "name": "python",
   "nbconvert_exporter": "python",
   "pygments_lexer": "ipython3",
   "version": "3.11.3"
  },
  "vscode": {
   "interpreter": {
    "hash": "916dbcbb3f70747c44a77c7bcd40155683ae19c65e1c03b4aa3499c5328201f1"
   }
  }
 },
 "nbformat": 4,
 "nbformat_minor": 5
}
