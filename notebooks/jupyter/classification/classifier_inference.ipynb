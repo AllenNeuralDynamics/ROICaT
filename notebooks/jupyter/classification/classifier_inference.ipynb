{
 "cells": [
  {
   "attachments": {},
   "cell_type": "markdown",
   "metadata": {},
   "source": [
    "# Imports"
   ]
  },
  {
   "cell_type": "code",
   "execution_count": 1,
   "metadata": {},
   "outputs": [
    {
     "name": "stderr",
     "output_type": "stream",
     "text": [
      "2023-06-23 12:27:38.358554: I tensorflow/core/platform/cpu_feature_guard.cc:193] This TensorFlow binary is optimized with oneAPI Deep Neural Network Library (oneDNN) to use the following CPU instructions in performance-critical operations:  AVX2 FMA\n",
      "To enable them in other operations, rebuild TensorFlow with the appropriate compiler flags.\n"
     ]
    }
   ],
   "source": [
    "%load_ext autoreload\n",
    "%autoreload 2\n",
    "\n",
    "import sys\n",
    "import time\n",
    "\n",
    "import numpy as np\n",
    "import torch\n",
    "from bnpm import file_helpers, optimization\n",
    "import sklearn.utils.class_weight\n",
    "from torch import nn, optim\n",
    "from tqdm import tqdm\n",
    "import sklearn.linear_model\n",
    "import multiprocessing as mp\n",
    "\n",
    "import roicat.classification.classifier_util as cu\n",
    "import scipy.sparse\n",
    "import roicat\n",
    "import bnpm.h5_handling\n",
    "from pathlib import Path\n",
    "import shutil\n",
    "import warnings\n",
    "import umap\n",
    "\n",
    "import matplotlib.pyplot as plt\n",
    "import matplotlib.offsetbox\n",
    "import json\n",
    "import os\n",
    "import natsort\n",
    "from roicat import helpers\n",
    "# from kymatio.torch import Scattering2D\n",
    "import gc\n",
    "import functools"
   ]
  },
  {
   "attachments": {},
   "cell_type": "markdown",
   "metadata": {},
   "source": [
    "# Initialize Parameters"
   ]
  },
  {
   "cell_type": "code",
   "execution_count": 2,
   "metadata": {},
   "outputs": [],
   "source": [
    "directory_save = Path(r'/Users/josh/analysis/outputs/ROICaT/classification/classifier_inference')\n"
   ]
  },
  {
   "cell_type": "code",
   "execution_count": 3,
   "metadata": {},
   "outputs": [],
   "source": [
    "INTEGER_MAX = np.iinfo(np.int64(0).dtype).max\n",
    "directory_save.mkdir(exist_ok=True, parents=True)"
   ]
  },
  {
   "attachments": {},
   "cell_type": "markdown",
   "metadata": {},
   "source": [
    "# Data Importing"
   ]
  },
  {
   "attachments": {},
   "cell_type": "markdown",
   "metadata": {},
   "source": [
    "## Option 1: Use Data Results from Labeling Interactive Outputs"
   ]
  },
  {
   "attachments": {},
   "cell_type": "markdown",
   "metadata": {},
   "source": [
    "### Option 1.A: Labeling Interactive — Specify Directory / Filenames"
   ]
  },
  {
   "cell_type": "code",
   "execution_count": 4,
   "metadata": {},
   "outputs": [],
   "source": [
    "filepath_labellingInteractive = str(Path('/Users/josh/analysis/outputs/ROICaT/classification/labeling_interactive/test.ROICaT.labeling.results.pkl').resolve())"
   ]
  },
  {
   "attachments": {},
   "cell_type": "markdown",
   "metadata": {},
   "source": [
    "### Option 1.B: Labeling Interactive — Find and Load Data"
   ]
  },
  {
   "cell_type": "code",
   "execution_count": 5,
   "metadata": {},
   "outputs": [
    {
     "name": "stdout",
     "output_type": "stream",
     "text": [
      "RH WARNING: No um_per_pixel provided. We recommend making an educated guess. Assuming 1.0 um per pixel. This will affect the embedding results.\n",
      "Starting: Importing ROI images\n",
      "Completed: Imported 1 sessions. Each session has [502] ROIs. Total number of ROIs is 502. The um_per_pixel is 1.0 um per pixel.\n",
      "Starting: Importing class labels\n",
      "Labels and ROI Images match in shapes: Class labels and ROI images have the same number of sessions and the same number of ROIs in each session.\n",
      "Completed: Imported labels for 1 sessions. Each session has [502] class labels. Total number of class labels is 502.\n"
     ]
    },
    {
     "name": "stderr",
     "output_type": "stream",
     "text": [
      "/Users/josh/analysis/github_repos/ROICaT/roicat/util.py:191: UserWarning: RH WARNING: unable to get cpu info. Got error: No module named 'cpuinfo'\n",
      "  warnings.warn(f'RH WARNING: unable to get cpu info. Got error: {e}')\n",
      "/Users/josh/analysis/github_repos/ROICaT/roicat/util.py:210: UserWarning: RH WARNING: unable to get gpu info. Got error: No module named 'GPUtil'\n",
      "  warnings.warn(f'RH WARNING: unable to get gpu info. Got error: {e}')\n"
     ]
    }
   ],
   "source": [
    "labelingInteractive = roicat.helpers.pickle_load(filepath_labellingInteractive)\n",
    "data = roicat.data_importing.Data_roicat();\n",
    "data.set_ROI_images([labelingInteractive['images'][labelingInteractive['labels']['index']]]);\n",
    "data.set_class_labels([labelingInteractive['labels']['label']]);"
   ]
  },
  {
   "attachments": {},
   "cell_type": "markdown",
   "metadata": {},
   "source": [
    "## Option 2: Suite2p Data"
   ]
  },
  {
   "attachments": {},
   "cell_type": "markdown",
   "metadata": {},
   "source": [
    "### Option 2.A: Suite2p — Specify Directory / Filenames"
   ]
  },
  {
   "cell_type": "code",
   "execution_count": null,
   "metadata": {},
   "outputs": [],
   "source": [
    "dir_allOuterFolders = str(Path('/Users/josh/analysis/data/ROICaT/classification/stat_s2p').resolve())\n",
    "pathSuffixToStat = 'stat.npy'\n",
    "pathSuffixToOps = 'ops.npy'"
   ]
  },
  {
   "attachments": {},
   "cell_type": "markdown",
   "metadata": {},
   "source": [
    "### Option 2.B: Suite2p — Find and Load Data"
   ]
  },
  {
   "cell_type": "code",
   "execution_count": null,
   "metadata": {},
   "outputs": [],
   "source": [
    "paths_allStat, paths_allOps = helpers.find_paths_requireAll(\n",
    "    dir_outer=dir_allOuterFolders,\n",
    "    filenames=[\n",
    "        pathSuffixToStat,\n",
    "        pathSuffixToOps,\n",
    "    ],\n",
    "depth=4,)\n",
    "\n",
    "data = roicat.data_importing.Data_suite2p(\n",
    "    paths_statFiles=paths_allStat,\n",
    "    paths_opsFiles=paths_allOps,\n",
    "    um_per_pixel=2.0,\n",
    "    new_or_old_suite2p='new',\n",
    "    out_height_width=[36, 36],\n",
    "    type_meanImg='meanImgE',\n",
    "    verbose=True,\n",
    ");"
   ]
  },
  {
   "attachments": {},
   "cell_type": "markdown",
   "metadata": {},
   "source": [
    "# Pass Through Network to Generate Image Latents"
   ]
  },
  {
   "cell_type": "code",
   "execution_count": 6,
   "metadata": {},
   "outputs": [
    {
     "name": "stdout",
     "output_type": "stream",
     "text": [
      "devices available: []\n",
      "no GPU available. Using CPU.\n",
      "File already exists locally: /Users/josh/analysis/models/ROInet.zip\n"
     ]
    },
    {
     "name": "stderr",
     "output_type": "stream",
     "text": [
      "/Users/josh/analysis/github_repos/ROICaT/roicat/util.py:191: UserWarning: RH WARNING: unable to get cpu info. Got error: No module named 'cpuinfo'\n",
      "  warnings.warn(f'RH WARNING: unable to get cpu info. Got error: {e}')\n",
      "/Users/josh/analysis/github_repos/ROICaT/roicat/util.py:210: UserWarning: RH WARNING: unable to get gpu info. Got error: No module named 'GPUtil'\n",
      "  warnings.warn(f'RH WARNING: unable to get gpu info. Got error: {e}')\n"
     ]
    },
    {
     "name": "stdout",
     "output_type": "stream",
     "text": [
      "Hash of local file matches provided hash_hex.\n",
      "Extracting /Users/josh/analysis/models/ROInet.zip to /Users/josh/analysis/models.\n",
      "Completed zip extraction.\n",
      "['/Users/josh/analysis/models/ROInet_classification_20220902', '/Users/josh/analysis/models/ROInet_classification_20220902/ConvNext_tiny__1_0_best__simCLR_wPCA.pth', '/Users/josh/analysis/models/ROInet_classification_20220902/model.py', '/Users/josh/analysis/models/ROInet_classification_20220902/classifier.pkl', '/Users/josh/analysis/models/ROInet_classification_20220902/params.json', '/Users/josh/analysis/models/ROInet_classification_20220902/__pycache__', '/Users/josh/analysis/models/ROInet_classification_20220902/__pycache__/model.cpython-39.pyc']\n",
      "Imported model from /Users/josh/analysis/models/ROInet_classification_20220902/model.py\n",
      "Loaded params_model from /Users/josh/analysis/models/ROInet_classification_20220902/params.json\n"
     ]
    },
    {
     "name": "stderr",
     "output_type": "stream",
     "text": [
      "/Users/josh/opt/anaconda3/envs/ROICaT/lib/python3.9/site-packages/torchvision/models/_utils.py:208: UserWarning: The parameter 'pretrained' is deprecated since 0.13 and will be removed in 0.15, please use 'weights' instead.\n",
      "  warnings.warn(\n",
      "/Users/josh/opt/anaconda3/envs/ROICaT/lib/python3.9/site-packages/torchvision/models/_utils.py:223: UserWarning: Arguments other than a weight enum or `None` for 'weights' are deprecated since 0.13 and will be removed in 0.15. The current behavior is equivalent to passing `weights=ConvNeXt_Tiny_Weights.IMAGENET1K_V1`. You can also use `weights=ConvNeXt_Tiny_Weights.DEFAULT` to get the most up-to-date weights.\n",
      "  warnings.warn(msg)\n"
     ]
    },
    {
     "name": "stdout",
     "output_type": "stream",
     "text": [
      "Generated network using params_model\n",
      "Loaded state_dict into network from /Users/josh/analysis/models/ROInet_classification_20220902/ConvNext_tiny__1_0_best__simCLR_wPCA.pth\n",
      "Loaded network onto device cpu\n",
      "Starting: resizing ROIs\n",
      "Completed: resizing ROIs\n",
      "Defined image transformations: Sequential(\n",
      "  (0): ScaleDynamicRange(scaler_bounds=(0, 1))\n",
      "  (1): Resize(size=(224, 224), interpolation=bilinear, max_size=None, antialias=True)\n",
      "  (2): TileChannels(dim=0)\n",
      ")\n",
      "Defined dataset\n",
      "Defined dataloader\n",
      "starting: running data through network\n"
     ]
    },
    {
     "name": "stderr",
     "output_type": "stream",
     "text": [
      "100%|██████████| 63/63 [01:14<00:00,  1.19s/it]\n"
     ]
    },
    {
     "name": "stdout",
     "output_type": "stream",
     "text": [
      "completed: running data through network\n"
     ]
    }
   ],
   "source": [
    "# Neural network embedding distances\n",
    "roinet = roicat.ROInet.ROInet_embedder(\n",
    "    device=roicat.util.helpers.set_device('cuda:0'),\n",
    "    dir_networkFiles=r\"/Users/josh/analysis/models\",\n",
    "    download_method=\"check_local_first\",\n",
    "    download_url=\"https://osf.io/xwzhp/download\",\n",
    "    download_hash=\"134b170242141c26b0adbd9e0fd80d0e\",\n",
    "    forward_pass_version=\"head\",\n",
    "    verbose=True,\n",
    ")\n",
    "\n",
    "roinet.generate_dataloader(\n",
    "    ROI_images=data.ROI_images,\n",
    "    um_per_pixel=data.um_per_pixel,\n",
    "    pref_plot=False,\n",
    "    batchSize_dataloader=8,\n",
    "    pinMemory_dataloader=True,\n",
    "    numWorkers_dataloader=mp.cpu_count(),\n",
    "    persistentWorkers_dataloader=True,\n",
    "    prefetchFactor_dataloader=2,    \n",
    ");\n",
    "roinet.generate_latents();\n",
    "\n",
    "gc.collect()\n",
    "torch.cuda.empty_cache()\n",
    "gc.collect()\n",
    "torch.cuda.empty_cache()"
   ]
  },
  {
   "attachments": {},
   "cell_type": "markdown",
   "metadata": {},
   "source": [
    "# Load Previously Fit Model and Predict"
   ]
  },
  {
   "cell_type": "code",
   "execution_count": 11,
   "metadata": {},
   "outputs": [
    {
     "name": "stdout",
     "output_type": "stream",
     "text": [
      "/Users/josh/analysis/outputs/ROICaT/classification/classifier_train/model.pkl\n",
      "{'model_dict': {}, '_coef': array([[-7.66807350e-02, -8.86173794e-03,  7.47228536e-02,\n",
      "        -4.74597642e-02, -3.82585067e-02, -3.33099461e-02,\n",
      "         4.56421634e-02,  3.20266647e-02,  4.39130199e-02,\n",
      "        -8.58321703e-02,  1.17918204e-01,  1.11814840e-01,\n",
      "        -5.38246436e-02, -3.09600362e-02,  5.01042749e-02,\n",
      "        -8.88464003e-02,  1.15717043e-02, -1.42116612e-02,\n",
      "         4.69384194e-02, -7.90472031e-02, -5.17846670e-02,\n",
      "         2.01918755e-02, -9.30674802e-03, -3.32344797e-02,\n",
      "         8.16221535e-03, -5.24645768e-02,  1.43414412e-02,\n",
      "         2.76007513e-02, -1.90099800e-02,  3.46021829e-02,\n",
      "        -2.67180506e-02,  1.86024347e-02, -2.34790578e-02,\n",
      "        -1.84597610e-02, -5.60442429e-02,  4.75524539e-02,\n",
      "         1.34783250e-02,  2.33763647e-02,  3.02218511e-02,\n",
      "        -8.46563465e-02, -5.63652591e-02,  7.26132236e-02,\n",
      "         7.13524931e-02,  3.09893099e-02, -2.47231707e-02,\n",
      "         4.94250839e-02, -2.58689622e-02,  6.32392972e-03,\n",
      "        -1.87573750e-02, -7.44058829e-02, -5.35752596e-03,\n",
      "        -1.25274220e-02, -4.96261668e-02,  6.89128378e-02,\n",
      "        -4.16707984e-02, -5.21835104e-02,  5.34629350e-02,\n",
      "        -1.16039885e-03, -4.75843774e-02,  5.59268913e-02,\n",
      "        -3.84455992e-02, -7.88783881e-02, -5.68904692e-03,\n",
      "        -3.20174360e-02,  5.99082588e-02,  1.42347140e-04,\n",
      "         5.22382391e-02,  4.41985150e-02,  1.27099424e-02,\n",
      "        -9.90706870e-02,  5.29895549e-02,  6.35432537e-02,\n",
      "         1.70820117e-02, -3.83455839e-03, -2.89318224e-02,\n",
      "        -1.13726290e-02, -5.07645890e-02,  9.38763010e-03,\n",
      "         6.50219425e-02,  2.63043396e-02, -4.91327614e-02,\n",
      "        -3.19431657e-02,  6.04547985e-02, -1.96139159e-02,\n",
      "         8.16709165e-02,  1.18595200e-01,  1.45329301e-01,\n",
      "         1.57285366e-01, -9.70126572e-03, -3.95078945e-02,\n",
      "        -4.40715026e-03,  5.55424991e-02,  4.78160099e-03,\n",
      "         1.08757950e-01,  3.71348254e-02,  1.86935920e-02,\n",
      "         1.31570658e-02, -3.92094717e-03,  1.33531139e-01,\n",
      "        -7.15635068e-02],\n",
      "       [-8.08139029e-02, -1.07721550e-02,  7.10015717e-02,\n",
      "        -5.27883332e-02, -4.99109668e-02, -1.74851634e-02,\n",
      "         4.98748356e-02,  2.85483915e-02,  4.78520105e-02,\n",
      "        -6.22859717e-02,  1.40310677e-01,  8.21107226e-02,\n",
      "        -4.27560556e-02, -2.03245672e-02,  5.07303836e-02,\n",
      "        -9.55866269e-02,  1.69028687e-02, -2.32822491e-02,\n",
      "         1.86265968e-02, -6.73263314e-02, -5.29864891e-02,\n",
      "         8.66960727e-03, -1.87357631e-02, -4.62953490e-02,\n",
      "         8.73378210e-03, -3.86008446e-02, -5.22593401e-04,\n",
      "         2.09033708e-02, -1.32462929e-02,  4.86461790e-02,\n",
      "        -4.71454591e-02,  3.25417078e-02, -4.48960875e-02,\n",
      "        -3.50701408e-02, -6.64758523e-02,  2.01248410e-02,\n",
      "        -2.28397158e-03,  5.37640984e-02,  2.89165710e-02,\n",
      "        -8.64443226e-02, -5.45144430e-02,  3.31987597e-02,\n",
      "         8.63378880e-02,  5.90677568e-02, -3.03814699e-02,\n",
      "         4.73950927e-02, -3.62893650e-02,  2.87456556e-02,\n",
      "        -1.85223821e-02, -1.06422662e-01, -8.22253246e-04,\n",
      "        -2.82255021e-02, -5.04213641e-02,  5.38727151e-02,\n",
      "        -5.22749326e-02, -6.63513705e-02,  5.03724430e-02,\n",
      "        -2.00510980e-02, -7.17792339e-02,  1.91621705e-02,\n",
      "        -2.56235890e-02, -9.33026826e-02,  8.15608361e-03,\n",
      "        -5.83594247e-02,  6.63864698e-02, -6.89434616e-03,\n",
      "         3.44440839e-02,  5.81011997e-02,  7.74145459e-03,\n",
      "        -8.39229174e-02,  3.20459648e-02,  5.41987203e-02,\n",
      "         8.93380766e-04, -1.92429410e-02, -8.16102471e-03,\n",
      "         3.27576843e-03, -6.65799461e-02,  2.51403694e-02,\n",
      "         6.84641422e-02,  4.47712394e-04, -3.56364294e-02,\n",
      "        -2.42985652e-02,  8.04528337e-02, -3.75755156e-02,\n",
      "         7.70400133e-02,  1.13414539e-01,  1.28432353e-01,\n",
      "         1.47690239e-01, -7.81204637e-03, -3.88204414e-02,\n",
      "        -2.03251187e-03,  5.75840152e-02,  9.32352488e-03,\n",
      "         1.04216930e-01,  3.32808350e-02,  1.99446744e-02,\n",
      "         1.69388684e-02, -6.46739534e-03,  1.25744501e-01,\n",
      "        -7.18181622e-02],\n",
      "       [-9.09343408e-02, -6.02361738e-03,  6.72533162e-02,\n",
      "        -9.41281575e-02, -7.06911711e-02, -2.10593717e-02,\n",
      "         3.52559181e-02,  3.67472399e-02,  4.05216658e-02,\n",
      "        -3.53664139e-02,  1.20522390e-01,  1.80021131e-02,\n",
      "        -2.30661105e-02, -1.65419150e-02,  2.34569143e-02,\n",
      "        -1.03614384e-01, -1.63373427e-02, -3.27115155e-02,\n",
      "         1.14741535e-03, -4.14684032e-02, -6.49210793e-02,\n",
      "         6.96934082e-03, -4.05973618e-02, -3.64917526e-02,\n",
      "         2.26976154e-02, -4.53562028e-02, -2.02339672e-02,\n",
      "        -8.11739360e-03, -3.90223654e-02,  5.42034221e-02,\n",
      "        -7.26956226e-02,  2.93240960e-02, -5.15868532e-02,\n",
      "        -8.97316969e-02, -7.22989101e-02, -1.61543531e-02,\n",
      "        -1.02234611e-02,  3.69647338e-02,  4.20871016e-02,\n",
      "        -7.52995947e-02, -3.92550594e-02,  5.97308124e-03,\n",
      "         9.09593008e-02,  7.44359249e-02, -2.59741864e-02,\n",
      "         8.03963724e-02, -4.20468647e-02,  4.45252463e-02,\n",
      "        -6.99539907e-02, -9.37693045e-02, -4.90753489e-02,\n",
      "        -2.13062484e-02, -6.71608159e-02,  4.05727999e-02,\n",
      "        -7.44167876e-02, -8.63955117e-02,  5.85889670e-02,\n",
      "        -2.33264233e-02, -1.15343206e-01, -1.40103739e-02,\n",
      "        -8.00864415e-02, -1.47429863e-01,  3.72946808e-02,\n",
      "        -1.00831511e-01,  6.89305139e-02,  2.21451744e-02,\n",
      "         3.66793425e-02,  4.62503533e-02, -5.71939911e-03,\n",
      "        -6.53767014e-02,  1.55351755e-03,  4.60864778e-02,\n",
      "        -2.16340482e-02, -6.16567124e-03, -1.46483617e-03,\n",
      "        -3.00649659e-02, -6.50576107e-02,  7.11026894e-02,\n",
      "         8.42203165e-02,  1.53296471e-02, -2.27605718e-02,\n",
      "        -3.24874201e-02,  3.84682280e-02, -7.51547502e-02,\n",
      "         9.56564315e-02,  1.34520610e-01,  9.95071480e-02,\n",
      "         6.55450293e-02,  4.39415136e-02, -7.53877973e-02,\n",
      "         2.97354603e-02,  1.25092643e-01,  3.40533827e-02,\n",
      "         9.65737340e-02,  4.91215662e-03,  4.05949361e-02,\n",
      "         8.18259239e-02,  7.98300306e-03, -1.99938658e-01,\n",
      "         1.75883596e-01],\n",
      "       [ 2.48428979e-01,  2.56575103e-02, -2.12977741e-01,\n",
      "         1.94376255e-01,  1.58860645e-01,  7.18544812e-02,\n",
      "        -1.30772917e-01, -9.73222961e-02, -1.32286696e-01,\n",
      "         1.83484556e-01, -3.78751271e-01, -2.11927676e-01,\n",
      "         1.19646810e-01,  6.78265184e-02, -1.24291573e-01,\n",
      "         2.88047411e-01, -1.21372303e-02,  7.02054258e-02,\n",
      "        -6.67124316e-02,  1.87841938e-01,  1.69692235e-01,\n",
      "        -3.58308236e-02,  6.86398730e-02,  1.16021581e-01,\n",
      "        -3.95936129e-02,  1.36421624e-01,  6.41511938e-03,\n",
      "        -4.03867285e-02,  7.12786383e-02, -1.37451784e-01,\n",
      "         1.46559132e-01, -8.04682386e-02,  1.19961999e-01,\n",
      "         1.43261599e-01,  1.94819005e-01, -5.15229418e-02,\n",
      "        -9.70892385e-04, -1.14105197e-01, -1.01225524e-01,\n",
      "         2.46400264e-01,  1.50134761e-01, -1.11785065e-01,\n",
      "        -2.48649682e-01, -1.64492992e-01,  8.10788269e-02,\n",
      "        -1.77216549e-01,  1.04205192e-01, -7.95948316e-02,\n",
      "         1.07233748e-01,  2.74597850e-01,  5.52551281e-02,\n",
      "         6.20591725e-02,  1.67208347e-01, -1.63358353e-01,\n",
      "         1.68362519e-01,  2.04930393e-01, -1.62424345e-01,\n",
      "         4.45379201e-02,  2.34706817e-01, -6.10786878e-02,\n",
      "         1.44155630e-01,  3.19610934e-01, -3.97617175e-02,\n",
      "         1.91208372e-01, -1.95225243e-01, -1.53931754e-02,\n",
      "        -1.23361666e-01, -1.48550068e-01, -1.47319979e-02,\n",
      "         2.48370306e-01, -8.65890372e-02, -1.63828452e-01,\n",
      "         3.65865570e-03,  2.92431707e-02,  3.85576833e-02,\n",
      "         3.81618264e-02,  1.82402146e-01, -1.05630689e-01,\n",
      "        -2.17706401e-01, -4.20816990e-02,  1.07529763e-01,\n",
      "         8.87291509e-02, -1.79375860e-01,  1.32344182e-01,\n",
      "        -2.54367361e-01, -3.66530350e-01, -3.73268802e-01,\n",
      "        -3.70520634e-01, -2.64282015e-02,  1.53716133e-01,\n",
      "        -2.32957982e-02, -2.38219157e-01, -4.81585085e-02,\n",
      "        -3.09548614e-01, -7.53278170e-02, -7.92332025e-02,\n",
      "        -1.11921858e-01,  2.40533945e-03, -5.93369816e-02,\n",
      "        -3.25019266e-02]]), '_intercept': array([-0.00056111,  0.00276936, -0.0015762 , -0.00063206]), '_verbose': False}\n"
     ]
    }
   ],
   "source": [
    "model = cu.LogisticRegression(\n",
    "    path_load='/Users/josh/analysis/outputs/ROICaT/classification/classifier_train/model.pkl'\n",
    ")\n",
    "predictions = model.predict(roinet.latents)\n",
    "predictionProbas = model.predict_proba(roinet.latents)"
   ]
  },
  {
   "attachments": {},
   "cell_type": "markdown",
   "metadata": {},
   "source": [
    "# Save Outputs"
   ]
  },
  {
   "cell_type": "code",
   "execution_count": 12,
   "metadata": {},
   "outputs": [
    {
     "name": "stdout",
     "output_type": "stream",
     "text": [
      "Saved model prediction results.\n"
     ]
    }
   ],
   "source": [
    "np.save(str((Path(directory_save) / 'labels_predicted.npy').resolve()), predictions, allow_pickle=True)\n",
    "np.save(str((Path(directory_save) / 'labels_predictedProbas.npy').resolve()), predictionProbas, allow_pickle=True)\n",
    "\n",
    "print(f'Saved model prediction results.')"
   ]
  }
 ],
 "metadata": {
  "kernelspec": {
   "display_name": "ROICaT",
   "language": "python",
   "name": "python3"
  },
  "language_info": {
   "codemirror_mode": {
    "name": "ipython",
    "version": 3
   },
   "file_extension": ".py",
   "mimetype": "text/x-python",
   "name": "python",
   "nbconvert_exporter": "python",
   "pygments_lexer": "ipython3",
   "version": "3.9.13"
  }
 },
 "nbformat": 4,
 "nbformat_minor": 2
}
