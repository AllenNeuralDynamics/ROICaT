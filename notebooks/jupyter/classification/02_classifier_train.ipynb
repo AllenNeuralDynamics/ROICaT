{
 "cells": [
  {
   "attachments": {},
   "cell_type": "markdown",
   "metadata": {},
   "source": [
    "# Imports"
   ]
  },
  {
   "cell_type": "code",
   "execution_count": 1,
   "metadata": {},
   "outputs": [],
   "source": [
    "import sys\n",
    "import time\n",
    "\n",
    "import numpy as np\n",
    "import torch\n",
    "from bnpm import file_helpers, optimization\n",
    "import sklearn.utils.class_weight\n",
    "from torch import nn, optim\n",
    "from tqdm import tqdm\n",
    "import sklearn.linear_model\n",
    "import multiprocessing as mp\n",
    "\n",
    "import roicat.classification.classifier_util as cu\n",
    "import scipy.sparse\n",
    "import roicat\n",
    "import bnpm.h5_handling\n",
    "from pathlib import Path\n",
    "import shutil\n",
    "import warnings\n",
    "import umap\n",
    "\n",
    "import matplotlib.pyplot as plt\n",
    "import matplotlib.offsetbox\n",
    "import json\n",
    "import os\n",
    "import natsort\n",
    "from roicat import helpers\n",
    "# from kymatio.torch import Scattering2D\n",
    "import gc\n",
    "import functools"
   ]
  },
  {
   "attachments": {},
   "cell_type": "markdown",
   "metadata": {},
   "source": [
    "# Specify Initial Parameters"
   ]
  },
  {
   "cell_type": "code",
   "execution_count": null,
   "metadata": {},
   "outputs": [],
   "source": [
    "path_params = None # Path(r\"\")\n",
    "# directory_data = r'/Users/josh/analysis/outputs/ROICaT/classification/00_data_ingestion'\n",
    "directory_data = r'/Users/josh/analysis/outputs/ROICaT/classification/labeling_interactive/feature_label_combo.npy'\n",
    "directory_save = r'/Users/josh/analysis/outputs/ROICaT/classification/02_classifier_train'\n",
    "testing = True\n",
    "save_ROIs = True\n",
    "save_latents = True"
   ]
  },
  {
   "cell_type": "code",
   "execution_count": 3,
   "metadata": {},
   "outputs": [],
   "source": [
    "dir_allOuterFolders = str(Path('/Users/josh/analysis/data/ROICaT/classification/stat_s2p').resolve())\n",
    "\n",
    "pathSuffixToStat = 'stat.npy'\n",
    "pathSuffixToOps = 'ops.npy'\n",
    "pathSuffixToLabels = 'labels_round2_sesh2.npy'\n",
    "\n",
    "paths_allStat = helpers.find_paths(\n",
    "    dir_outer=dir_allOuterFolders,\n",
    "    reMatch=pathSuffixToStat,\n",
    "    depth=4,\n",
    ")\n",
    "paths_allOps = helpers.find_paths(\n",
    "    dir_outer=dir_allOuterFolders,\n",
    "    reMatch=pathSuffixToOps,\n",
    "    depth=4,\n",
    ")\n",
    "paths_allLabels = helpers.find_paths(\n",
    "    dir_outer=dir_allOuterFolders,\n",
    "    reMatch=pathSuffixToLabels,\n",
    "    depth=4,\n",
    ")\n",
    "\n",
    "display(paths_allStat)\n",
    "display(paths_allOps)\n",
    "\n",
    "#Import data\n",
    "data = roicat.data_importing.Data_suite2p(\n",
    "    paths_statFiles=paths_allStat,\n",
    "    paths_opsFiles=paths_allOps,\n",
    "    class_labels=paths_allLabels,\n",
    "    um_per_pixel=2.0,\n",
    "    new_or_old_suite2p='new',\n",
    "    out_height_width=[36, 36],\n",
    "    type_meanImg='meanImgE',\n",
    "    verbose=True,\n",
    ");"
   ]
  },
  {
   "attachments": {},
   "cell_type": "markdown",
   "metadata": {},
   "source": [
    "# Data Importing — Hand Labeled Inputs"
   ]
  },
  {
   "cell_type": "code",
   "execution_count": null,
   "metadata": {},
   "outputs": [],
   "source": [
    "filepath_labellingInteractive = str(Path('/Users/josh/analysis/outputs/ROICaT/classification/labeling_interactive/test.ROICaT.labeling.results.pkl').resolve())\n",
    "labelingInteractive = roicat.helpers.pickle_load(filepath_labellingInteractive)\n",
    "category_mappings, codes_categories = np.unique(labelingInteractive['labels']['label'], return_inverse=True)"
   ]
  },
  {
   "cell_type": "code",
   "execution_count": null,
   "metadata": {},
   "outputs": [],
   "source": [
    "# Import data\n",
    "data = roicat.data_importing.Data_roicat();\n",
    "data.set_ROI_images([labelingInteractive['images'][labelingInteractive['labels']['index']]]);\n",
    "data.set_class_labels([codes_categories]);"
   ]
  },
  {
   "attachments": {},
   "cell_type": "markdown",
   "metadata": {},
   "source": [
    "# Pass Through Network"
   ]
  },
  {
   "cell_type": "code",
   "execution_count": 5,
   "metadata": {},
   "outputs": [],
   "source": [
    "# Neural network embedding distances\n",
    "roinet = roicat.ROInet.ROInet_embedder(\n",
    "    device=roicat.util.helpers.set_device('cuda:0'),\n",
    "    dir_networkFiles=r\"/Users/josh/analysis/models\",\n",
    "    download_method=\"check_local_first\",\n",
    "    download_url=\"https://osf.io/xwzhp/download\",\n",
    "    download_hash=\"134b170242141c26b0adbd9e0fd80d0e\",\n",
    "    forward_pass_version=\"head\",\n",
    "    verbose=True,\n",
    ")\n",
    "\n",
    "roinet.generate_dataloader(\n",
    "    ROI_images=data.ROI_images,\n",
    "    um_per_pixel=data.um_per_pixel,\n",
    "    pref_plot=False,\n",
    "    batchSize_dataloader=8,\n",
    "    pinMemory_dataloader=True,\n",
    "    numWorkers_dataloader=mp.cpu_count(),\n",
    "    persistentWorkers_dataloader=True,\n",
    "    prefetchFactor_dataloader=2,    \n",
    ");\n",
    "\n",
    "# roicat.visualization.display_toggle_image_stack(roinet.ROI_images_rs)\n",
    "\n",
    "roinet.generate_latents();\n",
    "\n",
    "gc.collect()\n",
    "torch.cuda.empty_cache()\n",
    "gc.collect()\n",
    "torch.cuda.empty_cache()"
   ]
  },
  {
   "attachments": {},
   "cell_type": "markdown",
   "metadata": {},
   "source": [
    "# Train / Validation / Test Split Data, Hyperparameter Tune on Validation Set, and Fit Model"
   ]
  },
  {
   "cell_type": "code",
   "execution_count": null,
   "metadata": {},
   "outputs": [
    {
     "name": "stdout",
     "output_type": "stream",
     "text": [
      "Splitting data...\n",
      "Creating X and y matrices for training data...\n",
      "Calculating class weights...\n",
      "Fitting model to data of dimensions: X: (60, 100), y: (60,)...\n",
      "Calculating tracker outputs and saving to /Users/josh/analysis/outputs/ROICaT/classification/02_classifier_train...\n",
      "Saving results:  /Users/josh/analysis/outputs/ROICaT/classification/02_classifier_train/results_training.csv /Users/josh/analysis/outputs/ROICaT/classification/02_classifier_train/results_timing.json\n",
      "self.tictoc={'start': 4.887580871582031e-05, 'loaded_data': 0.6734569072723389, 'splitted_data': 0.6762540340423584, 'completed_training_in_0': 0.7153449058532715}\n",
      "self.model={'coef': array([[-5.85583578e-03, -2.56761415e-03, -2.85717620e-04,\n",
      "         1.39980724e-03, -4.69398613e-03,  1.39073784e-03,\n",
      "        -4.09502665e-03, -6.19066812e-03, -2.53216414e-03,\n",
      "        -5.05807930e-04, -9.05063450e-04,  1.13785403e-03,\n",
      "        -7.10335497e-03, -3.48018141e-04, -4.56430364e-03,\n",
      "        -4.09421531e-03, -9.48537968e-04,  2.06175686e-03,\n",
      "        -5.21379017e-03,  1.25833581e-03,  1.00143141e-03,\n",
      "         5.54587913e-03, -4.96087667e-03,  5.78523710e-04,\n",
      "        -2.34480058e-03, -4.24748542e-04,  2.29494253e-04,\n",
      "        -1.95344170e-03, -2.15311061e-03,  1.17647903e-03,\n",
      "        -7.43009012e-03, -2.72018406e-03,  2.06751230e-03,\n",
      "         4.34910114e-03, -1.84695689e-03,  6.20641329e-04,\n",
      "        -2.26511555e-03, -5.72219438e-03, -2.95777379e-03,\n",
      "         2.30480869e-03,  6.18240543e-04, -7.78772098e-03,\n",
      "         4.99702222e-03,  3.95970383e-03,  4.49043241e-03,\n",
      "        -3.76699151e-03,  1.74704964e-03,  2.68536073e-03,\n",
      "         4.44230205e-03,  4.98784235e-04, -3.42783663e-03,\n",
      "         9.73880422e-03,  3.97129779e-03, -2.24050885e-03,\n",
      "        -3.39635350e-04,  2.04323403e-03,  3.68731617e-03,\n",
      "        -8.53799074e-03,  1.06806558e-03, -1.05251449e-03,\n",
      "         5.76199794e-03,  1.89358886e-03,  3.45303107e-03,\n",
      "         3.05432607e-03,  1.50207173e-03, -4.02562024e-03,\n",
      "         8.62522584e-03, -3.08412291e-03, -1.95202312e-04,\n",
      "        -1.38560091e-03, -2.03389717e-03, -5.15984809e-03,\n",
      "         1.92877265e-03,  7.87358120e-05, -1.44222194e-03,\n",
      "        -6.35793776e-03, -1.91664995e-04, -4.03905507e-03,\n",
      "        -2.16867961e-03,  2.10616194e-03, -2.90092518e-03,\n",
      "        -1.18269316e-03,  2.65287176e-03, -2.44745773e-03,\n",
      "        -7.52382359e-04,  3.12937887e-03,  1.48916540e-03,\n",
      "         9.53780097e-04,  2.20466497e-03,  1.38746250e-03,\n",
      "         5.01350070e-03,  1.84507331e-03,  2.26887527e-04,\n",
      "        -8.73770725e-04, -4.99331646e-03,  9.28965364e-03,\n",
      "        -2.42515383e-03,  6.63220517e-03,  3.15830167e-03,\n",
      "        -4.06672459e-04]]), 'intercept': array([6.47217386e-06])}\n",
      "   accuracy_training  confusionMatrix_training  accuracy_val  \\\n",
      "0                1.0  [[1.0, 0.0], [0.0, 1.0]]           0.5   \n",
      "\n",
      "        confusionMatrix_val  \n",
      "0  [[0.4, 0.4], [0.6, 0.6]]  \n"
     ]
    }
   ],
   "source": [
    "INTEGER_MAX = np.iinfo(np.int64(0).dtype).max\n",
    "\n",
    "# TODO: JZ, IMPLEMENT AS LOOP FOR OPTUNA FOR HYPERPARAMETER TUNING\n",
    "print('Splitting data...')\n",
    "# Create data splitting object for stratified sampling into train and test sets (as well as downsampling)\n",
    "data_splitter = cu.Datasplit(\n",
    "    features=roinet.latents,\n",
    "    labels=data.class_labels,\n",
    "    n_train=INTEGER_MAX,\n",
    "    val_size=0.2,\n",
    "    test_size=0.2,\n",
    ")\n",
    "\n",
    "print('Calculating class weights...')\n",
    "num_classes = len(np.unique(data.class_labels))\n",
    "class_weights = sklearn.utils.class_weight.compute_class_weight(class_weight='balanced', classes=np.unique(data.class_labels), y=data.class_labels)\n",
    "\n",
    "print(f'Fitting model to data of dimensions: X: {data_splitter.features_train}, y: {data_splitter.labels_train}...')\n",
    "# Create lenet model, associated optimizer, loss function, and training tracker\n",
    "model = sklearn.linear_model.LogisticRegression(\n",
    "   solver='lbfgs',\n",
    "   fit_intercept=True,\n",
    "   max_iter=10000,\n",
    "   C=1e5,\n",
    "   class_weight={iClassWeight:classWeight for iClassWeight, classWeight in enumerate(class_weights)},\n",
    "#    class_weight=class_weights,\n",
    ")\n",
    "model.fit(data_splitter.features_train, data_splitter.labels_train)\n",
    "\n",
    "print(f'Calculating tracker outputs and saving to {directory_save}...')\n",
    "training_tracker = cu.TrainingTracker(\n",
    "    directory_save=directory_save,\n",
    "    class_weights=class_weights, # Class Weights\n",
    "    n_train_actual=data_splitter.n_train_actual,\n",
    "    model=({'coef':model.coef_, 'intercept':model.intercept_})\n",
    ")\n",
    "\n",
    "y_train_preds = model.predict(data_splitter.features_train).astype(int)\n",
    "y_train_true = data_splitter.labels_train\n",
    "y_val_preds = model.predict(data_splitter.features_val).astype(int)\n",
    "y_val_true = data_splitter.labels_val\n",
    "\n",
    "# Save training loop results from current epoch for training set\n",
    "training_tracker.add_accuracy(0, 'accuracy_training', y_train_true, y_train_preds) # Generating training loss\n",
    "training_tracker.add_confusion_matrix(0, 'confusionMatrix_training', y_train_true, y_train_preds) # Generating confusion matrix\n",
    "\n",
    "# Save training loop results from current epoch for validation set\n",
    "training_tracker.add_accuracy(0, 'accuracy_val', y_val_true, y_val_preds) # Generating validation accuracy\n",
    "training_tracker.add_confusion_matrix(0, 'confusionMatrix_val', y_val_true, y_val_preds) # Generating validation confusion matrix\n",
    "\n",
    "training_tracker.save_results() # TODO: JZ, ADJUST RESULTS SAVING TO SAVE CONFUSION MATRICES AS NOT A DATAFRAME CSV\n",
    "training_tracker.print_results()\n",
    "\n",
    "model_save = {\n",
    "    'intercept_': model.intercept_,\n",
    "    'coef_': model.coef_,\n",
    "    'classes_': model.classes_,\n",
    "}"
   ]
  },
  {
   "attachments": {},
   "cell_type": "markdown",
   "metadata": {},
   "source": [
    "# Save Outputs"
   ]
  },
  {
   "cell_type": "code",
   "execution_count": null,
   "metadata": {},
   "outputs": [],
   "source": [
    "np.save(str((Path(directory_save) / 'model.npy').resolve()), model_save, allow_pickle=True)\n",
    "# with open(str((Path(directory_save) / 'classifierTrainingRun_interim.pkl').resolve()), 'wb') as f:\n",
    "#     np.save(\n",
    "#         file=f,\n",
    "#         arr=classifierTrainingRun_interim,\n",
    "#         allow_pickle=True\n",
    "#     )\n",
    "\n",
    "print(f'Saved model fit results.')"
   ]
  },
  {
   "cell_type": "code",
   "execution_count": null,
   "metadata": {},
   "outputs": [],
   "source": []
  }
 ],
 "metadata": {
  "kernelspec": {
   "display_name": "ROICaT",
   "language": "python",
   "name": "python3"
  },
  "language_info": {
   "codemirror_mode": {
    "name": "ipython",
    "version": 3
   },
   "file_extension": ".py",
   "mimetype": "text/x-python",
   "name": "python",
   "nbconvert_exporter": "python",
   "pygments_lexer": "ipython3",
   "version": "3.9.13"
  }
 },
 "nbformat": 4,
 "nbformat_minor": 2
}
