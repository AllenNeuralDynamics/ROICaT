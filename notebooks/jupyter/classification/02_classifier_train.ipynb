{
 "cells": [
  {
   "attachments": {},
   "cell_type": "markdown",
   "metadata": {},
   "source": [
    "# Imports"
   ]
  },
  {
   "cell_type": "code",
   "execution_count": null,
   "metadata": {},
   "outputs": [],
   "source": [
    "import sys\n",
    "import time\n",
    "\n",
    "import numpy as np\n",
    "import torch\n",
    "from bnpm import file_helpers, optimization\n",
    "import sklearn.utils.class_weight\n",
    "from torch import nn, optim\n",
    "from tqdm import tqdm\n",
    "import sklearn.linear_model\n",
    "import multiprocessing as mp\n",
    "\n",
    "import roicat.classification.classifier_util as cu\n",
    "import scipy.sparse\n",
    "import roicat\n",
    "import bnpm.h5_handling\n",
    "from pathlib import Path\n",
    "import shutil\n",
    "import warnings\n",
    "import umap\n",
    "\n",
    "import matplotlib.pyplot as plt\n",
    "import matplotlib.offsetbox\n",
    "import json\n",
    "import os\n",
    "import natsort\n",
    "from roicat import helpers\n",
    "# from kymatio.torch import Scattering2D\n",
    "import gc\n",
    "import functools"
   ]
  },
  {
   "attachments": {},
   "cell_type": "markdown",
   "metadata": {},
   "source": [
    "# Specify Initial Parameters"
   ]
  },
  {
   "cell_type": "code",
   "execution_count": 3,
   "metadata": {},
   "outputs": [],
   "source": [
    "path_params = None # Path(r\"\")\n",
    "# directory_data = r'/Users/josh/analysis/outputs/ROICaT/classification/00_data_ingestion'\n",
    "directory_data = r'/Users/josh/analysis/outputs/ROICaT/classification/labeling_interactive/feature_label_combo.npy'\n",
    "directory_save = r'/Users/josh/analysis/outputs/ROICaT/classification/02_classifier_train'\n",
    "testing = True\n",
    "save_ROIs = True\n",
    "save_latents = True"
   ]
  },
  {
   "cell_type": "code",
   "execution_count": 4,
   "metadata": {},
   "outputs": [],
   "source": [
    "directory_save = Path(directory_save)\n",
    "directory_save.mkdir(exist_ok=True, parents=True)\n",
    "\n",
    "params = file_helpers.json_load(str(Path(path_params).resolve())) if path_params is not None else None"
   ]
  },
  {
   "attachments": {},
   "cell_type": "markdown",
   "metadata": {},
   "source": [
    "# Data Importing — Suite2p"
   ]
  },
  {
   "cell_type": "code",
   "execution_count": 7,
   "metadata": {},
   "outputs": [
    {
     "data": {
      "text/plain": [
       "['/Users/josh/analysis/data/ROICaT/classification/stat_s2p/stat.npy']"
      ]
     },
     "metadata": {},
     "output_type": "display_data"
    },
    {
     "data": {
      "text/plain": [
       "['/Users/josh/analysis/data/ROICaT/classification/stat_s2p/ops.npy']"
      ]
     },
     "metadata": {},
     "output_type": "display_data"
    },
    {
     "name": "stderr",
     "output_type": "stream",
     "text": [
      "/Users/josh/analysis/github_repos/ROICaT/roicat/util.py:191: UserWarning: RH WARNING: unable to get cpu info. Got error: No module named 'cpuinfo'\n",
      "  warnings.warn(f'RH WARNING: unable to get cpu info. Got error: {e}')\n",
      "/Users/josh/analysis/github_repos/ROICaT/roicat/util.py:210: UserWarning: RH WARNING: unable to get gpu info. Got error: No module named 'GPUtil'\n",
      "  warnings.warn(f'RH WARNING: unable to get gpu info. Got error: {e}')\n"
     ]
    },
    {
     "name": "stdout",
     "output_type": "stream",
     "text": [
      "Starting: Importing FOV images from ops files\n",
      "Completed: Set FOV_height and FOV_width successfully.\n",
      "Completed: Imported 1 FOV images.\n",
      "Completed: Set FOV_images for 1 sessions successfully.\n",
      "Importing spatial footprints from stat files.\n"
     ]
    },
    {
     "name": "stderr",
     "output_type": "stream",
     "text": [
      "100%|██████████| 1/1 [00:01<00:00,  1.86s/it]\n"
     ]
    },
    {
     "name": "stdout",
     "output_type": "stream",
     "text": [
      "Imported 1 sessions of spatial footprints into sparse arrays.\n",
      "Completed: Set spatialFootprints for 1 sessions successfully.\n",
      "Completed: Created session_bool.\n",
      "Completed: Created centroids.\n",
      "Staring: Creating centered ROI images from spatial footprints...\n",
      "Completed: Created ROI images.\n",
      "Starting: Importing class labels\n",
      "RH WARNING: class_labels is a list of strings. Assuming each string is a path to a .npy file containing the class labels as a 1D integer array.\n",
      "Labels and ROI Images match in shapes: Class labels and ROI images have the same number of sessions and the same number of ROIs in each session.\n",
      "Completed: Imported labels for 1 sessions. Each session has [4898] class labels. Total number of class labels is 4898.\n"
     ]
    }
   ],
   "source": [
    "dir_allOuterFolders = str(Path('/Users/josh/analysis/data/ROICaT/classification/stat_s2p').resolve())\n",
    "\n",
    "pathSuffixToStat = 'stat.npy'\n",
    "pathSuffixToOps = 'ops.npy'\n",
    "pathSuffixToLabels = 'labels_round2_sesh2.npy'\n",
    "\n",
    "paths_allStat = helpers.find_paths(\n",
    "    dir_outer=dir_allOuterFolders,\n",
    "    reMatch=pathSuffixToStat,\n",
    "    depth=4,\n",
    ")\n",
    "paths_allOps = helpers.find_paths(\n",
    "    dir_outer=dir_allOuterFolders,\n",
    "    reMatch=pathSuffixToOps,\n",
    "    depth=4,\n",
    ")\n",
    "paths_allLabels = helpers.find_paths(\n",
    "    dir_outer=dir_allOuterFolders,\n",
    "    reMatch=pathSuffixToLabels,\n",
    "    depth=4,\n",
    ")\n",
    "\n",
    "display(paths_allStat)\n",
    "display(paths_allOps)\n",
    "\n",
    "#Import data\n",
    "data = roicat.data_importing.Data_suite2p(\n",
    "    paths_statFiles=paths_allStat,\n",
    "    paths_opsFiles=paths_allOps,\n",
    "    class_labels=paths_allLabels,\n",
    "    um_per_pixel=2.0,\n",
    "    new_or_old_suite2p='new',\n",
    "    out_height_width=[36, 36],\n",
    "    type_meanImg='meanImgE',\n",
    "    verbose=True,\n",
    ");"
   ]
  },
  {
   "attachments": {},
   "cell_type": "markdown",
   "metadata": {},
   "source": [
    "# Data Importing — Hand Labeled Inputs"
   ]
  },
  {
   "cell_type": "code",
   "execution_count": 27,
   "metadata": {},
   "outputs": [],
   "source": [
    "filepath_labellingInteractive = str(Path('/Users/josh/analysis/outputs/ROICaT/classification/labeling_interactive/test.ROICaT.labeling.results.pkl').resolve())\n",
    "labelingInteractive = roicat.helpers.pickle_load(filepath_labellingInteractive)\n",
    "category_mappings, codes_categories = np.unique(labelingInteractive['labels']['label'], return_inverse=True)"
   ]
  },
  {
   "cell_type": "code",
   "execution_count": 28,
   "metadata": {},
   "outputs": [
    {
     "name": "stdout",
     "output_type": "stream",
     "text": [
      "RH WARNING: No um_per_pixel provided. We recommend making an educated guess. Assuming 1.0 um per pixel. This will affect the embedding results.\n",
      "Starting: Importing ROI images\n",
      "Completed: Imported 1 sessions. Each session has [41] ROIs. Total number of ROIs is 41. The um_per_pixel is 1.0 um per pixel.\n",
      "Starting: Importing class labels\n",
      "Labels and ROI Images match in shapes: Class labels and ROI images have the same number of sessions and the same number of ROIs in each session.\n",
      "Completed: Imported labels for 1 sessions. Each session has [41] class labels. Total number of class labels is 41.\n"
     ]
    },
    {
     "name": "stderr",
     "output_type": "stream",
     "text": [
      "/Users/josh/analysis/github_repos/ROICaT/roicat/util.py:191: UserWarning: RH WARNING: unable to get cpu info. Got error: No module named 'cpuinfo'\n",
      "  warnings.warn(f'RH WARNING: unable to get cpu info. Got error: {e}')\n",
      "/Users/josh/analysis/github_repos/ROICaT/roicat/util.py:210: UserWarning: RH WARNING: unable to get gpu info. Got error: No module named 'GPUtil'\n",
      "  warnings.warn(f'RH WARNING: unable to get gpu info. Got error: {e}')\n"
     ]
    }
   ],
   "source": [
    "# Import data\n",
    "data = roicat.data_importing.Data_roicat();\n",
    "data.set_ROI_images([labelingInteractive['images'][labelingInteractive['labels']['index']]]);\n",
    "data.set_class_labels([codes_categories]);"
   ]
  },
  {
   "attachments": {},
   "cell_type": "markdown",
   "metadata": {},
   "source": [
    "# Pass Through Network"
   ]
  },
  {
   "cell_type": "code",
   "execution_count": 29,
   "metadata": {},
   "outputs": [
    {
     "name": "stdout",
     "output_type": "stream",
     "text": [
      "devices available: []\n",
      "no GPU available. Using CPU.\n",
      "File already exists locally: /Users/josh/analysis/models/ROInet.zip\n"
     ]
    },
    {
     "name": "stderr",
     "output_type": "stream",
     "text": [
      "/Users/josh/analysis/github_repos/ROICaT/roicat/util.py:191: UserWarning: RH WARNING: unable to get cpu info. Got error: No module named 'cpuinfo'\n",
      "  warnings.warn(f'RH WARNING: unable to get cpu info. Got error: {e}')\n",
      "/Users/josh/analysis/github_repos/ROICaT/roicat/util.py:210: UserWarning: RH WARNING: unable to get gpu info. Got error: No module named 'GPUtil'\n",
      "  warnings.warn(f'RH WARNING: unable to get gpu info. Got error: {e}')\n"
     ]
    },
    {
     "name": "stdout",
     "output_type": "stream",
     "text": [
      "Hash of local file matches provided hash_hex.\n",
      "Extracting /Users/josh/analysis/models/ROInet.zip to /Users/josh/analysis/models.\n",
      "Completed zip extraction.\n",
      "['/Users/josh/analysis/models/ROInet_classification_20220902', '/Users/josh/analysis/models/ROInet_classification_20220902/ConvNext_tiny__1_0_best__simCLR_wPCA.pth', '/Users/josh/analysis/models/ROInet_classification_20220902/model.py', '/Users/josh/analysis/models/ROInet_classification_20220902/classifier.pkl', '/Users/josh/analysis/models/ROInet_classification_20220902/params.json', '/Users/josh/analysis/models/ROInet_classification_20220902/__pycache__', '/Users/josh/analysis/models/ROInet_classification_20220902/__pycache__/model.cpython-39.pyc']\n",
      "Imported model from /Users/josh/analysis/models/ROInet_classification_20220902/model.py\n",
      "Loaded params_model from /Users/josh/analysis/models/ROInet_classification_20220902/params.json\n"
     ]
    },
    {
     "name": "stderr",
     "output_type": "stream",
     "text": [
      "/Users/josh/opt/anaconda3/envs/ROICaT/lib/python3.9/site-packages/torchvision/models/_utils.py:208: UserWarning: The parameter 'pretrained' is deprecated since 0.13 and will be removed in 0.15, please use 'weights' instead.\n",
      "  warnings.warn(\n",
      "/Users/josh/opt/anaconda3/envs/ROICaT/lib/python3.9/site-packages/torchvision/models/_utils.py:223: UserWarning: Arguments other than a weight enum or `None` for 'weights' are deprecated since 0.13 and will be removed in 0.15. The current behavior is equivalent to passing `weights=ConvNeXt_Tiny_Weights.IMAGENET1K_V1`. You can also use `weights=ConvNeXt_Tiny_Weights.DEFAULT` to get the most up-to-date weights.\n",
      "  warnings.warn(msg)\n"
     ]
    },
    {
     "name": "stdout",
     "output_type": "stream",
     "text": [
      "Generated network using params_model\n",
      "Loaded state_dict into network from /Users/josh/analysis/models/ROInet_classification_20220902/ConvNext_tiny__1_0_best__simCLR_wPCA.pth\n",
      "Loaded network onto device cpu\n",
      "Starting: resizing ROIs\n",
      "Completed: resizing ROIs\n",
      "Defined image transformations: Sequential(\n",
      "  (0): ScaleDynamicRange(scaler_bounds=(0, 1))\n",
      "  (1): Resize(size=(224, 224), interpolation=bilinear, max_size=None, antialias=True)\n",
      "  (2): TileChannels(dim=0)\n",
      ")\n",
      "Defined dataset\n",
      "Defined dataloader\n",
      "starting: running data through network\n"
     ]
    },
    {
     "name": "stderr",
     "output_type": "stream",
     "text": [
      "100%|██████████| 6/6 [00:13<00:00,  2.24s/it]\n"
     ]
    },
    {
     "name": "stdout",
     "output_type": "stream",
     "text": [
      "completed: running data through network\n"
     ]
    }
   ],
   "source": [
    "# Neural network embedding distances\n",
    "roinet = roicat.ROInet.ROInet_embedder(\n",
    "    device=roicat.util.helpers.set_device('cuda:0'),\n",
    "    dir_networkFiles=r\"/Users/josh/analysis/models\",\n",
    "    download_method=\"check_local_first\",\n",
    "    download_url=\"https://osf.io/xwzhp/download\",\n",
    "    download_hash=\"134b170242141c26b0adbd9e0fd80d0e\",\n",
    "    forward_pass_version=\"head\",\n",
    "    verbose=True,\n",
    ")\n",
    "\n",
    "roinet.generate_dataloader(\n",
    "    ROI_images=data.ROI_images,\n",
    "    um_per_pixel=data.um_per_pixel,\n",
    "    pref_plot=False,\n",
    "    batchSize_dataloader=8,\n",
    "    pinMemory_dataloader=True,\n",
    "    numWorkers_dataloader=mp.cpu_count(),\n",
    "    persistentWorkers_dataloader=True,\n",
    "    prefetchFactor_dataloader=2,    \n",
    ");\n",
    "\n",
    "# roicat.visualization.display_toggle_image_stack(roinet.ROI_images_rs)\n",
    "\n",
    "roinet.generate_latents();\n",
    "\n",
    "gc.collect()\n",
    "torch.cuda.empty_cache()\n",
    "gc.collect()\n",
    "torch.cuda.empty_cache()"
   ]
  },
  {
   "attachments": {},
   "cell_type": "markdown",
   "metadata": {},
   "source": [
    "# Train / Validation / Test Split Data, Hyperparameter Tune on Validation Set, and Fit Model"
   ]
  },
  {
   "cell_type": "code",
   "execution_count": null,
   "metadata": {},
   "outputs": [],
   "source": [
    "INTEGER_MAX = np.iinfo(np.int64(0).dtype).max\n",
    "\n",
    "# TODO: JZ, IMPLEMENT AS LOOP FOR OPTUNA FOR HYPERPARAMETER TUNING\n",
    "print('Splitting data...')\n",
    "# Create data splitting object for stratified sampling into train and test sets (as well as downsampling)\n",
    "data_splitter = cu.Datasplit(\n",
    "    features=roinet.latents,\n",
    "    labels=data.class_labels,\n",
    "    n_train=INTEGER_MAX,\n",
    "    val_size=0.2,\n",
    "    test_size=0.2,\n",
    ")\n",
    "\n",
    "print('Calculating class weights...')\n",
    "num_classes = len(np.unique(data.class_labels))\n",
    "class_weights = sklearn.utils.class_weight.compute_class_weight(class_weight='balanced', classes=np.unique(data.class_labels), y=data.class_labels)\n",
    "\n",
    "print(f'Fitting model to data of dimensions: X: {data_splitter.features_train}, y: {data_splitter.labels_train}...')\n",
    "# Create lenet model, associated optimizer, loss function, and training tracker\n",
    "model = sklearn.linear_model.LogisticRegression(\n",
    "   solver='lbfgs',\n",
    "   fit_intercept=True,\n",
    "   max_iter=10000,\n",
    "   C=1e5,\n",
    "   class_weight={iClassWeight:classWeight for iClassWeight, classWeight in enumerate(class_weights)},\n",
    "#    class_weight=class_weights,\n",
    ")\n",
    "model.fit(data_splitter.features_train, data_splitter.labels_train)\n",
    "\n",
    "print(f'Calculating tracker outputs and saving to {directory_save}...')\n",
    "training_tracker = cu.TrainingTracker(\n",
    "    directory_save=directory_save,\n",
    "    class_weights=class_weights, # Class Weights\n",
    "    n_train_actual=data_splitter.n_train_actual,\n",
    "    model=({'coef':model.coef_, 'intercept':model.intercept_})\n",
    ")\n",
    "\n",
    "y_train_preds = model.predict(data_splitter.features_train).astype(int)\n",
    "y_train_true = data_splitter.labels_train\n",
    "y_val_preds = model.predict(data_splitter.features_val).astype(int)\n",
    "y_val_true = data_splitter.labels_val\n",
    "\n",
    "# Save training loop results from current epoch for training set\n",
    "training_tracker.add_accuracy(0, 'accuracy_training', y_train_true, y_train_preds) # Generating training loss\n",
    "training_tracker.add_confusion_matrix(0, 'confusionMatrix_training', y_train_true, y_train_preds) # Generating confusion matrix\n",
    "\n",
    "# Save training loop results from current epoch for validation set\n",
    "training_tracker.add_accuracy(0, 'accuracy_val', y_val_true, y_val_preds) # Generating validation accuracy\n",
    "training_tracker.add_confusion_matrix(0, 'confusionMatrix_val', y_val_true, y_val_preds) # Generating validation confusion matrix\n",
    "\n",
    "training_tracker.save_results() # TODO: JZ, ADJUST RESULTS SAVING TO SAVE CONFUSION MATRICES AS NOT A DATAFRAME CSV\n",
    "training_tracker.print_results()\n",
    "\n",
    "model_save = {\n",
    "    'intercept_': model.intercept_,\n",
    "    'coef_': model.coef_,\n",
    "    'classes_': model.classes_,\n",
    "}"
   ]
  },
  {
   "attachments": {},
   "cell_type": "markdown",
   "metadata": {},
   "source": [
    "# Save Outputs"
   ]
  },
  {
   "cell_type": "code",
   "execution_count": null,
   "metadata": {},
   "outputs": [],
   "source": [
    "np.save(str((Path(directory_save) / 'model.npy').resolve()), model_save, allow_pickle=True)\n",
    "# with open(str((Path(directory_save) / 'classifierTrainingRun_interim.pkl').resolve()), 'wb') as f:\n",
    "#     np.save(\n",
    "#         file=f,\n",
    "#         arr=classifierTrainingRun_interim,\n",
    "#         allow_pickle=True\n",
    "#     )\n",
    "\n",
    "print(f'Saved model fit results.')"
   ]
  },
  {
   "cell_type": "code",
   "execution_count": null,
   "metadata": {},
   "outputs": [],
   "source": []
  }
 ],
 "metadata": {
  "kernelspec": {
   "display_name": "ROICaT",
   "language": "python",
   "name": "python3"
  },
  "language_info": {
   "codemirror_mode": {
    "name": "ipython",
    "version": 3
   },
   "file_extension": ".py",
   "mimetype": "text/x-python",
   "name": "python",
   "nbconvert_exporter": "python",
   "pygments_lexer": "ipython3",
   "version": "3.9.13"
  }
 },
 "nbformat": 4,
 "nbformat_minor": 2
}
