{
 "cells": [
  {
   "attachments": {},
   "cell_type": "markdown",
   "metadata": {},
   "source": [
    "# Imports"
   ]
  },
  {
   "cell_type": "code",
   "execution_count": 1,
   "metadata": {},
   "outputs": [],
   "source": [
    "import sys\n",
    "import time\n",
    "\n",
    "import numpy as np\n",
    "import torch\n",
    "from bnpm import file_helpers, optimization\n",
    "import sklearn.utils.class_weight\n",
    "from torch import nn, optim\n",
    "from tqdm import tqdm\n",
    "import sklearn.linear_model\n",
    "import multiprocessing as mp\n",
    "\n",
    "import roicat.classification.classifier_util as cu\n",
    "import scipy.sparse\n",
    "import roicat\n",
    "import bnpm.h5_handling\n",
    "from pathlib import Path\n",
    "import sys\n",
    "from pathlib import Path\n",
    "import shutil\n",
    "import warnings\n",
    "\n",
    "import matplotlib.pyplot as plt\n",
    "import json\n"
   ]
  },
  {
   "attachments": {},
   "cell_type": "markdown",
   "metadata": {},
   "source": [
    "# Specify Initial Parameters"
   ]
  },
  {
   "cell_type": "code",
   "execution_count": null,
   "metadata": {},
   "outputs": [],
   "source": [
    "path_params = None # Path(r\"\")\n",
    "# filepath_ROIs = r'/Users/josh/analysis/outputs/ROICaT/classification/01_labels/arr_ROIs.npy'\n",
    "filepath_ROIs = None\n",
    "filepath_latents = r'/Users/josh/analysis/outputs/ROICaT/classification/01_labels/arr_latents.npy'\n",
    "filepath_labels = r'/Users/josh/analysis/outputs/ROICaT/classification/01_labels/arr_labels.npy'\n",
    "directory_save = r'/Users/josh/analysis/outputs/ROICaT/classification/02_classifier_train'\n",
    "testing = True\n",
    "\n",
    "assert (filepath_ROIs is None) != (filepath_latents is None), 'Exactly one of filepath_ROIs or filepath_latents should be set'\n",
    "assert Path(filepath_labels).exists(), 'File located at filepath_labels does not exist'"
   ]
  },
  {
   "cell_type": "code",
   "execution_count": null,
   "metadata": {},
   "outputs": [],
   "source": [
    "filepath_ROIs = Path(filepath_ROIs) if filepath_ROIs else None\n",
    "filepath_latents = Path(filepath_latents) if filepath_latents else None\n",
    "filepath_labels = Path(filepath_labels)\n",
    "directory_save = Path(directory_save)\n",
    "directory_save.mkdir(exist_ok=True, parents=True)\n",
    "\n",
    "classifierTrainingRun_interim = {}\n",
    "\n",
    "if path_params is not None:\n",
    "    try:\n",
    "        Path(str((directory_save).resolve())).mkdir(exist_ok=True, parents=True)\n",
    "        shutil.copy2(path_params, str(Path(directory_save) / Path(path_params).name));\n",
    "    except Exception as e:\n",
    "        print(f'JZ: Error copying params to {directory_save}')\n",
    "        print(e)"
   ]
  },
  {
   "cell_type": "code",
   "execution_count": 4,
   "metadata": {},
   "outputs": [],
   "source": [
    "tic = time.time()\n",
    "tictoc = {}\n",
    "tictoc['start'] = time.time() - tic\n",
    "\n",
    "params = file_helpers.json_load(str(Path(path_params).resolve())) if path_params is not None else None"
   ]
  },
  {
   "cell_type": "code",
   "execution_count": 5,
   "metadata": {},
   "outputs": [],
   "source": [
    "if params is None:\n",
    "    params = {\n",
    "        \"method\": \"simclr\",\n",
    "        \"device\": \"cuda:0\",\n",
    "        \"datatype\": \"raw_images\",\n",
    "        \"hyperparameters_split\": {\n",
    "            \"n_train\": 50000,\n",
    "            \"test_size\": 0.3\n",
    "        },\n",
    "        \"paths\": {\n",
    "            \"directory_github\": \"/Users/josh/analysis/github_repos/\",\n",
    "            \"directory_simclrModel\": \"/Users/josh/analysis//models\",\n",
    "            \"filepath_umapModel\": None,\n",
    "        },\n",
    "        \"hyperparameters_training_classifier\": {\n",
    "            \"num_transform_copies\": 80,\n",
    "            \"solver\": \"lbfgs\",\n",
    "            \"fit_intercept\": True,\n",
    "            \"max_iter\": 20000,\n",
    "            \"C\": 0.01,\n",
    "            \"tol\": 0.001,\n",
    "            \"simclrModel_download_url\": \"https://osf.io/xwzhp/download\",\n",
    "            \"simclrModel_download_hash\": \"134b170242141c26b0adbd9e0fd80d0e\"\n",
    "        },\n",
    "        \"run_umap\": True,\n",
    "    }\n",
    "\n",
    "roicat.util.helpers.set_device(params['device'])"
   ]
  },
  {
   "attachments": {},
   "cell_type": "markdown",
   "metadata": {},
   "source": [
    "# Import Datasets"
   ]
  },
  {
   "cell_type": "code",
   "execution_count": null,
   "metadata": {},
   "outputs": [
    {
     "name": "stderr",
     "output_type": "stream",
     "text": [
      "/Users/josh/analysis/github_repos/ROICaT/roicat/util.py:191: UserWarning: RH WARNING: unable to get cpu info. Got error: No module named 'cpuinfo'\n",
      "  warnings.warn(f'RH WARNING: unable to get cpu info. Got error: {e}')\n",
      "/Users/josh/analysis/github_repos/ROICaT/roicat/util.py:210: UserWarning: RH WARNING: unable to get gpu info. Got error: No module named 'GPUtil'\n",
      "  warnings.warn(f'RH WARNING: unable to get gpu info. Got error: {e}')\n"
     ]
    },
    {
     "name": "stdout",
     "output_type": "stream",
     "text": [
      "Loaded Data_roicat object from /Users/josh/analysis/outputs/ROICaT/classification/00_data_ingestion/classification_data.pkl.\n"
     ]
    }
   ],
   "source": [
    "data = roicat.data_importing.Data_roicat(verbose=True)\n",
    "data.load(str(Path(directory_data) / 'classification_data.pkl'))"
   ]
  },
  {
   "attachments": {},
   "cell_type": "markdown",
   "metadata": {},
   "source": [
    "# Pass Through Network"
   ]
  },
  {
   "cell_type": "code",
   "execution_count": 7,
   "metadata": {},
   "outputs": [],
   "source": [
    "if filepath_ROIs:\n",
    "    tictoc['imported_data'] = time.time() - tic\n",
    "\n",
    "    ROI_images_rescaled = [roicat.ROInet.ROInet_embedder.resize_ROIs(rois, params['hyperparameters_data']['um_per_pixel']) for rois in data.ROI_images]\n",
    "\n",
    "    # Initialize concatendated data\n",
    "    ROI_images_init = np.concatenate(data.ROI_images, axis=0).astype(np.float32)\n",
    "    ROI_images_init_rescaled = np.concatenate(ROI_images_rescaled, axis=0).astype(np.float32)\n",
    "    _labels_init = np.concatenate(data.class_labels, axis=0).astype(int).copy()\n",
    "\n",
    "    # Perform data cleaning\n",
    "    idx_violations = (np.isnan(ROI_images_init_rescaled.sum(axis=(1,2)))*1 + (np.sum(ROI_images_init_rescaled, axis=(1,2))==0)*1 + np.isnan(_labels_init)) != 0\n",
    "    print('Number of idx_violations: ', idx_violations.sum(), ' out of ', len(idx_violations), ' total ROIs.')\n",
    "    print('Located at: ', np.where(idx_violations)[0])\n",
    "    print('Discarding these ROIs...')\n",
    "\n",
    "    ROI_images_filt = ROI_images_init_rescaled[~idx_violations]\n",
    "    _labels_filt = _labels_init[~idx_violations]\n",
    "\n",
    "    if testing:\n",
    "        ROI_images_filt = ROI_images_filt[:100]\n",
    "        _labels_filt = _labels_filt[:100]\n",
    "\n",
    "    classifierTrainingRun_interim['ROI_images_filt'] = ROI_images_filt\n",
    "\n",
    "    ## No remapping for generate preproc\n",
    "    # labels_remapped = cu.remap_labels(labels_filt, params['label_remapping'])\n",
    "\n",
    "    tictoc['cleaned_data'] = time.time() - tic\n",
    "\n",
    "    print(f'Shape of ROI_images_filt: {ROI_images_filt.shape}, shape of labels_remapped: {_labels_filt.shape}')\n",
    "\n",
    "    transforms_final_all = cu.get_transforms(params['hyperparameters_augmentations_all'], scripted=True)\n",
    "    dataset_all = roicat.ROInet.dataset_simCLR(\n",
    "            X=torch.as_tensor(ROI_images_filt, device='cpu', dtype=torch.float32),\n",
    "            y=torch.as_tensor(np.zeros((ROI_images_filt.shape[0])), device='cpu', dtype=torch.float32),\n",
    "            n_transforms=1,\n",
    "            class_weights=np.array([1]),\n",
    "            transform=transforms_final_all, # *Use WarpPoints\n",
    "            DEVICE='cpu',\n",
    "            dtype_X=torch.float32,\n",
    "        )\n",
    "    dataloader_all = torch.utils.data.DataLoader( \n",
    "            dataset_all,\n",
    "            batch_size=64,\n",
    "            shuffle=False,\n",
    "            drop_last=False,\n",
    "            pin_memory=False,\n",
    "            num_workers=0,#mp.cpu_count(),\n",
    "            persistent_workers=False,\n",
    "            prefetch_factor=2,\n",
    "    )\n",
    "\n",
    "    roinet = roicat.ROInet.ROInet_embedder(\n",
    "        device=params['device'],\n",
    "        dir_networkFiles=params['paths']['directory_simclrModel'],\n",
    "        download_method='check_local_first',\n",
    "        forward_pass_version='head',\n",
    "        download_url=params['hyperparameters_training_simclr']['simclrModel_download_url'],\n",
    "        download_hash=params['hyperparameters_training_simclr']['simclrModel_download_hash'],\n",
    "        verbose=True,\n",
    "    )\n",
    "\n",
    "    print(f'Extracting transformed images from dataloaders, passing through roinet model, and saving to {directory_save}...')\n",
    "\n",
    "    features_all, _labels_all, _idx_all, _sample_all = cu.extract_with_dataloader(\n",
    "        dataloader_all,\n",
    "        model=roinet.net,\n",
    "        num_copies=1,\n",
    "        device=params['device'],\n",
    "    )\n",
    "\n",
    "    classifierTrainingRun_interim['features_all'] = features_all\n",
    "    print(f'Unaugmented run completed.')\n",
    "\n",
    "else:\n",
    "    features_all = np.load(filepath_latents)\n",
    "\n",
    "labels_all = np.load(filepath_labels)"
   ]
  },
  {
   "attachments": {},
   "cell_type": "markdown",
   "metadata": {},
   "source": [
    "# Train / Validation / Test Split Data, Hyperparameter Tune on Validation Set, and Fit Model"
   ]
  },
  {
   "cell_type": "code",
   "execution_count": 8,
   "metadata": {},
   "outputs": [],
   "source": [
    "INTEGER_MAX = np.iinfo(np.int64(0).dtype).max\n",
    "\n",
    "# TODO: JZ, IMPLEMENT AS LOOP FOR OPTUNA FOR HYPERPARAMETER TUNING\n",
    "print('Splitting data...')\n",
    "# Create data splitting object for stratified sampling into train and test sets (as well as downsampling)\n",
    "data_split_val = cu.Datasplit(\n",
    "    features=features_all,\n",
    "    labels=labels_all,\n",
    "    n_train=INTEGER_MAX,\n",
    "    test_size=params['hyperparameters_split']['val_size'],\n",
    ")\n",
    "data_split_test = cu.Datasplit(\n",
    "    features=data_split_val.features_train,\n",
    "    labels=data_split_val.labels_train,\n",
    "    n_train=INTEGER_MAX,\n",
    "    test_size = params['hyperparameters_split']['test_size']/(1 - params['hyperparameters_split']['val_size']),\n",
    ")\n",
    "\n",
    "print('Creating X and y matrices for training data...')\n",
    "X_train = data_split_test.features_train\n",
    "y_train = data_split_test.labels_train\n",
    "\n",
    "X_val = data_split_val.features_val\n",
    "y_val = data_split_val.labels_val\n",
    "\n",
    "X_test = data_split_val.features_val\n",
    "y_test = data_split_val.labels_val\n",
    "\n",
    "y_train = y_train.astype(int)\n",
    "y_val = y_val.astype(int)\n",
    "y_test = y_test.astype(int)\n",
    "\n",
    "tictoc['loaded_data'] = time.time() - tic\n",
    "print('Calculating class weights...')\n",
    "num_classes = len(np.unique(labels))\n",
    "class_weights = sklearn.utils.class_weight.compute_class_weight(class_weight='balanced', classes=np.unique(labels_all), y=labels_all)\n",
    "\n",
    "labels_train = y_train.reshape(-1) # np.stack([data_split.labels_train_subset]*latents_augmented.shape[1], axis=1).reshape(-1)\n",
    "features_train = X_train.reshape(-1, X_train.shape[-1]) # latents_augmented[data_split.features_train_subset].reshape(-1, latents_augmented.shape[2])\n",
    "\n",
    "labels_val = y_val.reshape(-1) # data_split.labels_val\n",
    "features_val = X_val.reshape(-1, X_val.shape[-1]) # latents_unaugmented[data_split.features_val]\n",
    "\n",
    "labels_test = y_test.reshape(-1) # data_split.labels_val\n",
    "features_test = X_test.reshape(-1, X_test.shape[-1]) # latents_unaugmented[data_split.features_val]\n",
    "\n",
    "n_train_actual = X_train.shape[0]\n",
    "n_val_actual = X_val.shape[0]\n",
    "n_test_actual = X_test.shape[0]\n",
    "\n",
    "tictoc['splitted_data'] = time.time() - tic\n",
    "\n",
    "print(f'Fitting model to data of dimensions: X: {X_train.shape}, y: {y_train.shape}...')\n",
    "# Create lenet model, associated optimizer, loss function, and training tracker\n",
    "model = sklearn.linear_model.LogisticRegression(\n",
    "   solver=params['hyperparameters_training_simclr']['solver'],\n",
    "   fit_intercept=params['hyperparameters_training_simclr']['fit_intercept'],\n",
    "   max_iter=params['hyperparameters_training_simclr']['max_iter'],\n",
    "   C=params['hyperparameters_training_simclr']['C'],\n",
    "   class_weight={iClassWeight:classWeight for iClassWeight, classWeight in enumerate(class_weights)},\n",
    "#    class_weight=class_weights,\n",
    ")\n",
    "model.fit(features_train, labels_train)\n",
    "\n",
    "print(f'Calculating tracker outputs and saving to {directory_save}...')\n",
    "training_tracker = cu.TrainingTracker(\n",
    "    directory_save=directory_save,\n",
    "    class_weights=class_weights, # Class Weights\n",
    "    tictoc=tictoc, # Time Tracker\n",
    "    n_train_actual=n_train_actual,\n",
    "    model=({'coef':model.coef_, 'intercept':model.intercept_})\n",
    ")\n",
    "\n",
    "y_train_preds = model.predict(features_train).astype(int)\n",
    "y_train_true = labels_train\n",
    "y_val_preds = model.predict(features_val).astype(int)\n",
    "y_val_true = labels_val\n",
    "\n",
    "# Save training loop results from current epoch for training set\n",
    "training_tracker.add_accuracy(0, 'accuracy_training', y_train_true, y_train_preds) # Generating training loss\n",
    "training_tracker.add_confusion_matrix(0, 'confusionMatrix_training', y_train_true, y_train_preds) # Generating confusion matrix\n",
    "\n",
    "# Save training loop results from current epoch for validation set\n",
    "training_tracker.add_accuracy(0, 'accuracy_val', y_val_true, y_val_preds) # Generating validation accuracy\n",
    "training_tracker.add_confusion_matrix(0, 'confusionMatrix_val', y_val_true, y_val_preds) # Generating validation confusion matrix\n",
    "\n",
    "tictoc[f'completed_training_in_{0}'] = time.time() - tic\n",
    "\n",
    "training_tracker.save_results() # TODO: JZ, ADJUST RESULTS SAVING TO SAVE CONFUSION MATRICES AS NOT A DATAFRAME CSV\n",
    "training_tracker.print_results()\n",
    "\n",
    "model_save = {\n",
    "<<<<<<< local\n",
    "    'intercept_': model.intercept_,\n",
    "    'coef_': model.coef_,\n",
    "    'classes_': model.classes_,\n",
    "=======\n",
    "    'intercept': model.intercept_,\n",
    "    'coefs': model.coef_,\n",
    ">>>>>>> remote\n",
    "}"
   ]
  },
  {
   "attachments": {},
   "cell_type": "markdown",
   "metadata": {},
   "source": [
    "# Save Outputs"
   ]
  },
  {
   "cell_type": "code",
   "execution_count": null,
   "metadata": {},
   "outputs": [
    {
     "name": "stdout",
     "output_type": "stream",
     "text": [
      "Saved model fit results.\n"
     ]
    }
   ],
   "source": [
    "np.save(str((Path(directory_save) / 'model.npy').resolve()), model_save, allow_pickle=True)\n",
    "\n",
    "classifierTrainingRun_interim['params_prespecified'] = params\n",
    "with open(str((Path(directory_save) / 'classifierTrainingRun_interim.pkl').resolve()), 'wb') as f:\n",
    "    np.save(\n",
    "        file=f,\n",
    "        arr=classifierTrainingRun_interim,\n",
    "        allow_pickle=True\n",
    "    )\n",
    "\n",
    "print(f'Saved model fit results.')"
   ]
  }
 ],
 "metadata": {
  "kernelspec": {
   "display_name": "ROICaT",
   "language": "python",
   "name": "python3"
  },
  "language_info": {
   "codemirror_mode": {
    "name": "ipython",
    "version": 3
   },
   "file_extension": ".py",
   "mimetype": "text/x-python",
   "name": "python",
   "nbconvert_exporter": "python",
   "pygments_lexer": "ipython3",
   "version": "3.9.13"
  }
 },
 "nbformat": 4,
 "nbformat_minor": 2
}
