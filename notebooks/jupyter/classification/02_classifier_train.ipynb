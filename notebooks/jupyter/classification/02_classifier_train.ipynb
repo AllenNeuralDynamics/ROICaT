{
 "cells": [
  {
   "attachments": {},
   "cell_type": "markdown",
   "metadata": {},
   "source": [
    "# Imports"
   ]
  },
  {
   "cell_type": "code",
   "execution_count": 1,
   "metadata": {},
   "outputs": [
    {
     "name": "stderr",
     "output_type": "stream",
     "text": [
      "2023-06-21 16:00:58.652563: I tensorflow/core/platform/cpu_feature_guard.cc:193] This TensorFlow binary is optimized with oneAPI Deep Neural Network Library (oneDNN) to use the following CPU instructions in performance-critical operations:  AVX2 FMA\n",
      "To enable them in other operations, rebuild TensorFlow with the appropriate compiler flags.\n"
     ]
    }
   ],
   "source": [
    "%load_ext autoreload\n",
    "%autoreload 2\n",
    "\n",
    "import sys\n",
    "import time\n",
    "\n",
    "import numpy as np\n",
    "import torch\n",
    "from bnpm import file_helpers, optimization\n",
    "import sklearn.utils.class_weight\n",
    "from torch import nn, optim\n",
    "from tqdm import tqdm\n",
    "import sklearn.linear_model\n",
    "import multiprocessing as mp\n",
    "\n",
    "import roicat.classification.classifier_util as cu\n",
    "import scipy.sparse\n",
    "import roicat\n",
    "import bnpm.h5_handling\n",
    "from pathlib import Path\n",
    "import shutil\n",
    "import warnings\n",
    "import umap\n",
    "\n",
    "import matplotlib.pyplot as plt\n",
    "import matplotlib.offsetbox\n",
    "import json\n",
    "import os\n",
    "import natsort\n",
    "from roicat import helpers\n",
    "# from kymatio.torch import Scattering2D\n",
    "import gc\n",
    "import functools"
   ]
  },
  {
   "attachments": {},
   "cell_type": "markdown",
   "metadata": {},
   "source": [
    "# Specify Initial Parameters"
   ]
  },
  {
   "cell_type": "code",
   "execution_count": 2,
   "metadata": {},
   "outputs": [],
   "source": [
    "path_params = None # Path(r\"\")\n",
    "# directory_data = r'/Users/josh/analysis/outputs/ROICaT/classification/00_data_ingestion'\n",
    "directory_data = r'/Users/josh/analysis/outputs/ROICaT/classification/labeling_interactive/feature_label_combo.npy'\n",
    "directory_save = r'/Users/josh/analysis/outputs/ROICaT/classification/02_classifier_train'\n",
    "testing = True\n",
    "save_ROIs = True\n",
    "save_latents = True"
   ]
  },
  {
   "cell_type": "code",
   "execution_count": 3,
   "metadata": {},
   "outputs": [],
   "source": [
    "directory_save = Path(directory_save)\n",
    "directory_save.mkdir(exist_ok=True, parents=True)\n",
    "\n",
    "params = file_helpers.json_load(str(Path(path_params).resolve())) if path_params is not None else None"
   ]
  },
  {
   "attachments": {},
   "cell_type": "markdown",
   "metadata": {},
   "source": [
    "# Data Importing — Suite2p"
   ]
  },
  {
   "cell_type": "code",
   "execution_count": 4,
   "metadata": {},
   "outputs": [
    {
     "data": {
      "text/plain": [
       "['/Users/josh/analysis/data/ROICaT/classification/stat_s2p/stat.npy']"
      ]
     },
     "metadata": {},
     "output_type": "display_data"
    },
    {
     "data": {
      "text/plain": [
       "['/Users/josh/analysis/data/ROICaT/classification/stat_s2p/ops.npy']"
      ]
     },
     "metadata": {},
     "output_type": "display_data"
    },
    {
     "name": "stderr",
     "output_type": "stream",
     "text": [
      "/Users/josh/analysis/github_repos/ROICaT/roicat/util.py:191: UserWarning: RH WARNING: unable to get cpu info. Got error: No module named 'cpuinfo'\n",
      "  warnings.warn(f'RH WARNING: unable to get cpu info. Got error: {e}')\n",
      "/Users/josh/analysis/github_repos/ROICaT/roicat/util.py:210: UserWarning: RH WARNING: unable to get gpu info. Got error: No module named 'GPUtil'\n",
      "  warnings.warn(f'RH WARNING: unable to get gpu info. Got error: {e}')\n"
     ]
    },
    {
     "name": "stdout",
     "output_type": "stream",
     "text": [
      "Starting: Importing FOV images from ops files\n",
      "Completed: Set FOV_height and FOV_width successfully.\n",
      "Completed: Imported 1 FOV images.\n",
      "Completed: Set FOV_images for 1 sessions successfully.\n",
      "Importing spatial footprints from stat files.\n"
     ]
    },
    {
     "name": "stderr",
     "output_type": "stream",
     "text": [
      "100%|██████████| 1/1 [00:01<00:00,  1.93s/it]\n"
     ]
    },
    {
     "name": "stdout",
     "output_type": "stream",
     "text": [
      "Imported 1 sessions of spatial footprints into sparse arrays.\n",
      "Completed: Set spatialFootprints for 1 sessions successfully.\n",
      "Completed: Created session_bool.\n",
      "Completed: Created centroids.\n",
      "Staring: Creating centered ROI images from spatial footprints...\n",
      "Completed: Created ROI images.\n",
      "Starting: Importing class labels\n",
      "Labels and ROI Images match in shapes: Class labels and ROI images have the same number of sessions and the same number of ROIs in each session.\n",
      "Completed: Imported labels for 1 sessions. Each session has [4898] class labels. Total number of class labels is 4898.\n"
     ]
    }
   ],
   "source": [
    "dir_allOuterFolders = str(Path('/Users/josh/analysis/data/ROICaT/classification/stat_s2p').resolve())\n",
    "\n",
    "pathSuffixToStat = 'stat.npy'\n",
    "pathSuffixToOps = 'ops.npy'\n",
    "pathSuffixToLabels = 'labels_round2_sesh2.npy'\n",
    "\n",
    "paths_allStat = helpers.find_paths(\n",
    "    dir_outer=dir_allOuterFolders,\n",
    "    reMatch=pathSuffixToStat,\n",
    "    depth=4,\n",
    ")\n",
    "paths_allOps = helpers.find_paths(\n",
    "    dir_outer=dir_allOuterFolders,\n",
    "    reMatch=pathSuffixToOps,\n",
    "    depth=4,\n",
    ")\n",
    "paths_allLabels = helpers.find_paths(\n",
    "    dir_outer=dir_allOuterFolders,\n",
    "    reMatch=pathSuffixToLabels,\n",
    "    depth=4,\n",
    ")\n",
    "\n",
    "display(paths_allStat)\n",
    "display(paths_allOps)\n",
    "\n",
    "#Import data\n",
    "data = roicat.data_importing.Data_suite2p(\n",
    "    paths_statFiles=paths_allStat,\n",
    "    paths_opsFiles=paths_allOps,\n",
    "    class_labels=[np.load(path_label, allow_pickle=True) for path_label in paths_allLabels],\n",
    "    um_per_pixel=2.0,\n",
    "    new_or_old_suite2p='new',\n",
    "    out_height_width=[36, 36],\n",
    "    type_meanImg='meanImgE',\n",
    "    verbose=True,\n",
    ");"
   ]
  },
  {
   "attachments": {},
   "cell_type": "markdown",
   "metadata": {},
   "source": [
    "# Data Importing — Hand Labeled Inputs"
   ]
  },
  {
   "cell_type": "code",
   "execution_count": 14,
   "metadata": {},
   "outputs": [],
   "source": [
    "filepath_labellingInteractive = str(Path('/Users/josh/analysis/outputs/ROICaT/classification/labeling_interactive/test.ROICaT.labeling.results.pkl').resolve())\n",
    "labelingInteractive = roicat.helpers.pickle_load(filepath_labellingInteractive)\n",
    "category_mappings, codes_categories = np.unique(labelingInteractive['labels']['label'], return_inverse=True)"
   ]
  },
  {
   "cell_type": "code",
   "execution_count": 15,
   "metadata": {},
   "outputs": [
    {
     "name": "stdout",
     "output_type": "stream",
     "text": [
      "RH WARNING: No um_per_pixel provided. We recommend making an educated guess. Assuming 1.0 um per pixel. This will affect the embedding results.\n",
      "Starting: Importing ROI images\n",
      "Completed: Imported 1 sessions. Each session has [502] ROIs. Total number of ROIs is 502. The um_per_pixel is 1.0 um per pixel.\n",
      "Starting: Importing class labels\n",
      "Labels and ROI Images match in shapes: Class labels and ROI images have the same number of sessions and the same number of ROIs in each session.\n",
      "Completed: Imported labels for 1 sessions. Each session has [502] class labels. Total number of class labels is 502.\n"
     ]
    },
    {
     "name": "stderr",
     "output_type": "stream",
     "text": [
      "/Users/josh/analysis/github_repos/ROICaT/roicat/util.py:191: UserWarning: RH WARNING: unable to get cpu info. Got error: No module named 'cpuinfo'\n",
      "  warnings.warn(f'RH WARNING: unable to get cpu info. Got error: {e}')\n",
      "/Users/josh/analysis/github_repos/ROICaT/roicat/util.py:210: UserWarning: RH WARNING: unable to get gpu info. Got error: No module named 'GPUtil'\n",
      "  warnings.warn(f'RH WARNING: unable to get gpu info. Got error: {e}')\n"
     ]
    }
   ],
   "source": [
    "# Import data\n",
    "data = roicat.data_importing.Data_roicat();\n",
    "data.set_ROI_images([labelingInteractive['images'][labelingInteractive['labels']['index']]]);\n",
    "data.set_class_labels([labelingInteractive['labels']['label']]);"
   ]
  },
  {
   "attachments": {},
   "cell_type": "markdown",
   "metadata": {},
   "source": [
    "# Pass Through Network"
   ]
  },
  {
   "cell_type": "code",
   "execution_count": 16,
   "metadata": {},
   "outputs": [
    {
     "name": "stdout",
     "output_type": "stream",
     "text": [
      "devices available: []\n",
      "no GPU available. Using CPU.\n",
      "File already exists locally: /Users/josh/analysis/models/ROInet.zip\n"
     ]
    },
    {
     "name": "stderr",
     "output_type": "stream",
     "text": [
      "/Users/josh/analysis/github_repos/ROICaT/roicat/util.py:191: UserWarning: RH WARNING: unable to get cpu info. Got error: No module named 'cpuinfo'\n",
      "  warnings.warn(f'RH WARNING: unable to get cpu info. Got error: {e}')\n",
      "/Users/josh/analysis/github_repos/ROICaT/roicat/util.py:210: UserWarning: RH WARNING: unable to get gpu info. Got error: No module named 'GPUtil'\n",
      "  warnings.warn(f'RH WARNING: unable to get gpu info. Got error: {e}')\n"
     ]
    },
    {
     "name": "stdout",
     "output_type": "stream",
     "text": [
      "Hash of local file matches provided hash_hex.\n",
      "Extracting /Users/josh/analysis/models/ROInet.zip to /Users/josh/analysis/models.\n",
      "Completed zip extraction.\n",
      "['/Users/josh/analysis/models/ROInet_classification_20220902', '/Users/josh/analysis/models/ROInet_classification_20220902/ConvNext_tiny__1_0_best__simCLR_wPCA.pth', '/Users/josh/analysis/models/ROInet_classification_20220902/model.py', '/Users/josh/analysis/models/ROInet_classification_20220902/classifier.pkl', '/Users/josh/analysis/models/ROInet_classification_20220902/params.json', '/Users/josh/analysis/models/ROInet_classification_20220902/__pycache__', '/Users/josh/analysis/models/ROInet_classification_20220902/__pycache__/model.cpython-39.pyc']\n",
      "Imported model from /Users/josh/analysis/models/ROInet_classification_20220902/model.py\n",
      "Loaded params_model from /Users/josh/analysis/models/ROInet_classification_20220902/params.json\n"
     ]
    },
    {
     "name": "stderr",
     "output_type": "stream",
     "text": [
      "/Users/josh/opt/anaconda3/envs/ROICaT/lib/python3.9/site-packages/torchvision/models/_utils.py:208: UserWarning: The parameter 'pretrained' is deprecated since 0.13 and will be removed in 0.15, please use 'weights' instead.\n",
      "  warnings.warn(\n",
      "/Users/josh/opt/anaconda3/envs/ROICaT/lib/python3.9/site-packages/torchvision/models/_utils.py:223: UserWarning: Arguments other than a weight enum or `None` for 'weights' are deprecated since 0.13 and will be removed in 0.15. The current behavior is equivalent to passing `weights=ConvNeXt_Tiny_Weights.IMAGENET1K_V1`. You can also use `weights=ConvNeXt_Tiny_Weights.DEFAULT` to get the most up-to-date weights.\n",
      "  warnings.warn(msg)\n"
     ]
    },
    {
     "name": "stdout",
     "output_type": "stream",
     "text": [
      "Generated network using params_model\n",
      "Loaded state_dict into network from /Users/josh/analysis/models/ROInet_classification_20220902/ConvNext_tiny__1_0_best__simCLR_wPCA.pth\n",
      "Loaded network onto device cpu\n",
      "Starting: resizing ROIs\n",
      "Completed: resizing ROIs\n",
      "Defined image transformations: Sequential(\n",
      "  (0): ScaleDynamicRange(scaler_bounds=(0, 1))\n",
      "  (1): Resize(size=(224, 224), interpolation=bilinear, max_size=None, antialias=True)\n",
      "  (2): TileChannels(dim=0)\n",
      ")\n",
      "Defined dataset\n",
      "Defined dataloader\n",
      "starting: running data through network\n"
     ]
    },
    {
     "name": "stderr",
     "output_type": "stream",
     "text": [
      "100%|██████████| 63/63 [01:19<00:00,  1.27s/it]\n"
     ]
    },
    {
     "name": "stdout",
     "output_type": "stream",
     "text": [
      "completed: running data through network\n"
     ]
    }
   ],
   "source": [
    "# Neural network embedding distances\n",
    "roinet = roicat.ROInet.ROInet_embedder(\n",
    "    device=roicat.util.helpers.set_device('cuda:0'),\n",
    "    dir_networkFiles=r\"/Users/josh/analysis/models\",\n",
    "    download_method=\"check_local_first\",\n",
    "    download_url=\"https://osf.io/xwzhp/download\",\n",
    "    download_hash=\"134b170242141c26b0adbd9e0fd80d0e\",\n",
    "    forward_pass_version=\"head\",\n",
    "    verbose=True,\n",
    ")\n",
    "\n",
    "roinet.generate_dataloader(\n",
    "    ROI_images=data.ROI_images,\n",
    "    um_per_pixel=data.um_per_pixel,\n",
    "    pref_plot=False,\n",
    "    batchSize_dataloader=8,\n",
    "    pinMemory_dataloader=True,\n",
    "    numWorkers_dataloader=mp.cpu_count(),\n",
    "    persistentWorkers_dataloader=True,\n",
    "    prefetchFactor_dataloader=2,    \n",
    ");\n",
    "\n",
    "# roicat.visualization.display_toggle_image_stack(roinet.ROI_images_rs)\n",
    "\n",
    "roinet.generate_latents();\n",
    "\n",
    "gc.collect()\n",
    "torch.cuda.empty_cache()\n",
    "gc.collect()\n",
    "torch.cuda.empty_cache()"
   ]
  },
  {
   "cell_type": "code",
   "execution_count": 17,
   "metadata": {},
   "outputs": [],
   "source": [
    "# feature_label_combo = np.load(directory_data, allow_pickle=True)[()]\n",
    "# # TODO: Add alternative data importing method for raw data when feature_label_combo does not exist"
   ]
  },
  {
   "attachments": {},
   "cell_type": "markdown",
   "metadata": {},
   "source": [
    "# Train / Validation / Test Split Data, Hyperparameter Tune on Validation Set, and Fit Model"
   ]
  },
  {
   "cell_type": "code",
   "execution_count": 22,
   "metadata": {},
   "outputs": [
    {
     "name": "stdout",
     "output_type": "stream",
     "text": [
      "Splitting data...\n",
      "Calculating class weights...\n",
      "Fitting model to data of dimensions: X: tensor([[-5253.1489,  1064.1238, -2189.9517,  ...,  -178.1226,    95.4517,\n",
      "          -136.5313],\n",
      "        [-3733.0259, -2631.0325,  1033.2117,  ...,  -199.3206,    66.0951,\n",
      "           -97.6897],\n",
      "        [-3840.5396,  1196.2999, -3921.7903,  ...,    39.2984,    50.9117,\n",
      "          -106.1018],\n",
      "        ...,\n",
      "        [-4230.0610,  1560.7756, -3991.6963,  ...,    35.7600,    67.7590,\n",
      "           -83.6938],\n",
      "        [-5258.3848,  1584.0309, -1874.1542,  ...,    71.1284,    44.4079,\n",
      "           -41.8832],\n",
      "        [-4347.1313,   760.6380,  -334.8129,  ...,  -176.3295,   131.9691,\n",
      "          -105.4062]]), y: [2 0 3 2 3 0 0 0 1 1 0 1 0 2 1 2 3 2 2 0 1 0 2 0 0 2 1 0 2 2 1 0 0 2 0 1 0\n",
      " 0 1 3 2 3 2 3 1 2 0 2 0 3 1 2 2 1 0 1 2 1 0 1 1 2 1 3 3 1 0 1 1 2 0 0 1 1\n",
      " 0 1 1 1 2 3 2 1 3 1 0 0 0 1 2 1 0 2 1 1 0 0 2 0 0 0 1 2 0 1 1 0 2 2 3 0 2\n",
      " 3 2 2 2 0 3 2 0 1 0 2 2 1 1 0 2 3 2 0 2 0 1 2 2 1 1 1 0 0 1 1 1 3 1 1 0 3\n",
      " 1 0 0 2 2 2 1 1 3 1 0 1 1 0 1 1 1 2 0 1 0 3 1 1 1 2 0 1 0 0 2 2 2 3 3 3 1\n",
      " 1 0 1 2 1 2 0 2 1 2 3 1 1 1 2 3 0 0 2 3 0 1 2 2 2 0 1 3 2 0 2 0 0 2 2 1 1\n",
      " 1 1 2 2 2 0 3 0 0 2 3 0 1 2 2 2 3 3 0 2 0 0 0 0 1 3 2 3 2 0 0 1 1 2 1 2 0\n",
      " 1 3 1 2 0 1 2 3 1 2 3 0 3 3 1 3 0 3 1 1 1 2 1 3 1 3 2 2 2 1 3 0 3 0 2 2 0\n",
      " 2 2 3 1 0]...\n",
      "Calculating tracker outputs and saving to /Users/josh/analysis/outputs/ROICaT/classification/02_classifier_train...\n",
      "Saving results:  /Users/josh/analysis/outputs/ROICaT/classification/02_classifier_train/results_training.csv /Users/josh/analysis/outputs/ROICaT/classification/02_classifier_train/results_timing.json\n",
      "self.tictoc={}\n",
      "self.model={'coef': array([[ 4.53974004e-03, -1.00717264e-02, -3.60387420e-03,\n",
      "         2.65488093e-02,  1.50676484e-02, -1.75543010e-03,\n",
      "         3.08866923e-03, -5.07737044e-03,  1.94877902e-03,\n",
      "        -2.34211506e-02,  2.40145757e-03,  5.36595637e-02,\n",
      "        -1.90780822e-02, -4.58480803e-03,  8.16239784e-03,\n",
      "        -6.71862939e-03,  1.07439516e-02,  1.16755504e-02,\n",
      "         2.89750644e-02, -2.91923416e-02, -3.71770417e-03,\n",
      "         2.43206851e-02,  2.01406885e-02, -4.65207670e-03,\n",
      "        -7.66200879e-03, -1.49438144e-02,  2.54857790e-02,\n",
      "         3.18273575e-02,  2.89661865e-04, -7.13730419e-03,\n",
      "         2.19664469e-02, -1.91222485e-02,  3.00096299e-02,\n",
      "         3.58403866e-02,  1.76858679e-02,  2.80615472e-02,\n",
      "         8.20655080e-03, -3.54016516e-04,  4.33873305e-03,\n",
      "        -4.55123604e-04, -1.99508704e-02,  3.63321630e-02,\n",
      "        -7.06199956e-03, -4.67366189e-02,  5.85964774e-03,\n",
      "        -2.38889137e-03,  4.93209922e-03, -2.48831533e-02,\n",
      "         9.41166317e-03,  1.57129183e-02, -1.12042345e-02,\n",
      "         1.05692028e-02,  1.36023459e-02,  2.10194220e-02,\n",
      "         1.24768922e-02,  1.55400743e-02,  5.61723170e-04,\n",
      "         4.64819083e-03,  4.01623596e-02,  3.22414405e-02,\n",
      "         1.10691527e-02,  2.93179442e-02, -2.48669099e-02,\n",
      "         3.85858539e-02, -6.77360756e-03,  5.65321884e-03,\n",
      "         9.95021446e-03, -7.13225644e-03, -6.32744818e-03,\n",
      "        -2.64033571e-02,  1.05409221e-02,  2.13555656e-02,\n",
      "         7.89586840e-03, -1.00148726e-02, -2.64826981e-02,\n",
      "        -2.35653868e-02,  1.23740067e-02, -1.63783748e-02,\n",
      "        -2.30194990e-02,  3.43720620e-02, -4.71247991e-03,\n",
      "         3.95516656e-03, -2.48334440e-03,  1.21693598e-02,\n",
      "        -2.43626183e-02,  8.60153087e-03,  2.05655781e-02,\n",
      "         1.47890781e-02, -7.37207716e-03,  3.19747265e-02,\n",
      "        -9.65085795e-03, -2.48986374e-02, -2.84178446e-02,\n",
      "         1.28200003e-02, -1.85612180e-03, -2.33154147e-03,\n",
      "        -1.08986250e-02,  1.50721042e-04,  2.55849663e-02,\n",
      "        -2.23184565e-02],\n",
      "       [-2.07276466e-04, -3.29713128e-03, -3.60180183e-03,\n",
      "         1.91487761e-02,  8.52263846e-03,  1.25977468e-02,\n",
      "         1.32730510e-02,  2.17917423e-02,  1.51404977e-02,\n",
      "         3.67513443e-03,  3.10616369e-02,  1.67143416e-02,\n",
      "        -8.34039697e-03,  3.76582082e-03,  2.74435571e-02,\n",
      "        -1.69114906e-03,  1.51474002e-02,  2.10679996e-03,\n",
      "         1.45103568e-02, -6.43142861e-03,  1.53368919e-02,\n",
      "         6.62699510e-03,  1.50988680e-02, -2.78170796e-02,\n",
      "        -7.25375556e-03, -5.75534174e-04, -1.72286066e-02,\n",
      "         1.89847676e-02,  2.65505580e-02,  1.03726483e-02,\n",
      "         3.31900644e-03,  1.73116976e-02,  3.96769513e-03,\n",
      "         1.03992598e-02, -9.59545457e-03,  1.53372822e-02,\n",
      "        -2.43400423e-02,  1.80730639e-02,  5.52436584e-03,\n",
      "        -1.46897087e-02,  1.23259428e-02,  9.68362772e-03,\n",
      "         2.69481368e-02,  1.00328592e-02, -7.42357882e-03,\n",
      "        -1.50445436e-02,  8.13346787e-03,  8.49359606e-03,\n",
      "         3.73556652e-02, -1.75212270e-02, -3.50034820e-03,\n",
      "         1.98861198e-03,  3.26928864e-03, -5.71834443e-04,\n",
      "        -9.47614786e-03, -2.61776302e-02,  7.24081840e-03,\n",
      "         2.00227372e-02, -2.43925650e-02,  1.24436616e-02,\n",
      "         8.18246234e-03,  1.42408686e-02, -7.10258444e-04,\n",
      "         2.02411580e-02,  2.21266343e-02, -1.34098758e-02,\n",
      "         1.07229876e-02,  1.98738645e-02,  2.94119912e-03,\n",
      "        -2.12184350e-03, -3.12195521e-02, -1.01082090e-02,\n",
      "        -2.33203122e-02, -2.76561875e-02,  1.62100865e-02,\n",
      "         1.09437633e-02, -1.16735704e-03,  5.11430948e-03,\n",
      "        -6.16800168e-03, -3.83777162e-02, -1.56495799e-02,\n",
      "         1.90844684e-02,  1.50133683e-02, -1.53319917e-02,\n",
      "        -1.37625721e-02, -6.39980911e-03,  4.77217309e-03,\n",
      "         9.09683519e-03,  5.80254532e-03,  2.33969110e-02,\n",
      "         4.41624194e-03, -1.48420145e-03,  7.87260505e-04,\n",
      "        -2.66854885e-03,  5.86019718e-03, -6.33876049e-03,\n",
      "        -1.78554499e-02,  1.44347774e-02,  2.51388173e-02,\n",
      "        -2.38918167e-02],\n",
      "       [-2.84652185e-03,  3.54238143e-02,  2.06796195e-03,\n",
      "        -1.55346692e-01, -8.78030345e-02,  2.47530498e-02,\n",
      "        -4.22931767e-02, -5.68143401e-02, -7.08164380e-02,\n",
      "         6.88320361e-02, -6.59477765e-02, -2.50930847e-01,\n",
      "         6.12190528e-02, -1.24932798e-02, -5.98415153e-02,\n",
      "         9.56911679e-03, -1.89420717e-02, -3.41242689e-02,\n",
      "        -7.62942876e-02,  7.54820501e-02, -4.11418539e-02,\n",
      "        -5.34661944e-02, -7.87010661e-02,  4.00664719e-02,\n",
      "         4.31661210e-02,  1.36400110e-02, -2.93425186e-02,\n",
      "        -1.02682527e-01, -5.37317288e-02,  4.50311141e-03,\n",
      "        -6.45045192e-02,  2.40072333e-02, -5.95541148e-02,\n",
      "        -9.38247431e-02, -2.43480186e-02, -8.20367171e-02,\n",
      "         6.10257454e-02, -1.67225810e-02, -1.16946171e-02,\n",
      "        -1.70013719e-02,  1.20851405e-02, -1.72485697e-01,\n",
      "         5.48082467e-04,  8.46292088e-02, -7.77150166e-03,\n",
      "         6.80578555e-02, -2.78078701e-02,  3.14015107e-02,\n",
      "        -8.05032764e-02, -8.67893889e-02,  1.45650161e-03,\n",
      "        -6.66605566e-02, -2.20885242e-02, -3.85313332e-02,\n",
      "        -1.35386358e-02, -5.89217333e-02,  4.14656821e-03,\n",
      "        -4.94443673e-02, -1.00089003e-01, -1.50943128e-01,\n",
      "        -2.46886657e-02, -9.08746995e-02,  3.43269813e-02,\n",
      "        -1.33584301e-01, -4.72241524e-02,  2.62408676e-02,\n",
      "        -2.18189539e-02, -5.56458791e-03, -2.97510831e-02,\n",
      "         6.69656470e-02, -1.66303527e-02, -1.94585165e-02,\n",
      "        -1.41367231e-02,  2.50701223e-02,  5.42960240e-02,\n",
      "         2.88793467e-02, -8.62461135e-03,  4.05985615e-02,\n",
      "         6.44797606e-02, -2.16393852e-02,  4.07555590e-02,\n",
      "         2.30117117e-02,  3.66482903e-02, -1.86484400e-02,\n",
      "         7.06514679e-02,  1.15210189e-03, -1.82396449e-02,\n",
      "         2.97052674e-02,  6.65223539e-03, -3.43131058e-02,\n",
      "         1.11037400e-02, -2.75652840e-02,  2.29091380e-02,\n",
      "         6.70988254e-03, -3.05638044e-02, -2.25108463e-02,\n",
      "        -4.63237551e-04, -2.64753154e-02, -9.56302359e-04,\n",
      "         1.72671111e-03],\n",
      "       [-1.48594172e-03, -2.20549566e-02,  5.13771408e-03,\n",
      "         1.09649107e-01,  6.42127476e-02, -3.55953666e-02,\n",
      "         2.59314565e-02,  4.00999683e-02,  5.37271613e-02,\n",
      "        -4.90860199e-02,  3.24846821e-02,  1.80556941e-01,\n",
      "        -3.38005735e-02,  1.33122670e-02,  2.42355604e-02,\n",
      "        -1.15933833e-03, -6.94928008e-03,  2.03419185e-02,\n",
      "         3.28088663e-02, -3.98582798e-02,  2.95226662e-02,\n",
      "         2.25185142e-02,  4.34615096e-02, -7.59731559e-03,\n",
      "        -2.82503566e-02,  1.87933756e-03,  2.10853462e-02,\n",
      "         5.18704021e-02,  2.68915089e-02, -7.73845551e-03,\n",
      "         3.92190659e-02, -2.21966823e-02,  2.55767897e-02,\n",
      "         4.75850968e-02,  1.62576054e-02,  3.86378878e-02,\n",
      "        -4.48922538e-02, -9.96466347e-04,  1.83151825e-03,\n",
      "         3.21462042e-02, -4.46021288e-03,  1.26469906e-01,\n",
      "        -2.04342197e-02, -4.79254491e-02,  9.33543274e-03,\n",
      "        -5.06244205e-02,  1.47423030e-02, -1.50119534e-02,\n",
      "         3.37359481e-02,  8.85976976e-02,  1.32480811e-02,\n",
      "         5.41027418e-02,  5.21688964e-03,  1.80837457e-02,\n",
      "         1.05378915e-02,  6.95592891e-02, -1.19491098e-02,\n",
      "         2.47734392e-02,  8.43192089e-02,  1.06258026e-01,\n",
      "         5.43705063e-03,  4.73158868e-02, -8.74981300e-03,\n",
      "         7.47572896e-02,  3.18711257e-02, -1.84842107e-02,\n",
      "         1.14575178e-03, -7.17702018e-03,  3.31373322e-02,\n",
      "        -3.84404464e-02,  3.73089828e-02,  8.21115998e-03,\n",
      "         2.95611670e-02,  1.26009377e-02, -4.40234125e-02,\n",
      "        -1.62577233e-02, -2.58203836e-03, -2.93344961e-02,\n",
      "        -3.52922598e-02,  2.56450395e-02, -2.03934992e-02,\n",
      "        -4.60513467e-02, -4.91783142e-02,  2.18110719e-02,\n",
      "        -3.25262776e-02, -3.35382364e-03, -7.09810631e-03,\n",
      "        -5.35911807e-02, -5.08270355e-03, -2.10585317e-02,\n",
      "        -5.86912396e-03,  5.39481229e-02,  4.72144607e-03,\n",
      "        -1.68613340e-02,  2.65597290e-02,  3.11811482e-02,\n",
      "         2.92173125e-02,  1.18898169e-02, -4.97674812e-02,\n",
      "         4.44835622e-02]]), 'intercept': array([-0.00062139,  0.00032952,  0.00210481, -0.00181294])}\n",
      "   accuracy_training                           confusionMatrix_training  \\\n",
      "0           0.811712  [[0.7804878048780488, 0.13186813186813187, 0.0...   \n",
      "\n",
      "   accuracy_val                                confusionMatrix_val  \n",
      "0      0.247471  [[0.4074074074074074, 0.36666666666666664, 0.3...  \n"
     ]
    },
    {
     "name": "stderr",
     "output_type": "stream",
     "text": [
      "/Users/josh/opt/anaconda3/envs/ROICaT/lib/python3.9/site-packages/sklearn/linear_model/_logistic.py:444: ConvergenceWarning: lbfgs failed to converge (status=1):\n",
      "STOP: TOTAL NO. of ITERATIONS REACHED LIMIT.\n",
      "\n",
      "Increase the number of iterations (max_iter) or scale the data as shown in:\n",
      "    https://scikit-learn.org/stable/modules/preprocessing.html\n",
      "Please also refer to the documentation for alternative solver options:\n",
      "    https://scikit-learn.org/stable/modules/linear_model.html#logistic-regression\n",
      "  n_iter_i = _check_optimize_result(\n"
     ]
    }
   ],
   "source": [
    "INTEGER_MAX = np.iinfo(np.int64(0).dtype).max\n",
    "\n",
    "# TODO: JZ, IMPLEMENT AS LOOP FOR OPTUNA FOR HYPERPARAMETER TUNING\n",
    "print('Splitting data...')\n",
    "# Create data splitting object for stratified sampling into train and test sets (as well as downsampling)\n",
    "data_splitter = cu.Datasplit(\n",
    "    features=roinet.latents,\n",
    "    labels=np.concatenate(data.class_labels, axis=0),\n",
    "    n_train=INTEGER_MAX,\n",
    "    val_size=0.2,\n",
    "    test_size=0.2,\n",
    ")\n",
    "\n",
    "print('Calculating class weights...')\n",
    "num_classes = len(np.unique(data.class_labels))\n",
    "class_weights = sklearn.utils.class_weight.compute_class_weight(class_weight='balanced',\n",
    "                                                                classes=np.unique(np.concatenate(data.class_labels, axis=0)),\n",
    "                                                                y=np.concatenate(data.class_labels, axis=0))\n",
    "\n",
    "print(f'Fitting model to data of dimensions: X: {data_splitter.features_train}, y: {data_splitter.labels_train}...')\n",
    "# Create lenet model, associated optimizer, loss function, and training tracker\n",
    "model = sklearn.linear_model.LogisticRegression(\n",
    "   solver='lbfgs',\n",
    "   fit_intercept=True,\n",
    "   max_iter=10000,\n",
    "   C=1e5,\n",
    "   class_weight={iClassWeight:classWeight for iClassWeight, classWeight in enumerate(class_weights)},\n",
    "#    class_weight=class_weights,\n",
    ")\n",
    "model.fit(data_splitter.features_train, data_splitter.labels_train)\n",
    "\n",
    "print(f'Calculating tracker outputs and saving to {directory_save}...')\n",
    "training_tracker = cu.TrainingTracker(\n",
    "    directory_save=directory_save,\n",
    "    class_weights=class_weights, # Class Weights\n",
    "    n_train_actual=data_splitter.n_train_actual,\n",
    "    model=({'coef':model.coef_, 'intercept':model.intercept_})\n",
    ")\n",
    "\n",
    "y_train_preds = model.predict(data_splitter.features_train).astype(int)\n",
    "y_train_true = data_splitter.labels_train\n",
    "y_val_preds = model.predict(data_splitter.features_val).astype(int)\n",
    "y_val_true = data_splitter.labels_val\n",
    "\n",
    "# Save training loop results from current epoch for training set\n",
    "training_tracker.add_accuracy(0, 'accuracy_training', y_train_true, y_train_preds) # Generating training loss\n",
    "training_tracker.add_confusion_matrix(0, 'confusionMatrix_training', y_train_true, y_train_preds) # Generating confusion matrix\n",
    "\n",
    "# Save training loop results from current epoch for validation set\n",
    "training_tracker.add_accuracy(0, 'accuracy_val', y_val_true, y_val_preds) # Generating validation accuracy\n",
    "training_tracker.add_confusion_matrix(0, 'confusionMatrix_val', y_val_true, y_val_preds) # Generating validation confusion matrix\n",
    "\n",
    "training_tracker.save_results() # TODO: JZ, ADJUST RESULTS SAVING TO SAVE CONFUSION MATRICES AS NOT A DATAFRAME CSV\n",
    "training_tracker.print_results()\n",
    "\n",
    "model_save = {\n",
    "    'intercept_': model.intercept_,\n",
    "    'coef_': model.coef_,\n",
    "    'classes_': model.classes_,\n",
    "}"
   ]
  },
  {
   "attachments": {},
   "cell_type": "markdown",
   "metadata": {},
   "source": [
    "# Save Outputs"
   ]
  },
  {
   "cell_type": "code",
   "execution_count": null,
   "metadata": {},
   "outputs": [],
   "source": [
    "np.save(str((Path(directory_save) / 'model.npy').resolve()), model_save, allow_pickle=True)\n",
    "\n",
    "print(f'Saved model fit results.')"
   ]
  },
  {
   "cell_type": "code",
   "execution_count": null,
   "metadata": {},
   "outputs": [],
   "source": []
  }
 ],
 "metadata": {
  "kernelspec": {
   "display_name": "ROICaT",
   "language": "python",
   "name": "python3"
  },
  "language_info": {
   "codemirror_mode": {
    "name": "ipython",
    "version": 3
   },
   "file_extension": ".py",
   "mimetype": "text/x-python",
   "name": "python",
   "nbconvert_exporter": "python",
   "pygments_lexer": "ipython3",
   "version": "3.9.13"
  }
 },
 "nbformat": 4,
 "nbformat_minor": 2
}
