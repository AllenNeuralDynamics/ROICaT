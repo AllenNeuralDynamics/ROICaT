{
 "cells": [
  {
   "attachments": {},
   "cell_type": "markdown",
   "metadata": {},
   "source": [
    "# Imports"
   ]
  },
  {
   "cell_type": "code",
   "execution_count": 1,
   "metadata": {},
   "outputs": [
    {
     "name": "stderr",
     "output_type": "stream",
     "text": [
      "2023-06-07 13:29:14.325545: I tensorflow/core/platform/cpu_feature_guard.cc:193] This TensorFlow binary is optimized with oneAPI Deep Neural Network Library (oneDNN) to use the following CPU instructions in performance-critical operations:  AVX2 FMA\n",
      "To enable them in other operations, rebuild TensorFlow with the appropriate compiler flags.\n"
     ]
    }
   ],
   "source": [
    "import sys\n",
    "import time\n",
    "\n",
    "import numpy as np\n",
    "import torch\n",
    "from bnpm import file_helpers, optimization\n",
    "import sklearn.utils.class_weight\n",
    "from torch import nn, optim\n",
    "from tqdm import tqdm\n",
    "import sklearn.linear_model\n",
    "import multiprocessing as mp\n",
    "\n",
    "import roicat.classification.classifier_util as cu\n",
    "import scipy.sparse\n",
    "import roicat\n",
    "import bnpm.h5_handling\n",
    "from pathlib import Path\n",
    "import sys\n",
    "from pathlib import Path\n",
    "import shutil\n",
    "import warnings\n",
    "import umap\n",
    "\n",
    "import matplotlib.pyplot as plt\n",
    "import matplotlib.offsetbox\n",
    "import json"
   ]
  },
  {
   "attachments": {},
   "cell_type": "markdown",
   "metadata": {},
   "source": [
    "# Specify Initial Parameters"
   ]
  },
  {
   "cell_type": "code",
   "execution_count": 2,
   "metadata": {},
   "outputs": [],
   "source": [
    "path_params = None # Path(r\"\")\n",
    "directory_save = r'/Users/josh/analysis/outputs/ROICaT/classification/00_data_ingestion'\n",
    "testing = True\n",
    "save_ROIs = True\n",
    "save_latents = True"
   ]
  },
  {
   "cell_type": "code",
   "execution_count": 3,
   "metadata": {},
   "outputs": [],
   "source": [
    "directory_save = Path(directory_save)\n",
    "directory_save.mkdir(exist_ok=True, parents=True)\n",
    "\n",
    "labelingRun_interim = {}\n",
    "\n",
    "if path_params is not None:\n",
    "    try:\n",
    "        Path(str((directory_save).resolve())).mkdir(exist_ok=True, parents=True)\n",
    "        shutil.copy2(path_params, str(Path(directory_save) / Path(path_params).name));\n",
    "    except Exception as e:\n",
    "        print(f'JZ: Error copying params to {directory_save}')\n",
    "        print(e)\n",
    "tic = time.time()\n",
    "tictoc = {}\n",
    "tictoc['start'] = time.time() - tic\n",
    "\n",
    "params = file_helpers.json_load(str(Path(path_params).resolve())) if path_params is not None else None"
   ]
  },
  {
   "cell_type": "code",
   "execution_count": 4,
   "metadata": {},
   "outputs": [
    {
     "name": "stdout",
     "output_type": "stream",
     "text": [
      "devices available: []\n",
      "no GPU available. Using CPU.\n"
     ]
    },
    {
     "data": {
      "text/plain": [
       "'cpu'"
      ]
     },
     "execution_count": 4,
     "metadata": {},
     "output_type": "execute_result"
    }
   ],
   "source": [
    "if params is None:\n",
    "    params = {\n",
    "        \"method\": \"simclr\",\n",
    "        \"device\": \"cuda:0\",\n",
    "        \"datatype\": \"raw_images\",\n",
    "        \"hyperparameters_data\": {\n",
    "            \"new_or_old_suite2p\": \"new\",\n",
    "            \"out_height_width\": [\n",
    "                36,\n",
    "                36\n",
    "            ],\n",
    "            \"type_meanImg\": \"meanImgE\",\n",
    "            \"FOV_images\": None,\n",
    "            \"verbose\": True,\n",
    "            \"um_per_pixel\": 2.0\n",
    "        },\n",
    "        \"paths\": {\n",
    "            \"directory_github\": \"/Users/josh/analysis/github_repos/\",\n",
    "            \"directory_data\": \"/Users/josh/analysis/data/ROICaT/classification/raw_images\",\n",
    "            \"filename_rawImages\": \"sf_concat_rs_sparse.npz\",\n",
    "            \"filename_labels\": \"labels.npy\",\n",
    "            \"directory_simclrModel\": \"/Users/josh/analysis/models\",\n",
    "            \"filepath_umapModel\": None,\n",
    "        }\n",
    "    }\n",
    "\n",
    "roicat.util.helpers.set_device(params['device'])"
   ]
  },
  {
   "attachments": {},
   "cell_type": "markdown",
   "metadata": {},
   "source": [
    "# Import Datasets"
   ]
  },
  {
   "cell_type": "code",
   "execution_count": 5,
   "metadata": {},
   "outputs": [
    {
     "name": "stderr",
     "output_type": "stream",
     "text": [
      "/Users/josh/analysis/github_repos/ROICaT/roicat/util.py:191: UserWarning: RH WARNING: unable to get cpu info. Got error: No module named 'cpuinfo'\n",
      "  warnings.warn(f'RH WARNING: unable to get cpu info. Got error: {e}')\n",
      "/Users/josh/analysis/github_repos/ROICaT/roicat/util.py:210: UserWarning: RH WARNING: unable to get gpu info. Got error: No module named 'GPUtil'\n",
      "  warnings.warn(f'RH WARNING: unable to get gpu info. Got error: {e}')\n"
     ]
    },
    {
     "name": "stdout",
     "output_type": "stream",
     "text": [
      "Starting: Importing ROI images\n",
      "Completed: Imported 1 sessions. Each session has [68382] ROIs. Total number of ROIs is 68382. The um_per_pixel is 2.0 um per pixel.\n",
      "Starting: Importing class labels\n",
      "Labels and ROI Images match in shapes: Class labels and ROI images have the same number of sessions and the same number of ROIs in each session.\n",
      "Completed: Imported labels for 1 sessions. Each session has [68382] class labels. Total number of class labels is 68382.\n"
     ]
    }
   ],
   "source": [
    "directory_model = str(Path(params['paths']['directory_model']).resolve()) if 'directory_model' in params['paths'] else None\n",
    "filepath_data_labels = str((Path(params['paths']['directory_data']) / params['paths']['filename_labels']).resolve())\n",
    "\n",
    "if params['datatype'] == \"stat_s2p\":\n",
    "    assert 'filename_stat' in params['paths'] and 'filename_ops' in params['paths'], 'JZ: The suite2p params.json file must include paths.filename_stat and paths.filename_ops for stat_s2p datatype'\n",
    "    filepath_data_stat = str((Path(params['paths']['directory_data']) / params['paths']['filename_stat']).resolve())\n",
    "    filepath_data_ops = str((Path(params['paths']['directory_data']) / params['paths']['filename_ops']).resolve())\n",
    "\n",
    "    # Create data importing object to import suite2p data\n",
    "    data = roicat.data_importing.Data_suite2p(\n",
    "        paths_statFiles=[filepath_data_stat],\n",
    "        paths_opsFiles=[filepath_data_ops],\n",
    "        class_labels=[filepath_data_labels],\n",
    "        um_per_pixel=params['hyperparameters_data']['um_per_pixel'],\n",
    "        new_or_old_suite2p=params['hyperparameters_data']['new_or_old_suite2p'],\n",
    "        out_height_width=params['hyperparameters_data']['out_height_width'],\n",
    "        type_meanImg=params['hyperparameters_data']['type_meanImg'],\n",
    "        FOV_images=params['hyperparameters_data']['FOV_images'],\n",
    "        verbose=params['hyperparameters_data']['verbose'],\n",
    "    )\n",
    "elif params['datatype'] == \"caiman\":\n",
    "    # TODO: Add Caiman data importing\n",
    "    # # assert 'filename_stat' in params['paths'] and 'filename_ops' in params['paths'], 'JZ: The caiman params.json file must include paths.filename_stat and paths.filename_ops for stat_s2p datatype'\n",
    "    # filepath_data_stat = str((Path(params['paths']['directory_data']) / params['paths']['filename_stat']).resolve())\n",
    "    # filepath_data_ops = str((Path(params['paths']['directory_data']) / params['paths']['filename_ops']).resolve())\n",
    "\n",
    "    # # # Create data importing object to import suite2p data\n",
    "    # # data = roicat.data_importing.Data_caiman(\n",
    "    # #     paths_statFiles=[filepath_data_stat],\n",
    "    # #     paths_opsFiles=[filepath_data_ops],\n",
    "    # #     class_labels=[filepath_data_labels],\n",
    "    #     # um_per_pixel=params['hyperparameters_data']['um_per_pixel'],\n",
    "    #     # new_or_old_suite2p=params['hyperparameters_data']['new_or_old_suite2p'],\n",
    "    #     # out_height_width=params['hyperparameters_data']['out_height_width'],\n",
    "    #     # type_meanImg=params['hyperparameters_data']['type_meanImg'],\n",
    "    #     # FOV_images=params['hyperparameters_data']['FOV_images'],\n",
    "    #     # verbose=params['hyperparameters_data']['verbose'],\n",
    "    # # )\n",
    "    pass\n",
    "elif params['datatype'] == \"raw_images\":\n",
    "    assert 'filename_rawImages' in params['paths'], 'JZ: The suite2p params.json file must include paths.filename_rawImages for raw_images datatype'\n",
    "    filepath_data_rawImages = str((Path(params['paths']['directory_data']) / params['paths']['filename_rawImages']).resolve())\n",
    "\n",
    "    sf = scipy.sparse.load_npz(filepath_data_rawImages)\n",
    "    labels = np.load(filepath_data_labels)\n",
    "\n",
    "    data = roicat.data_importing.Data_roicat(verbose=True)\n",
    "    data.set_ROI_images(ROI_images=[sf.A.reshape(sf.shape[0], 36, 36)], um_per_pixel=params['hyperparameters_data']['um_per_pixel'])\n",
    "    data.set_class_labels(class_labels=[labels.astype(int)])\n",
    "else:\n",
    "    raise ValueError(f\"Invalid datatype for simclr: {params['datatype']}\")"
   ]
  },
  {
   "cell_type": "code",
   "execution_count": 6,
   "metadata": {},
   "outputs": [
    {
     "name": "stdout",
     "output_type": "stream",
     "text": [
      "Saved Data_roicat as a pickled object to /Users/josh/analysis/outputs/ROICaT/classification/00_data_ingestion/classification_data.pkl.\n"
     ]
    }
   ],
   "source": [
    "data.save(str(Path(directory_save) / 'classification_data.pkl'), allow_overwrite=True)"
   ]
  }
 ],
 "metadata": {
  "kernelspec": {
   "display_name": "ROICaT",
   "language": "python",
   "name": "python3"
  },
  "language_info": {
   "codemirror_mode": {
    "name": "ipython",
    "version": 3
   },
   "file_extension": ".py",
   "mimetype": "text/x-python",
   "name": "python",
   "nbconvert_exporter": "python",
   "pygments_lexer": "ipython3",
   "version": "3.9.13"
  },
  "orig_nbformat": 4
 },
 "nbformat": 4,
 "nbformat_minor": 2
}
