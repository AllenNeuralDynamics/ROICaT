{
 "cells": [
  {
   "attachments": {},
   "cell_type": "markdown",
   "metadata": {},
   "source": [
    "# Imports"
   ]
  },
  {
   "cell_type": "code",
   "execution_count": 1,
   "metadata": {},
   "outputs": [
    {
     "name": "stderr",
     "output_type": "stream",
     "text": [
      "2023-06-08 18:34:36.611066: I tensorflow/core/platform/cpu_feature_guard.cc:193] This TensorFlow binary is optimized with oneAPI Deep Neural Network Library (oneDNN) to use the following CPU instructions in performance-critical operations:  AVX2 FMA\n",
      "To enable them in other operations, rebuild TensorFlow with the appropriate compiler flags.\n"
     ]
    }
   ],
   "source": [
    "<<<<<<< local\n",
    "%load_ext autoreload\n",
    "%autoreload 2\n",
    "=======\n",
    ">>>>>>> remote\n",
    "import sys\n",
    "import time\n",
    "\n",
    "import numpy as np\n",
    "import torch\n",
    "from bnpm import file_helpers, optimization\n",
    "import sklearn.utils.class_weight\n",
    "from torch import nn, optim\n",
    "from tqdm import tqdm\n",
    "import sklearn.linear_model\n",
    "import multiprocessing as mp\n",
    "\n",
    "import roicat.classification.classifier_util as cu\n",
    "import scipy.sparse\n",
    "import roicat\n",
    "import bnpm.h5_handling\n",
    "from pathlib import Path\n",
    "import shutil\n",
    "import warnings\n",
    "import umap\n",
    "\n",
    "import matplotlib.pyplot as plt\n",
    "import matplotlib.offsetbox\n",
    "import json\n",
    "import os\n",
    "import natsort\n",
    "from roicat import helpers\n",
    "# from kymatio.torch import Scattering2D\n",
    "import gc\n",
    "import functools"
   ]
  },
  {
   "attachments": {},
   "cell_type": "markdown",
   "metadata": {},
   "source": [
    "# Specify Initial Parameters"
   ]
  },
  {
   "cell_type": "code",
   "execution_count": 2,
   "metadata": {},
   "outputs": [],
   "source": [
    "<<<<<<< LOCAL CELL DELETED >>>>>>>\n",
    "path_params = None # Path(r\"\")\n",
    "directory_data = r'/Users/josh/analysis/outputs/ROICaT/classification/00_data_ingestion'\n",
    "directory_save = r'/Users/josh/analysis/outputs/ROICaT/classification/01_labels'\n",
    "testing = True\n",
    "save_ROIs = True\n",
    "save_latents = True"
   ]
  },
  {
   "cell_type": "markdown",
   "id": "b95a4480",
   "metadata": {},
   "source": [
    "<span style=\"color:red\">**<<<<<<< local**</span>"
   ]
  },
  {
   "cell_type": "code",
   "execution_count": 2,
   "metadata": {},
   "outputs": [],
   "source": [
    "directory_data_suite2pSearch = r'/Users/josh/analysis/data/ROICaT/classification/stat_s2p' # Place from which to load suite2p data\n",
    "directory_save_labelOutputs = r'/Users/josh/analysis/outputs/ROICaT/classification/01_labels' # Place to dump Data object dict, ROINet object dict, Labels, and Parameters dict\n",
    "testing = True\n",
    "run_umap = True\n",
    "filepath_umapModel = ''"
   ]
  },
  {
   "cell_type": "code",
   "execution_count": 3,
   "metadata": {},
   "outputs": [],
   "source": [
    "directory_save = Path(directory_save_labelOutputs)\n",
    "directory_save.mkdir(exist_ok=True, parents=True)"
   ]
  },
  {
   "cell_type": "code",
   "execution_count": null,
   "metadata": {},
   "outputs": [
    {
     "name": "stderr",
     "output_type": "stream",
     "text": [
      "<<<<<<< local <removed>\n"
     ]
    },
    {
     "name": "stderr",
     "output_type": "stream",
     "text": [
      "=======\n"
     ]
    },
    {
     "name": "stderr",
     "output_type": "stream",
     "text": [
      "100%|██████████| 1/1 [00:01<00:00,  1.85s/it]\n"
     ]
    },
    {
     "name": "stderr",
     "output_type": "stream",
     "text": [
      ">>>>>>> remote <modified: >\n"
     ]
    }
   ],
   "source": [
    "pathSuffixToStat = 'stat.npy'\n",
    "pathSuffixToOps = 'ops.npy'\n",
    "\n",
    "paths_allStat = test = helpers.find_paths(\n",
    "    dir_outer=directory_data_suite2pSearch,\n",
    "    reMatch=pathSuffixToStat,\n",
    "    depth=4,\n",
    ")\n",
    "paths_allOps = test = helpers.find_paths(\n",
    "    dir_outer=directory_data_suite2pSearch,\n",
    "    reMatch=pathSuffixToOps,\n",
    "    depth=4,\n",
    ")\n",
    "\n",
    "print(paths_allStat)\n",
    "print(paths_allOps)\n",
    "\n",
    "#Import data\n",
    "data = roicat.data_importing.Data_suite2p(\n",
    "    paths_statFiles=paths_allStat,\n",
    "    paths_opsFiles=paths_allOps,\n",
    "    um_per_pixel=2.0,\n",
    "    new_or_old_suite2p='new',\n",
    "    out_height_width=[36, 36],\n",
    "    type_meanImg='meanImgE',\n",
    "    verbose=True,\n",
    ");"
   ]
  },
  {
   "cell_type": "code",
   "execution_count": null,
   "metadata": {},
   "outputs": [],
   "source": [
    "# %matplotlib notebook\n",
    "# dir_allOuterFolders = str(Path('/Users/josh/analysis/data/ROICaT/classification/raw_images').resolve())\n",
    "dir_allOuterFolders = str(Path('/Users/josh/analysis/data/ROICaT/classification/stat_s2p').resolve())\n",
    "\n",
    "pathSuffixToStat = 'stat.npy'\n",
    "pathSuffixToOps = 'ops.npy'\n",
    "\n",
    "paths_allStat = test = helpers.find_paths(\n",
    "    dir_outer=dir_allOuterFolders,\n",
    "    reMatch=pathSuffixToStat,\n",
    "    depth=4,\n",
    ")\n",
    "paths_allOps = test = helpers.find_paths(\n",
    "    dir_outer=dir_allOuterFolders,\n",
    "    reMatch=pathSuffixToOps,\n",
    "    depth=4,\n",
    ")\n",
    "\n",
    "display(paths_allStat)\n",
    "display(paths_allOps)\n",
    "\n",
    "#Import data\n",
    "data = roicat.data_importing.Data_suite2p(\n",
    "    paths_statFiles=paths_allStat,\n",
    "    paths_opsFiles=paths_allOps,\n",
    "    um_per_pixel=2.0,\n",
    "    new_or_old_suite2p='new',\n",
    "    out_height_width=[36, 36],\n",
    "    type_meanImg='meanImgE',\n",
    "    verbose=True,\n",
    ");"
   ]
  },
  {
   "cell_type": "markdown",
   "id": "bec09b37",
   "metadata": {},
   "source": [
    "<span style=\"color:red\">**=======**</span>"
   ]
  },
  {
   "cell_type": "code",
   "execution_count": null,
   "metadata": {},
   "outputs": [],
   "source": [
    "path_params = None # Path(r\"\")\n",
    "directory_save = r'/Users/josh/analysis/outputs/ROICaT/classification/01_labels'\n",
    "testing = True\n",
    "save_ROIs = True\n",
    "save_latents = True"
   ]
  },
  {
   "cell_type": "code",
   "execution_count": null,
   "metadata": {},
   "outputs": [],
   "source": [
    "directory_save = Path(directory_save)\n",
    "directory_save.mkdir(exist_ok=True, parents=True)\n",
    "\n",
    "labelingRun_interim = {}\n",
    "\n",
    "if path_params is not None:\n",
    "    try:\n",
    "        Path(str((directory_save).resolve())).mkdir(exist_ok=True, parents=True)\n",
    "        shutil.copy2(path_params, str(Path(directory_save) / Path(path_params).name));\n",
    "    except Exception as e:\n",
    "        print(f'JZ: Error copying params to {directory_save}')\n",
    "        print(e)\n",
    "tic = time.time()\n",
    "tictoc = {}\n",
    "tictoc['start'] = time.time() - tic\n",
    "\n",
    "params = file_helpers.json_load(str(Path(path_params).resolve())) if path_params is not None else None"
   ]
  },
  {
   "cell_type": "code",
   "execution_count": null,
   "metadata": {},
   "outputs": [],
   "source": [
    "if params is None:\n",
    "    params = {\n",
    "        \"method\": \"simclr\",\n",
    "        \"device\": \"cuda:0\",\n",
    "        \"datatype\": \"raw_images\",\n",
    "        \"hyperparameters_data\": {\n",
    "            \"new_or_old_suite2p\": \"new\",\n",
    "            \"out_height_width\": [\n",
    "                36,\n",
    "                36\n",
    "            ],\n",
    "            \"type_meanImg\": \"meanImgE\",\n",
    "            \"FOV_images\": None,\n",
    "            \"verbose\": True,\n",
    "            \"um_per_pixel\": 2.0\n",
    "        },\n",
    "        \"hyperparameters_split\": {\n",
    "            \"n_train\": 50000,\n",
    "            \"test_size\": 0.3\n",
    "        },\n",
    "        \"paths\": {\n",
    "            \"directory_github\": \"/Users/josh/analysis/github_repos/\",\n",
    "            \"directory_data\": \"/Users/josh/analysis/data/ROICaT/classification/raw_images\",\n",
    "            \"filename_rawImages\": \"sf_concat_rs_sparse.npz\",\n",
    "            \"filename_labels\": \"labels.npy\",\n",
    "            \"directory_simclrModel\": \"/Users/josh/analysis//models\",\n",
    "            \"filepath_umapModel\": None,\n",
    "        },\n",
    "        \"hyperparameters_training_simclr\": {\n",
    "            \"num_transform_copies\": 80,\n",
    "            \"solver\": \"lbfgs\",\n",
    "            \"fit_intercept\": True,\n",
    "            \"max_iter\": 20000,\n",
    "            \"C\": 0.01,\n",
    "            \"tol\": 0.001,\n",
    "            \"simclrModel_download_url\": \"https://osf.io/xwzhp/download\",\n",
    "            \"simclrModel_download_hash\": \"134b170242141c26b0adbd9e0fd80d0e\"\n",
    "        },\n",
    "        \"hyperparameters_augmentations_val\": {\n",
    "            \"Scale_image_sum\": {\n",
    "                \"sum_val\": 1,\n",
    "                \"epsilon\": 1e-09,\n",
    "                \"min_sub\": True\n",
    "            },\n",
    "            \"ScaleDynamicRange\": {\n",
    "                \"scaler_bounds\": [\n",
    "                    0,\n",
    "                    1\n",
    "                ],\n",
    "                \"epsilon\": 1e-09\n",
    "            },\n",
    "            \"WarpPoints\": {\n",
    "                \"r\": [\n",
    "                    0.1,\n",
    "                    0.2\n",
    "                ],\n",
    "                \"cx\": [\n",
    "                    -0.3,\n",
    "                    0.3\n",
    "                ],\n",
    "                \"cy\": [\n",
    "                    -0.3,\n",
    "                    0.3\n",
    "                ],\n",
    "                \"dx\": [\n",
    "                    -0.1,\n",
    "                    0.1\n",
    "                ],\n",
    "                \"dy\": [\n",
    "                    -0.1,\n",
    "                    0.1\n",
    "                ],\n",
    "                \"n_warps\": 1,\n",
    "                \"prob\": 0.0,\n",
    "                \"img_size_in\": [\n",
    "                    36,\n",
    "                    36\n",
    "                ],\n",
    "                \"img_size_out\": [\n",
    "                    224,\n",
    "                    224\n",
    "                ]\n",
    "            },\n",
    "            \"TileChannels\": {\n",
    "                \"dim\": -3,\n",
    "                \"n_channels\": 3\n",
    "            }\n",
    "        },\n",
    "        \"run_umap\": True,\n",
    "    }\n",
    "\n",
    "if not torch.cuda.is_available() and params['device'] != 'cpu':\n",
    "    warnings.warn('CUDA not available, using CPU')\n",
    "    params['device'] = torch.device('cpu')"
   ]
  },
  {
   "cell_type": "markdown",
   "id": "09def6ec",
   "metadata": {},
   "source": [
    "<span style=\"color:red\">**>>>>>>> remote**</span>"
   ]
  },
  {
   "attachments": {},
   "cell_type": "markdown",
   "metadata": {},
   "source": [
    "# Run 2D UMap OR Project onto Previousy Fit UMap for Hand Labeling"
   ]
  },
  {
   "cell_type": "markdown",
   "id": "3be525be",
   "metadata": {},
   "source": [
    "<span style=\"color:red\">**<<<<<<< local**</span>"
   ]
  },
  {
   "cell_type": "code",
   "execution_count": 8,
   "metadata": {},
   "outputs": [
    {
     "name": "stdout",
     "output_type": "stream",
     "text": [
      "Fitting UMAP...\n",
      "Unspecified filepath_umapModel in params... not saving UMAP to file.\n",
      "Generating Embeddings...\n",
      "Embeddings Generated...\n"
     ]
    },
    {
     "data": {
      "image/png": "[encoded data removed]",
      "text/plain": [
       "<Figure size 500x500 with 1 Axes>"
      ]
     },
     "metadata": {},
     "output_type": "display_data"
    }
   ],
   "source": [
    "umap_model = cu.Hand_Labeler()\n",
    "print('Generating Embeddings...')\n",
    "embeddings = umap_model.transform(roinet.latents)\n",
    "print('Embeddings Generated...')\n",
    "%matplotlib inline\n",
    "umap_model.plot_annotated(data, embeddings)\n",
    "\n",
    "# TODO: JZ, Add Circling Code for Labeling\n",
    "if testing:\n",
    "    num_zeroLabels = np.concatenate(data.ROI_images).shape[0]//2\n",
    "    num_onesLabels = np.concatenate(data.ROI_images).shape[0] - np.concatenate(data.ROI_images).shape[0]//2\n",
    "    arr_labels = np.concatenate([np.zeros(num_zeroLabels), np.ones(num_onesLabels)])\n",
    "else:\n",
    "    raise NotImplementedError('Saving UMAP to file not yet implemented.') # TODO: JZ, Implement saving UMAP to file"
   ]
  },
  {
   "cell_type": "markdown",
   "id": "38899db0",
   "metadata": {},
   "source": [
    "<span style=\"color:red\">**=======**</span>"
   ]
  },
  {
   "cell_type": "code",
   "execution_count": null,
   "metadata": {},
   "outputs": [],
   "source": [
    "if params['run_umap']:\n",
    "    umap_params = dict(\n",
    "        n_neighbors=30,\n",
    "        n_components=2,\n",
    "        metric='euclidean',\n",
    "        metric_kwds=None,\n",
    "        output_metric='euclidean',\n",
    "        output_metric_kwds=None,\n",
    "        n_epochs=None,\n",
    "        learning_rate=1.0,\n",
    "        init='spectral',\n",
    "        min_dist=0.1,\n",
    "        spread=1.0,\n",
    "        low_memory=True,\n",
    "        n_jobs=-1,\n",
    "        set_op_mix_ratio=1.0,\n",
    "        local_connectivity=1.0,\n",
    "        repulsion_strength=1.0,\n",
    "        negative_sample_rate=5,\n",
    "        transform_queue_size=4.0,\n",
    "        a=None,\n",
    "        b=None,\n",
    "        random_state=None,\n",
    "        angular_rp_forest=False,\n",
    "        target_n_neighbors=-1,\n",
    "        target_metric='categorical',\n",
    "        target_metric_kwds=None,\n",
    "        target_weight=0.5,\n",
    "        transform_seed=42,\n",
    "        transform_mode='embedding',\n",
    "        force_approximation_algorithm=False,\n",
    "        verbose=False,\n",
    "        tqdm_kwds=None,\n",
    "        unique=False,\n",
    "        densmap=False,\n",
    "        dens_lambda=2.0,\n",
    "        dens_frac=0.3,\n",
    "        dens_var_shift=0.1,\n",
    "        output_dens=False,\n",
    "        disconnection_distance=None,\n",
    "        precomputed_knn=(None, None, None),\n",
    "    )\n",
    "\n",
    "<<<<<<< local\n",
    "    umap = umap.UMAP(**umap_params)\n",
    "    print('Fitting UMAP...')\n",
    "    umap.fit(features_val)\n",
    "=======\n",
    "    umap_model = umap.UMAP(**umap_params)\n",
    "    print('Fitting UMAP...')\n",
    "    umap_model.fit(roinet.latents)\n",
    ">>>>>>> remote\n",
    "\n",
    "    if params['paths']['filepath_umapModel']:\n",
    "        raise NotImplementedError('Saving UMAP to file not yet implemented.') # TODO: JZ, Implement saving UMAP to file\n",
    "        # print(f'Saving UMAP to {params[\"paths\"][\"filepath_umapModel\"]}...')\n",
    "        # joblib.dump(umap, params['paths']['filepath_umapModel'])\n",
    "    else:\n",
    "        print('Unspecified filepath_umapModel in params... not saving UMAP to file.')\n",
    "elif params['paths']['filepath_umapModel']:\n",
    "    raise NotImplementedError('Loading UMAP from file not yet implemented.') # TODO: JZ, Implement loading UMAP from file\n",
    "    # print(f'Loading UMAP from {params[\"paths\"][\"filepath_umapModel\"]}...')\n",
    "    # umap = joblib.load(params['paths']['filepath_umapModel'])\n",
    "else:\n",
    "    raise ValueError(f'run_umap must be True or filepath_umapModel must be specified in params.')\n",
    "\n",
    "print('Generating Embeddings...')\n",
    "<<<<<<< local\n",
    "embeddings = umap.transform(features_val)\n",
    "labelingRun_interim['embeddings'] = embeddings\n",
    "print('Embeddings Generated...')\n",
    "%matplotlib inline\n",
    "fig, ax = plt.subplots(figsize=(5,5))\n",
    "\n",
    "ax.scatter(embeddings[:,0], embeddings[:,1], s=5, cmap='gist_rainbow')\n",
    "\n",
    "# inx_lst = list(range(100))\n",
    "inx_lst = np.arange(ROI_images_filt.shape[0])\n",
    "img_lst = ROI_images_filt[inx_lst]\n",
    "=======\n",
    "embeddings = umap_model.transform(roinet.latents)\n",
    "labelingRun_interim['embeddings'] = embeddings\n",
    "print('Embeddings Generated...')\n",
    "%matplotlib inline\n",
    "fig, ax = plt.subplots(figsize=(10,10))\n",
    "\n",
    "ax.scatter(embeddings[:,0], embeddings[:,1], s=5, cmap='gist_rainbow')\n",
    "\n",
    "inx_lst = np.arange(np.concatenate(data.ROI_images).shape[0])\n",
    "inx_lst = np.random.choice(inx_lst, 100, replace=False)\n",
    "img_lst = np.concatenate(data.ROI_images)[inx_lst]\n",
    ">>>>>>> remote\n",
    "x = embeddings[inx_lst, 0]\n",
    "y = embeddings[inx_lst, 1]\n",
    "\n",
    "for x0, y0, ROI_single in zip(x, y, img_lst):\n",
    "    offsetImage = matplotlib.offsetbox.OffsetImage(ROI_single, cmap='gray', zoom=0.5) # initialize offset image to contain ROI visualization\n",
    "    ab = matplotlib.offsetbox.AnnotationBbox(offsetImage, (x0, y0), frameon=False)\n",
    "    ax.add_artist(ab)\n",
    "\n",
    "# TODO: JZ, Add Circling Code for Labeling\n",
    "if testing:\n",
    "<<<<<<< local\n",
    "    num_zeroLabels = ROI_images_filt.shape[0]//2\n",
    "    num_onesLabels = ROI_images_filt.shape[0] - ROI_images_filt.shape[0]//2\n",
    "=======\n",
    "    num_zeroLabels = np.concatenate(data.ROI_images).shape[0]//2\n",
    "    num_onesLabels = np.concatenate(data.ROI_images).shape[0] - np.concatenate(data.ROI_images).shape[0]//2\n",
    ">>>>>>> remote\n",
    "    arr_labels = np.concatenate([np.zeros(num_zeroLabels), np.ones(num_onesLabels)])\n",
    "else:\n",
    "    raise NotImplementedError('Saving UMAP to file not yet implemented.') # TODO: JZ, Implement saving UMAP to file"
   ]
  },
  {
   "cell_type": "markdown",
   "id": "13515d72",
   "metadata": {},
   "source": [
    "<span style=\"color:red\">**>>>>>>> remote**</span>"
   ]
  },
  {
   "attachments": {},
   "cell_type": "markdown",
   "metadata": {},
   "source": [
    "# Save Outputs"
   ]
  },
  {
   "cell_type": "markdown",
   "id": "23099cbc",
   "metadata": {},
   "source": [
    "<span style=\"color:red\">**<<<<<<< local**</span>"
   ]
  },
  {
   "cell_type": "code",
   "execution_count": null,
   "metadata": {},
   "outputs": [],
   "source": [
    "with open(str((Path(directory_save) / 'feature_label_combo.npy').resolve()), 'wb') as f:\n",
    "    np.save(\n",
    "        file=f,\n",
    "        arr={\n",
    "            'rois': data.ROI_images,\n",
    "            'latents': roinet.latents,\n",
    "            'embeddings': embeddings,\n",
    "            'labels': arr_labels,\n",
    "        },\n",
    "        allow_pickle=True,\n",
    "    )\n",
    "with open(str((Path(directory_save) / 'pkl_labelingRunInterim.npy').resolve()), 'wb') as f:\n",
    "    np.save(\n",
    "        file=f,\n",
    "        arr=labelingRun_interim,\n",
    "        allow_pickle=True\n",
    "    )\n",
    "\n",
    "print(f'Saving files completed.')"
   ]
  },
  {
   "cell_type": "markdown",
   "id": "79776b24",
   "metadata": {},
   "source": [
    "<span style=\"color:red\">**=======**</span>"
   ]
  },
  {
   "cell_type": "markdown",
   "id": "d23d5386",
   "metadata": {},
   "source": [
    "<span style=\"color:red\">**>>>>>>> remote**</span>"
   ]
  }
 ],
 "metadata": {
  "kernelspec": {
   "display_name": "ROICaT",
   "language": "python",
   "name": "python3"
  },
  "language_info": {
   "codemirror_mode": {
    "name": "ipython",
    "version": 3
   },
   "file_extension": ".py",
   "mimetype": "text/x-python",
   "name": "python",
   "nbconvert_exporter": "python",
   "pygments_lexer": "ipython3",
   "version": "3.9.13"
  }
 },
 "nbformat": 4,
 "nbformat_minor": 2
}
