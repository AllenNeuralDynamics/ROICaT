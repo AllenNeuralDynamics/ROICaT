{
 "cells": [
  {
   "attachments": {},
   "cell_type": "markdown",
   "metadata": {},
   "source": [
    "# Imports"
   ]
  },
  {
   "cell_type": "code",
   "execution_count": 1,
   "metadata": {},
   "outputs": [
    {
     "name": "stderr",
     "output_type": "stream",
     "text": [
      "2023-06-08 18:34:36.611066: I tensorflow/core/platform/cpu_feature_guard.cc:193] This TensorFlow binary is optimized with oneAPI Deep Neural Network Library (oneDNN) to use the following CPU instructions in performance-critical operations:  AVX2 FMA\n",
      "To enable them in other operations, rebuild TensorFlow with the appropriate compiler flags.\n"
     ]
    }
   ],
   "source": [
    "import sys\n",
    "import time\n",
    "\n",
    "import numpy as np\n",
    "import torch\n",
    "from bnpm import file_helpers, optimization\n",
    "import sklearn.utils.class_weight\n",
    "from torch import nn, optim\n",
    "from tqdm import tqdm\n",
    "import sklearn.linear_model\n",
    "import multiprocessing as mp\n",
    "\n",
    "import roicat.classification.classifier_util as cu\n",
    "import scipy.sparse\n",
    "import roicat\n",
    "import bnpm.h5_handling\n",
    "from pathlib import Path\n",
    "import shutil\n",
    "import warnings\n",
    "import umap\n",
    "\n",
    "import matplotlib.pyplot as plt\n",
    "import matplotlib.offsetbox\n",
    "import json\n",
    "import os\n",
    "import natsort\n",
    "from roicat import helpers\n",
    "# from kymatio.torch import Scattering2D\n",
    "import gc\n",
    "import functools"
   ]
  },
  {
   "attachments": {},
   "cell_type": "markdown",
   "metadata": {},
   "source": [
    "# Specify Initial Parameters"
   ]
  },
  {
   "cell_type": "code",
   "execution_count": 2,
   "metadata": {},
   "outputs": [],
   "source": [
    "path_params = None # Path(r\"\")\n",
    "directory_data = r'/Users/josh/analysis/outputs/ROICaT/classification/00_data_ingestion'\n",
    "directory_save = r'/Users/josh/analysis/outputs/ROICaT/classification/01_labels'\n",
    "testing = True\n",
    "save_ROIs = True\n",
    "save_latents = True"
   ]
  },
  {
   "cell_type": "code",
   "execution_count": 3,
   "metadata": {},
   "outputs": [],
   "source": [
    "directory_save = Path(directory_save)\n",
    "directory_save.mkdir(exist_ok=True, parents=True)\n",
    "\n",
    "labelingRun_interim = {}\n",
    "\n",
    "if path_params is not None:\n",
    "    try:\n",
    "        Path(str((directory_save).resolve())).mkdir(exist_ok=True, parents=True)\n",
    "        shutil.copy2(path_params, str(Path(directory_save) / Path(path_params).name));\n",
    "    except Exception as e:\n",
    "        print(f'JZ: Error copying params to {directory_save}')\n",
    "        print(e)\n",
    "tic = time.time()\n",
    "tictoc = {}\n",
    "tictoc['start'] = time.time() - tic\n",
    "\n",
    "params = file_helpers.json_load(str(Path(path_params).resolve())) if path_params is not None else None"
   ]
  },
  {
   "cell_type": "code",
   "execution_count": 4,
   "metadata": {},
   "outputs": [
    {
     "data": {
      "text/plain": [
       "['/Users/josh/analysis/data/ROICaT/classification/stat_s2p/stat.npy']"
      ]
     },
     "metadata": {},
     "output_type": "display_data"
    },
    {
     "data": {
      "text/plain": [
       "['/Users/josh/analysis/data/ROICaT/classification/stat_s2p/ops.npy']"
      ]
     },
     "metadata": {},
     "output_type": "display_data"
    },
    {
     "name": "stderr",
     "output_type": "stream",
     "text": [
      "/Users/josh/analysis/github_repos/ROICaT/roicat/util.py:191: UserWarning: RH WARNING: unable to get cpu info. Got error: No module named 'cpuinfo'\n",
      "  warnings.warn(f'RH WARNING: unable to get cpu info. Got error: {e}')\n",
      "/Users/josh/analysis/github_repos/ROICaT/roicat/util.py:210: UserWarning: RH WARNING: unable to get gpu info. Got error: No module named 'GPUtil'\n",
      "  warnings.warn(f'RH WARNING: unable to get gpu info. Got error: {e}')\n"
     ]
    },
    {
     "name": "stdout",
     "output_type": "stream",
     "text": [
      "Starting: Importing FOV images from ops files\n",
      "Completed: Set FOV_height and FOV_width successfully.\n",
      "Completed: Imported 1 FOV images.\n",
      "Completed: Set FOV_images for 1 sessions successfully.\n",
      "Importing spatial footprints from stat files.\n"
     ]
    },
    {
     "name": "stderr",
     "output_type": "stream",
     "text": [
      "100%|██████████| 1/1 [00:01<00:00,  1.85s/it]\n"
     ]
    },
    {
     "name": "stdout",
     "output_type": "stream",
     "text": [
      "Imported 1 sessions of spatial footprints into sparse arrays.\n",
      "Completed: Set spatialFootprints for 1 sessions successfully.\n",
      "Completed: Created session_bool.\n",
      "Completed: Created centroids.\n",
      "Staring: Creating centered ROI images from spatial footprints...\n",
      "Completed: Created ROI images.\n"
     ]
    }
   ],
   "source": [
    "# %matplotlib notebook\n",
    "# dir_allOuterFolders = str(Path('/Users/josh/analysis/data/ROICaT/classification/raw_images').resolve())\n",
    "dir_allOuterFolders = str(Path('/Users/josh/analysis/data/ROICaT/classification/stat_s2p').resolve())\n",
    "\n",
    "pathSuffixToStat = 'stat.npy'\n",
    "pathSuffixToOps = 'ops.npy'\n",
    "\n",
    "paths_allStat = test = helpers.find_paths(\n",
    "    dir_outer=dir_allOuterFolders,\n",
    "    reMatch=pathSuffixToStat,\n",
    "    depth=4,\n",
    ")\n",
    "paths_allOps = test = helpers.find_paths(\n",
    "    dir_outer=dir_allOuterFolders,\n",
    "    reMatch=pathSuffixToOps,\n",
    "    depth=4,\n",
    ")\n",
    "\n",
    "display(paths_allStat)\n",
    "display(paths_allOps)\n",
    "\n",
    "#Import data\n",
    "data = roicat.data_importing.Data_suite2p(\n",
    "    paths_statFiles=paths_allStat,\n",
    "    paths_opsFiles=paths_allOps,\n",
    "    um_per_pixel=2.0,\n",
    "    new_or_old_suite2p='new',\n",
    "    out_height_width=[36, 36],\n",
    "    type_meanImg='meanImgE',\n",
    "    verbose=True,\n",
    ");"
   ]
  },
  {
   "attachments": {},
   "cell_type": "markdown",
   "metadata": {},
   "source": [
    "# Run 2D UMap OR Project onto Previousy Fit UMap for Hand Labeling"
   ]
  },
  {
   "cell_type": "code",
   "execution_count": null,
   "metadata": {},
   "outputs": [],
   "source": [
    "if params['run_umap']:\n",
    "    umap_params = dict(\n",
    "        n_neighbors=30,\n",
    "        n_components=2,\n",
    "        metric='euclidean',\n",
    "        metric_kwds=None,\n",
    "        output_metric='euclidean',\n",
    "        output_metric_kwds=None,\n",
    "        n_epochs=None,\n",
    "        learning_rate=1.0,\n",
    "        init='spectral',\n",
    "        min_dist=0.1,\n",
    "        spread=1.0,\n",
    "        low_memory=True,\n",
    "        n_jobs=-1,\n",
    "        set_op_mix_ratio=1.0,\n",
    "        local_connectivity=1.0,\n",
    "        repulsion_strength=1.0,\n",
    "        negative_sample_rate=5,\n",
    "        transform_queue_size=4.0,\n",
    "        a=None,\n",
    "        b=None,\n",
    "        random_state=None,\n",
    "        angular_rp_forest=False,\n",
    "        target_n_neighbors=-1,\n",
    "        target_metric='categorical',\n",
    "        target_metric_kwds=None,\n",
    "        target_weight=0.5,\n",
    "        transform_seed=42,\n",
    "        transform_mode='embedding',\n",
    "        force_approximation_algorithm=False,\n",
    "        verbose=False,\n",
    "        tqdm_kwds=None,\n",
    "        unique=False,\n",
    "        densmap=False,\n",
    "        dens_lambda=2.0,\n",
    "        dens_frac=0.3,\n",
    "        dens_var_shift=0.1,\n",
    "        output_dens=False,\n",
    "        disconnection_distance=None,\n",
    "        precomputed_knn=(None, None, None),\n",
    "    )\n",
    "\n",
    "    umap_model = umap.UMAP(**umap_params)\n",
    "    print('Fitting UMAP...')\n",
    "    umap_model.fit(roinet.latents)\n",
    "\n",
    "    if params['paths']['filepath_umapModel']:\n",
    "        raise NotImplementedError('Saving UMAP to file not yet implemented.') # TODO: JZ, Implement saving UMAP to file\n",
    "        # print(f'Saving UMAP to {params[\"paths\"][\"filepath_umapModel\"]}...')\n",
    "        # joblib.dump(umap, params['paths']['filepath_umapModel'])\n",
    "    else:\n",
    "        print('Unspecified filepath_umapModel in params... not saving UMAP to file.')\n",
    "elif params['paths']['filepath_umapModel']:\n",
    "    raise NotImplementedError('Loading UMAP from file not yet implemented.') # TODO: JZ, Implement loading UMAP from file\n",
    "    # print(f'Loading UMAP from {params[\"paths\"][\"filepath_umapModel\"]}...')\n",
    "    # umap = joblib.load(params['paths']['filepath_umapModel'])\n",
    "else:\n",
    "    raise ValueError(f'run_umap must be True or filepath_umapModel must be specified in params.')\n",
    "\n",
    "print('Generating Embeddings...')\n",
    "embeddings = umap_model.transform(roinet.latents)\n",
    "labelingRun_interim['embeddings'] = embeddings\n",
    "print('Embeddings Generated...')\n",
    "%matplotlib inline\n",
    "fig, ax = plt.subplots(figsize=(10,10))\n",
    "\n",
    "ax.scatter(embeddings[:,0], embeddings[:,1], s=5, cmap='gist_rainbow')\n",
    "\n",
    "inx_lst = np.arange(np.concatenate(data.ROI_images).shape[0])\n",
    "inx_lst = np.random.choice(inx_lst, 100, replace=False)\n",
    "img_lst = np.concatenate(data.ROI_images)[inx_lst]\n",
    "x = embeddings[inx_lst, 0]\n",
    "y = embeddings[inx_lst, 1]\n",
    "\n",
    "for x0, y0, ROI_single in zip(x, y, img_lst):\n",
    "    offsetImage = matplotlib.offsetbox.OffsetImage(ROI_single, cmap='gray', zoom=0.5) # initialize offset image to contain ROI visualization\n",
    "    ab = matplotlib.offsetbox.AnnotationBbox(offsetImage, (x0, y0), frameon=False)\n",
    "    ax.add_artist(ab)\n",
    "\n",
    "# TODO: JZ, Add Circling Code for Labeling\n",
    "if testing:\n",
    "    num_zeroLabels = np.concatenate(data.ROI_images).shape[0]//2\n",
    "    num_onesLabels = np.concatenate(data.ROI_images).shape[0] - np.concatenate(data.ROI_images).shape[0]//2\n",
    "    arr_labels = np.concatenate([np.zeros(num_zeroLabels), np.ones(num_onesLabels)])\n",
    "else:\n",
    "    raise NotImplementedError('Saving UMAP to file not yet implemented.') # TODO: JZ, Implement saving UMAP to file"
   ]
  },
  {
   "attachments": {},
   "cell_type": "markdown",
   "metadata": {},
   "source": [
    "# Save Outputs"
   ]
  },
  {
   "cell_type": "code",
   "execution_count": null,
   "metadata": {},
   "outputs": [],
   "source": [
    "with open(str((Path(directory_save) / 'feature_label_combo.npy').resolve()), 'wb') as f:\n",
    "    np.save(\n",
    "        file=f,\n",
    "        arr={\n",
    "            'rois': data.ROI_images,\n",
    "            'latents': roinet.latents,\n",
    "            'embeddings': embeddings,\n",
    "            'labels': arr_labels,\n",
    "        },\n",
    "        allow_pickle=True,\n",
    "    )\n",
    "with open(str((Path(directory_save) / 'pkl_labelingRunInterim.npy').resolve()), 'wb') as f:\n",
    "    np.save(\n",
    "        file=f,\n",
    "        arr=labelingRun_interim,\n",
    "        allow_pickle=True\n",
    "    )\n",
    "\n",
    "print(f'Saving files completed.')"
   ]
  }
 ],
 "metadata": {
  "kernelspec": {
   "display_name": "ROICaT",
   "language": "python",
   "name": "python3"
  },
  "language_info": {
   "codemirror_mode": {
    "name": "ipython",
    "version": 3
   },
   "file_extension": ".py",
   "mimetype": "text/x-python",
   "name": "python",
   "nbconvert_exporter": "python",
   "pygments_lexer": "ipython3",
   "version": "3.9.13"
  }
 },
 "nbformat": 4,
 "nbformat_minor": 2
}
