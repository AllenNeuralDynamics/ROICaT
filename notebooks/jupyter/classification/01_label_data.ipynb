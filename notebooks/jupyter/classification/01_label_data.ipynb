{
 "cells": [
  {
   "attachments": {},
   "cell_type": "markdown",
   "metadata": {},
   "source": [
    "# Imports"
   ]
  },
  {
   "cell_type": "code",
   "execution_count": 3,
   "metadata": {},
   "outputs": [],
   "source": [
    "import sys\n",
    "import time\n",
    "\n",
    "import numpy as np\n",
    "import torch\n",
    "from bnpm import file_helpers, optimization\n",
    "import sklearn.utils.class_weight\n",
    "from torch import nn, optim\n",
    "from tqdm import tqdm\n",
    "import sklearn.linear_model\n",
    "import multiprocessing as mp\n",
    "\n",
    "import roicat.classification.classifier_util as cu\n",
    "import scipy.sparse\n",
    "import roicat\n",
    "import bnpm.h5_handling\n",
    "from pathlib import Path\n",
    "import sys\n",
    "from pathlib import Path\n",
    "import shutil\n",
    "import warnings\n",
    "import umap\n",
    "\n",
    "import matplotlib.pyplot as plt\n",
    "import matplotlib.offsetbox\n",
    "import json"
   ]
  },
  {
   "attachments": {},
   "cell_type": "markdown",
   "metadata": {},
   "source": [
    "# Specify Initial Parameters"
   ]
  },
  {
   "cell_type": "code",
   "execution_count": 4,
   "metadata": {},
   "outputs": [],
   "source": [
    "path_params = None # Path(r\"\")\n",
    "directory_data = r'/Users/josh/analysis/outputs/ROICaT/classification/00_data_ingestion'\n",
    "directory_save = r'/Users/josh/analysis/outputs/ROICaT/classification/01_labels'\n",
    "testing = True\n",
    "save_ROIs = True\n",
    "save_latents = True"
   ]
  },
  {
   "cell_type": "code",
   "execution_count": 5,
   "metadata": {},
   "outputs": [],
   "source": [
    "directory_save = Path(directory_save)\n",
    "directory_save.mkdir(exist_ok=True, parents=True)\n",
    "\n",
    "labelingRun_interim = {}\n",
    "\n",
    "if path_params is not None:\n",
    "    try:\n",
    "        Path(str((directory_save).resolve())).mkdir(exist_ok=True, parents=True)\n",
    "        shutil.copy2(path_params, str(Path(directory_save) / Path(path_params).name));\n",
    "    except Exception as e:\n",
    "        print(f'JZ: Error copying params to {directory_save}')\n",
    "        print(e)\n",
    "tic = time.time()\n",
    "tictoc = {}\n",
    "tictoc['start'] = time.time() - tic\n",
    "\n",
    "params = file_helpers.json_load(str(Path(path_params).resolve())) if path_params is not None else None"
   ]
  },
  {
   "cell_type": "code",
   "execution_count": 6,
   "metadata": {},
   "outputs": [
    {
     "name": "stderr",
     "output_type": "stream",
     "text": [
      "/var/folders/gb/td_6747j3_z81x0r_38hyw180000gn/T/ipykernel_33698/2586939875.py:93: UserWarning: CUDA not available, using CPU\n",
      "  warnings.warn('CUDA not available, using CPU')\n"
     ]
    }
   ],
   "source": [
    "if params is None:\n",
    "    params = {\n",
    "        \"method\": \"simclr\",\n",
    "        \"device\": \"cuda:0\",\n",
    "        \"datatype\": \"raw_images\",\n",
    "        \"hyperparameters_split\": {\n",
    "            \"n_train\": 50000,\n",
    "            \"test_size\": 0.3\n",
    "        },\n",
    "        \"paths\": {\n",
    "            \"directory_github\": \"/Users/josh/analysis/github_repos/\",\n",
    "            \"directory_simclrModel\": \"/Users/josh/analysis//models\",\n",
    "            \"filepath_umapModel\": None,\n",
    "        },\n",
    "        \"hyperparameters_training_classifier\": {\n",
    "            \"num_transform_copies\": 80,\n",
    "            \"solver\": \"lbfgs\",\n",
    "            \"fit_intercept\": True,\n",
    "            \"max_iter\": 20000,\n",
    "            \"C\": 0.01,\n",
    "            \"tol\": 0.001,\n",
    "            \"simclrModel_download_url\": \"https://osf.io/xwzhp/download\",\n",
    "            \"simclrModel_download_hash\": \"134b170242141c26b0adbd9e0fd80d0e\"\n",
    "        },\n",
    "        # \"hyperparameters_augmentations_val\": {\n",
    "        #     \"Scale_image_sum\": {\n",
    "        #         \"sum_val\": 1,\n",
    "        #         \"epsilon\": 1e-09,\n",
    "        #         \"min_sub\": True\n",
    "        #     },\n",
    "        #     \"ScaleDynamicRange\": {\n",
    "        #         \"scaler_bounds\": [0,1],\n",
    "        #         \"epsilon\": 1e-09\n",
    "        #     },\n",
    "        #     \"WarpPoints\": {\n",
    "        #         \"r\": [0.1,0.2],\n",
    "        #         \"cx\": [-0.3,0.3],\n",
    "        #         \"cy\": [-0.3,0.3],\n",
    "        #         \"dx\": [-0.1,0.1],\n",
    "        #         \"dy\": [-0.1,0.1],\n",
    "        #         \"n_warps\": 1,\n",
    "        #         \"prob\": 0.0,\n",
    "        #         \"img_size_in\": [36,36],\n",
    "        #         \"img_size_out\": [224,224]\n",
    "        #     },\n",
    "        #     \"TileChannels\": {\"dim\": -3, \"n_channels\": 3}\n",
    "        # },\n",
    "        \"run_umap\": True,\n",
    "    }\n",
    "\n",
    "roicat.util.helpers.set_device(params['device'])"
   ]
  },
  {
   "attachments": {},
   "cell_type": "markdown",
   "metadata": {},
   "source": [
    "# Import Datasets"
   ]
  },
  {
   "cell_type": "code",
   "execution_count": 8,
   "metadata": {},
   "outputs": [
    {
     "name": "stderr",
     "output_type": "stream",
     "text": [
      "/Users/josh/analysis/github_repos/ROICaT/roicat/util.py:191: UserWarning: RH WARNING: unable to get cpu info. Got error: No module named 'cpuinfo'\n",
      "  warnings.warn(f'RH WARNING: unable to get cpu info. Got error: {e}')\n",
      "/Users/josh/analysis/github_repos/ROICaT/roicat/util.py:210: UserWarning: RH WARNING: unable to get gpu info. Got error: No module named 'GPUtil'\n",
      "  warnings.warn(f'RH WARNING: unable to get gpu info. Got error: {e}')\n"
     ]
    },
    {
     "name": "stdout",
     "output_type": "stream",
     "text": [
      "Loaded Data_roicat object from /Users/josh/analysis/outputs/ROICaT/classification/00_data_ingestion/classification_data.pkl.\n"
     ]
    }
   ],
   "source": [
    "data = roicat.data_importing.Data_roicat(verbose=True)\n",
    "data.load(str(Path(directory_data) / 'classification_data.pkl'))"
   ]
  },
  {
   "attachments": {},
   "cell_type": "markdown",
   "metadata": {},
   "source": [
    "# Pass Data Through Network"
   ]
  },
  {
   "cell_type": "code",
   "execution_count": null,
   "metadata": {},
   "outputs": [],
   "source": [
    "import roicat\n",
    "\n",
    "dataset_val = roicat.ROInet.dataset_simCLR(\n",
    "        X=torch.as_tensor(data.ROI_images, device='cpu', dtype=torch.float32),\n",
    "        y=torch.as_tensor(np.zeros((data.ROI_images.shape[0])), device='cpu', dtype=torch.float32),\n",
    "        n_transforms=1,\n",
    "        class_weights=np.array([1]),\n",
    "        # transforms_final_val = cu.get_transforms(params['hyperparameters_augmentations_val'], scripted=True)\n",
    "        # transform=transforms_final_val, # *Use WarpPoints\n",
    "        DEVICE='cpu',\n",
    "        dtype_X=torch.float32,\n",
    "    )\n",
    "dataloader_val = torch.utils.data.DataLoader( \n",
    "        dataset_val,\n",
    "        batch_size=64,\n",
    "        shuffle=False,\n",
    "        drop_last=False,\n",
    "        pin_memory=False,\n",
    "        num_workers=0,#mp.cpu_count(),\n",
    "        persistent_workers=False,\n",
    "        prefetch_factor=2,\n",
    ")\n",
    "\n",
    "roinet = roicat.ROInet.ROInet_embedder(\n",
    "    device=params['device'],\n",
    "    dir_networkFiles=params['paths']['directory_simclrModel'],\n",
    "    download_method='check_local_first',\n",
    "    forward_pass_version='head',\n",
    "    download_url=params['hyperparameters_training_simclr']['simclrModel_download_url'],\n",
    "    download_hash=params['hyperparameters_training_simclr']['simclrModel_download_hash'],\n",
    "    verbose=True,\n",
    ")\n",
    "\n",
    "print(f'Extracting transformed images from dataloaders, passing through roinet model, and saving to {directory_save}...')\n",
    "\n",
    "features_val, _labels_val, _idx_val, _sample_val = cu.extract_with_dataloader(\n",
    "    dataloader_val,\n",
    "    model=roinet.net,\n",
    "    num_copies=1,\n",
    "    device=params['device'],\n",
    ")\n",
    "\n",
    "labelingRun_interim['features_val'] = features_val\n",
    "print(f'Unaugmented run completed.')"
   ]
  },
  {
   "attachments": {},
   "cell_type": "markdown",
   "metadata": {},
   "source": [
    "# Run 2D UMap OR Project onto Previousy Fit UMap for Hand Labeling"
   ]
  },
  {
   "cell_type": "code",
   "execution_count": null,
   "metadata": {},
   "outputs": [],
   "source": [
    "if params['run_umap']:\n",
    "    umap_params = dict(\n",
    "        n_neighbors=30,\n",
    "        n_components=2,\n",
    "        metric='euclidean',\n",
    "        metric_kwds=None,\n",
    "        output_metric='euclidean',\n",
    "        output_metric_kwds=None,\n",
    "        n_epochs=None,\n",
    "        learning_rate=1.0,\n",
    "        init='spectral',\n",
    "        min_dist=0.1,\n",
    "        spread=1.0,\n",
    "        low_memory=True,\n",
    "        n_jobs=-1,\n",
    "        set_op_mix_ratio=1.0,\n",
    "        local_connectivity=1.0,\n",
    "        repulsion_strength=1.0,\n",
    "        negative_sample_rate=5,\n",
    "        transform_queue_size=4.0,\n",
    "        a=None,\n",
    "        b=None,\n",
    "        random_state=None,\n",
    "        angular_rp_forest=False,\n",
    "        target_n_neighbors=-1,\n",
    "        target_metric='categorical',\n",
    "        target_metric_kwds=None,\n",
    "        target_weight=0.5,\n",
    "        transform_seed=42,\n",
    "        transform_mode='embedding',\n",
    "        force_approximation_algorithm=False,\n",
    "        verbose=False,\n",
    "        tqdm_kwds=None,\n",
    "        unique=False,\n",
    "        densmap=False,\n",
    "        dens_lambda=2.0,\n",
    "        dens_frac=0.3,\n",
    "        dens_var_shift=0.1,\n",
    "        output_dens=False,\n",
    "        disconnection_distance=None,\n",
    "        precomputed_knn=(None, None, None),\n",
    "    )\n",
    "\n",
    "    umap = umap.UMAP(**umap_params)\n",
    "    print('Fitting UMAP...')\n",
    "    umap.fit(features_val)\n",
    "\n",
    "    if params['paths']['filepath_umapModel']:\n",
    "        raise NotImplementedError('Saving UMAP to file not yet implemented.') # TODO: JZ, Implement saving UMAP to file\n",
    "        # print(f'Saving UMAP to {params[\"paths\"][\"filepath_umapModel\"]}...')\n",
    "        # joblib.dump(umap, params['paths']['filepath_umapModel'])\n",
    "    else:\n",
    "        print('Unspecified filepath_umapModel in params... not saving UMAP to file.')\n",
    "elif params['paths']['filepath_umapModel']:\n",
    "    raise NotImplementedError('Loading UMAP from file not yet implemented.') # TODO: JZ, Implement loading UMAP from file\n",
    "    # print(f'Loading UMAP from {params[\"paths\"][\"filepath_umapModel\"]}...')\n",
    "    # umap = joblib.load(params['paths']['filepath_umapModel'])\n",
    "else:\n",
    "    raise ValueError(f'run_umap must be True or filepath_umapModel must be specified in params.')\n",
    "\n",
    "print('Generating Embeddings...')\n",
    "embeddings = umap.transform(features_val)\n",
    "labelingRun_interim['embeddings'] = embeddings\n",
    "print('Embeddings Generated...')\n",
    "%matplotlib inline\n",
    "fig, ax = plt.subplots(figsize=(5,5))\n",
    "\n",
    "ax.scatter(embeddings[:,0], embeddings[:,1], s=5, cmap='gist_rainbow')\n",
    "\n",
    "# inx_lst = list(range(100))\n",
    "inx_lst = np.arange(ROI_images_filt.shape[0])\n",
    "img_lst = ROI_images_filt[inx_lst]\n",
    "x = embeddings[inx_lst, 0]\n",
    "y = embeddings[inx_lst, 1]\n",
    "\n",
    "for x0, y0, ROI_single in zip(x, y, img_lst):\n",
    "    offsetImage = matplotlib.offsetbox.OffsetImage(ROI_single, cmap='gray', zoom=0.5) # initialize offset image to contain ROI visualization\n",
    "    ab = matplotlib.offsetbox.AnnotationBbox(offsetImage, (x0, y0), frameon=False)\n",
    "    ax.add_artist(ab)\n",
    "\n",
    "# TODO: JZ, Add Circling Code for Labeling\n",
    "if testing:\n",
    "    num_zeroLabels = ROI_images_filt.shape[0]//2\n",
    "    num_onesLabels = ROI_images_filt.shape[0] - ROI_images_filt.shape[0]//2\n",
    "    arr_labels = np.concatenate([np.zeros(num_zeroLabels), np.ones(num_onesLabels)])\n",
    "else:\n",
    "    raise NotImplementedError('Saving UMAP to file not yet implemented.') # TODO: JZ, Implement saving UMAP to file"
   ]
  },
  {
   "attachments": {},
   "cell_type": "markdown",
   "metadata": {},
   "source": [
    "# Save Outputs"
   ]
  },
  {
   "cell_type": "code",
   "execution_count": null,
   "metadata": {},
   "outputs": [],
   "source": [
    "with open(str((Path(directory_save) / 'arr_labels.npy').resolve()), 'wb') as f:\n",
    "    np.save(\n",
    "        file=f,\n",
    "        arr=arr_labels,\n",
    "    )\n",
    "\n",
    "if save_ROIs:\n",
    "    with open(str((Path(directory_save) / 'arr_ROIs.npy').resolve()), 'wb') as f:\n",
    "        np.save(\n",
    "            file=f,\n",
    "            arr=features_val,\n",
    "        )\n",
    "\n",
    "if save_latents:\n",
    "    with open(str((Path(directory_save) / 'arr_latents.npy').resolve()), 'wb') as f:\n",
    "        np.save(\n",
    "            file=f,\n",
    "            arr=features_val,\n",
    "        )\n",
    "\n",
    "labelingRun_interim['params_prespecified'] = params\n",
    "with open(str((Path(directory_save) / 'pkl_labelingRunInterim.npy').resolve()), 'wb') as f:\n",
    "    np.save(\n",
    "        file=f,\n",
    "        arr=labelingRun_interim,\n",
    "        allow_pickle=True\n",
    "    )\n",
    "\n",
    "print(f'Saving files completed.')\n"
   ]
  }
 ],
 "metadata": {
  "kernelspec": {
   "display_name": "ROICaT",
   "language": "python",
   "name": "python3"
  },
  "language_info": {
   "codemirror_mode": {
    "name": "ipython",
    "version": 3
   },
   "file_extension": ".py",
   "mimetype": "text/x-python",
   "name": "python",
   "nbconvert_exporter": "python",
   "pygments_lexer": "ipython3",
   "version": "3.9.13"
  }
 },
 "nbformat": 4,
 "nbformat_minor": 2
}
