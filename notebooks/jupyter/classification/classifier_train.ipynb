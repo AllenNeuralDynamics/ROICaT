{
 "cells": [
  {
   "attachments": {},
   "cell_type": "markdown",
   "metadata": {},
   "source": [
    "# Imports"
   ]
  },
  {
   "cell_type": "code",
   "execution_count": 1,
   "metadata": {},
   "outputs": [
    {
     "name": "stderr",
     "output_type": "stream",
     "text": [
      "2023-06-23 11:52:20.343843: I tensorflow/core/platform/cpu_feature_guard.cc:193] This TensorFlow binary is optimized with oneAPI Deep Neural Network Library (oneDNN) to use the following CPU instructions in performance-critical operations:  AVX2 FMA\n",
      "To enable them in other operations, rebuild TensorFlow with the appropriate compiler flags.\n"
     ]
    }
   ],
   "source": [
    "%load_ext autoreload\n",
    "%autoreload 2\n",
    "\n",
    "import sys\n",
    "import time\n",
    "\n",
    "import numpy as np\n",
    "import torch\n",
    "from bnpm import file_helpers, optimization\n",
    "import sklearn.utils.class_weight\n",
    "from torch import nn, optim\n",
    "from tqdm import tqdm\n",
    "import sklearn.linear_model\n",
    "import multiprocessing as mp\n",
    "\n",
    "import roicat.classification.classifier_util as cu\n",
    "import scipy.sparse\n",
    "import roicat\n",
    "import bnpm.h5_handling\n",
    "from pathlib import Path\n",
    "import shutil\n",
    "import warnings\n",
    "import umap\n",
    "\n",
    "import matplotlib.pyplot as plt\n",
    "import matplotlib.offsetbox\n",
    "import json\n",
    "import os\n",
    "import natsort\n",
    "from roicat import helpers\n",
    "# from kymatio.torch import Scattering2D\n",
    "import gc\n",
    "import functools"
   ]
  },
  {
   "attachments": {},
   "cell_type": "markdown",
   "metadata": {},
   "source": [
    "# Initialize Parameters"
   ]
  },
  {
   "cell_type": "code",
   "execution_count": 2,
   "metadata": {},
   "outputs": [],
   "source": [
    "directory_save = Path(r'/Users/josh/analysis/outputs/ROICaT/classification/classifier_train')\n"
   ]
  },
  {
   "cell_type": "code",
   "execution_count": 3,
   "metadata": {},
   "outputs": [],
   "source": [
    "INTEGER_MAX = np.iinfo(np.int64(0).dtype).max\n",
    "directory_save.mkdir(exist_ok=True, parents=True)"
   ]
  },
  {
   "attachments": {},
   "cell_type": "markdown",
   "metadata": {},
   "source": [
    "# Data Importing"
   ]
  },
  {
   "attachments": {},
   "cell_type": "markdown",
   "metadata": {},
   "source": [
    "## Option 1: Use Data Results from Labeling Interactive Outputs"
   ]
  },
  {
   "attachments": {},
   "cell_type": "markdown",
   "metadata": {},
   "source": [
    "### Option 1.A: Labeling Interactive — Specify Directory / Filenames"
   ]
  },
  {
   "cell_type": "code",
   "execution_count": 4,
   "metadata": {},
   "outputs": [],
   "source": [
    "filepath_labellingInteractive = str(Path('/Users/josh/analysis/outputs/ROICaT/classification/labeling_interactive/test.ROICaT.labeling.results.pkl').resolve())"
   ]
  },
  {
   "attachments": {},
   "cell_type": "markdown",
   "metadata": {},
   "source": [
    "### Option 1.B: Labeling Interactive — Find and Load Data"
   ]
  },
  {
   "cell_type": "code",
   "execution_count": 5,
   "metadata": {},
   "outputs": [
    {
     "name": "stdout",
     "output_type": "stream",
     "text": [
      "RH WARNING: No um_per_pixel provided. We recommend making an educated guess. Assuming 1.0 um per pixel. This will affect the embedding results.\n",
      "Starting: Importing ROI images\n",
      "Completed: Imported 1 sessions. Each session has [502] ROIs. Total number of ROIs is 502. The um_per_pixel is 1.0 um per pixel.\n",
      "Starting: Importing class labels\n",
      "Labels and ROI Images match in shapes: Class labels and ROI images have the same number of sessions and the same number of ROIs in each session.\n",
      "Completed: Imported labels for 1 sessions. Each session has [502] class labels. Total number of class labels is 502.\n"
     ]
    },
    {
     "name": "stderr",
     "output_type": "stream",
     "text": [
      "/Users/josh/analysis/github_repos/ROICaT/roicat/util.py:191: UserWarning: RH WARNING: unable to get cpu info. Got error: No module named 'cpuinfo'\n",
      "  warnings.warn(f'RH WARNING: unable to get cpu info. Got error: {e}')\n",
      "/Users/josh/analysis/github_repos/ROICaT/roicat/util.py:210: UserWarning: RH WARNING: unable to get gpu info. Got error: No module named 'GPUtil'\n",
      "  warnings.warn(f'RH WARNING: unable to get gpu info. Got error: {e}')\n"
     ]
    }
   ],
   "source": [
    "labelingInteractive = roicat.helpers.pickle_load(filepath_labellingInteractive)\n",
    "data = roicat.data_importing.Data_roicat();\n",
    "data.set_ROI_images([labelingInteractive['images'][labelingInteractive['labels']['index']]]);\n",
    "data.set_class_labels([labelingInteractive['labels']['label']]);"
   ]
  },
  {
   "attachments": {},
   "cell_type": "markdown",
   "metadata": {},
   "source": [
    "## Option 2: Suite2p Data"
   ]
  },
  {
   "attachments": {},
   "cell_type": "markdown",
   "metadata": {},
   "source": [
    "### Option 2.A: Suite2p — Specify Directory / Filenames"
   ]
  },
  {
   "cell_type": "code",
   "execution_count": null,
   "metadata": {},
   "outputs": [],
   "source": [
    "dir_allOuterFolders = str(Path('/Users/josh/analysis/data/ROICaT/classification/stat_s2p').resolve())\n",
    "pathSuffixToStat = 'stat.npy'\n",
    "pathSuffixToOps = 'ops.npy'\n",
    "pathSuffixToLabels = 'labels_round2_sesh2.npy'"
   ]
  },
  {
   "attachments": {},
   "cell_type": "markdown",
   "metadata": {},
   "source": [
    "### Option 2.B: Suite2p — Find and Load Data"
   ]
  },
  {
   "cell_type": "code",
   "execution_count": null,
   "metadata": {},
   "outputs": [],
   "source": [
    "paths_allStat, paths_allOps, paths_allLabels = helpers.find_paths_requireAll(\n",
    "    dir_outer=dir_allOuterFolders,\n",
    "    filenames=[\n",
    "        pathSuffixToStat,\n",
    "        pathSuffixToOps,\n",
    "        pathSuffixToLabels\n",
    "    ],\n",
    "depth=4,)\n",
    "\n",
    "data = roicat.data_importing.Data_suite2p(\n",
    "    paths_statFiles=paths_allStat,\n",
    "    paths_opsFiles=paths_allOps,\n",
    "    class_labels=[np.load(path_label, allow_pickle=True) for path_label in paths_allLabels],\n",
    "    um_per_pixel=2.0,\n",
    "    new_or_old_suite2p='new',\n",
    "    out_height_width=[36, 36],\n",
    "    type_meanImg='meanImgE',\n",
    "    verbose=True,\n",
    ");"
   ]
  },
  {
   "attachments": {},
   "cell_type": "markdown",
   "metadata": {},
   "source": [
    "# Pass Through Network to Generate Image Latents"
   ]
  },
  {
   "cell_type": "code",
   "execution_count": 6,
   "metadata": {},
   "outputs": [
    {
     "name": "stdout",
     "output_type": "stream",
     "text": [
      "devices available: []\n",
      "no GPU available. Using CPU.\n",
      "File already exists locally: /Users/josh/analysis/models/ROInet.zip\n"
     ]
    },
    {
     "name": "stderr",
     "output_type": "stream",
     "text": [
      "/Users/josh/analysis/github_repos/ROICaT/roicat/util.py:191: UserWarning: RH WARNING: unable to get cpu info. Got error: No module named 'cpuinfo'\n",
      "  warnings.warn(f'RH WARNING: unable to get cpu info. Got error: {e}')\n",
      "/Users/josh/analysis/github_repos/ROICaT/roicat/util.py:210: UserWarning: RH WARNING: unable to get gpu info. Got error: No module named 'GPUtil'\n",
      "  warnings.warn(f'RH WARNING: unable to get gpu info. Got error: {e}')\n"
     ]
    },
    {
     "name": "stdout",
     "output_type": "stream",
     "text": [
      "Hash of local file matches provided hash_hex.\n",
      "Extracting /Users/josh/analysis/models/ROInet.zip to /Users/josh/analysis/models.\n",
      "Completed zip extraction.\n",
      "['/Users/josh/analysis/models/ROInet_classification_20220902', '/Users/josh/analysis/models/ROInet_classification_20220902/ConvNext_tiny__1_0_best__simCLR_wPCA.pth', '/Users/josh/analysis/models/ROInet_classification_20220902/model.py', '/Users/josh/analysis/models/ROInet_classification_20220902/classifier.pkl', '/Users/josh/analysis/models/ROInet_classification_20220902/params.json', '/Users/josh/analysis/models/ROInet_classification_20220902/__pycache__', '/Users/josh/analysis/models/ROInet_classification_20220902/__pycache__/model.cpython-39.pyc']\n",
      "Imported model from /Users/josh/analysis/models/ROInet_classification_20220902/model.py\n",
      "Loaded params_model from /Users/josh/analysis/models/ROInet_classification_20220902/params.json\n"
     ]
    },
    {
     "name": "stderr",
     "output_type": "stream",
     "text": [
      "/Users/josh/opt/anaconda3/envs/ROICaT/lib/python3.9/site-packages/torchvision/models/_utils.py:208: UserWarning: The parameter 'pretrained' is deprecated since 0.13 and will be removed in 0.15, please use 'weights' instead.\n",
      "  warnings.warn(\n",
      "/Users/josh/opt/anaconda3/envs/ROICaT/lib/python3.9/site-packages/torchvision/models/_utils.py:223: UserWarning: Arguments other than a weight enum or `None` for 'weights' are deprecated since 0.13 and will be removed in 0.15. The current behavior is equivalent to passing `weights=ConvNeXt_Tiny_Weights.IMAGENET1K_V1`. You can also use `weights=ConvNeXt_Tiny_Weights.DEFAULT` to get the most up-to-date weights.\n",
      "  warnings.warn(msg)\n"
     ]
    },
    {
     "name": "stdout",
     "output_type": "stream",
     "text": [
      "Generated network using params_model\n",
      "Loaded state_dict into network from /Users/josh/analysis/models/ROInet_classification_20220902/ConvNext_tiny__1_0_best__simCLR_wPCA.pth\n",
      "Loaded network onto device cpu\n",
      "Starting: resizing ROIs\n",
      "Completed: resizing ROIs\n",
      "Defined image transformations: Sequential(\n",
      "  (0): ScaleDynamicRange(scaler_bounds=(0, 1))\n",
      "  (1): Resize(size=(224, 224), interpolation=bilinear, max_size=None, antialias=True)\n",
      "  (2): TileChannels(dim=0)\n",
      ")\n",
      "Defined dataset\n",
      "Defined dataloader\n",
      "starting: running data through network\n"
     ]
    },
    {
     "name": "stderr",
     "output_type": "stream",
     "text": [
      "100%|██████████| 63/63 [01:13<00:00,  1.16s/it]\n"
     ]
    },
    {
     "name": "stdout",
     "output_type": "stream",
     "text": [
      "completed: running data through network\n"
     ]
    }
   ],
   "source": [
    "# Neural network embedding distances\n",
    "roinet = roicat.ROInet.ROInet_embedder(\n",
    "    device=roicat.util.helpers.set_device('cuda:0'),\n",
    "    dir_networkFiles=r\"/Users/josh/analysis/models\",\n",
    "    download_method=\"check_local_first\",\n",
    "    download_url=\"https://osf.io/xwzhp/download\",\n",
    "    download_hash=\"134b170242141c26b0adbd9e0fd80d0e\",\n",
    "    forward_pass_version=\"head\",\n",
    "    verbose=True,\n",
    ")\n",
    "\n",
    "roinet.generate_dataloader(\n",
    "    ROI_images=data.ROI_images,\n",
    "    um_per_pixel=data.um_per_pixel,\n",
    "    pref_plot=False,\n",
    "    batchSize_dataloader=8,\n",
    "    pinMemory_dataloader=True,\n",
    "    numWorkers_dataloader=mp.cpu_count(),\n",
    "    persistentWorkers_dataloader=True,\n",
    "    prefetchFactor_dataloader=2,    \n",
    ");\n",
    "roinet.generate_latents();\n",
    "\n",
    "gc.collect()\n",
    "torch.cuda.empty_cache()\n",
    "gc.collect()\n",
    "torch.cuda.empty_cache()"
   ]
  },
  {
   "attachments": {},
   "cell_type": "markdown",
   "metadata": {},
   "source": [
    "# Train / Validation / Test Split Data, Hyperparameter Tune on Validation Set, and Fit Model"
   ]
  },
  {
   "cell_type": "code",
   "execution_count": 60,
   "metadata": {},
   "outputs": [],
   "source": [
    "# TODO: JZ, IMPLEMENT AS LOOP FOR OPTUNA FOR HYPERPARAMETER TUNING\n",
    "# Create data splitting object for stratified sampling into train and test sets (as well as downsampling)\n",
    "data_splitter = cu.Datasplit(\n",
    "    features=roinet.latents.cpu().numpy(),\n",
    "    labels=np.concatenate(data.class_labels, axis=0),\n",
    "    n_train=INTEGER_MAX,\n",
    "    val_size=0.2,\n",
    "    test_size=0.2,\n",
    ")\n",
    "\n",
    "model_sklearn = sklearn.linear_model.LogisticRegression(                    \n",
    "    solver='lbfgs',                      \n",
    "    fit_intercept=True,                      \n",
    "    max_iter=10000,                      \n",
    "    C=1e5,                      \n",
    "    class_weight=data_splitter.dict_class_weights)\n"
   ]
  },
  {
   "cell_type": "code",
   "execution_count": 61,
   "metadata": {},
   "outputs": [
    {
     "name": "stderr",
     "output_type": "stream",
     "text": [
      "/Users/josh/opt/anaconda3/envs/ROICaT/lib/python3.9/site-packages/sklearn/linear_model/_logistic.py:444: ConvergenceWarning: lbfgs failed to converge (status=1):\n",
      "STOP: TOTAL NO. of ITERATIONS REACHED LIMIT.\n",
      "\n",
      "Increase the number of iterations (max_iter) or scale the data as shown in:\n",
      "    https://scikit-learn.org/stable/modules/preprocessing.html\n",
      "Please also refer to the documentation for alternative solver options:\n",
      "    https://scikit-learn.org/stable/modules/linear_model.html#logistic-regression\n",
      "  n_iter_i = _check_optimize_result(\n"
     ]
    }
   ],
   "source": [
    "model_sklearn.fit(data_splitter.features_train, data_splitter.labels_train);"
   ]
  },
  {
   "cell_type": "code",
   "execution_count": 62,
   "metadata": {},
   "outputs": [],
   "source": [
    "# Create lenet model, associated optimizer, loss function, and training tracker\n",
    "model = cu.LogisticRegression(coef=model_sklearn.coef_,\n",
    "                              intercept=model_sklearn.intercept_,\n",
    "                              model_dict=model_sklearn.__dict__);"
   ]
  },
  {
   "cell_type": "code",
   "execution_count": 69,
   "metadata": {},
   "outputs": [],
   "source": [
    "assert np.allclose(model_sklearn.predict_proba(data_splitter.features_train), model.predict_proba(data_splitter.features_train)), \\\n",
    " \"JZ: Sklearn and saved models do not agree on prediction for training set. Contact authors for assistance.\""
   ]
  },
  {
   "cell_type": "code",
   "execution_count": 67,
   "metadata": {},
   "outputs": [
    {
     "name": "stdout",
     "output_type": "stream",
     "text": [
      "Calculating tracker outputs and saving to /Users/josh/analysis/outputs/ROICaT/classification/classifier_train...\n",
      "Saving results:  /Users/josh/analysis/outputs/ROICaT/classification/classifier_train/results_training /Users/josh/analysis/outputs/ROICaT/classification/classifier_train/results_timing.json\n",
      "self.tictoc={}\n",
      "self.model={'coef': array([[-2.36333884e-02,  1.24026862e-02,  6.89024065e-02,\n",
      "         4.06505870e-02, -2.28465066e-03, -8.23994541e-02,\n",
      "         2.42108959e-02,  7.76038111e-02, -9.61156875e-02,\n",
      "         3.53588388e-02, -7.30954640e-02,  3.51103147e-02,\n",
      "         7.50516869e-02, -2.74418999e-02,  3.33038928e-02,\n",
      "        -1.06890748e-02,  1.50956818e-02,  8.10004979e-02,\n",
      "         1.30728834e-02, -2.09046471e-02,  1.07470912e-04,\n",
      "         1.30294823e-02, -5.01405966e-02,  7.05013450e-02,\n",
      "         5.20106152e-02, -7.47459779e-02, -4.48539508e-02,\n",
      "        -8.04061055e-02,  1.44353473e-04, -9.34211991e-04,\n",
      "         3.82589133e-02,  8.88287292e-02,  1.51197973e-02,\n",
      "         6.43553554e-03,  3.50274985e-02,  9.17382949e-02,\n",
      "         2.50371302e-02,  1.56246902e-02,  5.47717808e-02,\n",
      "        -1.92934107e-03, -8.13942938e-02, -1.10673665e-01,\n",
      "        -7.11673575e-02, -5.29160693e-02,  2.74260387e-02,\n",
      "         3.22587100e-02,  1.59536085e-02, -2.65279488e-02,\n",
      "        -1.03414448e-02, -2.32699426e-02, -2.73031726e-02,\n",
      "        -1.27161155e-01, -2.32354092e-02, -2.72161315e-02,\n",
      "         1.73206675e-01,  3.70296248e-02,  2.44364460e-02,\n",
      "        -1.19949805e-01,  1.21005113e-01, -3.23213396e-02,\n",
      "         1.51416327e-01, -2.32901204e-02, -5.45959616e-02,\n",
      "        -6.43696752e-02, -1.17739709e-01, -7.01026216e-03,\n",
      "        -5.86634232e-02, -2.92293426e-02,  6.29126983e-02,\n",
      "         1.03131460e-01,  1.21063928e-02, -7.48907571e-02,\n",
      "         9.21729265e-02,  3.94046943e-02, -5.53556304e-02,\n",
      "        -6.71897571e-03,  5.25972363e-02, -7.64077980e-02,\n",
      "        -1.21654323e-02,  4.20902760e-02,  4.79567643e-02,\n",
      "        -9.83064417e-03,  9.61329733e-02,  1.56032254e-02,\n",
      "         7.99600423e-02,  1.31824030e-01,  1.70208417e-01,\n",
      "         2.98157096e-01,  6.91800815e-02,  1.12944827e-01,\n",
      "        -2.06206623e-02, -1.07203167e-01, -6.00456448e-03,\n",
      "         4.80034881e-02,  2.59050837e-02, -3.23161166e-02,\n",
      "        -1.20664867e-01, -1.22726836e-01, -9.09823646e-02,\n",
      "         6.19148115e-02],\n",
      "       [-2.87791560e-02,  3.48138842e-03,  5.79742957e-02,\n",
      "         8.46329417e-02,  2.36115498e-02, -5.82004154e-02,\n",
      "         3.87604612e-02,  1.31562226e-01, -6.57610813e-02,\n",
      "         8.09648883e-02,  1.37845741e-02,  9.94737703e-02,\n",
      "         8.55545511e-02,  5.61318065e-04,  3.83097728e-02,\n",
      "        -2.71696014e-02,  4.06701150e-02,  1.16372509e-01,\n",
      "        -9.04225527e-04, -3.51000999e-02,  8.76235161e-03,\n",
      "        -1.92405743e-02, -3.26216847e-02,  6.32225717e-02,\n",
      "         3.85742850e-02, -6.97673601e-03, -1.81919083e-02,\n",
      "        -3.71161374e-02,  5.30892107e-02,  5.72391942e-02,\n",
      "         1.08354298e-02,  9.75647941e-02,  3.29476597e-02,\n",
      "         2.85964335e-02,  4.92734053e-02,  2.87385172e-02,\n",
      "        -6.07604222e-02,  9.73966105e-02,  3.18208903e-02,\n",
      "         2.14030085e-02, -7.68116356e-02, -6.77221367e-02,\n",
      "        -4.97293158e-02, -3.49900657e-02, -1.01055393e-02,\n",
      "        -9.70599791e-03,  4.66777262e-03, -2.88335866e-02,\n",
      "         4.10473211e-02,  2.57919080e-02,  1.12683307e-02,\n",
      "        -5.97580670e-02, -4.73955560e-02, -3.70245870e-02,\n",
      "         9.17561248e-02,  8.89736885e-03,  4.07372656e-02,\n",
      "        -1.11273357e-01,  9.33897007e-02, -5.83613832e-02,\n",
      "         1.63925982e-01, -7.23242533e-02, -2.80283803e-02,\n",
      "        -4.44956010e-02, -4.47297719e-02, -3.20556528e-03,\n",
      "         2.52703270e-02,  3.31977654e-02,  3.04836398e-02,\n",
      "         5.85825445e-02, -2.52151446e-02, -5.12618666e-02,\n",
      "        -1.88746408e-02, -5.06295414e-02,  5.25751343e-02,\n",
      "        -1.83916425e-02, -3.59247018e-03,  6.15401946e-02,\n",
      "        -3.31574916e-02,  6.03048368e-02,  4.70547089e-02,\n",
      "        -1.43174517e-02,  4.27617054e-02, -1.39080070e-01,\n",
      "         5.21006721e-03,  8.19371389e-02,  9.26220084e-02,\n",
      "         1.17540695e-01,  7.18282839e-02,  3.92003925e-02,\n",
      "         4.35859048e-02, -3.66972798e-02, -3.27809105e-04,\n",
      "        -4.25083998e-02,  3.49453503e-02, -3.43273181e-02,\n",
      "         4.09517815e-02,  4.15233013e-03,  1.34696650e-01,\n",
      "        -7.98278266e-02],\n",
      "       [-1.10278768e-03, -5.35269643e-04, -1.62177683e-02,\n",
      "         1.29911216e-02,  4.17702655e-03,  7.88365220e-02,\n",
      "         5.85874667e-02,  1.14066859e-01, -8.35292606e-02,\n",
      "         1.30471230e-01,  2.60725342e-02,  2.35067855e-02,\n",
      "         7.38818803e-02,  2.90707989e-02, -1.68315528e-02,\n",
      "        -3.25520613e-02,  5.75483947e-02,  9.42167501e-02,\n",
      "        -1.07159646e-02, -8.95803853e-03, -3.88448198e-02,\n",
      "        -4.04069243e-02, -5.09580423e-02,  7.98886322e-02,\n",
      "         2.91787051e-02,  4.55034763e-02, -9.30782886e-03,\n",
      "        -4.05763717e-02,  1.97807133e-02,  9.46753925e-02,\n",
      "         1.10270305e-02,  1.03181500e-01,  4.98876064e-02,\n",
      "        -2.47565091e-02,  3.72665034e-02, -8.61867565e-02,\n",
      "        -6.53204616e-02,  6.47683988e-02, -2.03107777e-02,\n",
      "         5.67113050e-02, -2.17668302e-02,  3.94396173e-03,\n",
      "        -2.54821185e-02, -3.63814928e-02, -5.21925904e-02,\n",
      "         1.98797441e-02, -4.55527619e-02, -1.17225396e-02,\n",
      "         1.23631233e-02,  9.11312771e-02, -3.15024357e-02,\n",
      "         3.24994547e-02, -1.06032503e-02,  2.52352274e-02,\n",
      "        -8.11771316e-02, -9.50752269e-03,  5.06771946e-02,\n",
      "        -4.90356432e-02,  2.75523287e-02, -9.95973683e-02,\n",
      "         5.59131262e-02, -1.30913123e-01,  7.17962070e-02,\n",
      "        -1.17159066e-02,  3.81468621e-02, -2.18124603e-02,\n",
      "         5.53262100e-02,  2.12324472e-02, -5.02286895e-02,\n",
      "        -8.19766339e-03, -7.29537136e-02, -3.75796487e-03,\n",
      "        -8.80980916e-02, -3.70618455e-02,  7.08112128e-02,\n",
      "        -7.22676918e-02, -3.05902828e-02,  1.87554469e-01,\n",
      "        -6.03880879e-02,  1.45369191e-01,  1.72619028e-02,\n",
      "        -9.07425993e-03, -4.12836427e-02, -2.32972015e-01,\n",
      "         8.78838305e-03,  4.60864239e-02,  1.36632893e-02,\n",
      "        -8.78722697e-02,  9.19503865e-02, -6.96706402e-02,\n",
      "         1.45131817e-01, -8.26058549e-03,  1.82800714e-02,\n",
      "        -2.00719340e-02,  2.07365421e-02,  9.76470730e-03,\n",
      "         1.74471320e-01,  9.06789072e-02,  5.33016795e-02,\n",
      "         8.34714422e-03],\n",
      "       [ 5.35153322e-02, -1.53488050e-02, -1.10658934e-01,\n",
      "        -1.38274650e-01, -2.55039257e-02,  6.17633475e-02,\n",
      "        -1.21558824e-01, -3.23232896e-01,  2.45406029e-01,\n",
      "        -2.46794957e-01,  3.32383557e-02, -1.58090870e-01,\n",
      "        -2.34488118e-01, -2.19021706e-03, -5.47821128e-02,\n",
      "         7.04107375e-02, -1.13314192e-01, -2.91589758e-01,\n",
      "        -1.45269330e-03,  6.49627855e-02,  2.99749973e-02,\n",
      "         4.66180163e-02,  1.33720324e-01, -2.13612549e-01,\n",
      "        -1.19763605e-01,  3.62192375e-02,  7.23536879e-02,\n",
      "         1.58098615e-01, -7.30142775e-02, -1.50980375e-01,\n",
      "        -6.01213737e-02, -2.89575023e-01, -9.79550633e-02,\n",
      "        -1.02754599e-02, -1.21567407e-01, -3.42900556e-02,\n",
      "         1.01043754e-01, -1.77789700e-01, -6.62818935e-02,\n",
      "        -7.61849725e-02,  1.79972760e-01,  1.74451840e-01,\n",
      "         1.46378792e-01,  1.24287628e-01,  3.48720910e-02,\n",
      "        -4.24324562e-02,  2.49313808e-02,  6.70840749e-02,\n",
      "        -4.30689997e-02, -9.36532425e-02,  4.75372776e-02,\n",
      "         1.54419768e-01,  8.12342155e-02,  3.90054911e-02,\n",
      "        -1.83785669e-01, -3.64194709e-02, -1.15850906e-01,\n",
      "         2.80258806e-01, -2.41947143e-01,  1.90280091e-01,\n",
      "        -3.71255435e-01,  2.26527497e-01,  1.08281349e-02,\n",
      "         1.20581183e-01,  1.24322618e-01,  3.20282877e-02,\n",
      "        -2.19331138e-02, -2.52008701e-02, -4.31676486e-02,\n",
      "        -1.53516341e-01,  8.60624654e-02,  1.29910589e-01,\n",
      "         1.47998059e-02,  4.82866926e-02, -6.80307167e-02,\n",
      "         9.73783100e-02, -1.84144834e-02, -1.72686866e-01,\n",
      "         1.05711012e-01, -2.47764304e-01, -1.12273376e-01,\n",
      "         3.32223558e-02, -9.76110360e-02,  3.56448860e-01,\n",
      "        -9.39584925e-02, -2.59847593e-01, -2.76493714e-01,\n",
      "        -3.27825521e-01, -2.32958752e-01, -8.24745789e-02,\n",
      "        -1.68097060e-01,  1.52161033e-01, -1.19476978e-02,\n",
      "         1.45768456e-02, -8.15869762e-02,  5.68787274e-02,\n",
      "        -9.47582340e-02,  2.78955991e-02, -9.70159654e-02,\n",
      "         9.56587089e-03]]), 'intercept': array([ 0.00038317,  0.00075623, -0.00020825, -0.00093114])}\n",
      "self.data={'accuracy_training': 0.8839199624525282, 'confusionMatrix_training': [[0.8536585365853658, 0.13186813186813187, 0.011904761904761904, 0.0], [0.04878048780487805, 0.8241758241758241, 0.13095238095238096, 0.0], [0.0975609756097561, 0.04395604395604396, 0.8571428571428571, 0.0], [0.0, 0.0, 0.0, 1.0]], 'accuracy_val': 0.26358334122541704, 'confusionMatrix_val': [[0.2962962962962963, 0.2, 0.21428571428571427, 0.2], [0.37037037037037035, 0.13333333333333333, 0.17857142857142858, 0.13333333333333333], [0.25925925925925924, 0.3, 0.35714285714285715, 0.4], [0.07407407407407407, 0.36666666666666664, 0.25, 0.26666666666666666]], 'accuracy_test': 0.17548462426719783, 'confusionMatrix_test': [[0.14814814814814814, 0.25806451612903225, 0.3793103448275862, 0.42857142857142855], [0.5185185185185185, 0.0967741935483871, 0.13793103448275862, 0.21428571428571427], [0.18518518518518517, 0.2903225806451613, 0.3103448275862069, 0.21428571428571427], [0.14814814814814814, 0.3548387096774194, 0.1724137931034483, 0.14285714285714285]]}\n"
     ]
    }
   ],
   "source": [
    "print(f'Calculating tracker outputs and saving to {directory_save}...')\n",
    "training_tracker = cu.ModelResults(\n",
    "    directory_save=directory_save,\n",
    "    class_weights=data_splitter.class_weights, # Class Weights\n",
    "    n_train_actual=data_splitter.n_train_actual,\n",
    "    model=({'coef':model._coef, 'intercept':model._intercept})\n",
    ");\n",
    "model.save_eval(data_splitter, training_tracker);"
   ]
  },
  {
   "attachments": {},
   "cell_type": "markdown",
   "metadata": {},
   "source": [
    "# Save Outputs"
   ]
  },
  {
   "cell_type": "code",
   "execution_count": 57,
   "metadata": {},
   "outputs": [
    {
     "name": "stdout",
     "output_type": "stream",
     "text": [
      "Saved model fit results.\n"
     ]
    }
   ],
   "source": [
    "model.save(str((Path(directory_save) / 'model.pkl').resolve()), save_as_serializable_dict=True, allow_overwrite=False,)\n",
    "\n",
    "print(f'Saved model fit results.')"
   ]
  }
 ],
 "metadata": {
  "kernelspec": {
   "display_name": "ROICaT",
   "language": "python",
   "name": "python3"
  },
  "language_info": {
   "codemirror_mode": {
    "name": "ipython",
    "version": 3
   },
   "file_extension": ".py",
   "mimetype": "text/x-python",
   "name": "python",
   "nbconvert_exporter": "python",
   "pygments_lexer": "ipython3",
   "version": "3.9.13"
  }
 },
 "nbformat": 4,
 "nbformat_minor": 2
}
