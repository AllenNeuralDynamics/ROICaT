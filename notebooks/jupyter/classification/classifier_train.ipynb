{
 "cells": [
  {
   "attachments": {},
   "cell_type": "markdown",
   "metadata": {},
   "source": [
    "# Imports"
   ]
  },
  {
   "cell_type": "code",
   "execution_count": 1,
   "metadata": {},
   "outputs": [
    {
     "name": "stderr",
     "output_type": "stream",
     "text": [
      "2023-06-22 15:44:49.738676: I tensorflow/core/platform/cpu_feature_guard.cc:193] This TensorFlow binary is optimized with oneAPI Deep Neural Network Library (oneDNN) to use the following CPU instructions in performance-critical operations:  AVX2 FMA\n",
      "To enable them in other operations, rebuild TensorFlow with the appropriate compiler flags.\n"
     ]
    }
   ],
   "source": [
    "%load_ext autoreload\n",
    "%autoreload 2\n",
    "\n",
    "import sys\n",
    "import time\n",
    "\n",
    "import numpy as np\n",
    "import torch\n",
    "from bnpm import file_helpers, optimization\n",
    "import sklearn.utils.class_weight\n",
    "from torch import nn, optim\n",
    "from tqdm import tqdm\n",
    "import sklearn.linear_model\n",
    "import multiprocessing as mp\n",
    "\n",
    "import roicat.classification.classifier_util as cu\n",
    "import scipy.sparse\n",
    "import roicat\n",
    "import bnpm.h5_handling\n",
    "from pathlib import Path\n",
    "import shutil\n",
    "import warnings\n",
    "import umap\n",
    "\n",
    "import matplotlib.pyplot as plt\n",
    "import matplotlib.offsetbox\n",
    "import json\n",
    "import os\n",
    "import natsort\n",
    "from roicat import helpers\n",
    "# from kymatio.torch import Scattering2D\n",
    "import gc\n",
    "import functools"
   ]
  },
  {
   "attachments": {},
   "cell_type": "markdown",
   "metadata": {},
   "source": [
    "# Initialize Parameters"
   ]
  },
  {
   "cell_type": "code",
   "execution_count": 2,
   "metadata": {},
   "outputs": [],
   "source": [
    "directory_save = Path(r'/Users/josh/analysis/outputs/ROICaT/classification/classifier_train')\n"
   ]
  },
  {
   "cell_type": "code",
   "execution_count": 3,
   "metadata": {},
   "outputs": [],
   "source": [
    "INTEGER_MAX = np.iinfo(np.int64(0).dtype).max\n",
    "directory_save.mkdir(exist_ok=True, parents=True)"
   ]
  },
  {
   "attachments": {},
   "cell_type": "markdown",
   "metadata": {},
   "source": [
    "# Data Importing"
   ]
  },
  {
   "attachments": {},
   "cell_type": "markdown",
   "metadata": {},
   "source": [
    "## Option 1: Use Data Results from Labeling Interactive Outputs"
   ]
  },
  {
   "attachments": {},
   "cell_type": "markdown",
   "metadata": {},
   "source": [
    "### Option 1.A: Labeling Interactive — Specify Directory / Filenames"
   ]
  },
  {
   "cell_type": "code",
   "execution_count": 4,
   "metadata": {},
   "outputs": [],
   "source": [
    "filepath_labellingInteractive = str(Path('/Users/josh/analysis/outputs/ROICaT/classification/labeling_interactive/test.ROICaT.labeling.results.pkl').resolve())"
   ]
  },
  {
   "attachments": {},
   "cell_type": "markdown",
   "metadata": {},
   "source": [
    "### Option 1.B: Labeling Interactive — Find and Load Data"
   ]
  },
  {
   "cell_type": "code",
   "execution_count": 5,
   "metadata": {},
   "outputs": [
    {
     "name": "stdout",
     "output_type": "stream",
     "text": [
      "RH WARNING: No um_per_pixel provided. We recommend making an educated guess. Assuming 1.0 um per pixel. This will affect the embedding results.\n",
      "Starting: Importing ROI images\n",
      "Completed: Imported 1 sessions. Each session has [502] ROIs. Total number of ROIs is 502. The um_per_pixel is 1.0 um per pixel.\n",
      "Starting: Importing class labels\n",
      "Labels and ROI Images match in shapes: Class labels and ROI images have the same number of sessions and the same number of ROIs in each session.\n",
      "Completed: Imported labels for 1 sessions. Each session has [502] class labels. Total number of class labels is 502.\n"
     ]
    },
    {
     "name": "stderr",
     "output_type": "stream",
     "text": [
      "/Users/josh/analysis/github_repos/ROICaT/roicat/util.py:191: UserWarning: RH WARNING: unable to get cpu info. Got error: No module named 'cpuinfo'\n",
      "  warnings.warn(f'RH WARNING: unable to get cpu info. Got error: {e}')\n",
      "/Users/josh/analysis/github_repos/ROICaT/roicat/util.py:210: UserWarning: RH WARNING: unable to get gpu info. Got error: No module named 'GPUtil'\n",
      "  warnings.warn(f'RH WARNING: unable to get gpu info. Got error: {e}')\n"
     ]
    }
   ],
   "source": [
    "labelingInteractive = roicat.helpers.pickle_load(filepath_labellingInteractive)\n",
    "data = roicat.data_importing.Data_roicat();\n",
    "data.set_ROI_images([labelingInteractive['images'][labelingInteractive['labels']['index']]]);\n",
    "data.set_class_labels([labelingInteractive['labels']['label']]);"
   ]
  },
  {
   "attachments": {},
   "cell_type": "markdown",
   "metadata": {},
   "source": [
    "## Option 2: Suite2p Data"
   ]
  },
  {
   "attachments": {},
   "cell_type": "markdown",
   "metadata": {},
   "source": [
    "### Option 2.A: Suite2p — Specify Directory / Filenames"
   ]
  },
  {
   "cell_type": "code",
   "execution_count": null,
   "metadata": {},
   "outputs": [],
   "source": [
    "dir_allOuterFolders = str(Path('/Users/josh/analysis/data/ROICaT/classification/stat_s2p').resolve())\n",
    "pathSuffixToStat = 'stat.npy'\n",
    "pathSuffixToOps = 'ops.npy'\n",
    "pathSuffixToLabels = 'labels_round2_sesh2.npy'"
   ]
  },
  {
   "attachments": {},
   "cell_type": "markdown",
   "metadata": {},
   "source": [
    "### Option 2.B: Suite2p — Find and Load Data"
   ]
  },
  {
   "cell_type": "code",
   "execution_count": null,
   "metadata": {},
   "outputs": [],
   "source": [
    "paths_allStat, paths_allOps, paths_allLabels = helpers.find_paths_requireAll(\n",
    "    dir_outer=dir_allOuterFolders,\n",
    "    filenames=[\n",
    "        pathSuffixToStat,\n",
    "        pathSuffixToOps,\n",
    "        pathSuffixToLabels\n",
    "    ],\n",
    "depth=4,)\n",
    "\n",
    "data = roicat.data_importing.Data_suite2p(\n",
    "    paths_statFiles=paths_allStat,\n",
    "    paths_opsFiles=paths_allOps,\n",
    "    class_labels=[np.load(path_label, allow_pickle=True) for path_label in paths_allLabels],\n",
    "    um_per_pixel=2.0,\n",
    "    new_or_old_suite2p='new',\n",
    "    out_height_width=[36, 36],\n",
    "    type_meanImg='meanImgE',\n",
    "    verbose=True,\n",
    ");"
   ]
  },
  {
   "attachments": {},
   "cell_type": "markdown",
   "metadata": {},
   "source": [
    "## Option 3: Caiman Data"
   ]
  },
  {
   "attachments": {},
   "cell_type": "markdown",
   "metadata": {},
   "source": [
    "### Option 3.A: Caiman — Specify Directory / Filenames"
   ]
  },
  {
   "cell_type": "code",
   "execution_count": null,
   "metadata": {},
   "outputs": [],
   "source": [
    "## TODO: Implement Caiman Data Importing"
   ]
  },
  {
   "attachments": {},
   "cell_type": "markdown",
   "metadata": {},
   "source": [
    "### Option 3.B: Caiman — Find and Load Data"
   ]
  },
  {
   "cell_type": "code",
   "execution_count": null,
   "metadata": {},
   "outputs": [],
   "source": [
    "## TODO: Implement Caiman Data Importing"
   ]
  },
  {
   "attachments": {},
   "cell_type": "markdown",
   "metadata": {},
   "source": [
    "## Option 4: Sparse Raw Image Data"
   ]
  },
  {
   "attachments": {},
   "cell_type": "markdown",
   "metadata": {},
   "source": [
    "### Option 4.A: Raw Images — Specify Directory / Filenames"
   ]
  },
  {
   "cell_type": "code",
   "execution_count": null,
   "metadata": {},
   "outputs": [],
   "source": [
    "dir_allOuterFolders = str(Path('/Users/josh/analysis/data/ROICaT/classification/raw_images').resolve())\n",
    "pathSuffixToROIImages = 'sf_concat_rs_sparse.npz'\n",
    "pathSuffixToLabels = 'labels.npy'"
   ]
  },
  {
   "attachments": {},
   "cell_type": "markdown",
   "metadata": {},
   "source": [
    "### Option 4.B: Raw Images — Find and Load Data"
   ]
  },
  {
   "cell_type": "code",
   "execution_count": null,
   "metadata": {},
   "outputs": [],
   "source": [
    "paths_allROIImages, paths_allLabels = helpers.find_paths_requireAll(\n",
    "    dir_outer=dir_allOuterFolders,\n",
    "    filenames=[\n",
    "        pathSuffixToROIImages,\n",
    "        pathSuffixToLabels,\n",
    "    ],\n",
    "depth=4,)\n",
    "\n",
    "list_ROIImages_sparse = [scipy.sparse.load_npz(filepath_data_rawImages) for filepath_data_rawImages in paths_allROIImages]\n",
    "class_labels = [np.load(filepath_data_labels).astype(int) for filepath_data_labels in paths_allLabels]\n",
    "\n",
    "data = roicat.data_importing.Data_roicat(verbose=True)\n",
    "data.set_ROI_images(\n",
    "    ROI_images=[sf.A.reshape(sf.shape[0], 36, 36) for sf in list_ROIImages_sparse],\n",
    "    um_per_pixel=2.0,\n",
    ")\n",
    "data.set_class_labels(class_labels)"
   ]
  },
  {
   "attachments": {},
   "cell_type": "markdown",
   "metadata": {},
   "source": [
    "# Pass Through Network to Generate Image Latents"
   ]
  },
  {
   "cell_type": "code",
   "execution_count": 6,
   "metadata": {},
   "outputs": [
    {
     "name": "stdout",
     "output_type": "stream",
     "text": [
      "devices available: []\n",
      "no GPU available. Using CPU.\n",
      "File already exists locally: /Users/josh/analysis/models/ROInet.zip\n"
     ]
    },
    {
     "name": "stderr",
     "output_type": "stream",
     "text": [
      "/Users/josh/analysis/github_repos/ROICaT/roicat/util.py:191: UserWarning: RH WARNING: unable to get cpu info. Got error: No module named 'cpuinfo'\n",
      "  warnings.warn(f'RH WARNING: unable to get cpu info. Got error: {e}')\n",
      "/Users/josh/analysis/github_repos/ROICaT/roicat/util.py:210: UserWarning: RH WARNING: unable to get gpu info. Got error: No module named 'GPUtil'\n",
      "  warnings.warn(f'RH WARNING: unable to get gpu info. Got error: {e}')\n"
     ]
    },
    {
     "name": "stdout",
     "output_type": "stream",
     "text": [
      "Hash of local file matches provided hash_hex.\n",
      "Extracting /Users/josh/analysis/models/ROInet.zip to /Users/josh/analysis/models.\n",
      "Completed zip extraction.\n",
      "['/Users/josh/analysis/models/ROInet_classification_20220902', '/Users/josh/analysis/models/ROInet_classification_20220902/ConvNext_tiny__1_0_best__simCLR_wPCA.pth', '/Users/josh/analysis/models/ROInet_classification_20220902/model.py', '/Users/josh/analysis/models/ROInet_classification_20220902/classifier.pkl', '/Users/josh/analysis/models/ROInet_classification_20220902/params.json', '/Users/josh/analysis/models/ROInet_classification_20220902/__pycache__', '/Users/josh/analysis/models/ROInet_classification_20220902/__pycache__/model.cpython-39.pyc']\n",
      "Imported model from /Users/josh/analysis/models/ROInet_classification_20220902/model.py\n",
      "Loaded params_model from /Users/josh/analysis/models/ROInet_classification_20220902/params.json\n"
     ]
    },
    {
     "name": "stderr",
     "output_type": "stream",
     "text": [
      "/Users/josh/opt/anaconda3/envs/ROICaT/lib/python3.9/site-packages/torchvision/models/_utils.py:208: UserWarning: The parameter 'pretrained' is deprecated since 0.13 and will be removed in 0.15, please use 'weights' instead.\n",
      "  warnings.warn(\n",
      "/Users/josh/opt/anaconda3/envs/ROICaT/lib/python3.9/site-packages/torchvision/models/_utils.py:223: UserWarning: Arguments other than a weight enum or `None` for 'weights' are deprecated since 0.13 and will be removed in 0.15. The current behavior is equivalent to passing `weights=ConvNeXt_Tiny_Weights.IMAGENET1K_V1`. You can also use `weights=ConvNeXt_Tiny_Weights.DEFAULT` to get the most up-to-date weights.\n",
      "  warnings.warn(msg)\n"
     ]
    },
    {
     "name": "stdout",
     "output_type": "stream",
     "text": [
      "Generated network using params_model\n",
      "Loaded state_dict into network from /Users/josh/analysis/models/ROInet_classification_20220902/ConvNext_tiny__1_0_best__simCLR_wPCA.pth\n",
      "Loaded network onto device cpu\n",
      "Starting: resizing ROIs\n",
      "Completed: resizing ROIs\n",
      "Defined image transformations: Sequential(\n",
      "  (0): ScaleDynamicRange(scaler_bounds=(0, 1))\n",
      "  (1): Resize(size=(224, 224), interpolation=bilinear, max_size=None, antialias=True)\n",
      "  (2): TileChannels(dim=0)\n",
      ")\n",
      "Defined dataset\n",
      "Defined dataloader\n",
      "starting: running data through network\n"
     ]
    },
    {
     "name": "stderr",
     "output_type": "stream",
     "text": [
      "100%|██████████| 63/63 [01:13<00:00,  1.16s/it]\n"
     ]
    },
    {
     "name": "stdout",
     "output_type": "stream",
     "text": [
      "completed: running data through network\n"
     ]
    }
   ],
   "source": [
    "# Neural network embedding distances\n",
    "roinet = roicat.ROInet.ROInet_embedder(\n",
    "    device=roicat.util.helpers.set_device('cuda:0'),\n",
    "    dir_networkFiles=r\"/Users/josh/analysis/models\",\n",
    "    download_method=\"check_local_first\",\n",
    "    download_url=\"https://osf.io/xwzhp/download\",\n",
    "    download_hash=\"134b170242141c26b0adbd9e0fd80d0e\",\n",
    "    forward_pass_version=\"head\",\n",
    "    verbose=True,\n",
    ")\n",
    "\n",
    "roinet.generate_dataloader(\n",
    "    ROI_images=data.ROI_images,\n",
    "    um_per_pixel=data.um_per_pixel,\n",
    "    pref_plot=False,\n",
    "    batchSize_dataloader=8,\n",
    "    pinMemory_dataloader=True,\n",
    "    numWorkers_dataloader=mp.cpu_count(),\n",
    "    persistentWorkers_dataloader=True,\n",
    "    prefetchFactor_dataloader=2,    \n",
    ");\n",
    "roinet.generate_latents();\n",
    "\n",
    "gc.collect()\n",
    "torch.cuda.empty_cache()\n",
    "gc.collect()\n",
    "torch.cuda.empty_cache()"
   ]
  },
  {
   "attachments": {},
   "cell_type": "markdown",
   "metadata": {},
   "source": [
    "# Train / Validation / Test Split Data, Hyperparameter Tune on Validation Set, and Fit Model"
   ]
  },
  {
   "cell_type": "code",
   "execution_count": 7,
   "metadata": {},
   "outputs": [
    {
     "name": "stderr",
     "output_type": "stream",
     "text": [
      "/Users/josh/opt/anaconda3/envs/ROICaT/lib/python3.9/site-packages/sklearn/linear_model/_logistic.py:444: ConvergenceWarning: lbfgs failed to converge (status=1):\n",
      "STOP: TOTAL NO. of ITERATIONS REACHED LIMIT.\n",
      "\n",
      "Increase the number of iterations (max_iter) or scale the data as shown in:\n",
      "    https://scikit-learn.org/stable/modules/preprocessing.html\n",
      "Please also refer to the documentation for alternative solver options:\n",
      "    https://scikit-learn.org/stable/modules/linear_model.html#logistic-regression\n",
      "  n_iter_i = _check_optimize_result(\n"
     ]
    }
   ],
   "source": [
    "# TODO: JZ, IMPLEMENT AS LOOP FOR OPTUNA FOR HYPERPARAMETER TUNING\n",
    "# Create data splitting object for stratified sampling into train and test sets (as well as downsampling)\n",
    "data_splitter = cu.Datasplit(\n",
    "    features=roinet.latents.cpu().numpy(),\n",
    "    labels=np.concatenate(data.class_labels, axis=0),\n",
    "    n_train=INTEGER_MAX,\n",
    "    val_size=0.2,\n",
    "    test_size=0.2,\n",
    ")\n",
    "\n",
    "# Create lenet model, associated optimizer, loss function, and training tracker\n",
    "model = cu.Classifier(\n",
    "    sklearn.linear_model.LogisticRegression,                      \n",
    "    solver='lbfgs',                      \n",
    "    fit_intercept=True,                      \n",
    "    max_iter=10000,                      \n",
    "    C=1e5,                      \n",
    "    class_weight=data_splitter.dict_class_weights\n",
    ");\n",
    "model.fit(data_splitter.features_train, data_splitter.labels_train);"
   ]
  },
  {
   "cell_type": "code",
   "execution_count": 8,
   "metadata": {},
   "outputs": [
    {
     "name": "stdout",
     "output_type": "stream",
     "text": [
      "Calculating tracker outputs and saving to /Users/josh/analysis/outputs/ROICaT/classification/classifier_train...\n",
      "Saving results:  /Users/josh/analysis/outputs/ROICaT/classification/classifier_train/results_training.csv /Users/josh/analysis/outputs/ROICaT/classification/classifier_train/results_timing.json\n",
      "self.tictoc={}\n",
      "self.model={'coef': array([[-0.00031918, -0.0204018 , -0.00530634,  0.05814678,  0.02840021,\n",
      "        -0.00309238,  0.01647533,  0.00807982,  0.0152512 , -0.04126018,\n",
      "         0.00864298,  0.10024013, -0.02810845, -0.0082666 ,  0.01360647,\n",
      "        -0.00253014,  0.0069552 ,  0.0040184 ,  0.04236059, -0.03728926,\n",
      "         0.00942566,  0.02635264,  0.03377191, -0.00702802, -0.01558957,\n",
      "        -0.00984542,  0.01580523,  0.05130067,  0.00331547, -0.00275494,\n",
      "         0.03161863, -0.01197764,  0.03965136,  0.04142987,  0.01000913,\n",
      "         0.04203891, -0.00431738, -0.00539592,  0.00861832,  0.00460757,\n",
      "        -0.00074163,  0.07118501, -0.01004113, -0.04882371, -0.00381383,\n",
      "        -0.0257169 ,  0.01799157, -0.03110779,  0.01759059,  0.03778102,\n",
      "         0.0077014 ,  0.00439793,  0.00848534,  0.01707636,  0.01637166,\n",
      "         0.00495473,  0.00206668,  0.01433604,  0.03045647,  0.05684986,\n",
      "         0.01364354,  0.03396426, -0.01978999,  0.04004738,  0.00268051,\n",
      "         0.0034484 ,  0.01869182, -0.00042628, -0.00250548, -0.02997623,\n",
      "         0.04531841,  0.0190764 ,  0.02056984, -0.01356553, -0.00311957,\n",
      "        -0.01613348,  0.01188746, -0.005747  , -0.01787036,  0.04028635,\n",
      "        -0.02687481, -0.01362097,  0.00420564, -0.00370682, -0.00719563,\n",
      "         0.02015996,  0.02535861, -0.01979182, -0.00436533,  0.00058411,\n",
      "         0.00455442,  0.01057568, -0.01669279, -0.01275068,  0.01006745,\n",
      "         0.01801189,  0.0065011 ,  0.01153297,  0.10321525, -0.06097523],\n",
      "       [-0.00313   , -0.00185287, -0.00494716, -0.01285917, -0.00274723,\n",
      "         0.0126345 ,  0.00510526,  0.00668443, -0.0121317 ,  0.00297017,\n",
      "         0.00085909,  0.00211506,  0.00679969, -0.00428256,  0.00478921,\n",
      "        -0.00422656,  0.00351975, -0.00062354,  0.01087855, -0.00807692,\n",
      "        -0.00340622,  0.01191898,  0.0079525 , -0.01011491, -0.01420023,\n",
      "        -0.00025335, -0.01067773,  0.00812678,  0.00578453,  0.00694479,\n",
      "         0.00467954,  0.01552409,  0.00995099, -0.00166409, -0.00466177,\n",
      "         0.0126819 ,  0.00429191, -0.00056749,  0.00398981, -0.01309609,\n",
      "        -0.00680423, -0.00544544,  0.00740234, -0.00028695, -0.01370822,\n",
      "        -0.00568512,  0.00196189, -0.01226641,  0.00128629, -0.0146932 ,\n",
      "         0.00757233, -0.01844483, -0.00565779, -0.00654817,  0.0182671 ,\n",
      "        -0.02359494,  0.00247193, -0.00758402, -0.00313396,  0.00088167,\n",
      "         0.02412243,  0.00409557, -0.00804731, -0.01373229, -0.00492273,\n",
      "        -0.00405917,  0.00599656,  0.00099479, -0.00182184,  0.00556037,\n",
      "         0.0153431 ,  0.00538369,  0.00984757, -0.01386881,  0.0155381 ,\n",
      "        -0.00662432, -0.00056819,  0.01535206,  0.00690642,  0.01217118,\n",
      "        -0.0055627 , -0.00427023,  0.02382599, -0.02844529,  0.01591602,\n",
      "         0.02418653,  0.02134155,  0.00898387, -0.0014119 ,  0.00041341,\n",
      "         0.00024626,  0.01709006,  0.00575239, -0.024996  , -0.00021007,\n",
      "         0.00407804,  0.00965399,  0.01193442,  0.09475991, -0.06060692],\n",
      "       [-0.0097635 , -0.00299136, -0.01003793, -0.05157283, -0.03514476,\n",
      "         0.01243089, -0.01200404, -0.01498371, -0.03589131,  0.03127305,\n",
      "        -0.029649  , -0.08511132,  0.03944141,  0.00409264, -0.03262206,\n",
      "        -0.00027712, -0.0117783 , -0.00955868, -0.03346801,  0.02865944,\n",
      "        -0.01610435,  0.00114802, -0.01950063,  0.01066485,  0.00738473,\n",
      "         0.00397036, -0.01541828, -0.02828775, -0.0215304 ,  0.00885011,\n",
      "        -0.02538825,  0.00254147, -0.01190606, -0.04564855, -0.0031542 ,\n",
      "        -0.03259781,  0.01533709,  0.0032467 ,  0.00316894,  0.00996236,\n",
      "        -0.00874046, -0.06754194, -0.00327408,  0.0188105 , -0.00643319,\n",
      "         0.0279414 , -0.01927696, -0.0024749 , -0.04305786, -0.01968007,\n",
      "        -0.01038506, -0.0281455 ,  0.00097859, -0.01545946,  0.00609373,\n",
      "        -0.02343776, -0.00602036, -0.01873676, -0.02470825, -0.07443226,\n",
      "         0.00292352, -0.04227803,  0.00810861, -0.06303196, -0.0251176 ,\n",
      "         0.00944369, -0.01800511, -0.01051351, -0.01730846,  0.02999442,\n",
      "        -0.01491127, -0.00980497,  0.00311322,  0.00285476,  0.02490497,\n",
      "        -0.02109093, -0.0077972 ,  0.05347021,  0.01848721,  0.03016328,\n",
      "         0.01776483, -0.01719447,  0.00958623, -0.0261318 ,  0.02986063,\n",
      "         0.04300498,  0.00474739, -0.02759594,  0.01943944, -0.02444398,\n",
      "         0.02171347,  0.04442706,  0.03239305, -0.02203559, -0.02325421,\n",
      "         0.01387678,  0.05482517, -0.00015232, -0.11509142,  0.09562951],\n",
      "       [ 0.01321268,  0.02524603,  0.02029144,  0.00628521,  0.00949178,\n",
      "        -0.02197302, -0.00957655,  0.00021946,  0.03277181,  0.00701696,\n",
      "         0.02014694, -0.01724387, -0.01813264,  0.00845653,  0.01422638,\n",
      "         0.00703382,  0.00130335,  0.00616381, -0.01977112,  0.01670675,\n",
      "         0.01008491, -0.03941964, -0.02222379,  0.00647808,  0.02240507,\n",
      "         0.00612841,  0.01029078, -0.0311397 ,  0.0124304 , -0.01303995,\n",
      "        -0.01090992, -0.00608793, -0.03769629,  0.00588277, -0.00219315,\n",
      "        -0.022123  , -0.01531161,  0.0027167 , -0.01577707, -0.00147384,\n",
      "         0.01628632,  0.00180238,  0.00591287,  0.03030015,  0.02395524,\n",
      "         0.00346061, -0.0006765 ,  0.0458491 ,  0.02418097, -0.00340775,\n",
      "        -0.00488867,  0.04219239, -0.00380615,  0.00493126, -0.04073249,\n",
      "         0.04207798,  0.00148175,  0.01198474, -0.00261427,  0.01670073,\n",
      "        -0.04068949,  0.00421819,  0.0197287 ,  0.03671687,  0.02735982,\n",
      "        -0.00883292, -0.00668327,  0.009945  ,  0.02163578, -0.00557855,\n",
      "        -0.04575024, -0.01465513, -0.03353064,  0.02457958, -0.0373235 ,\n",
      "         0.04384873, -0.00352207, -0.06307527, -0.00752327, -0.08262082,\n",
      "         0.01467269,  0.03508568, -0.03761786,  0.05828392, -0.03858101,\n",
      "        -0.08735148, -0.05144755,  0.0384039 , -0.01366221,  0.02344646,\n",
      "        -0.02651414, -0.0720928 , -0.02145264,  0.05978227,  0.01339683,\n",
      "        -0.03596671, -0.07098027, -0.02331507, -0.08288374,  0.02595263]]), 'intercept': array([-9.48994995e-04,  6.22610063e-05,  1.00655172e-03, -1.19817735e-04])}\n",
      "   accuracy_training                           confusionMatrix_training  \\\n",
      "0           0.776134  [[0.6951219512195121, 0.10989010989010989, 0.0...   \n",
      "\n",
      "   accuracy_val                                confusionMatrix_val  \\\n",
      "0      0.202481  [[0.25925925925925924, 0.36666666666666664, 0....   \n",
      "\n",
      "   accuracy_test                               confusionMatrix_test  \n",
      "0       0.305054  [[0.18518518518518517, 0.16129032258064516, 0....  \n"
     ]
    },
    {
     "data": {
      "text/plain": [
       "<roicat.classification.classifier_util.TrainingTracker at 0x7fc8499b5070>"
      ]
     },
     "execution_count": 8,
     "metadata": {},
     "output_type": "execute_result"
    }
   ],
   "source": [
    "print(f'Calculating tracker outputs and saving to {directory_save}...')\n",
    "training_tracker = cu.TrainingTracker(\n",
    "    directory_save=directory_save,\n",
    "    class_weights=data_splitter.class_weights, # Class Weights\n",
    "    n_train_actual=data_splitter.n_train_actual,\n",
    "    model=({'coef':model.coef_, 'intercept':model.intercept_})\n",
    ");\n",
    "model.save_eval(data_splitter, training_tracker)"
   ]
  },
  {
   "attachments": {},
   "cell_type": "markdown",
   "metadata": {},
   "source": [
    "# Save Outputs"
   ]
  },
  {
   "cell_type": "code",
   "execution_count": 9,
   "metadata": {},
   "outputs": [],
   "source": [
    "model._verbose = False"
   ]
  },
  {
   "cell_type": "code",
   "execution_count": 10,
   "metadata": {},
   "outputs": [
    {
     "name": "stdout",
     "output_type": "stream",
     "text": [
      "Saved model fit results.\n"
     ]
    }
   ],
   "source": [
    "model.save(str((Path(directory_save) / 'model.pkl').resolve()), save_as_serializable_dict=True, allow_overwrite=False,)\n",
    "\n",
    "print(f'Saved model fit results.')"
   ]
  }
 ],
 "metadata": {
  "kernelspec": {
   "display_name": "ROICaT",
   "language": "python",
   "name": "python3"
  },
  "language_info": {
   "codemirror_mode": {
    "name": "ipython",
    "version": 3
   },
   "file_extension": ".py",
   "mimetype": "text/x-python",
   "name": "python",
   "nbconvert_exporter": "python",
   "pygments_lexer": "ipython3",
   "version": "3.9.13"
  }
 },
 "nbformat": 4,
 "nbformat_minor": 2
}
