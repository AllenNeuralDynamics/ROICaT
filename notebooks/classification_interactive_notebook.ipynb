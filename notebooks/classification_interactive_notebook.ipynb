{
 "cells": [
  {
   "cell_type": "code",
   "execution_count": 1,
   "id": "f86c228c",
   "metadata": {},
   "outputs": [],
   "source": [
    "# To Move into Files...\n",
    "class Data():\n",
    "    def __init__(self):\n",
    "        \n",
    "#         # Import Data\n",
    "\n",
    "#         if Path(path_stat).suffix == '.npz':\n",
    "#             dat = np.load(path_stat)\n",
    "#             images_labeled = scipy.sparse.csr_matrix((dat['data'], dat['indices'], dat['indptr']), shape=dat['shape']).toarray()\n",
    "#             images_labeled = [images_labeled.reshape([-1, 36,36])]\n",
    "\n",
    "#         elif Path(path_stat).suffix == '.npy':\n",
    "\n",
    "#             images_labeled = \\\n",
    "#                 util.import_multiple_stat_files(   \n",
    "#                     paths_statFiles=[path_stat],\n",
    "#                     out_height_width=[36,36],\n",
    "#                     max_footprint_width=241,\n",
    "#                     plot_pref=True\n",
    "#                 )\n",
    "#         else:\n",
    "#             raise ValueError(f'path_stat: {path_stat} is not an npy or npz file.')\n",
    "\n",
    "        return\n",
    "    def import_statFiles(self):\n",
    "        return\n",
    "    def import_labelFiles(self):\n",
    "        return\n",
    "    def clean_labels(self):\n",
    "#         raw_labels = [np.load(path) for path in path_labels]\n",
    "#         # print([_.shape for _ in raw_labels])\n",
    "#         if fig_gen_params['keep_only_matched_labels']:\n",
    "#             consistent_label_idx = np.where(fg.get_consistent_labels(*raw_labels))\n",
    "#             raw_labels_match = [raw_labels[0][consistent_label_idx]]\n",
    "#             images_labeled = [_[consistent_label_idx] for _ in images_labeled]\n",
    "#         else:\n",
    "#         #     raw_labels_match = [raw_labels[0]]\n",
    "#             raw_labels_match = raw_labels\n",
    "#         # print([_.shape for _ in raw_labels2])\n",
    "        return\n",
    "\n",
    "# class ROINet():\n",
    "#     def __init__(self):\n",
    "#         return\n",
    "\n",
    "class Embedder():\n",
    "    def __init__(self):\n",
    "        # Get Embeddings\n",
    "\n",
    "        umap_params = dict(\n",
    "            n_neighbors=30,\n",
    "            n_components=2,\n",
    "            metric='euclidean',\n",
    "            metric_kwds=None,\n",
    "            output_metric='euclidean',\n",
    "            output_metric_kwds=None,\n",
    "            n_epochs=None,\n",
    "            learning_rate=1.0,\n",
    "            init='spectral',\n",
    "            min_dist=0.1,\n",
    "            spread=1.0,\n",
    "            low_memory=True,\n",
    "            n_jobs=-1,\n",
    "            set_op_mix_ratio=1.0,\n",
    "            local_connectivity=1.0,\n",
    "            repulsion_strength=1.0,\n",
    "            negative_sample_rate=5,\n",
    "            transform_queue_size=4.0,\n",
    "            a=None,\n",
    "            b=None,\n",
    "            random_state=None,\n",
    "            angular_rp_forest=False,\n",
    "            target_n_neighbors=-1,\n",
    "            target_metric='categorical',\n",
    "            target_metric_kwds=None,\n",
    "            target_weight=0.5,\n",
    "            transform_seed=42,\n",
    "            transform_mode='embedding',\n",
    "            force_approximation_algorithm=False,\n",
    "            verbose=False,\n",
    "            tqdm_kwds=None,\n",
    "            unique=False,\n",
    "            densmap=False,\n",
    "            dens_lambda=2.0,\n",
    "            dens_frac=0.3,\n",
    "            dens_var_shift=0.1,\n",
    "            output_dens=False,\n",
    "            disconnection_distance=None,\n",
    "            precomputed_knn=(None, None, None),\n",
    "        )\n",
    "\n",
    "        umap = UMAP(**umap_params)\n",
    "        embeddings = umap.fit_transform(features_nn)\n",
    "        return\n",
    "    def fit(self):\n",
    "        return\n",
    "    def transform(self)\n",
    "        return\n",
    "\n",
    "class Classifier():\n",
    "    def __init__(self):\n",
    "        return\n",
    "\n",
    "class Visualization():\n",
    "    def __init__(self):\n",
    "        return"
   ]
  },
  {
   "cell_type": "code",
   "execution_count": null,
   "id": "ae1702dd",
   "metadata": {},
   "outputs": [],
   "source": []
  },
  {
   "cell_type": "markdown",
   "id": "10442d80",
   "metadata": {},
   "source": [
    "# Setup"
   ]
  },
  {
   "cell_type": "code",
   "execution_count": 2,
   "id": "19422400",
   "metadata": {},
   "outputs": [
    {
     "data": {
      "text/html": [
       "<style>.container { width:95% !important; }</style>"
      ],
      "text/plain": [
       "<IPython.core.display.HTML object>"
      ]
     },
     "metadata": {},
     "output_type": "display_data"
    },
    {
     "name": "stdout",
     "output_type": "stream",
     "text": [
      "Conda Environment: jupyter_launcher\n",
      "python version: 3.8.12\n"
     ]
    }
   ],
   "source": [
    "from IPython.display import display, HTML\n",
    "display(HTML(\"<style>.container { width:95% !important; }</style>\"))\n",
    "\n",
    "# check environment\n",
    "import os\n",
    "print(f'Conda Environment: ' + os.environ['CONDA_DEFAULT_ENV'])\n",
    "\n",
    "from platform import python_version\n",
    "print(f'python version: {python_version()}')"
   ]
  },
  {
   "cell_type": "code",
   "execution_count": 3,
   "id": "3e36ab5e",
   "metadata": {},
   "outputs": [
    {
     "name": "stdout",
     "output_type": "stream",
     "text": [
      "Numpy Version: 1.21.0\n"
     ]
    }
   ],
   "source": [
    "%load_ext autoreload\n",
    "%autoreload 2\n",
    "\n",
    "# import importlib.util\n",
    "# import glob\n",
    "# from pathlib import Path\n",
    "# from umap import UMAP\n",
    "# import seaborn as sns\n",
    "# import matplotlib.pyplot as plt\n",
    "# import sklearn\n",
    "# from sklearn.model_selection import train_test_split, ShuffleSplit, StratifiedShuffleSplit\n",
    "# import scipy.stats\n",
    "# import scipy.signal\n",
    "# from kymatio import Scattering2D\n",
    "# import json\n",
    "import numpy as np\n",
    "# import torchvision\n",
    "# import torch\n",
    "# from tqdm.notebook import tqdm, trange\n",
    "# import sys\n",
    "# import pickle\n",
    "# # import pandas as pd\n",
    "# import shutil\n",
    "# import h5py\n",
    "# import figgen as fg\n",
    "# import sys\n",
    "# from pathlib import Path\n",
    "\n",
    "print('Numpy Version:', np.__version__)\n",
    "# print('TorchVision Version:',torchvision.__version__)"
   ]
  },
  {
   "cell_type": "markdown",
   "id": "7301ed15",
   "metadata": {},
   "source": [
    "# Import Paths"
   ]
  },
  {
   "cell_type": "code",
   "execution_count": null,
   "id": "54c375e6",
   "metadata": {},
   "outputs": [],
   "source": [
    "def spr(*directory_list):\n",
    "    for dir_num, directory in enumerate(directory_list):\n",
    "        if dir_num == 0:\n",
    "            full_directory = Path(directory)\n",
    "        else:\n",
    "            full_directory = full_directory / directory\n",
    "    return str(full_directory.resolve())"
   ]
  },
  {
   "cell_type": "code",
   "execution_count": null,
   "id": "dc974c08",
   "metadata": {},
   "outputs": [],
   "source": []
  },
  {
   "cell_type": "markdown",
   "id": "b15903f8",
   "metadata": {},
   "source": [
    "# Import Data"
   ]
  },
  {
   "cell_type": "code",
   "execution_count": null,
   "id": "4179f95c",
   "metadata": {},
   "outputs": [],
   "source": [
    "data = data_importing.Data_suite2p(\n",
    "    paths_statFiles=paths_allStats,\n",
    "    paths_labelFiles=paths_allLabels,\n",
    "    um_per_pixel=2.0,\n",
    "    new_or_old_suite2p='new',\n",
    "    verbose=True,\n",
    ")\n",
    "\n",
    "data.import_statFiles();\n",
    "data.import_labelFiles();\n",
    "\n",
    "# data.import_ROI_spatialFootprints(workers=-1);"
   ]
  },
  {
   "cell_type": "code",
   "execution_count": null,
   "id": "0f605f88",
   "metadata": {},
   "outputs": [],
   "source": [
    "%matplotlib notebook\n",
    "\n",
    "# From ROICaT\n",
    "visualization.display_toggle_image_stack(np.concatenate(data.ROI_images, axis=0))"
   ]
  },
  {
   "cell_type": "code",
   "execution_count": null,
   "id": "0919969f",
   "metadata": {},
   "outputs": [],
   "source": [
    "toc['import_data'] = time.time() - tic"
   ]
  },
  {
   "cell_type": "markdown",
   "id": "30a31056",
   "metadata": {},
   "source": [
    "###### Alignment"
   ]
  },
  {
   "cell_type": "code",
   "execution_count": null,
   "id": "a2d1a134",
   "metadata": {},
   "outputs": [],
   "source": []
  },
  {
   "cell_type": "markdown",
   "id": "8c1acec3",
   "metadata": {},
   "source": [
    "# Concatenate / Adjust / Clean Data"
   ]
  },
  {
   "cell_type": "code",
   "execution_count": null,
   "id": "38fc41a7",
   "metadata": {},
   "outputs": [],
   "source": []
  },
  {
   "cell_type": "markdown",
   "id": "d42f1071",
   "metadata": {},
   "source": [
    "# Adjust Labels"
   ]
  },
  {
   "cell_type": "code",
   "execution_count": null,
   "id": "1a2ffac0",
   "metadata": {},
   "outputs": [],
   "source": []
  },
  {
   "cell_type": "markdown",
   "id": "4083c81c",
   "metadata": {},
   "source": [
    "# Drop Non-Nans"
   ]
  },
  {
   "cell_type": "code",
   "execution_count": null,
   "id": "03579755",
   "metadata": {},
   "outputs": [],
   "source": []
  },
  {
   "cell_type": "markdown",
   "id": "0ab5f532",
   "metadata": {},
   "source": [
    "# Neural Network Embeddings"
   ]
  },
  {
   "cell_type": "code",
   "execution_count": null,
   "id": "e4d1df34",
   "metadata": {},
   "outputs": [],
   "source": [
    "hash_dict_true = {\n",
    "    'params': ('params.json', '68cf1bd47130f9b6d4f9913f86f0ccaa'),\n",
    "    'model': ('model.py', '61c85529b7aa33e0dfadb31ee253a7e1'),\n",
    "    'state_dict': ('ConvNext_tiny__1_0_best__simCLR.pth', '3287e001ff28d07ada2ae70aa7d0a4da'),\n",
    "}\n",
    "\n",
    "roinet = ROInet.ROInet_embedder(\n",
    "    device='cuda:0',\n",
    "#     dir_networkFiles='/home/rich/Downloads/ROInet',\n",
    "    dir_networkFiles='/n/data1/hms/neurobio/sabatini/josh/analysis/roinet-paper/ROICaT',\n",
    "    \n",
    "#     download_from_gDrive='force_download',\n",
    "#     download_from_gDrive='force_local',\n",
    "    download_from_gDrive='check_local_first',\n",
    "    gDriveID='1D2Qa-YUNX176Q-wgboGflW0K6un7KYeN',\n",
    "    hash_dict_networkFiles=hash_dict_true,\n",
    "#     hash_dict_networkFiles=None,\n",
    "    forward_pass_version='latent',\n",
    "    verbose=True,\n",
    ")\n",
    "\n",
    "roinet.generate_dataloader(\n",
    "    ROI_images=data.ROI_images,\n",
    "    um_per_pixel=data.um_per_pixel,\n",
    "    pref_plot=False,\n",
    "    batchSize_dataloader=8,\n",
    "    pinMemory_dataloader=True,\n",
    "    numWorkers_dataloader=mp.cpu_count(),\n",
    "    persistentWorkers_dataloader=True,\n",
    "    prefetchFactor_dataloader=2,    \n",
    ");\n",
    "\n",
    "roinet.generate_latents();"
   ]
  },
  {
   "cell_type": "code",
   "execution_count": null,
   "id": "bfe63f07",
   "metadata": {},
   "outputs": [],
   "source": [
    "gc.collect()\n",
    "torch.cuda.empty_cache()\n",
    "gc.collect()\n",
    "torch.cuda.empty_cache()"
   ]
  },
  {
   "cell_type": "code",
   "execution_count": null,
   "id": "035494be",
   "metadata": {},
   "outputs": [],
   "source": [
    "toc['NN'] = time.time() - tic"
   ]
  },
  {
   "cell_type": "markdown",
   "id": "48208fa5",
   "metadata": {},
   "source": [
    "# Relabel CM"
   ]
  },
  {
   "cell_type": "code",
   "execution_count": null,
   "id": "d9c40f8b",
   "metadata": {},
   "outputs": [],
   "source": []
  },
  {
   "cell_type": "markdown",
   "id": "a1590728",
   "metadata": {},
   "source": [
    "# Setup Model"
   ]
  },
  {
   "cell_type": "code",
   "execution_count": null,
   "id": "2c4fc959",
   "metadata": {},
   "outputs": [],
   "source": []
  },
  {
   "cell_type": "markdown",
   "id": "6a5c7b85",
   "metadata": {},
   "source": [
    "# PCA"
   ]
  },
  {
   "cell_type": "code",
   "execution_count": null,
   "id": "97205953",
   "metadata": {},
   "outputs": [],
   "source": []
  },
  {
   "cell_type": "markdown",
   "id": "65c7397f",
   "metadata": {},
   "source": [
    "# Train/Holdout Split"
   ]
  },
  {
   "cell_type": "code",
   "execution_count": null,
   "id": "af582cf1",
   "metadata": {},
   "outputs": [],
   "source": []
  },
  {
   "cell_type": "markdown",
   "id": "a518c850",
   "metadata": {},
   "source": [
    "# Shuffle Split"
   ]
  },
  {
   "cell_type": "code",
   "execution_count": null,
   "id": "cb025cf3",
   "metadata": {},
   "outputs": [],
   "source": []
  },
  {
   "cell_type": "markdown",
   "id": "d87d3cc9",
   "metadata": {},
   "source": [
    "# Train'/Val Extract"
   ]
  },
  {
   "cell_type": "code",
   "execution_count": null,
   "id": "dfd57c74",
   "metadata": {},
   "outputs": [],
   "source": []
  },
  {
   "cell_type": "markdown",
   "id": "7e9770f1",
   "metadata": {},
   "source": [
    "# Get Embeddings"
   ]
  },
  {
   "cell_type": "code",
   "execution_count": null,
   "id": "34167e95",
   "metadata": {},
   "outputs": [],
   "source": []
  },
  {
   "cell_type": "code",
   "execution_count": null,
   "id": "67e676af",
   "metadata": {},
   "outputs": [],
   "source": [
    "FOV_clusters = visualization.compute_colored_FOV(\n",
    "    spatialFootprints=[r.power(0.7) for r in aligner.ROIs_aligned],\n",
    "    FOV_height=data.FOV_height,\n",
    "    FOV_width=data.FOV_width,\n",
    "    boolSessionID=data.sessionID_concat,\n",
    "    labels=labels,\n",
    "    confidence=None,\n",
    ")"
   ]
  },
  {
   "cell_type": "code",
   "execution_count": null,
   "id": "afb840d9",
   "metadata": {},
   "outputs": [],
   "source": [
    "%matplotlib notebook\n",
    "visualization.display_toggle_image_stack(\n",
    "    FOV_clusters, \n",
    "#     interpolation='none', \n",
    "#     filternorm=False, \n",
    "#     resample=False\n",
    ")"
   ]
  },
  {
   "cell_type": "code",
   "execution_count": null,
   "id": "ae5f3a2c",
   "metadata": {},
   "outputs": [],
   "source": [
    "%matplotlib notebook\n",
    "\n",
    "_, counts = np.unique(labels, return_counts=True)\n",
    "\n",
    "plt.figure()\n",
    "plt.hist(counts, 30, range=(0, data.n_sessions+1));"
   ]
  },
  {
   "cell_type": "code",
   "execution_count": null,
   "id": "c42b5a44",
   "metadata": {},
   "outputs": [],
   "source": [
    "toc['visualize'] = time.time() - tic"
   ]
  },
  {
   "cell_type": "markdown",
   "id": "3e1ba5b8",
   "metadata": {},
   "source": [
    "# Save Results"
   ]
  },
  {
   "cell_type": "code",
   "execution_count": null,
   "id": "706de208",
   "metadata": {},
   "outputs": [],
   "source": [
    "# dir_save = Path('/home/rich/Desktop/').resolve()\n",
    "dir_save = Path('/n/data1/hms/neurobio/sabatini/josh/analysis/roinet-paper/ROICaT/output/').resolve()\n",
    "name_save = dir_allOuterFolders.name\n",
    "path_save = dir_save / (name_save + '.ROICaT.results' + '.pkl')\n",
    "\n",
    "ROIs = {\n",
    "    \"ROIs_aligned\": aligner.ROIs_aligned,\n",
    "    \"ROIs_raw\": data.spatialFootprints,\n",
    "    \"frame_height\": data.FOV_height,\n",
    "    \"frame_width\": data.FOV_width,\n",
    "    \"idx_roi_session\": np.where(data.sessionID_concat)[1]\n",
    "}\n",
    "\n",
    "results = {\n",
    "    \"UCIDs\": labels,\n",
    "    \"UCIDs_bySession\": labels_bySession,\n",
    "    \"ROIs\": ROIs,\n",
    "}\n",
    "\n",
    "helpers.simple_save(\n",
    "    obj=results,\n",
    "    filename=path_save,\n",
    "    mkdir=True,\n",
    ")"
   ]
  },
  {
   "cell_type": "code",
   "execution_count": null,
   "id": "6671da53",
   "metadata": {},
   "outputs": [],
   "source": [
    "toc['saving'] = time.time() - tic"
   ]
  },
  {
   "cell_type": "code",
   "execution_count": null,
   "id": "b60d4550",
   "metadata": {},
   "outputs": [],
   "source": [
    "toc"
   ]
  },
  {
   "cell_type": "code",
   "execution_count": 2,
   "id": "1143fff8",
   "metadata": {},
   "outputs": [],
   "source": [
    "# Sweep through regularizations for classifier\n",
    "\n",
    "    # Sweep Through Shuffle Splits\n",
    "\n",
    "    # Refitting model to all of training / CV data and evaluating on heldout data\n",
    "\n",
    "            # Refitting model to n_train data points from training data / and evaluating on heldout data\n"
   ]
  }
 ],
 "metadata": {
  "kernelspec": {
   "display_name": "Python 3",
   "language": "python",
   "name": "python3"
  },
  "language_info": {
   "codemirror_mode": {
    "name": "ipython",
    "version": 3
   },
   "file_extension": ".py",
   "mimetype": "text/x-python",
   "name": "python",
   "nbconvert_exporter": "python",
   "pygments_lexer": "ipython3",
   "version": "3.8.12"
  },
  "varInspector": {
   "cols": {
    "lenName": 16,
    "lenType": 16,
    "lenVar": 40
   },
   "kernels_config": {
    "python": {
     "delete_cmd_postfix": "",
     "delete_cmd_prefix": "del ",
     "library": "var_list.py",
     "varRefreshCmd": "print(var_dic_list())"
    },
    "r": {
     "delete_cmd_postfix": ") ",
     "delete_cmd_prefix": "rm(",
     "library": "var_list.r",
     "varRefreshCmd": "cat(var_dic_list()) "
    }
   },
   "types_to_exclude": [
    "module",
    "function",
    "builtin_function_or_method",
    "instance",
    "_Feature"
   ],
   "window_display": false
  }
 },
 "nbformat": 4,
 "nbformat_minor": 5
}
