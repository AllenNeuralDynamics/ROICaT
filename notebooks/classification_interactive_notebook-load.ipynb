{
 "cells": [
  {
   "cell_type": "markdown",
   "id": "db3ae2f7",
   "metadata": {},
   "source": [
    "# Setup"
   ]
  },
  {
   "cell_type": "code",
   "execution_count": 1,
   "id": "97949d9d",
   "metadata": {},
   "outputs": [
    {
     "data": {
      "text/html": [
       "<style>.container { width:95% !important; }</style>"
      ],
      "text/plain": [
       "<IPython.core.display.HTML object>"
      ]
     },
     "metadata": {},
     "output_type": "display_data"
    },
    {
     "name": "stdout",
     "output_type": "stream",
     "text": [
      "Conda Environment: ROI_env\n",
      "python version: 3.8.12\n"
     ]
    }
   ],
   "source": [
    "from IPython.display import display, HTML\n",
    "display(HTML(\"<style>.container { width:95% !important; }</style>\"))\n",
    "\n",
    "# check environment\n",
    "import os\n",
    "print(f'Conda Environment: ' + os.environ['CONDA_DEFAULT_ENV'])\n",
    "\n",
    "from platform import python_version\n",
    "print(f'python version: {python_version()}')"
   ]
  },
  {
   "cell_type": "code",
   "execution_count": 2,
   "id": "3e36ab5e",
   "metadata": {},
   "outputs": [
    {
     "name": "stdout",
     "output_type": "stream",
     "text": [
      "Numpy Version: 1.20.3\n"
     ]
    }
   ],
   "source": [
    "%load_ext autoreload\n",
    "%autoreload 2\n",
    "\n",
    "import importlib.util\n",
    "import glob\n",
    "import pathlib\n",
    "from pathlib import Path\n",
    "from umap import UMAP\n",
    "import seaborn as sns\n",
    "import matplotlib.pyplot as plt\n",
    "from sklearn.model_selection import train_test_split, ShuffleSplit, StratifiedShuffleSplit\n",
    "import scipy.stats\n",
    "import scipy.signal\n",
    "from kymatio import Scattering2D\n",
    "import json\n",
    "import torchvision\n",
    "import torch\n",
    "from tqdm.notebook import tqdm, trange\n",
    "import sys\n",
    "import pickle\n",
    "import pandas as pd\n",
    "import shutil\n",
    "import h5py\n",
    "# import figgen as fg\n",
    "import sys\n",
    "import time\n",
    "import gc\n",
    "import numpy as np\n",
    "\n",
    "print('Numpy Version:', np.__version__)\n",
    "# print('TorchVision Version:',torchvision.__version__)\n",
    "\n",
    "dir_github = Path(r'/Users/josh/Documents/github_repos/').resolve()\n",
    "# dir_github = Path(r'/n/data1/hms/neurobio/sabatini/josh/github_repos/').resolve()\n",
    "\n",
    "import sys\n",
    "sys.path.append(str(dir_github))\n",
    "\n",
    "from ROICaT.roicat import helpers, ROInet\n",
    "# from ROICaT.roicat.tracking import data_importing, visualization, alignment, blurring, ROInet, scatteringWaveletTransformer, similarity_graph, clustering\n",
    "from ROICaT.roicat.classification import data, evaluate, visualize, pipeline\n",
    "import multiprocessing as mp"
   ]
  },
  {
   "cell_type": "code",
   "execution_count": 3,
   "id": "72274363",
   "metadata": {},
   "outputs": [],
   "source": [
    "tic = time.time()\n",
    "toc = {}\n",
    "toc['start'] = time.time() - tic"
   ]
  },
  {
   "cell_type": "markdown",
   "id": "e8673d43",
   "metadata": {},
   "source": [
    "# Import Paths"
   ]
  },
  {
   "cell_type": "code",
   "execution_count": 4,
   "id": "54c375e6",
   "metadata": {},
   "outputs": [],
   "source": [
    "def spr(*directory_list):\n",
    "    for dir_num, directory in enumerate(directory_list):\n",
    "        if dir_num == 0:\n",
    "            full_directory = Path(directory)\n",
    "        else:\n",
    "            full_directory = full_directory / directory\n",
    "    return str(full_directory.resolve())"
   ]
  },
  {
   "cell_type": "code",
   "execution_count": 5,
   "id": "c7f6d2b0",
   "metadata": {},
   "outputs": [],
   "source": [
    "def print_list(l):\n",
    "    for item in l:\n",
    "        print(item)"
   ]
  },
  {
   "cell_type": "code",
   "execution_count": 6,
   "id": "bcc7d099",
   "metadata": {},
   "outputs": [],
   "source": [
    "# dir_allOuterFolders = Path(r\"/media/rich/bigSSD/other lab data/Harnett_lab/ROI_Tracking/Vincent_Valerio/4th_email/AllStatFiles/rbp16\").resolve()\n",
    "# # dir_allOuterFolders = Path(r\"/media/rich/bigSSD/res2p/scanimage data/round 5 experiments/mouse 2_6/just_stat_files\").resolve()\n",
    "\n",
    "# folders_allSessions = natsort.natsorted(helpers.get_dir_contents(dir_allOuterFolders)[0])\n",
    "\n",
    "# dir_allS2pFolders = [dir_allOuterFolders / folder for folder in folders_allSessions]\n",
    "\n",
    "# pathSuffixToStat = 'plane0/stat.npy'\n",
    "# pathSuffixToOps = 'plane0/ops.npy'\n",
    "# # pathSuffixToStat = 'stat.npy'\n",
    "# # pathSuffixToOps = 'ops.npy'\n",
    "\n",
    "# paths_allStat = np.array([path / pathSuffixToStat for path in dir_allS2pFolders])[:]\n",
    "# paths_allOps  = np.array([path / pathSuffixToOps for path in dir_allS2pFolders])[:]\n",
    "# # paths_allStat = np.array([path / pathSuffixToStat for path in dir_allS2pFolders])\n",
    "# # paths_allOps  = np.array([path / pathSuffixToOps for path in dir_allS2pFolders])\n",
    "\n",
    "# print(f'folder names of all sessions: \\n{folders_allSessions}')\n",
    "# print(f'paths to all stat files: \\n{paths_allStat}')\n",
    "\n",
    "\n",
    "# ---------------------------------------\n",
    "# || Specify Raw Data Filename Sources ||\n",
    "# ---------------------------------------\n",
    "stat_files = spr('/n/data1/hms/neurobio/sabatini/josh/github_repos/GCaMP_ROI_classifier/data/training/mouse2_6__20210409/stat.npy')\n",
    "label_files = spr('/n/data1/hms/neurobio/sabatini/josh/github_repos/GCaMP_ROI_classifier/data/training/mouse2_6__20210409/labels_round2_sesh2.npy')"
   ]
  },
  {
   "cell_type": "markdown",
   "id": "8d01ca7b",
   "metadata": {},
   "source": [
    "# Import Data"
   ]
  },
  {
   "cell_type": "code",
   "execution_count": 7,
   "id": "4179f95c",
   "metadata": {},
   "outputs": [
    {
     "name": "stdout",
     "output_type": "stream",
     "text": [
      "Starting: Importing spatial footprints from stat files\n",
      "Completed: Imported 4898 stat files into class as self.statFiles. Total number of ROIs: 4898. Number of ROI from each file: [4898]\n",
      "Starting: Importing labels footprints from npy files\n",
      "Completed: Imported 4898 labels into class as self.labelFiles. Total number of ROIs: 4898. Number of ROI from each file: [4898]\n"
     ]
    }
   ],
   "source": [
    "dat = data.Data(\n",
    "    paths_statFiles=stat_files,\n",
    "    paths_labelFiles=label_files,\n",
    "    um_per_pixel=1.0,\n",
    "    verbose=True,\n",
    ")\n",
    "\n",
    "dat.import_statFiles();\n",
    "dat.import_labelFiles();\n",
    "\n",
    "# data.import_ROI_spatialFootprints(workers=-1);"
   ]
  },
  {
   "cell_type": "code",
   "execution_count": 8,
   "id": "475e8b9b",
   "metadata": {},
   "outputs": [],
   "source": []
  },
  {
   "cell_type": "code",
   "execution_count": 6,
   "id": "e8363c11",
   "metadata": {},
   "outputs": [],
   "source": [
    "# %matplotlib notebook\n",
    "\n",
    "# # From ROICaT\n",
    "# visualization.display_toggle_image_stack(np.concatenate(data.ROI_images, axis=0))"
   ]
  },
  {
   "cell_type": "code",
   "execution_count": 7,
   "id": "e5a179d1",
   "metadata": {},
   "outputs": [],
   "source": [
    "toc['import_data'] = time.time() - tic"
   ]
  },
  {
   "cell_type": "markdown",
   "id": "83365f09",
   "metadata": {},
   "source": [
    "# Concatenate / Adjust / Clean Data + Drop Non-Nans"
   ]
  },
  {
   "cell_type": "code",
   "execution_count": 8,
   "id": "ff4c6f22",
   "metadata": {},
   "outputs": [
    {
     "ename": "NameError",
     "evalue": "name 'dat' is not defined",
     "output_type": "error",
     "traceback": [
      "\u001b[0;31m---------------------------------------------------------------------------\u001b[0m",
      "\u001b[0;31mNameError\u001b[0m                                 Traceback (most recent call last)",
      "Input \u001b[0;32mIn [8]\u001b[0m, in \u001b[0;36m<cell line: 1>\u001b[0;34m()\u001b[0m\n\u001b[0;32m----> 1\u001b[0m \u001b[43mdat\u001b[49m\u001b[38;5;241m.\u001b[39mdrop_nan_rois()\n",
      "\u001b[0;31mNameError\u001b[0m: name 'dat' is not defined"
     ]
    }
   ],
   "source": [
    "dat.drop_nan_rois();"
   ]
  },
  {
   "cell_type": "markdown",
   "id": "232dd31e",
   "metadata": {},
   "source": [
    "# Neural Network Embeddings"
   ]
  },
  {
   "cell_type": "code",
   "execution_count": 12,
   "id": "c4ea0ce5",
   "metadata": {},
   "outputs": [
    {
     "name": "stdout",
     "output_type": "stream",
     "text": [
      "Successful hash comparison. Found matching files: {'params': '/n/data1/hms/neurobio/sabatini/josh/analysis/roinet-paper/ROICaT/params.json', 'model': '/n/data1/hms/neurobio/sabatini/josh/analysis/roinet-paper/ROICaT/model.py', 'state_dict': '/n/data1/hms/neurobio/sabatini/josh/analysis/roinet-paper/ROICaT/ConvNext_tiny__1_0_best__simCLR.pth'}\n",
      "Imported model from /n/data1/hms/neurobio/sabatini/josh/analysis/roinet-paper/ROICaT/model.py\n",
      "Loaded params_model from /n/data1/hms/neurobio/sabatini/josh/analysis/roinet-paper/ROICaT/params.json\n",
      "Generated network using params_model\n",
      "Loaded state_dict into network from /n/data1/hms/neurobio/sabatini/josh/analysis/roinet-paper/ROICaT/ConvNext_tiny__1_0_best__simCLR.pth\n",
      "Loaded network onto device cuda:0\n",
      "Starting: resizing ROIs\n"
     ]
    },
    {
     "name": "stderr",
     "output_type": "stream",
     "text": [
      "100%|██████████| 1/1 [00:00<00:00,  2.12it/s]\n",
      "/home/joz608/.conda/envs/ROI_env/lib/python3.8/site-packages/torch/utils/data/dataloader.py:487: UserWarning: This DataLoader will create 48 worker processes in total. Our suggested max number of worker in current system is 16, which is smaller than what this DataLoader is going to create. Please be aware that excessive worker creation might get DataLoader running slow or even freeze, lower the worker number to avoid potential slowness/freeze if necessary.\n",
      "  warnings.warn(_create_warning_msg(\n"
     ]
    },
    {
     "name": "stdout",
     "output_type": "stream",
     "text": [
      "Completed: resizing ROIs\n",
      "Defined image transformations: Sequential(\n",
      "  (0): ScaleDynamicRange(scaler_bounds=(0, 1))\n",
      "  (1): Resize(size=(224, 224), interpolation=bilinear, max_size=None, antialias=None)\n",
      "  (2): TileChannels(dim=0)\n",
      ")\n",
      "Defined dataset\n",
      "Defined dataloader\n",
      "starting: running data through network\n"
     ]
    },
    {
     "name": "stderr",
     "output_type": "stream",
     "text": [
      "100%|██████████| 613/613 [00:12<00:00, 49.75it/s]"
     ]
    },
    {
     "name": "stdout",
     "output_type": "stream",
     "text": [
      "completed: running data through network\n"
     ]
    },
    {
     "name": "stderr",
     "output_type": "stream",
     "text": [
      "\n"
     ]
    }
   ],
   "source": [
    "hash_dict_true = {\n",
    "    'params': ('params.json', '68cf1bd47130f9b6d4f9913f86f0ccaa'),\n",
    "    'model': ('model.py', '61c85529b7aa33e0dfadb31ee253a7e1'),\n",
    "    'state_dict': ('ConvNext_tiny__1_0_best__simCLR.pth', '3287e001ff28d07ada2ae70aa7d0a4da'),\n",
    "}\n",
    "\n",
    "roinet = ROInet.ROInet_embedder(\n",
    "    device='cuda:0',\n",
    "#     dir_networkFiles='/home/rich/Downloads/ROInet',\n",
    "    dir_networkFiles='/n/data1/hms/neurobio/sabatini/josh/analysis/roinet-paper/ROICaT',\n",
    "    \n",
    "#     download_from_gDrive='force_download',\n",
    "#     download_from_gDrive='force_local',\n",
    "    download_from_gDrive='check_local_first',\n",
    "    gDriveID='1D2Qa-YUNX176Q-wgboGflW0K6un7KYeN',\n",
    "    hash_dict_networkFiles=hash_dict_true,\n",
    "#     hash_dict_networkFiles=None,\n",
    "    forward_pass_version='latent',\n",
    "    verbose=True,\n",
    ")\n",
    "\n",
    "roinet.generate_dataloader(\n",
    "    ROI_images=[dat.statFiles],\n",
    "    um_per_pixel=dat.um_per_pixel,\n",
    "    pref_plot=False,\n",
    "    batchSize_dataloader=8,\n",
    "    pinMemory_dataloader=True,\n",
    "    numWorkers_dataloader=mp.cpu_count(),\n",
    "    persistentWorkers_dataloader=True,\n",
    "    prefetchFactor_dataloader=2,    \n",
    ");\n",
    "\n",
    "roinet.generate_latents();\n",
    "\n",
    "# roinet.latents\n",
    "# roinet.dataset\n",
    "# roinet.net\n",
    "# roinet.params_model"
   ]
  },
  {
   "cell_type": "code",
   "execution_count": 11,
   "id": "b14446a6",
   "metadata": {},
   "outputs": [],
   "source": [
    "# latents = (roinet.latents)\n",
    "# labelFiles = dat.labelFiles\n",
    "\n",
    "latents = np.load('/Users/josh/Downloads/data_backup_save/latents.npy')\n",
    "labelFiles = np.load('/Users/josh/Downloads/data_backup_save/labelFiles.npy')"
   ]
  },
  {
   "cell_type": "code",
   "execution_count": 12,
   "id": "a6f43741",
   "metadata": {},
   "outputs": [],
   "source": [
    "# np.load('/n/data1/hms/neurobio/sabatini/josh/analysis/data_backup_save/latents.npy')"
   ]
  },
  {
   "cell_type": "raw",
   "id": "1c20ef0c",
   "metadata": {},
   "source": [
    "#         raw_images = roinet.ROI_images_rs\n",
    "#         raw_images_dup = np.concatenate([raw_images for _ in range(len(raw_labels_match))], axis=0)\n",
    "\n",
    "#         self.latents = roinet.latents\n",
    "#         latents_dup = np.concatenate([latents for _ in range(len(raw_labels_match))], axis=0)"
   ]
  },
  {
   "cell_type": "code",
   "execution_count": 13,
   "id": "1419d5e9",
   "metadata": {},
   "outputs": [],
   "source": [
    "gc.collect()\n",
    "torch.cuda.empty_cache()\n",
    "gc.collect()\n",
    "torch.cuda.empty_cache()"
   ]
  },
  {
   "cell_type": "code",
   "execution_count": 14,
   "id": "6cb8a9cd",
   "metadata": {},
   "outputs": [],
   "source": [
    "toc['NN'] = time.time() - tic"
   ]
  },
  {
   "cell_type": "markdown",
   "id": "4e6500d0",
   "metadata": {},
   "source": [
    "# UMAP Embeddings"
   ]
  },
  {
   "cell_type": "code",
   "execution_count": 15,
   "id": "d211e599",
   "metadata": {},
   "outputs": [
    {
     "name": "stdout",
     "output_type": "stream",
     "text": [
      "Fitting UMAP...\n"
     ]
    },
    {
     "name": "stderr",
     "output_type": "stream",
     "text": [
      "OMP: Info #273: omp_set_nested routine deprecated, please use omp_set_max_active_levels instead.\n"
     ]
    },
    {
     "name": "stdout",
     "output_type": "stream",
     "text": [
      "Generating Embeddings...\n",
      "Embeddings Generated...\n"
     ]
    }
   ],
   "source": [
    "umap_params = dict(\n",
    "    n_neighbors=30,\n",
    "    n_components=2,\n",
    "    metric='euclidean',\n",
    "    metric_kwds=None,\n",
    "    output_metric='euclidean',\n",
    "    output_metric_kwds=None,\n",
    "    n_epochs=None,\n",
    "    learning_rate=1.0,\n",
    "    init='spectral',\n",
    "    min_dist=0.1,\n",
    "    spread=1.0,\n",
    "    low_memory=True,\n",
    "    n_jobs=-1,\n",
    "    set_op_mix_ratio=1.0,\n",
    "    local_connectivity=1.0,\n",
    "    repulsion_strength=1.0,\n",
    "    negative_sample_rate=5,\n",
    "    transform_queue_size=4.0,\n",
    "    a=None,\n",
    "    b=None,\n",
    "    random_state=None,\n",
    "    angular_rp_forest=False,\n",
    "    target_n_neighbors=-1,\n",
    "    target_metric='categorical',\n",
    "    target_metric_kwds=None,\n",
    "    target_weight=0.5,\n",
    "    transform_seed=42,\n",
    "    transform_mode='embedding',\n",
    "    force_approximation_algorithm=False,\n",
    "    verbose=False,\n",
    "    tqdm_kwds=None,\n",
    "    unique=False,\n",
    "    densmap=False,\n",
    "    dens_lambda=2.0,\n",
    "    dens_frac=0.3,\n",
    "    dens_var_shift=0.1,\n",
    "    output_dens=False,\n",
    "    disconnection_distance=None,\n",
    "    precomputed_knn=(None, None, None),\n",
    ")\n",
    "\n",
    "umap = UMAP(**umap_params)\n",
    "print('Fitting UMAP...')\n",
    "umap.fit(latents)\n",
    "print('Generating Embeddings...')\n",
    "embeddings = umap.transform(latents)\n",
    "print('Embeddings Generated...')"
   ]
  },
  {
   "cell_type": "markdown",
   "id": "e17d4fad",
   "metadata": {},
   "source": [
    "# Visualize Embeddings"
   ]
  },
  {
   "cell_type": "code",
   "execution_count": 16,
   "id": "8a46b796",
   "metadata": {},
   "outputs": [],
   "source": [
    "# roinet.latents.shape, dat.labelFiles.shape"
   ]
  },
  {
   "cell_type": "raw",
   "id": "c6072f1a",
   "metadata": {
    "scrolled": false
   },
   "source": [
    "%matplotlib notebook\n",
    "fig, ax = plt.subplots(1, 1, figsize=(5,5))\n",
    "ax.scatter(embeddings[:,0], embeddings[:,1], s=5, c=labelFiles[:], cmap='gist_rainbow')"
   ]
  },
  {
   "cell_type": "code",
   "execution_count": 17,
   "id": "4fd1e05a",
   "metadata": {},
   "outputs": [],
   "source": [
    "toc['visualize'] = time.time() - tic"
   ]
  },
  {
   "cell_type": "markdown",
   "id": "393f0c10",
   "metadata": {},
   "source": [
    "# Load Pipeline / Classifier"
   ]
  },
  {
   "cell_type": "code",
   "execution_count": 20,
   "id": "9d627d27",
   "metadata": {},
   "outputs": [
    {
     "name": "stderr",
     "output_type": "stream",
     "text": [
      "/Users/josh/opt/anaconda3/envs/ROI_env/lib/python3.8/site-packages/sklearn/base.py:329: UserWarning: Trying to unpickle estimator StandardScaler from version 1.1.1 when using version 1.0.2. This might lead to breaking code or invalid results. Use at your own risk. For more info please refer to:\n",
      "https://scikit-learn.org/stable/modules/model_persistence.html#security-maintainability-limitations\n",
      "  warnings.warn(\n",
      "/Users/josh/opt/anaconda3/envs/ROI_env/lib/python3.8/site-packages/sklearn/base.py:329: UserWarning: Trying to unpickle estimator PCA from version 1.1.1 when using version 1.0.2. This might lead to breaking code or invalid results. Use at your own risk. For more info please refer to:\n",
      "https://scikit-learn.org/stable/modules/model_persistence.html#security-maintainability-limitations\n",
      "  warnings.warn(\n",
      "/Users/josh/opt/anaconda3/envs/ROI_env/lib/python3.8/site-packages/sklearn/base.py:329: UserWarning: Trying to unpickle estimator LogisticRegression from version 1.1.1 when using version 1.0.2. This might lead to breaking code or invalid results. Use at your own risk. For more info please refer to:\n",
      "https://scikit-learn.org/stable/modules/model_persistence.html#security-maintainability-limitations\n",
      "  warnings.warn(\n",
      "/Users/josh/opt/anaconda3/envs/ROI_env/lib/python3.8/site-packages/sklearn/base.py:329: UserWarning: Trying to unpickle estimator Pipeline from version 1.1.1 when using version 1.0.2. This might lead to breaking code or invalid results. Use at your own risk. For more info please refer to:\n",
      "https://scikit-learn.org/stable/modules/model_persistence.html#security-maintainability-limitations\n",
      "  warnings.warn(\n"
     ]
    }
   ],
   "source": [
    "# pipe = pipeline.Pipe(pipeline_fileloc='/n/data1/hms/neurobio/sabatini/josh/analysis/data_backup_save/pipe.pkl')\n",
    "pipe = pipeline.Pipe(pipeline_fileloc='/Users/josh/Downloads/data_backup_save/pipe.pkl')"
   ]
  },
  {
   "cell_type": "markdown",
   "id": "e44dd1c1",
   "metadata": {},
   "source": [
    "# Evaluate Classifier"
   ]
  },
  {
   "cell_type": "code",
   "execution_count": 21,
   "id": "7cfdbbd8",
   "metadata": {},
   "outputs": [
    {
     "data": {
      "text/plain": [
       "Text(0.5, 0.98, 'Dataset')"
      ]
     },
     "execution_count": 21,
     "metadata": {},
     "output_type": "execute_result"
    },
    {
     "data": {
      "image/png": "[encoded data removed]",
      "text/plain": [
       "<Figure size 360x360 with 2 Axes>"
      ]
     },
     "metadata": {
      "needs_background": "light"
     },
     "output_type": "display_data"
    }
   ],
   "source": [
    "evaluator = evaluate.Evaluation(pipe.pipeline)\n",
    "cm = evaluator.confusion_matrix(latents, labelFiles)\n",
    "cm = np.round(cm, 2)\n",
    "fig, ax = plt.subplots(1, 1, figsize=(5,5))\n",
    "sns.heatmap(cm, annot=True, annot_kws={\"size\": 16}, vmax=1., cmap=plt.get_cmap('gray'), ax=ax)\n",
    "fig.suptitle('Dataset')"
   ]
  },
  {
   "cell_type": "markdown",
   "id": "019f193b",
   "metadata": {},
   "source": [
    "## Save Results"
   ]
  },
  {
   "cell_type": "code",
   "execution_count": 22,
   "id": "1c57700a",
   "metadata": {},
   "outputs": [
    {
     "ename": "NameError",
     "evalue": "name 'dir_allOuterFolders' is not defined",
     "output_type": "error",
     "traceback": [
      "\u001b[0;31m---------------------------------------------------------------------------\u001b[0m",
      "\u001b[0;31mNameError\u001b[0m                                 Traceback (most recent call last)",
      "Input \u001b[0;32mIn [22]\u001b[0m, in \u001b[0;36m<cell line: 3>\u001b[0;34m()\u001b[0m\n\u001b[1;32m      1\u001b[0m \u001b[38;5;66;03m# dir_save = Path('/home/rich/Desktop/').resolve()\u001b[39;00m\n\u001b[1;32m      2\u001b[0m dir_save \u001b[38;5;241m=\u001b[39m Path(\u001b[38;5;124m'\u001b[39m\u001b[38;5;124m/n/data1/hms/neurobio/sabatini/josh/analysis/roinet-paper/ROICaT/output/\u001b[39m\u001b[38;5;124m'\u001b[39m)\u001b[38;5;241m.\u001b[39mresolve()\n\u001b[0;32m----> 3\u001b[0m name_save \u001b[38;5;241m=\u001b[39m \u001b[43mdir_allOuterFolders\u001b[49m\u001b[38;5;241m.\u001b[39mname\n\u001b[1;32m      4\u001b[0m path_save \u001b[38;5;241m=\u001b[39m dir_save \u001b[38;5;241m/\u001b[39m (name_save \u001b[38;5;241m+\u001b[39m \u001b[38;5;124m'\u001b[39m\u001b[38;5;124m.ROICaT.results\u001b[39m\u001b[38;5;124m'\u001b[39m \u001b[38;5;241m+\u001b[39m \u001b[38;5;124m'\u001b[39m\u001b[38;5;124m.pkl\u001b[39m\u001b[38;5;124m'\u001b[39m)\n\u001b[1;32m      6\u001b[0m ROIs \u001b[38;5;241m=\u001b[39m {\n\u001b[1;32m      7\u001b[0m     \u001b[38;5;124m\"\u001b[39m\u001b[38;5;124mROIs_aligned\u001b[39m\u001b[38;5;124m\"\u001b[39m: aligner\u001b[38;5;241m.\u001b[39mROIs_aligned,\n\u001b[1;32m      8\u001b[0m     \u001b[38;5;124m\"\u001b[39m\u001b[38;5;124mROIs_raw\u001b[39m\u001b[38;5;124m\"\u001b[39m: dat\u001b[38;5;241m.\u001b[39mspatialFootprints,\n\u001b[0;32m   (...)\u001b[0m\n\u001b[1;32m     11\u001b[0m     \u001b[38;5;124m\"\u001b[39m\u001b[38;5;124midx_roi_session\u001b[39m\u001b[38;5;124m\"\u001b[39m: np\u001b[38;5;241m.\u001b[39mwhere(dat\u001b[38;5;241m.\u001b[39msessionID_concat)[\u001b[38;5;241m1\u001b[39m]\n\u001b[1;32m     12\u001b[0m }\n",
      "\u001b[0;31mNameError\u001b[0m: name 'dir_allOuterFolders' is not defined"
     ]
    }
   ],
   "source": [
    "# dir_save = Path('/home/rich/Desktop/').resolve()\n",
    "dir_save = Path('/n/data1/hms/neurobio/sabatini/josh/analysis/roinet-paper/ROICaT/output/').resolve()\n",
    "name_save = dir_allOuterFolders.name\n",
    "path_save = dir_save / (name_save + '.ROICaT.results' + '.pkl')\n",
    "\n",
    "ROIs = {\n",
    "    \"ROIs_aligned\": aligner.ROIs_aligned,\n",
    "    \"ROIs_raw\": dat.spatialFootprints,\n",
    "    \"frame_height\": dat.FOV_height,\n",
    "    \"frame_width\": dat.FOV_width,\n",
    "    \"idx_roi_session\": np.where(dat.sessionID_concat)[1]\n",
    "}\n",
    "\n",
    "results = {\n",
    "    \"UCIDs\": labels,\n",
    "    \"UCIDs_bySession\": labels_bySession,\n",
    "    \"ROIs\": ROIs,\n",
    "}\n",
    "\n",
    "helpers.simple_save(\n",
    "    obj=results,\n",
    "    filename=path_save,\n",
    "    mkdir=True,\n",
    ")"
   ]
  },
  {
   "cell_type": "code",
   "execution_count": null,
   "id": "aa44d0cc",
   "metadata": {},
   "outputs": [],
   "source": []
  }
 ],
 "metadata": {
  "kernelspec": {
   "display_name": "Python 3 (ipykernel)",
   "language": "python",
   "name": "python3"
  },
  "language_info": {
   "codemirror_mode": {
    "name": "ipython",
    "version": 3
   },
   "file_extension": ".py",
   "mimetype": "text/x-python",
   "name": "python",
   "nbconvert_exporter": "python",
   "pygments_lexer": "ipython3",
   "version": "3.8.12"
  },
  "varInspector": {
   "cols": {
    "lenName": 16,
    "lenType": 16,
    "lenVar": 40
   },
   "kernels_config": {
    "python": {
     "delete_cmd_postfix": "",
     "delete_cmd_prefix": "del ",
     "library": "var_list.py",
     "varRefreshCmd": "print(var_dic_list())"
    },
    "r": {
     "delete_cmd_postfix": ") ",
     "delete_cmd_prefix": "rm(",
     "library": "var_list.r",
     "varRefreshCmd": "cat(var_dic_list()) "
    }
   },
   "types_to_exclude": [
    "module",
    "function",
    "builtin_function_or_method",
    "instance",
    "_Feature"
   ],
   "window_display": false
  }
 },
 "nbformat": 4,
 "nbformat_minor": 5
}
