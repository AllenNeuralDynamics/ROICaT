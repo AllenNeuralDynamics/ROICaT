{
 "cells": [
  {
   "cell_type": "code",
   "execution_count": 16,
   "id": "4afa92c0",
   "metadata": {},
   "outputs": [
    {
     "data": {
      "text/html": [
       "<style>.container {width:95% !important; }</style>"
      ],
      "text/plain": [
       "<IPython.core.display.HTML object>"
      ]
     },
     "metadata": {},
     "output_type": "display_data"
    },
    {
     "name": "stdout",
     "output_type": "stream",
     "text": [
      "Conda Environment: ROICaT\n",
      "python version: 3.9.13\n"
     ]
    }
   ],
   "source": [
    "# widen jupyter notebook window\n",
    "from IPython.display import display, HTML\n",
    "display(HTML(\"<style>.container {width:95% !important; }</style>\"))\n",
    "\n",
    "# check environment\n",
    "import os\n",
    "print(f'Conda Environment: ' + os.environ['CONDA_DEFAULT_ENV'])\n",
    "\n",
    "from platform import python_version\n",
    "print(f'python version: {python_version()}')"
   ]
  },
  {
   "cell_type": "markdown",
   "id": "4a10c855",
   "metadata": {},
   "source": [
    "# Intro: Types of data\n",
    "This notebook will demonstrate how to import data of various types into a data object which can be used for classification or tracking.\\\n",
    "There are 5 types of data that are possible to collect into a data class:\n",
    "\n",
    "### 1. **ROI spatial footprints**: \n",
    "- The mask of an ROI in the full field of view.\n",
    "- Used for **tracking only**.\n",
    "- Stored as sparse arrays.\n",
    "\n",
    "### 2. **ROI images**: \n",
    "- Images of individual masks. \n",
    "- Used for **tracking AND classifiaction**.\n",
    "- Stored as dense arrays.\n",
    "\n",
    "### 3. **ROI class labels**: \n",
    "- Labels of the classification of each ROI. \n",
    "- Used for **classification only**.\n",
    "- Stored as integer arrays.\n",
    "\n",
    "### 4. **Field of view (FOV) images**:\n",
    "- Images of the average field of view of the imaging plane.\n",
    "- Used for **tracking only**.\n",
    "- Stored as dense arrays.\n",
    "\n",
    "### 5. **Resolution**:\n",
    "- In um / pixel\n",
    "- Used for **tracking and classification**\n",
    "- Stored as attributes in the data class."
   ]
  },
  {
   "cell_type": "markdown",
   "id": "7560fc7f",
   "metadata": {},
   "source": [
    "___"
   ]
  },
  {
   "cell_type": "markdown",
   "id": "28dd9003",
   "metadata": {},
   "source": [
    "# Demo: Classification\n",
    "Make a custom data object with ROI images and labels.\\\n",
    "For classification, 3 key data elements are needed:\n",
    "1. ROI images\n",
    "2. ROI class labels\n",
    "3. Image resolution in um/pixel\n",
    "\n",
    "### Import custom ROI_images and associated labels"
   ]
  },
  {
   "cell_type": "code",
   "execution_count": 1,
   "id": "e251ccf6",
   "metadata": {},
   "outputs": [],
   "source": [
    "%load_ext autoreload\n",
    "%autoreload 2\n",
    "\n",
    "import roicat"
   ]
  },
  {
   "cell_type": "code",
   "execution_count": 2,
   "id": "235c68f7",
   "metadata": {},
   "outputs": [],
   "source": [
    "from pathlib import Path\n",
    "\n",
    "import numpy as np\n",
    "import scipy.sparse\n",
    "import einops"
   ]
  },
  {
   "cell_type": "markdown",
   "id": "7e88696f",
   "metadata": {},
   "source": [
    "### Load ROI_images data and labels data"
   ]
  },
  {
   "cell_type": "markdown",
   "id": "564dfa65",
   "metadata": {},
   "source": [
    "Load some custom data of ROI images that are stored as a sparse array.\\\n",
    "The sparse array is a 2D sparse matrix with `shape = (n_ROIs, height*width)`"
   ]
  },
  {
   "cell_type": "code",
   "execution_count": 3,
   "id": "003593d6",
   "metadata": {},
   "outputs": [],
   "source": [
    "data_ROI_images = scipy.sparse.load_npz(str(Path(r'/media/rich/bigSSD/other lab data/Harvey_lab_ROIs/ShihYi labeled_cells_for_Rich/sf_concat_rs_sparse.npz').resolve()))\n",
    "shape_ROI = (36,36)\n",
    "\n",
    "ROI_images_array = einops.rearrange(\n",
    "    tensor=data_ROI_images.toarray(), \n",
    "    pattern='n_ROIs (height width) -> n_ROIs height width', \n",
    "    **{'height': shape_ROI[0], 'width': shape_ROI[1]}\n",
    ")"
   ]
  },
  {
   "cell_type": "markdown",
   "id": "6bbf1e5f",
   "metadata": {},
   "source": [
    "Load associated labels with the above ROI images.\\\n",
    "These labels are stored as a list of 1-D numpy arrays. Class labels are defined as integers (0-n_classes)."
   ]
  },
  {
   "cell_type": "code",
   "execution_count": 4,
   "id": "f600f1a3",
   "metadata": {},
   "outputs": [],
   "source": [
    "data_classLabels = np.load(str(Path(r'/media/rich/bigSSD/other lab data/Harvey_lab_ROIs/ShihYi labeled_cells_for_Rich/labels.npy').resolve())).astype(int)"
   ]
  },
  {
   "cell_type": "markdown",
   "id": "6b592e0c",
   "metadata": {},
   "source": [
    "Specify the `um_per_pixel`"
   ]
  },
  {
   "cell_type": "code",
   "execution_count": 5,
   "id": "d1b7bf18",
   "metadata": {},
   "outputs": [],
   "source": [
    "um_per_pixel = 2.0"
   ]
  },
  {
   "cell_type": "markdown",
   "id": "2d1aaf08",
   "metadata": {},
   "source": [
    "### Make data class with ROI_images and class_labels attributes"
   ]
  },
  {
   "cell_type": "code",
   "execution_count": 6,
   "id": "58f27052",
   "metadata": {},
   "outputs": [
    {
     "name": "stdout",
     "output_type": "stream",
     "text": [
      "Starting: Importing ROI images\n",
      "Completed: Imported 1 sessions. Each session has [68382] ROIs. Total number of ROIs is 68382. The um_per_pixel is 1.5 um per pixel.\n",
      "Starting: Importing class labels\n",
      "Labels and ROI Images match in shapes: Class labels and ROI images have the same number of sessions and the same number of ROIs in each session.\n",
      "Completed: Imported labels for 1 sessions. Each session has [68382] class labels. Total number of class labels is 68382.\n"
     ]
    }
   ],
   "source": [
    "data = roicat.data_importing.Data_roicat(verbose=True)\n",
    "\n",
    "data.set_ROI_images(\n",
    "    ROI_images=[ROI_images_array],\n",
    "    um_per_pixel=1.5,\n",
    ")\n",
    "\n",
    "data.set_class_labels(class_labels=[data_classLabels])"
   ]
  },
  {
   "cell_type": "markdown",
   "id": "5f72ad32",
   "metadata": {},
   "source": [
    "Check to see what pipeline applications the data object is capable of running with the data it has"
   ]
  },
  {
   "cell_type": "code",
   "execution_count": 7,
   "id": "26db9232",
   "metadata": {},
   "outputs": [
    {
     "name": "stdout",
     "output_type": "stream",
     "text": [
      "Labels and ROI Images match in shapes: Class labels and ROI images have the same number of sessions and the same number of ROIs in each session.\n",
      "Cannot check validity of spatialFootprints and FOV_images because one or both do not exist as attributes.\n",
      "Data_roicat object completeness: {'classification_inference': True, 'classification_training': True, 'tracking': False}\n"
     ]
    }
   ],
   "source": [
    "data.check_completeness(verbose=True);"
   ]
  },
  {
   "cell_type": "markdown",
   "id": "af4b35ec",
   "metadata": {},
   "source": [
    "check out the data class' `.__repr__()` method"
   ]
  },
  {
   "cell_type": "code",
   "execution_count": 8,
   "id": "551c391f",
   "metadata": {},
   "outputs": [
    {
     "name": "stdout",
     "output_type": "stream",
     "text": [
      "Data_roicat object: {'n_sessions': 1, 'n_roi': [68382], 'n_roi_total': 68382, 'um_per_pixel': 1.5, 'n_classes': 4, 'n_class_labels': [68382], 'n_class_labels_total': 68382, 'unique_class_labels': array([1, 2, 3, 4])}.\n"
     ]
    }
   ],
   "source": [
    "print(data)"
   ]
  },
  {
   "cell_type": "markdown",
   "id": "1a02dda0",
   "metadata": {},
   "source": [
    "### Demonstrate saving and loading\n",
    "The `.save` and `.load` methods allow for saving of a pickled object to disk"
   ]
  },
  {
   "cell_type": "code",
   "execution_count": 9,
   "id": "b18c1362",
   "metadata": {},
   "outputs": [
    {
     "name": "stdout",
     "output_type": "stream",
     "text": [
      "Saved Data_roicat as a pickled object to /home/rich/Desktop/test_obj.pkl.\n",
      "Loaded Data_roicat object from /home/rich/Desktop/test_obj.pkl.\n",
      "Data_roicat object: {'n_sessions': 1, 'n_roi': [68382], 'n_roi_total': 68382, 'um_per_pixel': 1.5, 'n_classes': 4, 'n_class_labels': [68382], 'n_class_labels_total': 68382, 'unique_class_labels': array([1, 2, 3, 4])}.\n"
     ]
    }
   ],
   "source": [
    "data.save('/home/rich/Desktop/test_obj.pkl', allow_overwrite=True)\n",
    "\n",
    "data = roicat.data_importing.Data_roicat(verbose=True)\n",
    "data.load('/home/rich/Desktop/test_obj.pkl')\n",
    "print(data)"
   ]
  },
  {
   "cell_type": "code",
   "execution_count": null,
   "id": "bd306044",
   "metadata": {},
   "outputs": [],
   "source": []
  },
  {
   "cell_type": "markdown",
   "id": "e2df3842",
   "metadata": {},
   "source": [
    "# Demo: Tracking\n",
    "Make a custom data object with Spatial Footprints and related metadata.\\\n",
    "For tracking, 3 key data elements are needed:\n",
    "1. ROI spatial footprints (image of ROI in the entire field of view)\n",
    "2. ROI images (small centered images of each ROI)\n",
    "3. Field of view images\n",
    "4. Image resolution in um/pixel"
   ]
  },
  {
   "cell_type": "markdown",
   "id": "0c89397b",
   "metadata": {},
   "source": [
    "### Download and load some example data\n",
    "This data is kindly donated from Noah Pettit and was obtained while in Christopher Harvey's lab at Harvard Medical School.\\\n",
    "Note the fields in the dictionary."
   ]
  },
  {
   "cell_type": "code",
   "execution_count": 10,
   "id": "3ec7ef90",
   "metadata": {},
   "outputs": [
    {
     "name": "stdout",
     "output_type": "stream",
     "text": [
      "File already exists locally: /home/rich/Desktop/test_spatialFootprints.npz\n",
      "dict_keys(['sf', 'FOV_height', 'FOV_width', 'FOV_images', 'um_per_pixel'])\n"
     ]
    }
   ],
   "source": [
    "directory_save = r'/home/rich/Desktop/'\n",
    "\n",
    "path_save = str(Path(directory_save) / 'test_spatialFootprints.npz')\n",
    "roicat.helpers.download_file(\n",
    "    url='https://osf.io/qgazx/download',\n",
    "    path_save=path_save,\n",
    ");\n",
    "\n",
    "files_spatialFootprints = np.load(path_save, allow_pickle=True)['arr_0'][()]\n",
    "\n",
    "print(files_spatialFootprints.keys())"
   ]
  },
  {
   "cell_type": "markdown",
   "id": "5f84fbec",
   "metadata": {},
   "source": [
    "The spatialFootprints data consists of a list of sparse arrays. Each array is of shape: `(n_roi, FOV_height * FOV_width)`. The FOV is 512 x 512 pixels. Each row of the array is a flattened ROI image.\\\n",
    "This is the format that the `Data_roicat` class holds the spatial footprints in."
   ]
  },
  {
   "cell_type": "code",
   "execution_count": 11,
   "id": "32723877",
   "metadata": {},
   "outputs": [
    {
     "data": {
      "text/plain": [
       "[<508x262144 sparse matrix of type '<class 'numpy.float32'>'\n",
       " \twith 80614 stored elements in Compressed Sparse Row format>,\n",
       " <420x262144 sparse matrix of type '<class 'numpy.float32'>'\n",
       " \twith 67079 stored elements in Compressed Sparse Row format>,\n",
       " <539x262144 sparse matrix of type '<class 'numpy.float32'>'\n",
       " \twith 85212 stored elements in Compressed Sparse Row format>,\n",
       " <521x262144 sparse matrix of type '<class 'numpy.float32'>'\n",
       " \twith 87611 stored elements in Compressed Sparse Row format>,\n",
       " <484x262144 sparse matrix of type '<class 'numpy.float32'>'\n",
       " \twith 81846 stored elements in Compressed Sparse Row format>,\n",
       " <509x262144 sparse matrix of type '<class 'numpy.float32'>'\n",
       " \twith 86896 stored elements in Compressed Sparse Row format>,\n",
       " <425x262144 sparse matrix of type '<class 'numpy.float32'>'\n",
       " \twith 71621 stored elements in Compressed Sparse Row format>,\n",
       " <404x262144 sparse matrix of type '<class 'numpy.float32'>'\n",
       " \twith 65066 stored elements in Compressed Sparse Row format>,\n",
       " <495x262144 sparse matrix of type '<class 'numpy.float32'>'\n",
       " \twith 81950 stored elements in Compressed Sparse Row format>,\n",
       " <403x262144 sparse matrix of type '<class 'numpy.float32'>'\n",
       " \twith 70366 stored elements in Compressed Sparse Row format>,\n",
       " <393x262144 sparse matrix of type '<class 'numpy.float32'>'\n",
       " \twith 78556 stored elements in Compressed Sparse Row format>,\n",
       " <397x262144 sparse matrix of type '<class 'numpy.float32'>'\n",
       " \twith 67373 stored elements in Compressed Sparse Row format>,\n",
       " <433x262144 sparse matrix of type '<class 'numpy.float32'>'\n",
       " \twith 70461 stored elements in Compressed Sparse Row format>,\n",
       " <468x262144 sparse matrix of type '<class 'numpy.float32'>'\n",
       " \twith 75948 stored elements in Compressed Sparse Row format>,\n",
       " <551x262144 sparse matrix of type '<class 'numpy.float32'>'\n",
       " \twith 91828 stored elements in Compressed Sparse Row format>,\n",
       " <472x262144 sparse matrix of type '<class 'numpy.float32'>'\n",
       " \twith 82799 stored elements in Compressed Sparse Row format>]"
      ]
     },
     "metadata": {},
     "output_type": "display_data"
    }
   ],
   "source": [
    "display(files_spatialFootprints['sf'])"
   ]
  },
  {
   "cell_type": "markdown",
   "id": "867a4157",
   "metadata": {},
   "source": [
    "Let's make a new data class and load in this raw data"
   ]
  },
  {
   "cell_type": "code",
   "execution_count": 12,
   "id": "b7e2d417",
   "metadata": {},
   "outputs": [
    {
     "name": "stdout",
     "output_type": "stream",
     "text": [
      "Completed: Imported spatialFootprints for 16 sessions.\n"
     ]
    }
   ],
   "source": [
    "data = roicat.data_importing.Data_roicat(verbose=True)\n",
    "\n",
    "data.set_spatialFootprints(\n",
    "    spatialFootprints=files_spatialFootprints['sf'],\n",
    "    um_per_pixel=files_spatialFootprints['um_per_pixel'],\n",
    ")"
   ]
  },
  {
   "cell_type": "code",
   "execution_count": 13,
   "id": "397bb747",
   "metadata": {},
   "outputs": [
    {
     "name": "stdout",
     "output_type": "stream",
     "text": [
      "Completed: Imported FOV_images for 16 sessions.\n"
     ]
    }
   ],
   "source": [
    "data.set_FOV_images(\n",
    "    FOV_images=files_spatialFootprints['FOV_images']\n",
    ")"
   ]
  },
  {
   "cell_type": "markdown",
   "id": "69ba0af6",
   "metadata": {},
   "source": [
    "Check to see what pipeline applications the data object is capable of running with the data it has"
   ]
  },
  {
   "cell_type": "code",
   "execution_count": 14,
   "id": "3746eb0c",
   "metadata": {},
   "outputs": [
    {
     "name": "stdout",
     "output_type": "stream",
     "text": [
      "Cannot check validity of class_labels and ROI_images because one or both do not exist as attributes.\n",
      "Completed: spatialFootprints and FOV_images are compatible.\n",
      "Data_roicat object completeness: {'classification_inference': False, 'classification_training': False, 'tracking': False}\n"
     ]
    }
   ],
   "source": [
    "data.check_completeness(verbose=True);"
   ]
  },
  {
   "cell_type": "markdown",
   "id": "c468f0c0",
   "metadata": {},
   "source": [
    "check out the data class' `.__repr__()` method"
   ]
  },
  {
   "cell_type": "code",
   "execution_count": 15,
   "id": "84ab6c38",
   "metadata": {},
   "outputs": [
    {
     "name": "stdout",
     "output_type": "stream",
     "text": [
      "Data_roicat object: {'um_per_pixel': 2.0, 'n_sessions': 16, 'n_roi': [508, 420, 539, 521, 484, 509, 425, 404, 495, 403, 393, 397, 433, 468, 551, 472], 'n_roi_total': 7422, 'FOV_height': 512, 'FOV_width': 512}.\n"
     ]
    }
   ],
   "source": [
    "print(data)"
   ]
  },
  {
   "cell_type": "code",
   "execution_count": null,
   "id": "2db82c73",
   "metadata": {},
   "outputs": [],
   "source": []
  },
  {
   "cell_type": "code",
   "execution_count": null,
   "id": "1e68dec6",
   "metadata": {},
   "outputs": [],
   "source": []
  },
  {
   "cell_type": "code",
   "execution_count": null,
   "id": "95de70cc",
   "metadata": {},
   "outputs": [],
   "source": []
  },
  {
   "cell_type": "raw",
   "id": "64a8d76c",
   "metadata": {},
   "source": [
    " '_verbose',\n",
    " 'centroid_method',\n",
    " 'centroids',\n",
    " 'check_completeness',\n",
    " 'get_centroids',\n",
    " 'import_FOV_images',\n",
    " 'import_ROI_centeredImages',\n",
    " 'import_ROI_labels',\n",
    " 'import_ROI_spatialFootprints',\n",
    " 'import_statFiles',\n",
    " 'load',\n",
    " 'n_roi',\n",
    " 'n_roi_total',\n",
    " 'n_sessions',\n",
    " 'paths_ops',\n",
    " 'paths_stat',\n",
    " 'save',\n",
    " 'sessionID_concat',\n",
    " 'set_FOV_images',\n",
    " 'set_ROI_images',\n",
    " 'set_class_labels',\n",
    " 'set_spatialFootprints',\n",
    " 'shifts',\n",
    " 'spatialFootprints',\n",
    " 'statFiles',\n",
    " 'um_per_pixel']"
   ]
  }
 ],
 "metadata": {
  "kernelspec": {
   "display_name": "Python 3 (ipykernel)",
   "language": "python",
   "name": "python3"
  },
  "language_info": {
   "codemirror_mode": {
    "name": "ipython",
    "version": 3
   },
   "file_extension": ".py",
   "mimetype": "text/x-python",
   "name": "python",
   "nbconvert_exporter": "python",
   "pygments_lexer": "ipython3",
   "version": "3.9.13"
  },
  "varInspector": {
   "cols": {
    "lenName": 16,
    "lenType": 16,
    "lenVar": 40
   },
   "kernels_config": {
    "python": {
     "delete_cmd_postfix": "",
     "delete_cmd_prefix": "del ",
     "library": "var_list.py",
     "varRefreshCmd": "print(var_dic_list())"
    },
    "r": {
     "delete_cmd_postfix": ") ",
     "delete_cmd_prefix": "rm(",
     "library": "var_list.r",
     "varRefreshCmd": "cat(var_dic_list()) "
    }
   },
   "types_to_exclude": [
    "module",
    "function",
    "builtin_function_or_method",
    "instance",
    "_Feature"
   ],
   "window_display": false
  }
 },
 "nbformat": 4,
 "nbformat_minor": 5
}
