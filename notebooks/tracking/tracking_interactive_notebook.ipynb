{
 "cells": [
  {
   "cell_type": "markdown",
   "id": "50622a4e",
   "metadata": {},
   "source": [
    "# Setup"
   ]
  },
  {
   "cell_type": "code",
   "execution_count": 38,
   "id": "92846ae4",
   "metadata": {},
   "outputs": [
    {
     "data": {
      "text/html": [
       "<style>.container {width:95% !important; }</style>"
      ],
      "text/plain": [
       "<IPython.core.display.HTML object>"
      ]
     },
     "metadata": {},
     "output_type": "display_data"
    },
    {
     "name": "stdout",
     "output_type": "stream",
     "text": [
      "Conda Environment: testroicat\n",
      "python version: 3.11.3\n"
     ]
    }
   ],
   "source": [
    "# widen jupyter notebook window\n",
    "from IPython.display import display, HTML\n",
    "display(HTML(\"<style>.container {width:95% !important; }</style>\"))\n",
    "\n",
    "# check environment\n",
    "import os\n",
    "print(f'Conda Environment: ' + os.environ['CONDA_DEFAULT_ENV'])\n",
    "\n",
    "from platform import python_version\n",
    "print(f'python version: {python_version()}')"
   ]
  },
  {
   "cell_type": "code",
   "execution_count": 2,
   "id": "c4eb1fa5",
   "metadata": {},
   "outputs": [],
   "source": [
    "import os\n",
    "from pathlib import Path\n",
    "import copy\n",
    "\n",
    "import matplotlib.pyplot as plt\n",
    "import numpy as np\n",
    "import natsort\n",
    "\n",
    "import torch\n",
    "\n",
    "import gc\n",
    "import time\n",
    "import functools\n",
    "import multiprocessing as mp\n"
   ]
  },
  {
   "cell_type": "code",
   "execution_count": 3,
   "id": "f31f7368",
   "metadata": {},
   "outputs": [],
   "source": [
    "tic = time.time()\n",
    "toc = {}\n",
    "toc['start'] = time.time() - tic"
   ]
  },
  {
   "cell_type": "code",
   "execution_count": 4,
   "id": "db7f4f25",
   "metadata": {},
   "outputs": [],
   "source": [
    "# %load_ext autoreload\n",
    "# %autoreload 2\n",
    "import roicat"
   ]
  },
  {
   "cell_type": "markdown",
   "id": "b8adf6d9",
   "metadata": {},
   "source": [
    "# Import paths"
   ]
  },
  {
   "cell_type": "code",
   "execution_count": null,
   "id": "e5c1d75c",
   "metadata": {},
   "outputs": [],
   "source": [
    "dir_allOuterFolders = str(Path(r\"/media/rich/bigSSD/downloads_tmp/tmp_data/mouse_0322R/statFiles/\").resolve())\n",
    "\n",
    "pathSuffixToStat = 'stat.npy'\n",
    "pathSuffixToOps = 'ops.npy'\n",
    "\n",
    "paths_allStat = test = roicat.helpers.find_paths(\n",
    "    dir_outer=dir_allOuterFolders,\n",
    "    reMatch=pathSuffixToStat,\n",
    "    depth=4,\n",
    ")[:]\n",
    "paths_allOps  = np.array([Path(path).resolve().parent / pathSuffixToOps for path in paths_allStat])[:]\n",
    "# paths_allOps = test = roicat.helpers.find_paths(\n",
    "#     dir_outer=dir_allOuterFolders,\n",
    "#     reMatch=pathSuffixToOps,\n",
    "#     depth=4,\n",
    "# )[:]\n",
    "\n",
    "print(f'paths to all stat files:');\n",
    "[print(path) for path in paths_allStat];\n",
    "print('');\n",
    "print(f'paths to all ops files:');\n",
    "[print(path) for path in paths_allOps];\n"
   ]
  },
  {
   "cell_type": "code",
   "execution_count": 6,
   "id": "a68279ba",
   "metadata": {},
   "outputs": [],
   "source": [
    "toc['import_paths'] = time.time() - tic"
   ]
  },
  {
   "cell_type": "markdown",
   "id": "645ea98d",
   "metadata": {},
   "source": [
    "# Import data"
   ]
  },
  {
   "cell_type": "code",
   "execution_count": 7,
   "id": "cf7e8236",
   "metadata": {},
   "outputs": [],
   "source": [
    "toc['import_data'] = time.time() - tic"
   ]
  },
  {
   "cell_type": "code",
   "execution_count": null,
   "id": "9a540d33",
   "metadata": {},
   "outputs": [],
   "source": [
    "data = roicat.data_importing.Data_suite2p(\n",
    "    paths_statFiles=paths_allStat[:],\n",
    "    paths_opsFiles=paths_allOps[:],\n",
    "    um_per_pixel=2.5,\n",
    "    new_or_old_suite2p='new',\n",
    "\n",
    "    out_height_width=[36,36],\n",
    "    \n",
    "    type_meanImg='meanImgE',\n",
    "#     FOV_images=FOVs_mixed,\n",
    "\n",
    "    verbose=True,\n",
    ")\n",
    "\n",
    "assert data.check_completeness(verbose=False)['tracking'], f\"Data object is missing attributes necessary for tracking.\""
   ]
  },
  {
   "cell_type": "code",
   "execution_count": null,
   "id": "7ef5ed69",
   "metadata": {},
   "outputs": [],
   "source": [
    "roicat.visualization.display_toggle_image_stack(data.FOV_images)\n",
    "roicat.visualization.display_toggle_image_stack([sf.max(0).reshape(data.FOV_height, data.FOV_width).toarray() for sf in data.spatialFootprints], clim=[0,0.05])\n",
    "roicat.visualization.display_toggle_image_stack(np.concatenate(data.ROI_images, axis=0)[:5000], image_size=(200,200))"
   ]
  },
  {
   "cell_type": "markdown",
   "id": "d6657766",
   "metadata": {},
   "source": [
    "# Alignment"
   ]
  },
  {
   "cell_type": "code",
   "execution_count": 223,
   "id": "d56ce51a",
   "metadata": {},
   "outputs": [],
   "source": [
    "aligner = roicat.tracking.alignment.Aligner(verbose=True)"
   ]
  },
  {
   "cell_type": "code",
   "execution_count": 249,
   "id": "b59cba62",
   "metadata": {},
   "outputs": [],
   "source": [
    "FOV_images = aligner.augment_FOV_images(\n",
    "    ims=data.FOV_images,\n",
    "    spatialFootprints=data.spatialFootprints,\n",
    "    roi_FOV_mixing_factor=0.5,\n",
    "    use_CLAHE=True,\n",
    "    CLAHE_grid_size=1,\n",
    "    CLAHE_clipLimit=1,\n",
    "    CLAHE_normalize=True,\n",
    ")"
   ]
  },
  {
   "cell_type": "code",
   "execution_count": null,
   "id": "1c44fdf2",
   "metadata": {},
   "outputs": [],
   "source": [
    "roicat.visualization.display_toggle_image_stack(FOV_images)"
   ]
  },
  {
   "cell_type": "code",
   "execution_count": null,
   "id": "eb445bd6",
   "metadata": {},
   "outputs": [],
   "source": [
    "aligner.fit_geometric(\n",
    "#     template=FOV_images[4],\n",
    "    template=0.5,\n",
    "    ims_moving=FOV_images,\n",
    "    template_method='sequential',\n",
    "    mode_transform='homography',\n",
    "    mask_borders=(50,50,50,50),\n",
    "    n_iter=50,\n",
    "    termination_eps=1e-09,\n",
    "    gaussFiltSize=31,\n",
    "    auto_fix_gaussFilt_step=10,\n",
    ")\n",
    "\n",
    "aligner.transform_images_geometric(FOV_images);"
   ]
  },
  {
   "cell_type": "code",
   "execution_count": null,
   "id": "f4bbacbe",
   "metadata": {},
   "outputs": [],
   "source": [
    "aligner.fit_nonrigid(\n",
    "#     template=FOV_images[1],\n",
    "    template=0.5,\n",
    "    ims_moving=aligner.ims_registered_geo,\n",
    "    remappingIdx_init=aligner.remappingIdx_geo,\n",
    "    template_method='image',\n",
    "    mode_transform='createOptFlow_DeepFlow',\n",
    "    kwargs_mode_transform=None,\n",
    ")\n",
    "\n",
    "aligner.transform_images_nonrigid(FOV_images);"
   ]
  },
  {
   "cell_type": "code",
   "execution_count": null,
   "id": "06028a22",
   "metadata": {},
   "outputs": [],
   "source": [
    "aligner.transform_ROIs(\n",
    "    ROIs=data.spatialFootprints, \n",
    "    remappingIdx=aligner.remappingIdx_nonrigid,\n",
    "    normalize=True,\n",
    ");"
   ]
  },
  {
   "cell_type": "code",
   "execution_count": null,
   "id": "456b16c0",
   "metadata": {},
   "outputs": [],
   "source": [
    "roicat.visualization.display_toggle_image_stack(data.FOV_images)\n",
    "roicat.visualization.display_toggle_image_stack(aligner.ims_registered_geo)\n",
    "roicat.visualization.display_toggle_image_stack(aligner.ims_registered_nonrigid)\n",
    "roicat.visualization.display_toggle_image_stack(aligner.get_ROIsAligned_maxIntensityProjection(), clim=(0, 0.05))"
   ]
  },
  {
   "cell_type": "code",
   "execution_count": 16,
   "id": "1e4d1430",
   "metadata": {},
   "outputs": [],
   "source": [
    "toc['alignment'] = time.time() - tic"
   ]
  },
  {
   "cell_type": "markdown",
   "id": "f7ce87c7",
   "metadata": {},
   "source": [
    "## Blur ROIs (optional)"
   ]
  },
  {
   "cell_type": "code",
   "execution_count": null,
   "id": "67b849cd",
   "metadata": {},
   "outputs": [],
   "source": [
    "blurrer = roicat.tracking.blurring.ROI_Blurrer(\n",
    "    frame_shape=(data.FOV_height, data.FOV_width),\n",
    "    kernel_halfWidth=2,\n",
    "    plot_kernel=False,\n",
    ")\n",
    "\n",
    "blurrer.blur_ROIs(\n",
    "    spatialFootprints=aligner.ROIs_aligned[:],\n",
    ")"
   ]
  },
  {
   "cell_type": "code",
   "execution_count": null,
   "id": "072ce957",
   "metadata": {},
   "outputs": [],
   "source": [
    "roicat.visualization.display_toggle_image_stack(blurrer.get_ROIsBlurred_maxIntensityProjection())"
   ]
  },
  {
   "cell_type": "code",
   "execution_count": 19,
   "id": "a62793c4",
   "metadata": {},
   "outputs": [],
   "source": [
    "toc['blur'] = time.time() - tic"
   ]
  },
  {
   "cell_type": "markdown",
   "id": "4c6e7d80",
   "metadata": {},
   "source": [
    "## Neural network embedding distances"
   ]
  },
  {
   "cell_type": "code",
   "execution_count": null,
   "id": "3af51477",
   "metadata": {},
   "outputs": [],
   "source": [
    "roinet = roicat.ROInet.ROInet_embedder(\n",
    "    device='cuda:0',\n",
    "    dir_networkFiles=r'/home/rich/Desktop/tmp_data/',\n",
    "    download_method='check_local_first',\n",
    "    download_url='https://osf.io/x3fd2/download',\n",
    "    download_hash='7a5fb8ad94b110037785a46b9463ea94',\n",
    "    forward_pass_version='latent',\n",
    "    verbose=True,\n",
    ")"
   ]
  },
  {
   "cell_type": "code",
   "execution_count": null,
   "id": "714869da",
   "metadata": {},
   "outputs": [],
   "source": [
    "roinet.generate_dataloader(\n",
    "    ROI_images=data.ROI_images,\n",
    "    um_per_pixel=data.um_per_pixel,\n",
    "    pref_plot=False,\n",
    "    \n",
    "    jit_script_transforms=False,\n",
    "    \n",
    "    batchSize_dataloader=8,\n",
    "    pinMemory_dataloader=True,\n",
    "    numWorkers_dataloader=mp.cpu_count(),\n",
    "    persistentWorkers_dataloader=True,\n",
    "    prefetchFactor_dataloader=2,    \n",
    "\n",
    "#     batchSize_dataloader=1,\n",
    "#     pinMemory_dataloader=False,\n",
    "#     numWorkers_dataloader=0,\n",
    "#     persistentWorkers_dataloader=False,\n",
    "#     prefetchFactor_dataloader=2,    \n",
    ");"
   ]
  },
  {
   "cell_type": "code",
   "execution_count": null,
   "id": "4d8eeeba",
   "metadata": {},
   "outputs": [],
   "source": [
    "roicat.visualization.display_toggle_image_stack(roinet.ROI_images_rs[:5000], image_size=(200,200))"
   ]
  },
  {
   "cell_type": "code",
   "execution_count": null,
   "id": "376908e8",
   "metadata": {},
   "outputs": [],
   "source": [
    "roinet.generate_latents();"
   ]
  },
  {
   "cell_type": "code",
   "execution_count": 25,
   "id": "56ec8f31",
   "metadata": {},
   "outputs": [],
   "source": [
    "toc['NN'] = time.time() - tic"
   ]
  },
  {
   "cell_type": "markdown",
   "id": "a26152bd",
   "metadata": {},
   "source": [
    "## Scattering wavelet embedding distances"
   ]
  },
  {
   "cell_type": "code",
   "execution_count": null,
   "id": "1088fb06",
   "metadata": {},
   "outputs": [],
   "source": [
    "swt = roicat.tracking.scatteringWaveletTransformer.SWT(\n",
    "    kwargs_Scattering2D={'J': 2, 'L': 12}, \n",
    "    image_shape=data.ROI_images[0].shape[1:3], \n",
    "    device='cuda:0'\n",
    ")\n",
    "\n",
    "swt.transform(\n",
    "    ROI_images=np.concatenate(data.ROI_images, axis=0),\n",
    "    batch_size=100,\n",
    ");"
   ]
  },
  {
   "cell_type": "code",
   "execution_count": 28,
   "id": "df81112d",
   "metadata": {},
   "outputs": [],
   "source": [
    "toc['SWT'] = time.time() - tic"
   ]
  },
  {
   "cell_type": "markdown",
   "id": "bdbc0d2b",
   "metadata": {},
   "source": [
    "## Compute similarities"
   ]
  },
  {
   "cell_type": "code",
   "execution_count": null,
   "id": "9e3ba234",
   "metadata": {},
   "outputs": [],
   "source": [
    "sim = roicat.tracking.similarity_graph.ROI_graph(\n",
    "    n_workers=-1,\n",
    "    frame_height=data.FOV_height,\n",
    "    frame_width=data.FOV_width,\n",
    "#     block_height=data.FOV_height,\n",
    "#     block_width=data.FOV_width,\n",
    "    block_height=128,\n",
    "    block_width=128,\n",
    "    algorithm_nearestNeigbors_spatialFootprints='brute',\n",
    "    verbose=True,\n",
    ")\n",
    "\n",
    "sim.visualize_blocks()\n",
    "\n",
    "s_sf, s_NN, s_SWT, s_sesh = sim.compute_similarity_blockwise(\n",
    "    spatialFootprints=blurrer.ROIs_blurred,\n",
    "#     spatialFootprints=aligner.ROIs_aligned,\n",
    "    features_NN=roinet.latents,\n",
    "    features_SWT=swt.latents,\n",
    "    ROI_session_bool=data.session_bool,\n",
    "    spatialFootprint_maskPower=1.0,\n",
    ");"
   ]
  },
  {
   "cell_type": "code",
   "execution_count": 30,
   "id": "3c486898",
   "metadata": {
    "scrolled": true
   },
   "outputs": [
    {
     "name": "stdout",
     "output_type": "stream",
     "text": [
      "Finding k-range of center of mass distance neighbors for each ROI...\n",
      "Normalizing Neural Network similarity scores...\n"
     ]
    },
    {
     "name": "stderr",
     "output_type": "stream",
     "text": [
      "100%|██████████████████████████████████| 44419/44419 [00:03<00:00, 11777.29it/s]\n"
     ]
    },
    {
     "name": "stdout",
     "output_type": "stream",
     "text": [
      "Normalizing SWT similarity scores...\n"
     ]
    },
    {
     "name": "stderr",
     "output_type": "stream",
     "text": [
      " 46%|████████████████▎                  | 20628/44419 [00:19<00:22, 1068.97it/s]"
     ]
    }
   ],
   "source": [
    "sim.make_normalized_similarities(\n",
    "    centers_of_mass=data.centroids,\n",
    "    features_NN=roinet.latents,\n",
    "    features_SWT=swt.latents,\n",
    "#     features_SWT=None,\n",
    "    k_max=4000,\n",
    "    k_min=100,\n",
    "    algo_NN='kd_tree',\n",
    "    device='cuda:0'\n",
    ")\n",
    "\n",
    "toc['sim'] = time.time() - tic"
   ]
  },
  {
   "cell_type": "markdown",
   "id": "47b02deb",
   "metadata": {},
   "source": [
    "# Clustering"
   ]
  },
  {
   "cell_type": "code",
   "execution_count": null,
   "id": "6336f148",
   "metadata": {},
   "outputs": [],
   "source": [
    "clusterer = roicat.tracking.clustering.Clusterer(\n",
    "    s_sf=sim.s_sf,\n",
    "    s_NN_z=sim.s_NN_z,\n",
    "    s_SWT_z=sim.s_SWT_z,\n",
    "    s_sesh=sim.s_sesh,\n",
    ")\n",
    "\n",
    "kwargs_makeConjunctiveDistanceMatrix_best = clusterer.find_optimal_parameters_for_pruning(\n",
    "    n_bins=None,\n",
    "    smoothing_window_bins=None,\n",
    "    find_parameters_automatically=True,\n",
    "    kwargs_findParameters={\n",
    "        'n_patience': 300,\n",
    "        'tol_frac': 0.001,\n",
    "        'max_trials': 1200,\n",
    "        'max_duration': 60*10,\n",
    "        'verbose': False,\n",
    "    },\n",
    "    bounds_findParameters={\n",
    "        'power_NN': (0., 5.),\n",
    "        'power_SWT': (0., 5.),\n",
    "        'p_norm': (-5, 0),\n",
    "        'sig_NN_kwargs_mu': (0., 1.0),\n",
    "        'sig_NN_kwargs_b': (0.00, 1.5),\n",
    "        'sig_SWT_kwargs_mu': (0., 1.0),\n",
    "        'sig_SWT_kwargs_b': (0.00, 1.5),\n",
    "    },\n",
    "    n_jobs_findParameters=-1,    \n",
    ")\n",
    "\n",
    "toc['separate_diffSame'] = time.time() - tic"
   ]
  },
  {
   "cell_type": "code",
   "execution_count": null,
   "id": "3d7eaad1",
   "metadata": {},
   "outputs": [],
   "source": [
    "kwargs_mcdm_tmp = kwargs_makeConjunctiveDistanceMatrix_best\n",
    "\n",
    "# kwargs_mcdm_tmp = {\n",
    "#     'power_SF': 1.0,\n",
    "#     'power_NN': 1.0,\n",
    "#     'power_SWT': 0.0,\n",
    "#     'p_norm': -4.0,\n",
    "# #         'sig_SF_kwargs': {'mu':0.5, 'b':1.0},\n",
    "#     'sig_SF_kwargs': None,\n",
    "#         'sig_NN_kwargs': {'mu':1.0, 'b':0.5},\n",
    "# #     'sig_NN_kwargs': None,\n",
    "# #         'sig_SWT_kwargs': {'mu':0.5, 'b':1.0},\n",
    "#     'sig_SWT_kwargs': None,\n",
    "# }\n",
    "\n",
    "clusterer.plot_distSame(kwargs_makeConjunctiveDistanceMatrix=kwargs_mcdm_tmp)\n",
    "\n",
    "clusterer.plot_similarity_relationships(\n",
    "    plots_to_show=[1,2,3], \n",
    "    max_samples=100000, \n",
    "    kwargs_scatter={'s':1, 'alpha':0.2},\n",
    "    kwargs_makeConjunctiveDistanceMatrix=kwargs_mcdm_tmp\n",
    ");"
   ]
  },
  {
   "cell_type": "code",
   "execution_count": null,
   "id": "b1bc8897",
   "metadata": {},
   "outputs": [],
   "source": [
    "clusterer.make_pruned_similarity_graphs(\n",
    "    d_cutoff=None,\n",
    "    kwargs_makeConjunctiveDistanceMatrix=kwargs_makeConjunctiveDistanceMatrix_best,\n",
    "    stringency=1.0,\n",
    "    convert_to_probability=False,    \n",
    ")"
   ]
  },
  {
   "cell_type": "code",
   "execution_count": null,
   "id": "0acf8b74",
   "metadata": {},
   "outputs": [],
   "source": [
    "if data.n_sessions >= 8:\n",
    "    labels = clusterer.fit(\n",
    "        d_conj=clusterer.dConj_pruned,\n",
    "        session_bool=data.session_bool,\n",
    "        min_cluster_size=2,\n",
    "        n_iter_violationCorrection=6,\n",
    "        cluster_selection_method='leaf',\n",
    "        d_clusterMerge=None,\n",
    "        alpha=0.999,\n",
    "        split_intraSession_clusters=True,\n",
    "        discard_failed_pruning=True,\n",
    "        n_steps_clusterSplit=100,\n",
    "    )\n",
    "\n",
    "else:\n",
    "    labels = clusterer.fit_sequentialHungarian(\n",
    "        session_bool=data.session_bool,\n",
    "        thresh_cost=0.6,\n",
    "        d_conj=clusterer.dConj_pruned,\n",
    "    )"
   ]
  },
  {
   "cell_type": "code",
   "execution_count": null,
   "id": "8f598665",
   "metadata": {},
   "outputs": [],
   "source": [
    "clusterer.compute_cluster_quality_metrics()\n",
    "\n",
    "labels_bySession = [labels[idx] for idx in data.session_bool.T]"
   ]
  },
  {
   "cell_type": "code",
   "execution_count": null,
   "id": "bfcab2fa",
   "metadata": {},
   "outputs": [],
   "source": [
    "## results_clustering\n",
    "print(f'Number of clusters: {len(np.unique(labels))}')\n",
    "print(f'Number of discarded ROIs: {(labels==-1).sum()}')"
   ]
  },
  {
   "cell_type": "code",
   "execution_count": null,
   "id": "0cdbadfb",
   "metadata": {},
   "outputs": [],
   "source": [
    "toc['clustering'] = time.time() - tic"
   ]
  },
  {
   "cell_type": "markdown",
   "id": "9f000941",
   "metadata": {},
   "source": [
    "# Visualize results"
   ]
  },
  {
   "cell_type": "code",
   "execution_count": null,
   "id": "664b4c8b",
   "metadata": {},
   "outputs": [],
   "source": [
    "# confidence = (clusterer.cluster_quality_metrics['cs_sil'] * clusterer.cluster_quality_metrics['cs_intra_means'] * clusterer.cluster_quality_metrics['cs_intra_mins'])\n",
    "# confidence = (clusterer.cluster_quality_metrics['cs_sil'] * clusterer.cluster_quality_metrics['cs_intra_means'])\n",
    "confidence = (((clusterer.cluster_quality_metrics['cs_sil'] + 1) / 2) * clusterer.cluster_quality_metrics['cs_intra_means'])\n",
    "# confidence = (clusterer.cluster_quality_metrics['cs_intra_means'])\n",
    "# confidence = (clusterer.cluster_quality_metrics['cs_intra_mins'])\n",
    "# confidence = clusterer.cluster_quality_metrics['cs_sil']\n",
    "\n",
    "plt.figure()\n",
    "plt.hist(confidence, 50);\n",
    "plt.xlabel('confidence');\n",
    "plt.ylabel('cluster counts')"
   ]
  },
  {
   "cell_type": "code",
   "execution_count": 218,
   "id": "ef8ca705",
   "metadata": {},
   "outputs": [],
   "source": [
    "FOV_clusters = roicat.visualization.compute_colored_FOV(\n",
    "    spatialFootprints=[r.power(0.7) for r in aligner.ROIs_aligned],\n",
    "    FOV_height=data.FOV_height,\n",
    "    FOV_width=data.FOV_width,\n",
    "    session_bool=data.session_bool,\n",
    "    labels=labels,\n",
    "#     alphas_labels=np.clip(confidence / np.percentile(confidence, 90), a_min=0.0, a_max=1.0),\n",
    "#     alphas_labels=(confidence < 0.1) * (confidence > 0.0),\n",
    "    alphas_labels=confidence < 0.2,\n",
    "#     alphas_labels=confidence < 0.5,\n",
    "#     alphas_labels=(confidence + 1)/2,\n",
    "#     alphas_labels=confidence,\n",
    "#     alphas_labels = 1 - confidence,\n",
    "#     alphas_sf=clusterer.hdbs.probabilities_[:-1] < 0.5,\n",
    "#     alphas_sf=clusterer.hdbs.outlier_scores_[:-1],\n",
    "#     alphas_sf=test2,\n",
    ")"
   ]
  },
  {
   "cell_type": "code",
   "execution_count": null,
   "id": "e57c7734",
   "metadata": {},
   "outputs": [],
   "source": [
    "roicat.visualization.display_toggle_image_stack(\n",
    "    FOV_clusters, \n",
    "    image_size=(np.array(FOV_clusters[0].shape)*1.5).astype(int)[:2],\n",
    "    clim=[0,1],\n",
    ")"
   ]
  },
  {
   "cell_type": "raw",
   "id": "fb3d811c",
   "metadata": {
    "scrolled": true
   },
   "source": [
    "import scipy.sparse\n",
    "\n",
    "ucids = labels.copy()\n",
    "# ucids = ucids[ucids==975]\n",
    "ucids_unique = np.unique(ucids[ucids>-1])\n",
    "\n",
    "# ROI_ims = np.concatenate(data.ROI_images, axis=0)\n",
    "ROI_ims_sparse = scipy.sparse.vstack(aligner.ROIs_aligned)\n",
    "ROI_ims_sparse = ROI_ims_sparse.multiply( ROI_ims_sparse.max(1).power(-1) ).tocsr()\n",
    "\n",
    "\n",
    "ucid_sfCat = []\n",
    "for ucid in ucids_unique:\n",
    "    idx = np.where(ucids == ucid)[0]\n",
    "    ucid_sfCat.append( np.concatenate(list(roicat.visualization.crop_cluster_ims(ROI_ims_sparse[idx].toarray().reshape(len(idx), data.FOV_height, data.FOV_width))), axis=1) )\n",
    "#     ucid_sfCat.append( np.concatenate(list(ROI_ims_sparse[idx].toarray().reshape(len(idx), data.FOV_height, data.FOV_width)), axis=1) )\n",
    "# data.ROI_images[i_sesh][idx] for \n",
    "\n",
    "\n",
    "%matplotlib inline\n",
    "\n",
    "for sf in ucid_sfCat[:100]:\n",
    "    plt.figure(figsize=(40,1))\n",
    "    plt.imshow(sf, cmap='gray')\n",
    "    plt.axis('off')"
   ]
  },
  {
   "cell_type": "code",
   "execution_count": null,
   "id": "8da6a819",
   "metadata": {},
   "outputs": [],
   "source": [
    "_, counts = np.unique(labels, return_counts=True)\n",
    "\n",
    "plt.figure()\n",
    "plt.hist(counts, data.n_sessions*2 + 1, range=(0, data.n_sessions+1));\n"
   ]
  },
  {
   "cell_type": "code",
   "execution_count": 46,
   "id": "46dbfd76",
   "metadata": {},
   "outputs": [],
   "source": [
    "toc['visualize'] = time.time() - tic"
   ]
  },
  {
   "cell_type": "markdown",
   "id": "4f79a0c6",
   "metadata": {},
   "source": [
    "# Save results"
   ]
  },
  {
   "cell_type": "code",
   "execution_count": null,
   "id": "52333d0d",
   "metadata": {},
   "outputs": [],
   "source": [
    "dir_save = Path('/media/rich/bigSSD/analysis_data/ROICaT/ROI_tracking/mouse_0322R/analysis_DAC_20230516/').resolve()\n",
    "name_save = Path(dir_allOuterFolders).resolve().name\n",
    "# name_save = 'RE257'\n",
    "# path_save = dir_save / (name_save + '.ROICaT.tracking.results' + '.pkl')\n",
    "path_save = dir_save / (name_save + '.ROICaT.tracking.results' + '.pkl')\n",
    "print(f'path_save: {path_save}')"
   ]
  },
  {
   "cell_type": "code",
   "execution_count": 59,
   "id": "225b9fcc",
   "metadata": {},
   "outputs": [],
   "source": [
    "ROIs = {\n",
    "    \"ROIs_aligned\": aligner.ROIs_aligned,\n",
    "    \"ROIs_raw\": data.spatialFootprints,\n",
    "    \"frame_height\": data.FOV_height,\n",
    "    \"frame_width\": data.FOV_width,\n",
    "    \"idx_roi_session\": np.where(data.session_bool)[1]\n",
    "}\n",
    "\n",
    "results = {\n",
    "    \"UCIDs\": labels,\n",
    "    \"UCIDs_bySession\": labels_bySession,\n",
    "    \"ROIs\": ROIs,\n",
    "    \"input_data\": {\n",
    "        \"paths_stat\": data.paths_stat,\n",
    "        \"paths_ops\": data.paths_ops,\n",
    "    },\n",
    "    \"cluster_quality_metrics\": clusterer.cluster_quality_metrics,\n",
    "}\n",
    "\n",
    "roicat.helpers.pickle_save(\n",
    "    obj=results,\n",
    "    path_save=path_save,\n",
    "    mkdir=True,\n",
    ")\n",
    "\n",
    "run_data = copy.deepcopy({\n",
    "    'data': data.serializable_dict,\n",
    "    'aligner': aligner.serializable_dict,\n",
    "    'blurrer': blurrer.serializable_dict,\n",
    "    'roinet': roinet.serializable_dict,\n",
    "    'swt': swt.serializable_dict,\n",
    "    'sim': sim.serializable_dict,\n",
    "    'clusterer': clusterer.serializable_dict,\n",
    "})\n",
    "roicat.helpers.pickle_save(\n",
    "    obj=run_data,\n",
    "    path_save=str(dir_save / (name_save + '.ROICaT.tracking.rundata' + '.pkl')),\n",
    "    mkdir=True,\n",
    ")\n"
   ]
  },
  {
   "cell_type": "code",
   "execution_count": 60,
   "id": "f7057cd3",
   "metadata": {},
   "outputs": [],
   "source": [
    "toc['saving'] = time.time() - tic"
   ]
  },
  {
   "cell_type": "code",
   "execution_count": null,
   "id": "fbc6e1ec",
   "metadata": {},
   "outputs": [],
   "source": [
    "toc"
   ]
  },
  {
   "cell_type": "code",
   "execution_count": null,
   "id": "c19563a8",
   "metadata": {},
   "outputs": [],
   "source": []
  },
  {
   "cell_type": "code",
   "execution_count": null,
   "id": "41b84507",
   "metadata": {},
   "outputs": [],
   "source": []
  },
  {
   "cell_type": "code",
   "execution_count": null,
   "id": "9f4abbda",
   "metadata": {},
   "outputs": [],
   "source": []
  },
  {
   "cell_type": "code",
   "execution_count": null,
   "id": "1c09e3b4",
   "metadata": {},
   "outputs": [],
   "source": []
  }
 ],
 "metadata": {
  "kernelspec": {
   "display_name": "Python 3 (ipykernel)",
   "language": "python",
   "name": "python3"
  },
  "language_info": {
   "codemirror_mode": {
    "name": "ipython",
    "version": 3
   },
   "file_extension": ".py",
   "mimetype": "text/x-python",
   "name": "python",
   "nbconvert_exporter": "python",
   "pygments_lexer": "ipython3",
   "version": "3.11.3"
  },
  "varInspector": {
   "cols": {
    "lenName": 16,
    "lenType": 16,
    "lenVar": 40
   },
   "kernels_config": {
    "python": {
     "delete_cmd_postfix": "",
     "delete_cmd_prefix": "del ",
     "library": "var_list.py",
     "varRefreshCmd": "print(var_dic_list())"
    },
    "r": {
     "delete_cmd_postfix": ") ",
     "delete_cmd_prefix": "rm(",
     "library": "var_list.r",
     "varRefreshCmd": "cat(var_dic_list()) "
    }
   },
   "types_to_exclude": [
    "module",
    "function",
    "builtin_function_or_method",
    "instance",
    "_Feature"
   ],
   "window_display": false
  }
 },
 "nbformat": 4,
 "nbformat_minor": 5
}
