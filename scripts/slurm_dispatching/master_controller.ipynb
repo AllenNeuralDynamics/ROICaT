{
 "cells": [
  {
   "attachments": {},
   "cell_type": "markdown",
   "id": "5e69b469",
   "metadata": {},
   "source": [
    "# MASTER CONTROLLER: ROICaT"
   ]
  },
  {
   "cell_type": "code",
   "execution_count": null,
   "id": "eb297901",
   "metadata": {},
   "outputs": [],
   "source": [
    "# ALWAYS RUN THIS CELL\n",
    "# widen jupyter notebook window\n",
    "from IPython.display import display, HTML\n",
    "display(HTML(\"<style>.container {width:95% !important; }</style>\"))"
   ]
  },
  {
   "cell_type": "code",
   "execution_count": null,
   "id": "47fe1e80",
   "metadata": {},
   "outputs": [],
   "source": [
    "import os\n",
    "from pathlib import Path\n",
    "import getpass\n",
    "import gc\n",
    "import time\n",
    "import re\n",
    "\n",
    "import natsort\n",
    "import paramiko\n",
    "from tqdm import tqdm"
   ]
  },
  {
   "cell_type": "code",
   "execution_count": null,
   "id": "c57a4581",
   "metadata": {},
   "outputs": [],
   "source": [
    "%load_ext autoreload\n",
    "%autoreload 2\n",
    "import bnpm\n",
    "from bnpm import server"
   ]
  },
  {
   "cell_type": "raw",
   "id": "0ed83750",
   "metadata": {},
   "source": [
    "dir_github = '/media/rich/Home_Linux_partition/github_repos/'\n",
    "import sys\n",
    "sys.path.append(dir_github)\n",
    "\n",
    "%load_ext autoreload\n",
    "%autoreload 2\n",
    "from s2p_on_o2 import util"
   ]
  },
  {
   "cell_type": "code",
   "execution_count": null,
   "id": "974445f8",
   "metadata": {},
   "outputs": [],
   "source": [
    "# paramiko.util.log_to_file(\"paramiko.log\")"
   ]
  },
  {
   "cell_type": "code",
   "execution_count": null,
   "id": "6612dd5d",
   "metadata": {},
   "outputs": [],
   "source": []
  },
  {
   "attachments": {},
   "cell_type": "markdown",
   "id": "a59717a3",
   "metadata": {},
   "source": [
    "----\n",
    "# ==== Optional ====\n",
    "### transfer raw data from local machine to `MICROSCOPE`"
   ]
  },
  {
   "cell_type": "code",
   "execution_count": null,
   "id": "9796b799",
   "metadata": {},
   "outputs": [],
   "source": [
    "# ## Define directories for where the local data is and the remote directory where the contents of that folder should be copied to (MICROSCOPE)\n",
    "# dir_data_local = '/media/rich/bigSSD/tmp_data/'\n",
    "# dir_data_MICROSCOPE = '/n/files/Neurobio/MICROSCOPE/Rich/data/test'  ## contents of dir_data_local will be dumped into dir_data_MICROSCOPE\n",
    "\n",
    "# print(f'contents of    {dir_data_local}    will be copied to    {dir_data_MICROSCOPE}')"
   ]
  },
  {
   "cell_type": "code",
   "execution_count": null,
   "id": "5c361769",
   "metadata": {},
   "outputs": [],
   "source": [
    "# remote_host_transfer = \"transfer.rc.hms.harvard.edu\"\n",
    "# remote_host_compute = \"o2.hms.harvard.edu\"\n",
    "# username = input('Username: ')\n",
    "# pw = util.pw_encode(getpass.getpass(prompt='Password: '))"
   ]
  },
  {
   "attachments": {},
   "cell_type": "markdown",
   "id": "60e56e5a",
   "metadata": {},
   "source": [
    "## Prepare `sftp` and `ssh` objects"
   ]
  },
  {
   "cell_type": "code",
   "execution_count": null,
   "id": "7600dff8",
   "metadata": {},
   "outputs": [],
   "source": [
    "# sftp = util.sftp_interface(hostname=\"transfer.rc.hms.harvard.edu\", port=22)\n",
    "# sftp.connect(username=username, password=util.pw_decode(pw))"
   ]
  },
  {
   "cell_type": "code",
   "execution_count": null,
   "id": "ff1c87a6",
   "metadata": {},
   "outputs": [],
   "source": [
    "# # sftp.mkdir_safe(dir_data_remote)\n",
    "# sftp.put_dir(dir_data_local, dir_data_MICROSCOPE)"
   ]
  },
  {
   "cell_type": "code",
   "execution_count": null,
   "id": "1358265a",
   "metadata": {},
   "outputs": [],
   "source": []
  },
  {
   "attachments": {},
   "cell_type": "markdown",
   "id": "6114afcd",
   "metadata": {},
   "source": [
    "------------\n",
    "# ==== Start ===="
   ]
  },
  {
   "attachments": {},
   "cell_type": "markdown",
   "id": "ae33b435",
   "metadata": {},
   "source": [
    "## Prepare username + password"
   ]
  },
  {
   "cell_type": "code",
   "execution_count": null,
   "id": "2519dbd0",
   "metadata": {},
   "outputs": [],
   "source": [
    "remote_host_transfer = \"transfer.rc.hms.harvard.edu\"\n",
    "remote_host_compute = \"o2.hms.harvard.edu\"\n",
    "username = input('Username: ')\n",
    "pw = server.pw_encode(getpass.getpass(prompt='Password: '))"
   ]
  },
  {
   "attachments": {},
   "cell_type": "markdown",
   "id": "5cbb7d5b",
   "metadata": {},
   "source": [
    "## Prepare `sftp` and `ssh` objects"
   ]
  },
  {
   "cell_type": "code",
   "execution_count": null,
   "id": "fdf1e2ba",
   "metadata": {},
   "outputs": [],
   "source": [
    "## initialize ssh_transfer\n",
    "ssh_t = server.ssh_interface(\n",
    "    nbytes_toReceive=20000,\n",
    "    recv_timeout=1,\n",
    "    verbose=True,\n",
    ")\n",
    "ssh_t.o2_connect(\n",
    "    hostname=remote_host_transfer,\n",
    "    username=username,\n",
    "    password=server.pw_decode(pw),\n",
    "    passcode_method=1,\n",
    "    verbose=1,\n",
    "    skip_passcode=False,    \n",
    ")"
   ]
  },
  {
   "cell_type": "code",
   "execution_count": null,
   "id": "5aeea961",
   "metadata": {},
   "outputs": [],
   "source": [
    "sftp_t = server.sftp_interface(ssh_t.client)"
   ]
  },
  {
   "attachments": {},
   "cell_type": "markdown",
   "id": "dca1b9d7",
   "metadata": {},
   "source": [
    "# Download data to local"
   ]
  },
  {
   "cell_type": "code",
   "execution_count": null,
   "id": "e0a92667",
   "metadata": {},
   "outputs": [],
   "source": [
    "sftp_t = server.sftp_interface(ssh_client=ssh_t)"
   ]
  },
  {
   "cell_type": "code",
   "execution_count": null,
   "id": "ab48e84d",
   "metadata": {},
   "outputs": [],
   "source": [
    "paths_stat_raw = sftp_t.search_recursive(\n",
    "#     path='/n/files/Neurobio/MICROSCOPE/Rich/data/res2p/old_data/scanimage data/round 5 experiments/mouse 2_6',\n",
    "    path='/n/data1/hms/neurobio/sabatini/gyu/analysis/suite2p_output/mouse_1511L',\n",
    "    search_pattern_re='stat.npy',\n",
    "    max_depth=10,\n",
    ");"
   ]
  },
  {
   "cell_type": "code",
   "execution_count": null,
   "id": "4b880c9a",
   "metadata": {},
   "outputs": [],
   "source": [
    "def str_contains(s, t):\n",
    "    import numpy as np\n",
    "    return np.where([s_i.find(t) >= 0 for s_i in s])[0][0]"
   ]
  },
  {
   "cell_type": "code",
   "execution_count": null,
   "id": "a07271e4",
   "metadata": {},
   "outputs": [],
   "source": [
    "paths_stat = natsort.natsorted([p for p in paths_stat_raw if '/exp/' in p])\n",
    "display(paths_stat)\n",
    "\n",
    "dates = natsort.natsorted([re.search('\\d{8}', p).group() for p in paths_stat])\n",
    "display(dates)\n",
    "\n",
    "paths_stat = {date: paths_stat[str_contains(paths_stat, date)] for date in dates}\n",
    "display(paths_stat)"
   ]
  },
  {
   "cell_type": "code",
   "execution_count": null,
   "id": "9d929c17",
   "metadata": {},
   "outputs": [],
   "source": [
    "paths_ops = {date: str(Path(path).parent / 'ops.npy') for date, path in paths_stat.items()}"
   ]
  },
  {
   "cell_type": "code",
   "execution_count": null,
   "id": "2a15b29f",
   "metadata": {},
   "outputs": [],
   "source": [
    "assert all([sftp_t.exists(path) for path in paths_stat.values()])\n",
    "assert all([sftp_t.exists(path) for path in paths_ops.values()])"
   ]
  },
  {
   "cell_type": "code",
   "execution_count": null,
   "id": "7c2db4f9",
   "metadata": {},
   "outputs": [],
   "source": [
    "dir_save_local = r'/media/rich/bigSSD/analysis_data/statFiles_mouse_1511L'"
   ]
  },
  {
   "cell_type": "code",
   "execution_count": null,
   "id": "d0069c85",
   "metadata": {},
   "outputs": [],
   "source": [
    "[sftp_t.get(\n",
    "    remotepath=path,\n",
    "    localpath=str(Path(dir_save_local) / date / Path(path).name),\n",
    "    prog_bar=False,\n",
    ") for date,path in tqdm(paths_stat.items())];"
   ]
  },
  {
   "cell_type": "code",
   "execution_count": null,
   "id": "bc38abc1",
   "metadata": {},
   "outputs": [],
   "source": [
    "[sftp_t.get(\n",
    "    remotepath=path,\n",
    "    localpath=str(Path(dir_save_local) / date / Path(path).name),\n",
    "    prog_bar=False,\n",
    ") for date,path in tqdm(paths_ops.items())];"
   ]
  },
  {
   "cell_type": "code",
   "execution_count": null,
   "id": "d7370fde",
   "metadata": {},
   "outputs": [],
   "source": []
  },
  {
   "cell_type": "code",
   "execution_count": null,
   "id": "1af016d4",
   "metadata": {},
   "outputs": [],
   "source": []
  },
  {
   "attachments": {},
   "cell_type": "markdown",
   "id": "cac02d90",
   "metadata": {},
   "source": [
    "# Run remotely"
   ]
  },
  {
   "cell_type": "code",
   "execution_count": null,
   "id": "7f802ebc",
   "metadata": {},
   "outputs": [],
   "source": [
    "## initialize ssh_compute\n",
    "ssh_c = util.ssh_interface(\n",
    "    nbytes_toReceive=20000,\n",
    "    recv_timeout=1,\n",
    "    verbose=True,\n",
    ")\n",
    "ssh_c.o2_connect(\n",
    "    hostname=remote_host_compute,\n",
    "    username=username,\n",
    "    password=util.pw_decode(pw),\n",
    "    passcode_method=1,\n",
    "    verbose=1,\n",
    "    skip_passcode=False,    \n",
    ")"
   ]
  },
  {
   "attachments": {},
   "cell_type": "markdown",
   "id": "0cd3c682",
   "metadata": {},
   "source": [
    "## Pull/update repo"
   ]
  },
  {
   "cell_type": "code",
   "execution_count": null,
   "id": "2edc3771",
   "metadata": {},
   "outputs": [],
   "source": [
    "ssh_c.send('cd /n/data1/hms/neurobio/sabatini/rich/github_repos/ROICaT')\n",
    "ssh_c.send_receive('git pull')\n",
    "\n",
    "ssh_c.expect(str_success=f'[{username}', total_timeout=2);"
   ]
  },
  {
   "attachments": {},
   "cell_type": "markdown",
   "id": "8ffd5402",
   "metadata": {},
   "source": [
    "## Activate environment"
   ]
  },
  {
   "cell_type": "code",
   "execution_count": null,
   "id": "a69ff255",
   "metadata": {},
   "outputs": [],
   "source": [
    "ssh_c.send_receive('source activate ROICaT')\n",
    "\n",
    "ssh_c.expect(str_success=f'[{username}', total_timeout=2);"
   ]
  },
  {
   "attachments": {},
   "cell_type": "markdown",
   "id": "558a1158",
   "metadata": {},
   "source": [
    "## Prepare directories"
   ]
  },
  {
   "cell_type": "code",
   "execution_count": null,
   "id": "97ffab65",
   "metadata": {},
   "outputs": [],
   "source": [
    "import numpy as np\n",
    "\n",
    "dir_outer = 'round_5_experiments'\n",
    "mouse_name = 'mouse_2_6'\n",
    "plane_name = 'exp/suite2p/plane0'\n",
    "# date = ''\n",
    "\n",
    "name_slurm = mouse_name + '_' + plane_name[-1:]\n",
    "\n",
    "\n",
    "dir_data_remote = (Path('/n/data1/hms/neurobio/sabatini/rich/data/res2p/') / dir_outer / mouse_name).as_posix()\n",
    "\n",
    "dir_saveOutputs = (Path('/n/data1/hms/neurobio/sabatini/rich/analysis/ROI_tracking') / mouse_name).as_posix()\n",
    "\n",
    "dir_ROInet_networkFiles = Path('/n/data1/hms/neurobio/sabatini/rich/analysis/ROI_tracking/ROInet_temp_networkFiles').as_posix()\n",
    "\n",
    "\n",
    "name_job = 'jobNum_'\n",
    "\n",
    "\n",
    "path_dispatcher_local = str(Path(r'/media/rich/Home_Linux_partition/github_repos/ROICaT/scripts/slurm_dispatching/').resolve() / 'dispatcher.py')  ## path to the dispatcher.py file on local computer\n",
    "path_dispatcher_remote = str((Path(dir_saveOutputs) / 'dispatcher.py'))  ## path to where you want the dispatcher.py file to be copied onto the server\n",
    "path_script_remote = str(Path(r'/n/data1/hms/neurobio/sabatini/rich/github_repos/ROICaT/scripts/slurm_dispatching/tracking_script.py'))  ## path to a copy of the remote script.py"
   ]
  },
  {
   "cell_type": "code",
   "execution_count": null,
   "id": "8cc7337b",
   "metadata": {},
   "outputs": [],
   "source": [
    "display(f'{dir_data_remote = }')\n",
    "display(f'{dir_saveOutputs = }')\n",
    "display(f'{dir_ROInet_networkFiles = }')\n",
    "display(f'{path_dispatcher_local = }')\n",
    "display(f'{path_dispatcher_remote = }')\n",
    "display(f'{path_script_remote = }')"
   ]
  },
  {
   "attachments": {},
   "cell_type": "markdown",
   "id": "31ce097b",
   "metadata": {},
   "source": [
    "## Prepare commands"
   ]
  },
  {
   "cell_type": "code",
   "execution_count": null,
   "id": "784052a0",
   "metadata": {},
   "outputs": [],
   "source": [
    "## Expectation for dispatch args: \n",
    "# path_selfScript = args[0] = path_dispatcher_remote\n",
    "# dir_save = args[1] = dir_S2pOutput_remote\n",
    "# path_script = args[2] = path_s2pScript_remote\n",
    "# name_job = args[3] = name_job\n",
    "# dir_fastDisk = args[4] = dir_fastDisk_remote\n",
    "# name_slurm = args[5] = name_slurm\n",
    "# dir_data = args[6] = dir_data_remote\n",
    "\n",
    "\n",
    "prompt_snip = f'[{username}'\n",
    "\n",
    "commands = {\n",
    "    'make_dir': f\"mkdir -p {dir_data_remote}\",\n",
    "#     'copy_s2p': f\"cp -r {dir_s2p_MICROSCOPE} {dir_data_remote}\",\n",
    "    'dispatch': f\"python {str(path_dispatcher_remote)} {dir_saveOutputs} {path_script_remote} {name_job} {name_slurm} {dir_data_remote} {plane_name} {dir_ROInet_networkFiles}\"  ## dispatcher expecting these args as inputs\n",
    "}\n",
    "display(commands)"
   ]
  },
  {
   "attachments": {},
   "cell_type": "markdown",
   "id": "f62cb3b7",
   "metadata": {},
   "source": [
    "## Upload `dispatcher.py` file"
   ]
  },
  {
   "cell_type": "code",
   "execution_count": null,
   "id": "e3e04b05",
   "metadata": {},
   "outputs": [],
   "source": [
    "sftp.mkdir_p(Path(path_dispatcher_remote).parent.as_posix())\n",
    "sftp.sftp.put(str(path_dispatcher_local), str(path_dispatcher_remote));"
   ]
  },
  {
   "attachments": {},
   "cell_type": "markdown",
   "id": "c89ee6cc",
   "metadata": {},
   "source": [
    "## Dispatch `remote_run_s2p.py`"
   ]
  },
  {
   "cell_type": "code",
   "execution_count": null,
   "id": "41c870b8",
   "metadata": {},
   "outputs": [],
   "source": [
    "ssh_c.send(commands['dispatch']);\n",
    "\n",
    "ssh_c.expect(str_success=prompt_snip);"
   ]
  },
  {
   "attachments": {},
   "cell_type": "markdown",
   "id": "e6ea7494",
   "metadata": {},
   "source": [
    "### check on job"
   ]
  },
  {
   "cell_type": "raw",
   "id": "6010088e",
   "metadata": {},
   "source": [
    "ssh_c.send_receive('scancel -u rh183')"
   ]
  },
  {
   "cell_type": "code",
   "execution_count": null,
   "id": "25e01375",
   "metadata": {
    "scrolled": true
   },
   "outputs": [],
   "source": [
    "ssh_c.send(cmd=f'squeue -u {username} --Format=jobid,name,partition,state,timeused,starttime,timelimit,reasonlist,minmemory,mincpus,gres');\n",
    "test = ssh_c.expect(str_success=f\"[{username}\", total_timeout=10);"
   ]
  },
  {
   "cell_type": "code",
   "execution_count": null,
   "id": "90f66b59",
   "metadata": {},
   "outputs": [],
   "source": [
    "## I think this code block caused an out of memory error on a few of my jobs... not sure why\n",
    "\n",
    "# ssh_c.send(cmd=f\"cat {(Path(dir_S2pOutput_remote) / (name_job+'0') / 'print*').as_posix()}\")\n",
    "# ssh_c.expect(str_success=f\"[{username}\", total_timeout=1);"
   ]
  },
  {
   "cell_type": "code",
   "execution_count": null,
   "id": "c99f5ab7",
   "metadata": {
    "scrolled": true
   },
   "outputs": [],
   "source": [
    "ssh_c.send(cmd=f\"cat {(Path(dir_saveOutputs) / (name_job+'0') / 'print*').as_posix()}\")\n",
    "ssh_c.expect(str_success=f\"RUN COMPLETE\", recv_timeout=0.3, total_timeout=60*60*10, sleep_time=0.1, verbose=False);\n",
    "\n",
    "print(f'RUN COMPLETE!!!     {time.ctime()}')"
   ]
  },
  {
   "attachments": {},
   "cell_type": "markdown",
   "id": "33600579",
   "metadata": {},
   "source": [
    "## Clean up"
   ]
  },
  {
   "cell_type": "code",
   "execution_count": null,
   "id": "b31f6bcb",
   "metadata": {},
   "outputs": [],
   "source": [
    "## delete password\n",
    "del pw\n",
    "gc.collect()\n",
    "\n",
    "## close sftp\n",
    "if sftp: sftp.close()\n",
    "if transport: transport.close()\n",
    "del sftp\n",
    "del transport\n",
    "    \n",
    "## close ssh\n",
    "ssh_t.close()\n",
    "del ssh_t\n",
    "ssh_c.close()\n",
    "del ssh_c\n",
    "gc.collect()"
   ]
  },
  {
   "cell_type": "code",
   "execution_count": null,
   "id": "211f8398",
   "metadata": {},
   "outputs": [],
   "source": []
  },
  {
   "cell_type": "code",
   "execution_count": null,
   "id": "b1e29db0",
   "metadata": {},
   "outputs": [],
   "source": []
  },
  {
   "attachments": {},
   "cell_type": "markdown",
   "id": "bc0f7b70",
   "metadata": {},
   "source": [
    "----\n",
    "# ==== Optional ====\n",
    "### transfer s2p outputs back from `data1` to `MICROSCOPE`"
   ]
  },
  {
   "attachments": {},
   "cell_type": "markdown",
   "id": "ee823e31",
   "metadata": {},
   "source": [
    "## Prepare username + password"
   ]
  },
  {
   "cell_type": "code",
   "execution_count": null,
   "id": "bc43abdd",
   "metadata": {},
   "outputs": [],
   "source": [
    "remote_host_transfer = \"transfer.rc.hms.harvard.edu\"\n",
    "remote_host_compute = \"o2.hms.harvard.edu\"\n",
    "username = input('Username: ')\n",
    "pw = util.pw_encode(getpass.getpass(prompt='Password: '))"
   ]
  },
  {
   "attachments": {},
   "cell_type": "markdown",
   "id": "d8d54f22",
   "metadata": {},
   "source": [
    "## Prepare `ssh` object"
   ]
  },
  {
   "cell_type": "code",
   "execution_count": null,
   "id": "38d10e50",
   "metadata": {},
   "outputs": [],
   "source": [
    "## initialize ssh_transfer\n",
    "ssh_t = util.ssh_interface(\n",
    "    nbytes_toReceive=4096,\n",
    "    recv_timeout=1,\n",
    "    verbose=True,\n",
    ")\n",
    "ssh_t.o2_connect(\n",
    "    hostname=remote_host_transfer,\n",
    "    username=username,\n",
    "    password=util.pw_decode(pw),\n",
    "    passcode_method=1,\n",
    "    verbose=1,\n",
    "    skip_passcode=False,\n",
    ")"
   ]
  },
  {
   "cell_type": "code",
   "execution_count": null,
   "id": "4a74693f",
   "metadata": {},
   "outputs": [],
   "source": [
    "dir_S2pOutput_remote = dir_S2pOutput_remote  ## from above\n",
    "dir_s2pOutput_MICROSCOPE = (Path(dir_data_MICROSCOPE) / 'suite2p_o2_output').as_posix()  ## from above\n",
    "print(f'contents of    {dir_S2pOutput_remote}    will be copied to    {dir_s2pOutput_MICROSCOPE}')"
   ]
  },
  {
   "cell_type": "code",
   "execution_count": null,
   "id": "53d3fc7d",
   "metadata": {},
   "outputs": [],
   "source": [
    "commands = {\n",
    "    'make_dir': f\"mkdir -p {dir_s2pOutput_MICROSCOPE}\",\n",
    "    'copy_s2p': f\"cp -r {(Path(dir_S2pOutput_remote)).as_posix()}/. {dir_s2pOutput_MICROSCOPE}\",\n",
    "}\n",
    "display(commands)"
   ]
  },
  {
   "cell_type": "code",
   "execution_count": null,
   "id": "0d9854ac",
   "metadata": {},
   "outputs": [],
   "source": [
    "ssh_t.send_receive(commands['make_dir']);"
   ]
  },
  {
   "cell_type": "code",
   "execution_count": null,
   "id": "728e4e88",
   "metadata": {},
   "outputs": [],
   "source": [
    "ssh_t.send(commands['copy_s2p'])\n",
    "ssh_t.expect(str_success=f'[{username}', total_timeout=120, verbose=True);"
   ]
  },
  {
   "cell_type": "code",
   "execution_count": null,
   "id": "2d0f096e",
   "metadata": {},
   "outputs": [],
   "source": []
  },
  {
   "attachments": {},
   "cell_type": "markdown",
   "id": "0097eadc",
   "metadata": {},
   "source": [
    "## Clean up"
   ]
  },
  {
   "cell_type": "code",
   "execution_count": null,
   "id": "b01e88d4",
   "metadata": {},
   "outputs": [],
   "source": [
    "## delete password\n",
    "del pw\n",
    "gc.collect()\n",
    "    \n",
    "## close ssh\n",
    "ssh_t.close()\n",
    "del ssh_t\n",
    "gc.collect()"
   ]
  },
  {
   "cell_type": "code",
   "execution_count": null,
   "id": "cc4d73d5",
   "metadata": {},
   "outputs": [],
   "source": []
  },
  {
   "attachments": {},
   "cell_type": "markdown",
   "id": "607fe8d3",
   "metadata": {},
   "source": [
    "----\n",
    "# ==== Optional ====\n",
    "### transfer s2p outputs from `MICROSCOPE` to local machine"
   ]
  },
  {
   "cell_type": "code",
   "execution_count": null,
   "id": "f443018b",
   "metadata": {},
   "outputs": [],
   "source": [
    "dir_s2pOutput_MICROSCOPE = dir_s2pOutput_MICROSCOPE  ## from above\n",
    "dir_s2pOutput_local = str(Path(dir_data_local).resolve() / 'suite2p_o2_output')\n",
    "print(f'contents of    {dir_s2pOutput_MICROSCOPE}    will be copied to    {dir_s2pOutput_local}')"
   ]
  },
  {
   "cell_type": "code",
   "execution_count": null,
   "id": "6721d7c7",
   "metadata": {},
   "outputs": [],
   "source": [
    "remote_host_transfer = \"transfer.rc.hms.harvard.edu\"\n",
    "remote_host_compute = \"o2.hms.harvard.edu\"\n",
    "username = input('Username: ')\n",
    "pw = util.pw_encode(getpass.getpass(prompt='Password: '))"
   ]
  },
  {
   "attachments": {},
   "cell_type": "markdown",
   "id": "055b0c6c",
   "metadata": {},
   "source": [
    "## Prepare `sftp` and `ssh` objects"
   ]
  },
  {
   "cell_type": "code",
   "execution_count": null,
   "id": "b91b33b2",
   "metadata": {},
   "outputs": [],
   "source": [
    "sftp = util.sftp_interface(hostname=\"transfer.rc.hms.harvard.edu\", port=22)\n",
    "sftp.connect(username=username, password=util.pw_decode(pw))"
   ]
  },
  {
   "cell_type": "code",
   "execution_count": null,
   "id": "c0e3af30",
   "metadata": {},
   "outputs": [],
   "source": [
    "sftp.get_dir(dir_s2pOutput_MICROSCOPE, dir_s2pOutput_local)"
   ]
  },
  {
   "attachments": {},
   "cell_type": "markdown",
   "id": "4254abee",
   "metadata": {},
   "source": [
    "## Clean up"
   ]
  },
  {
   "cell_type": "code",
   "execution_count": null,
   "id": "0e42b263",
   "metadata": {},
   "outputs": [],
   "source": [
    "## delete password\n",
    "del pw\n",
    "gc.collect()\n",
    "\n",
    "## close sftp\n",
    "sftp.close()\n",
    "del sftp"
   ]
  },
  {
   "cell_type": "code",
   "execution_count": null,
   "id": "5059b009",
   "metadata": {},
   "outputs": [],
   "source": [
    "ssh_t.close()\n",
    "ssh_c.close()"
   ]
  },
  {
   "cell_type": "code",
   "execution_count": null,
   "id": "a2ee21fd",
   "metadata": {},
   "outputs": [],
   "source": []
  },
  {
   "cell_type": "code",
   "execution_count": null,
   "id": "388fbb4e",
   "metadata": {},
   "outputs": [],
   "source": []
  }
 ],
 "metadata": {
  "kernelspec": {
   "display_name": "Python 3 (ipykernel)",
   "language": "python",
   "name": "python3"
  },
  "language_info": {
   "codemirror_mode": {
    "name": "ipython",
    "version": 3
   },
   "file_extension": ".py",
   "mimetype": "text/x-python",
   "name": "python",
   "nbconvert_exporter": "python",
   "pygments_lexer": "ipython3",
   "version": "3.9.13"
  },
  "vscode": {
   "interpreter": {
    "hash": "094f1cbf33c91eaefe471a2afa84039ec5d25dd9ce0b9d87a3ade6c34c16a647"
   }
  }
 },
 "nbformat": 4,
 "nbformat_minor": 5
}
